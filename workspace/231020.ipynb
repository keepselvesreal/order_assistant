{
 "cells": [
  {
   "cell_type": "markdown",
   "metadata": {},
   "source": [
    "# 시도1"
   ]
  },
  {
   "cell_type": "code",
   "execution_count": 1,
   "metadata": {},
   "outputs": [],
   "source": [
    "from selenium import webdriver\n",
    "from selenium.webdriver.support.ui import WebDriverWait\n",
    "from selenium.webdriver.common.by import By\n",
    "from selenium.webdriver.support import expected_conditions as EC\n",
    "from bs4 import BeautifulSoup"
   ]
  },
  {
   "cell_type": "code",
   "execution_count": 2,
   "metadata": {},
   "outputs": [
    {
     "ename": "NoSuchElementException",
     "evalue": "Message: no such element: Unable to locate element: {\"method\":\"css selector\",\"selector\":\"[name=\"username\"]\"}\n  (Session info: chrome=118.0.5993.71); For documentation on this error, please visit: https://www.selenium.dev/documentation/webdriver/troubleshooting/errors#no-such-element-exception\nStacktrace:\n\tGetHandleVerifier [0x00007FF68E418EF2+54786]\n\t(No symbol) [0x00007FF68E385612]\n\t(No symbol) [0x00007FF68E23A64B]\n\t(No symbol) [0x00007FF68E27B79C]\n\t(No symbol) [0x00007FF68E27B91C]\n\t(No symbol) [0x00007FF68E2B6D87]\n\t(No symbol) [0x00007FF68E29BEAF]\n\t(No symbol) [0x00007FF68E2B4D02]\n\t(No symbol) [0x00007FF68E29BC43]\n\t(No symbol) [0x00007FF68E270941]\n\t(No symbol) [0x00007FF68E271B84]\n\tGetHandleVerifier [0x00007FF68E767F52+3524194]\n\tGetHandleVerifier [0x00007FF68E7BD800+3874576]\n\tGetHandleVerifier [0x00007FF68E7B5D7F+3843215]\n\tGetHandleVerifier [0x00007FF68E4B5086+694166]\n\t(No symbol) [0x00007FF68E390A88]\n\t(No symbol) [0x00007FF68E38CA94]\n\t(No symbol) [0x00007FF68E38CBC2]\n\t(No symbol) [0x00007FF68E37CC83]\n\tBaseThreadInitThunk [0x00007FFB55267344+20]\n\tRtlUserThreadStart [0x00007FFB572426B1+33]\n",
     "output_type": "error",
     "traceback": [
      "\u001b[1;31m---------------------------------------------------------------------------\u001b[0m",
      "\u001b[1;31mNoSuchElementException\u001b[0m                    Traceback (most recent call last)",
      "\u001b[1;32md:\\Repository\\orderbot_project\\231020.ipynb Cell 3\u001b[0m line \u001b[0;36m6\n\u001b[0;32m      <a href='vscode-notebook-cell:/d%3A/Repository/orderbot_project/231020.ipynb#W2sZmlsZQ%3D%3D?line=2'>3</a>\u001b[0m browser\u001b[39m.\u001b[39mget(site)\n\u001b[0;32m      <a href='vscode-notebook-cell:/d%3A/Repository/orderbot_project/231020.ipynb#W2sZmlsZQ%3D%3D?line=4'>5</a>\u001b[0m \u001b[39m# username 입력 필드 찾기\u001b[39;00m\n\u001b[1;32m----> <a href='vscode-notebook-cell:/d%3A/Repository/orderbot_project/231020.ipynb#W2sZmlsZQ%3D%3D?line=5'>6</a>\u001b[0m username_field \u001b[39m=\u001b[39m browser\u001b[39m.\u001b[39;49mfind_element(by\u001b[39m=\u001b[39;49m\u001b[39m\"\u001b[39;49m\u001b[39mname\u001b[39;49m\u001b[39m\"\u001b[39;49m, value\u001b[39m=\u001b[39;49m\u001b[39m\"\u001b[39;49m\u001b[39musername\u001b[39;49m\u001b[39m\"\u001b[39;49m)\n\u001b[0;32m      <a href='vscode-notebook-cell:/d%3A/Repository/orderbot_project/231020.ipynb#W2sZmlsZQ%3D%3D?line=6'>7</a>\u001b[0m password_field \u001b[39m=\u001b[39m browser\u001b[39m.\u001b[39mfind_element(by\u001b[39m=\u001b[39m\u001b[39m\"\u001b[39m\u001b[39mname\u001b[39m\u001b[39m\"\u001b[39m, value\u001b[39m=\u001b[39m\u001b[39m\"\u001b[39m\u001b[39mpassword\u001b[39m\u001b[39m\"\u001b[39m)\n\u001b[0;32m      <a href='vscode-notebook-cell:/d%3A/Repository/orderbot_project/231020.ipynb#W2sZmlsZQ%3D%3D?line=8'>9</a>\u001b[0m \u001b[39m# username 필드에 값 입력하기\u001b[39;00m\n",
      "File \u001b[1;32md:\\Repository\\orderbot_project\\lib\\site-packages\\selenium\\webdriver\\remote\\webdriver.py:738\u001b[0m, in \u001b[0;36mWebDriver.find_element\u001b[1;34m(self, by, value)\u001b[0m\n\u001b[0;32m    735\u001b[0m     by \u001b[39m=\u001b[39m By\u001b[39m.\u001b[39mCSS_SELECTOR\n\u001b[0;32m    736\u001b[0m     value \u001b[39m=\u001b[39m \u001b[39mf\u001b[39m\u001b[39m'\u001b[39m\u001b[39m[name=\u001b[39m\u001b[39m\"\u001b[39m\u001b[39m{\u001b[39;00mvalue\u001b[39m}\u001b[39;00m\u001b[39m\"\u001b[39m\u001b[39m]\u001b[39m\u001b[39m'\u001b[39m\n\u001b[1;32m--> 738\u001b[0m \u001b[39mreturn\u001b[39;00m \u001b[39mself\u001b[39;49m\u001b[39m.\u001b[39;49mexecute(Command\u001b[39m.\u001b[39;49mFIND_ELEMENT, {\u001b[39m\"\u001b[39;49m\u001b[39musing\u001b[39;49m\u001b[39m\"\u001b[39;49m: by, \u001b[39m\"\u001b[39;49m\u001b[39mvalue\u001b[39;49m\u001b[39m\"\u001b[39;49m: value})[\u001b[39m\"\u001b[39m\u001b[39mvalue\u001b[39m\u001b[39m\"\u001b[39m]\n",
      "File \u001b[1;32md:\\Repository\\orderbot_project\\lib\\site-packages\\selenium\\webdriver\\remote\\webdriver.py:344\u001b[0m, in \u001b[0;36mWebDriver.execute\u001b[1;34m(self, driver_command, params)\u001b[0m\n\u001b[0;32m    342\u001b[0m response \u001b[39m=\u001b[39m \u001b[39mself\u001b[39m\u001b[39m.\u001b[39mcommand_executor\u001b[39m.\u001b[39mexecute(driver_command, params)\n\u001b[0;32m    343\u001b[0m \u001b[39mif\u001b[39;00m response:\n\u001b[1;32m--> 344\u001b[0m     \u001b[39mself\u001b[39;49m\u001b[39m.\u001b[39;49merror_handler\u001b[39m.\u001b[39;49mcheck_response(response)\n\u001b[0;32m    345\u001b[0m     response[\u001b[39m\"\u001b[39m\u001b[39mvalue\u001b[39m\u001b[39m\"\u001b[39m] \u001b[39m=\u001b[39m \u001b[39mself\u001b[39m\u001b[39m.\u001b[39m_unwrap_value(response\u001b[39m.\u001b[39mget(\u001b[39m\"\u001b[39m\u001b[39mvalue\u001b[39m\u001b[39m\"\u001b[39m, \u001b[39mNone\u001b[39;00m))\n\u001b[0;32m    346\u001b[0m     \u001b[39mreturn\u001b[39;00m response\n",
      "File \u001b[1;32md:\\Repository\\orderbot_project\\lib\\site-packages\\selenium\\webdriver\\remote\\errorhandler.py:229\u001b[0m, in \u001b[0;36mErrorHandler.check_response\u001b[1;34m(self, response)\u001b[0m\n\u001b[0;32m    227\u001b[0m         alert_text \u001b[39m=\u001b[39m value[\u001b[39m\"\u001b[39m\u001b[39malert\u001b[39m\u001b[39m\"\u001b[39m]\u001b[39m.\u001b[39mget(\u001b[39m\"\u001b[39m\u001b[39mtext\u001b[39m\u001b[39m\"\u001b[39m)\n\u001b[0;32m    228\u001b[0m     \u001b[39mraise\u001b[39;00m exception_class(message, screen, stacktrace, alert_text)  \u001b[39m# type: ignore[call-arg]  # mypy is not smart enough here\u001b[39;00m\n\u001b[1;32m--> 229\u001b[0m \u001b[39mraise\u001b[39;00m exception_class(message, screen, stacktrace)\n",
      "\u001b[1;31mNoSuchElementException\u001b[0m: Message: no such element: Unable to locate element: {\"method\":\"css selector\",\"selector\":\"[name=\"username\"]\"}\n  (Session info: chrome=118.0.5993.71); For documentation on this error, please visit: https://www.selenium.dev/documentation/webdriver/troubleshooting/errors#no-such-element-exception\nStacktrace:\n\tGetHandleVerifier [0x00007FF68E418EF2+54786]\n\t(No symbol) [0x00007FF68E385612]\n\t(No symbol) [0x00007FF68E23A64B]\n\t(No symbol) [0x00007FF68E27B79C]\n\t(No symbol) [0x00007FF68E27B91C]\n\t(No symbol) [0x00007FF68E2B6D87]\n\t(No symbol) [0x00007FF68E29BEAF]\n\t(No symbol) [0x00007FF68E2B4D02]\n\t(No symbol) [0x00007FF68E29BC43]\n\t(No symbol) [0x00007FF68E270941]\n\t(No symbol) [0x00007FF68E271B84]\n\tGetHandleVerifier [0x00007FF68E767F52+3524194]\n\tGetHandleVerifier [0x00007FF68E7BD800+3874576]\n\tGetHandleVerifier [0x00007FF68E7B5D7F+3843215]\n\tGetHandleVerifier [0x00007FF68E4B5086+694166]\n\t(No symbol) [0x00007FF68E390A88]\n\t(No symbol) [0x00007FF68E38CA94]\n\t(No symbol) [0x00007FF68E38CBC2]\n\t(No symbol) [0x00007FF68E37CC83]\n\tBaseThreadInitThunk [0x00007FFB55267344+20]\n\tRtlUserThreadStart [0x00007FFB572426B1+33]\n"
     ]
    }
   ],
   "source": [
    "site = \"https://www.instagram.com/\"\n",
    "driver = webdriver.Chrome()\n",
    "driver.get(site)\n",
    "\n",
    "# 로그인 화면이 나올 때까지 기다리는 처리 필요\n",
    "login_button = WebDriverWait(driver, 10).until(EC.presence_of_element_located((By.LINK_TEXT, '로그인')))\n",
    "\n",
    "# username 입력 필드 찾기\n",
    "username_field = driver.find_element(by=\"name\", value=\"username\")\n",
    "password_field = driver.find_element(by=\"name\", value=\"password\")\n",
    "\n",
    "# username 필드에 값 입력하기\n",
    "id = 'keep_selves_real'\n",
    "password = 'kts71611089!'\n",
    "\n",
    "username_field.send_keys(id)\n",
    "password_field.send_keys(password)\n",
    "\n",
    "# 로그인 버튼 찾기 (XPath 사용)\n",
    "login_button = WebDriverWait(driver, 10).until(EC.presence_of_element_located((By.XPATH, '//button[.//div[text()=\"로그인\"]]')))\n",
    "\n",
    "# 로그인 버튼 클릭하기\n",
    "login_button.click()\n",
    "\n",
    "# '나중에 하기' 버튼 찾기 (XPath 사용)\n",
    "later_button = WebDriverWait(driver, 10).until(EC.presence_of_element_located((By.XPATH, '//*[@role=\"button\" and text()=\"나중에 하기\"]')))\n",
    "\n",
    "# '나중에 하기' 버튼 클릭하기\n",
    "later_button.click()\n",
    "\n",
    "# 알림 설정 나중에 버튼 클릭하기"
   ]
  },
  {
   "cell_type": "code",
   "execution_count": 4,
   "metadata": {},
   "outputs": [],
   "source": [
    "site = \"https://www.instagram.com/\"\n",
    "driver = webdriver.Chrome()\n",
    "driver.get(site)"
   ]
  },
  {
   "cell_type": "code",
   "execution_count": 21,
   "metadata": {},
   "outputs": [],
   "source": [
    "site = \"https://www.instagram.com/\"\n",
    "driver = webdriver.Chrome()\n",
    "driver.get(site)\n",
    "\n",
    "# 로그인 버튼 찾기 (XPath 사용) | ts-아래처럼 기다리는 처리하지 않아 오류 발생했음\n",
    "login_button = WebDriverWait(driver, 10).until(EC.presence_of_element_located((By.XPATH, '//button[.//div[text()=\"로그인\"]]')))\n",
    "\n",
    "# username 입력 필드 찾기\n",
    "username_field = driver.find_element(by=\"name\", value=\"username\")\n",
    "password_field = driver.find_element(by=\"name\", value=\"password\")\n",
    "\n",
    "# username 필드에 값 입력하기\n",
    "id = 'keep_selves_real'\n",
    "password = 'kts71611089!'\n",
    "\n",
    "username_field.send_keys(id)\n",
    "password_field.send_keys(password)\n",
    "\n",
    "# 로그인 버튼 클릭하기\n",
    "login_button.click()\n",
    "\n",
    "# '나중에 하기' 버튼 찾기 (XPath 사용)\n",
    "later_button = WebDriverWait(driver, 10).until(EC.presence_of_element_located((By.XPATH, '//*[@role=\"button\" and text()=\"나중에 하기\"]')))\n",
    "\n",
    "# '나중에 하기' 버튼 클릭하기\n",
    "later_button.click()\n",
    "\n",
    "# 알림 설정 나중에 버튼 클릭하기"
   ]
  },
  {
   "cell_type": "code",
   "execution_count": 8,
   "metadata": {},
   "outputs": [
    {
     "ename": "NoSuchElementException",
     "evalue": "Message: no such element: Unable to locate element: {\"method\":\"css selector\",\"selector\":\"span.x6s0dn4 xzolkzo x12go9s9 x1rnf11y xprq8jg x9f619 x3nfvp2 xl56j7k x1tu34mt xdk7pt x1xc55vz x1emribx\"}\n  (Session info: chrome=118.0.5993.71); For documentation on this error, please visit: https://www.selenium.dev/documentation/webdriver/troubleshooting/errors#no-such-element-exception\nStacktrace:\n\tGetHandleVerifier [0x00007FF68E418EF2+54786]\n\t(No symbol) [0x00007FF68E385612]\n\t(No symbol) [0x00007FF68E23A64B]\n\t(No symbol) [0x00007FF68E27B79C]\n\t(No symbol) [0x00007FF68E27B91C]\n\t(No symbol) [0x00007FF68E2B6D87]\n\t(No symbol) [0x00007FF68E29BEAF]\n\t(No symbol) [0x00007FF68E2B4D02]\n\t(No symbol) [0x00007FF68E29BC43]\n\t(No symbol) [0x00007FF68E270941]\n\t(No symbol) [0x00007FF68E271B84]\n\tGetHandleVerifier [0x00007FF68E767F52+3524194]\n\tGetHandleVerifier [0x00007FF68E7BD800+3874576]\n\tGetHandleVerifier [0x00007FF68E7B5D7F+3843215]\n\tGetHandleVerifier [0x00007FF68E4B5086+694166]\n\t(No symbol) [0x00007FF68E390A88]\n\t(No symbol) [0x00007FF68E38CA94]\n\t(No symbol) [0x00007FF68E38CBC2]\n\t(No symbol) [0x00007FF68E37CC83]\n\tBaseThreadInitThunk [0x00007FFB55267344+20]\n\tRtlUserThreadStart [0x00007FFB572426B1+33]\n",
     "output_type": "error",
     "traceback": [
      "\u001b[1;31m---------------------------------------------------------------------------\u001b[0m",
      "\u001b[1;31mNoSuchElementException\u001b[0m                    Traceback (most recent call last)",
      "\u001b[1;32md:\\Repository\\orderbot_project\\231020.ipynb Cell 6\u001b[0m line \u001b[0;36m1\n\u001b[1;32m----> <a href='vscode-notebook-cell:/d%3A/Repository/orderbot_project/231020.ipynb#W5sZmlsZQ%3D%3D?line=0'>1</a>\u001b[0m driver\u001b[39m.\u001b[39;49mfind_element(By\u001b[39m.\u001b[39;49mCSS_SELECTOR, \u001b[39m\"\u001b[39;49m\u001b[39mspan.x6s0dn4 xzolkzo x12go9s9 x1rnf11y xprq8jg x9f619 x3nfvp2 xl56j7k x1tu34mt xdk7pt x1xc55vz x1emribx\u001b[39;49m\u001b[39m\"\u001b[39;49m)\n",
      "File \u001b[1;32md:\\Repository\\orderbot_project\\lib\\site-packages\\selenium\\webdriver\\remote\\webdriver.py:738\u001b[0m, in \u001b[0;36mWebDriver.find_element\u001b[1;34m(self, by, value)\u001b[0m\n\u001b[0;32m    735\u001b[0m     by \u001b[39m=\u001b[39m By\u001b[39m.\u001b[39mCSS_SELECTOR\n\u001b[0;32m    736\u001b[0m     value \u001b[39m=\u001b[39m \u001b[39mf\u001b[39m\u001b[39m'\u001b[39m\u001b[39m[name=\u001b[39m\u001b[39m\"\u001b[39m\u001b[39m{\u001b[39;00mvalue\u001b[39m}\u001b[39;00m\u001b[39m\"\u001b[39m\u001b[39m]\u001b[39m\u001b[39m'\u001b[39m\n\u001b[1;32m--> 738\u001b[0m \u001b[39mreturn\u001b[39;00m \u001b[39mself\u001b[39;49m\u001b[39m.\u001b[39;49mexecute(Command\u001b[39m.\u001b[39;49mFIND_ELEMENT, {\u001b[39m\"\u001b[39;49m\u001b[39musing\u001b[39;49m\u001b[39m\"\u001b[39;49m: by, \u001b[39m\"\u001b[39;49m\u001b[39mvalue\u001b[39;49m\u001b[39m\"\u001b[39;49m: value})[\u001b[39m\"\u001b[39m\u001b[39mvalue\u001b[39m\u001b[39m\"\u001b[39m]\n",
      "File \u001b[1;32md:\\Repository\\orderbot_project\\lib\\site-packages\\selenium\\webdriver\\remote\\webdriver.py:344\u001b[0m, in \u001b[0;36mWebDriver.execute\u001b[1;34m(self, driver_command, params)\u001b[0m\n\u001b[0;32m    342\u001b[0m response \u001b[39m=\u001b[39m \u001b[39mself\u001b[39m\u001b[39m.\u001b[39mcommand_executor\u001b[39m.\u001b[39mexecute(driver_command, params)\n\u001b[0;32m    343\u001b[0m \u001b[39mif\u001b[39;00m response:\n\u001b[1;32m--> 344\u001b[0m     \u001b[39mself\u001b[39;49m\u001b[39m.\u001b[39;49merror_handler\u001b[39m.\u001b[39;49mcheck_response(response)\n\u001b[0;32m    345\u001b[0m     response[\u001b[39m\"\u001b[39m\u001b[39mvalue\u001b[39m\u001b[39m\"\u001b[39m] \u001b[39m=\u001b[39m \u001b[39mself\u001b[39m\u001b[39m.\u001b[39m_unwrap_value(response\u001b[39m.\u001b[39mget(\u001b[39m\"\u001b[39m\u001b[39mvalue\u001b[39m\u001b[39m\"\u001b[39m, \u001b[39mNone\u001b[39;00m))\n\u001b[0;32m    346\u001b[0m     \u001b[39mreturn\u001b[39;00m response\n",
      "File \u001b[1;32md:\\Repository\\orderbot_project\\lib\\site-packages\\selenium\\webdriver\\remote\\errorhandler.py:229\u001b[0m, in \u001b[0;36mErrorHandler.check_response\u001b[1;34m(self, response)\u001b[0m\n\u001b[0;32m    227\u001b[0m         alert_text \u001b[39m=\u001b[39m value[\u001b[39m\"\u001b[39m\u001b[39malert\u001b[39m\u001b[39m\"\u001b[39m]\u001b[39m.\u001b[39mget(\u001b[39m\"\u001b[39m\u001b[39mtext\u001b[39m\u001b[39m\"\u001b[39m)\n\u001b[0;32m    228\u001b[0m     \u001b[39mraise\u001b[39;00m exception_class(message, screen, stacktrace, alert_text)  \u001b[39m# type: ignore[call-arg]  # mypy is not smart enough here\u001b[39;00m\n\u001b[1;32m--> 229\u001b[0m \u001b[39mraise\u001b[39;00m exception_class(message, screen, stacktrace)\n",
      "\u001b[1;31mNoSuchElementException\u001b[0m: Message: no such element: Unable to locate element: {\"method\":\"css selector\",\"selector\":\"span.x6s0dn4 xzolkzo x12go9s9 x1rnf11y xprq8jg x9f619 x3nfvp2 xl56j7k x1tu34mt xdk7pt x1xc55vz x1emribx\"}\n  (Session info: chrome=118.0.5993.71); For documentation on this error, please visit: https://www.selenium.dev/documentation/webdriver/troubleshooting/errors#no-such-element-exception\nStacktrace:\n\tGetHandleVerifier [0x00007FF68E418EF2+54786]\n\t(No symbol) [0x00007FF68E385612]\n\t(No symbol) [0x00007FF68E23A64B]\n\t(No symbol) [0x00007FF68E27B79C]\n\t(No symbol) [0x00007FF68E27B91C]\n\t(No symbol) [0x00007FF68E2B6D87]\n\t(No symbol) [0x00007FF68E29BEAF]\n\t(No symbol) [0x00007FF68E2B4D02]\n\t(No symbol) [0x00007FF68E29BC43]\n\t(No symbol) [0x00007FF68E270941]\n\t(No symbol) [0x00007FF68E271B84]\n\tGetHandleVerifier [0x00007FF68E767F52+3524194]\n\tGetHandleVerifier [0x00007FF68E7BD800+3874576]\n\tGetHandleVerifier [0x00007FF68E7B5D7F+3843215]\n\tGetHandleVerifier [0x00007FF68E4B5086+694166]\n\t(No symbol) [0x00007FF68E390A88]\n\t(No symbol) [0x00007FF68E38CA94]\n\t(No symbol) [0x00007FF68E38CBC2]\n\t(No symbol) [0x00007FF68E37CC83]\n\tBaseThreadInitThunk [0x00007FFB55267344+20]\n\tRtlUserThreadStart [0x00007FFB572426B1+33]\n"
     ]
    }
   ],
   "source": [
    "driver.find_element(By.CSS_SELECTOR, \"span.x6s0dn4 xzolkzo x12go9s9 x1rnf11y xprq8jg x9f619 x3nfvp2 xl56j7k x1tu34mt xdk7pt x1xc55vz x1emribx\")"
   ]
  },
  {
   "cell_type": "code",
   "execution_count": 9,
   "metadata": {},
   "outputs": [
    {
     "data": {
      "text/plain": [
       "<selenium.webdriver.remote.webelement.WebElement (session=\"8aab79cf0d4a670f953756d99a310224\", element=\"DFD1E0E8701E2078932C023F6340BD1F_element_346\")>"
      ]
     },
     "execution_count": 9,
     "metadata": {},
     "output_type": "execute_result"
    }
   ],
   "source": [
    "# [data-visualcompletion=\"ignore\"]\n",
    "\n",
    "driver.find_element(By.CSS_SELECTOR, 'span.x6s0dn4.xzolkzo.x12go9s9.x1rnf11y.xprq8jg.x9f619.x3nfvp2.xl56j7k.x1tu34mt.xdk7pt.x1xc55vz.x1emribx[data-visualcompletion=\"ignore\"]')"
   ]
  },
  {
   "cell_type": "code",
   "execution_count": 10,
   "metadata": {},
   "outputs": [
    {
     "data": {
      "text/plain": [
       "[<selenium.webdriver.remote.webelement.WebElement (session=\"8aab79cf0d4a670f953756d99a310224\", element=\"DFD1E0E8701E2078932C023F6340BD1F_element_346\")>]"
      ]
     },
     "execution_count": 10,
     "metadata": {},
     "output_type": "execute_result"
    }
   ],
   "source": [
    "\n",
    "driver.find_elements(By.CSS_SELECTOR, 'span.x6s0dn4.xzolkzo.x12go9s9.x1rnf11y.xprq8jg.x9f619.x3nfvp2.xl56j7k.x1tu34mt.xdk7pt.x1xc55vz.x1emribx[data-visualcompletion=\"ignore\"]')"
   ]
  },
  {
   "cell_type": "code",
   "execution_count": 12,
   "metadata": {},
   "outputs": [
    {
     "data": {
      "text/plain": [
       "[<selenium.webdriver.remote.webelement.WebElement (session=\"8aab79cf0d4a670f953756d99a310224\", element=\"DFD1E0E8701E2078932C023F6340BD1F_element_257\")>,\n",
       " <selenium.webdriver.remote.webelement.WebElement (session=\"8aab79cf0d4a670f953756d99a310224\", element=\"DFD1E0E8701E2078932C023F6340BD1F_element_261\")>,\n",
       " <selenium.webdriver.remote.webelement.WebElement (session=\"8aab79cf0d4a670f953756d99a310224\", element=\"DFD1E0E8701E2078932C023F6340BD1F_element_283\")>,\n",
       " <selenium.webdriver.remote.webelement.WebElement (session=\"8aab79cf0d4a670f953756d99a310224\", element=\"DFD1E0E8701E2078932C023F6340BD1F_element_286\")>,\n",
       " <selenium.webdriver.remote.webelement.WebElement (session=\"8aab79cf0d4a670f953756d99a310224\", element=\"DFD1E0E8701E2078932C023F6340BD1F_element_316\")>,\n",
       " <selenium.webdriver.remote.webelement.WebElement (session=\"8aab79cf0d4a670f953756d99a310224\", element=\"DFD1E0E8701E2078932C023F6340BD1F_element_274\")>,\n",
       " <selenium.webdriver.remote.webelement.WebElement (session=\"8aab79cf0d4a670f953756d99a310224\", element=\"DFD1E0E8701E2078932C023F6340BD1F_element_277\")>,\n",
       " <selenium.webdriver.remote.webelement.WebElement (session=\"8aab79cf0d4a670f953756d99a310224\", element=\"DFD1E0E8701E2078932C023F6340BD1F_element_341\")>,\n",
       " <selenium.webdriver.remote.webelement.WebElement (session=\"8aab79cf0d4a670f953756d99a310224\", element=\"DFD1E0E8701E2078932C023F6340BD1F_element_347\")>,\n",
       " <selenium.webdriver.remote.webelement.WebElement (session=\"8aab79cf0d4a670f953756d99a310224\", element=\"DFD1E0E8701E2078932C023F6340BD1F_element_348\")>,\n",
       " <selenium.webdriver.remote.webelement.WebElement (session=\"8aab79cf0d4a670f953756d99a310224\", element=\"DFD1E0E8701E2078932C023F6340BD1F_element_349\")>,\n",
       " <selenium.webdriver.remote.webelement.WebElement (session=\"8aab79cf0d4a670f953756d99a310224\", element=\"DFD1E0E8701E2078932C023F6340BD1F_element_350\")>,\n",
       " <selenium.webdriver.remote.webelement.WebElement (session=\"8aab79cf0d4a670f953756d99a310224\", element=\"DFD1E0E8701E2078932C023F6340BD1F_element_351\")>,\n",
       " <selenium.webdriver.remote.webelement.WebElement (session=\"8aab79cf0d4a670f953756d99a310224\", element=\"DFD1E0E8701E2078932C023F6340BD1F_element_352\")>,\n",
       " <selenium.webdriver.remote.webelement.WebElement (session=\"8aab79cf0d4a670f953756d99a310224\", element=\"DFD1E0E8701E2078932C023F6340BD1F_element_80\")>,\n",
       " <selenium.webdriver.remote.webelement.WebElement (session=\"8aab79cf0d4a670f953756d99a310224\", element=\"DFD1E0E8701E2078932C023F6340BD1F_element_82\")>,\n",
       " <selenium.webdriver.remote.webelement.WebElement (session=\"8aab79cf0d4a670f953756d99a310224\", element=\"DFD1E0E8701E2078932C023F6340BD1F_element_43\")>]"
      ]
     },
     "execution_count": 12,
     "metadata": {},
     "output_type": "execute_result"
    }
   ],
   "source": [
    "driver.find_elements(By.CSS_SELECTOR, '.x9f619.x1n2onr6.x1ja2u2z.x78zum5.x1iyjqo2')"
   ]
  },
  {
   "cell_type": "code",
   "execution_count": 14,
   "metadata": {},
   "outputs": [
    {
     "data": {
      "text/plain": [
       "[<selenium.webdriver.remote.webelement.WebElement (session=\"8aab79cf0d4a670f953756d99a310224\", element=\"DFD1E0E8701E2078932C023F6340BD1F_element_268\")>,\n",
       " <selenium.webdriver.remote.webelement.WebElement (session=\"8aab79cf0d4a670f953756d99a310224\", element=\"DFD1E0E8701E2078932C023F6340BD1F_element_269\")>,\n",
       " <selenium.webdriver.remote.webelement.WebElement (session=\"8aab79cf0d4a670f953756d99a310224\", element=\"DFD1E0E8701E2078932C023F6340BD1F_element_270\")>,\n",
       " <selenium.webdriver.remote.webelement.WebElement (session=\"8aab79cf0d4a670f953756d99a310224\", element=\"DFD1E0E8701E2078932C023F6340BD1F_element_271\")>]"
      ]
     },
     "execution_count": 14,
     "metadata": {},
     "output_type": "execute_result"
    }
   ],
   "source": [
    "# 대화창 목록 중 각 대화창을 선택\n",
    "chat_windows = driver.find_elements(By.CSS_SELECTOR, '.x1i10hfl.x1qjc9v5.xjbqb8w')\n",
    "chat_windows"
   ]
  },
  {
   "cell_type": "code",
   "execution_count": 15,
   "metadata": {},
   "outputs": [
    {
     "data": {
      "text/plain": [
       "[<selenium.webdriver.remote.webelement.WebElement (session=\"8aab79cf0d4a670f953756d99a310224\", element=\"DFD1E0E8701E2078932C023F6340BD1F_element_268\")>]"
      ]
     },
     "execution_count": 15,
     "metadata": {},
     "output_type": "execute_result"
    }
   ],
   "source": [
    "# 새로운 메시지가 온 대화창 확인\n",
    "new_message_windows = [chat for chat in chat_windows if chat.find_elements(By.CSS_SELECTOR, '.x6s0dn4.xzolkzo.x12go9s9.x1rnf11y')]\n",
    "new_message_windows"
   ]
  },
  {
   "cell_type": "code",
   "execution_count": 16,
   "metadata": {},
   "outputs": [],
   "source": [
    "# 새로운 메시지가 온 대화창 중 첫 번째 대화창 선택\n",
    "if new_message_windows:\n",
    "    first_new_message_window = new_message_windows[0]\n",
    "    first_new_message_window.click()"
   ]
  },
  {
   "cell_type": "markdown",
   "metadata": {},
   "source": [
    "새로 도착한 메시지 전혀 없는 상태에서 코드 점검"
   ]
  },
  {
   "cell_type": "markdown",
   "metadata": {},
   "source": [
    "유저와의 특정 대화창에 들어가 있어서 오류 발생한 듯"
   ]
  },
  {
   "cell_type": "code",
   "execution_count": 18,
   "metadata": {},
   "outputs": [
    {
     "ename": "WebDriverException",
     "evalue": "Message: disconnected: not connected to DevTools\n  (failed to check if window was closed: disconnected: not connected to DevTools)\n  (Session info: chrome=118.0.5993.71)\nStacktrace:\n\tGetHandleVerifier [0x00007FF68E418EF2+54786]\n\t(No symbol) [0x00007FF68E385612]\n\t(No symbol) [0x00007FF68E23A64B]\n\t(No symbol) [0x00007FF68E228617]\n\t(No symbol) [0x00007FF68E228290]\n\t(No symbol) [0x00007FF68E23C541]\n\t(No symbol) [0x00007FF68E2B43FF]\n\t(No symbol) [0x00007FF68E29BC43]\n\t(No symbol) [0x00007FF68E270941]\n\t(No symbol) [0x00007FF68E271B84]\n\tGetHandleVerifier [0x00007FF68E767F52+3524194]\n\tGetHandleVerifier [0x00007FF68E7BD800+3874576]\n\tGetHandleVerifier [0x00007FF68E7B5D7F+3843215]\n\tGetHandleVerifier [0x00007FF68E4B5086+694166]\n\t(No symbol) [0x00007FF68E390A88]\n\t(No symbol) [0x00007FF68E38CA94]\n\t(No symbol) [0x00007FF68E38CBC2]\n\t(No symbol) [0x00007FF68E37CC83]\n\tBaseThreadInitThunk [0x00007FFB55267344+20]\n\tRtlUserThreadStart [0x00007FFB572426B1+33]\n",
     "output_type": "error",
     "traceback": [
      "\u001b[1;31m---------------------------------------------------------------------------\u001b[0m",
      "\u001b[1;31mWebDriverException\u001b[0m                        Traceback (most recent call last)",
      "\u001b[1;32md:\\Repository\\orderbot_project\\231020.ipynb Cell 15\u001b[0m line \u001b[0;36m2\n\u001b[0;32m      <a href='vscode-notebook-cell:/d%3A/Repository/orderbot_project/231020.ipynb#X20sZmlsZQ%3D%3D?line=0'>1</a>\u001b[0m \u001b[39m# 대화창 목록 중 각 대화창을 선택\u001b[39;00m\n\u001b[1;32m----> <a href='vscode-notebook-cell:/d%3A/Repository/orderbot_project/231020.ipynb#X20sZmlsZQ%3D%3D?line=1'>2</a>\u001b[0m chat_windows \u001b[39m=\u001b[39m driver\u001b[39m.\u001b[39;49mfind_elements(By\u001b[39m.\u001b[39;49mCSS_SELECTOR, \u001b[39m'\u001b[39;49m\u001b[39m.x1i10hfl.x1qjc9v5.xjbqb8w\u001b[39;49m\u001b[39m'\u001b[39;49m)\n\u001b[0;32m      <a href='vscode-notebook-cell:/d%3A/Repository/orderbot_project/231020.ipynb#X20sZmlsZQ%3D%3D?line=3'>4</a>\u001b[0m \u001b[39m# 새로운 메시지가 온 대화창 확인\u001b[39;00m\n\u001b[0;32m      <a href='vscode-notebook-cell:/d%3A/Repository/orderbot_project/231020.ipynb#X20sZmlsZQ%3D%3D?line=4'>5</a>\u001b[0m new_message_windows \u001b[39m=\u001b[39m [chat \u001b[39mfor\u001b[39;00m chat \u001b[39min\u001b[39;00m chat_windows \u001b[39mif\u001b[39;00m chat\u001b[39m.\u001b[39mfind_elements(By\u001b[39m.\u001b[39mCSS_SELECTOR, \u001b[39m'\u001b[39m\u001b[39m.x6s0dn4.xzolkzo.x12go9s9.x1rnf11y\u001b[39m\u001b[39m'\u001b[39m)]\n",
      "File \u001b[1;32md:\\Repository\\orderbot_project\\lib\\site-packages\\selenium\\webdriver\\remote\\webdriver.py:768\u001b[0m, in \u001b[0;36mWebDriver.find_elements\u001b[1;34m(self, by, value)\u001b[0m\n\u001b[0;32m    764\u001b[0m     value \u001b[39m=\u001b[39m \u001b[39mf\u001b[39m\u001b[39m'\u001b[39m\u001b[39m[name=\u001b[39m\u001b[39m\"\u001b[39m\u001b[39m{\u001b[39;00mvalue\u001b[39m}\u001b[39;00m\u001b[39m\"\u001b[39m\u001b[39m]\u001b[39m\u001b[39m'\u001b[39m\n\u001b[0;32m    766\u001b[0m \u001b[39m# Return empty list if driver returns null\u001b[39;00m\n\u001b[0;32m    767\u001b[0m \u001b[39m# See https://github.com/SeleniumHQ/selenium/issues/4555\u001b[39;00m\n\u001b[1;32m--> 768\u001b[0m \u001b[39mreturn\u001b[39;00m \u001b[39mself\u001b[39;49m\u001b[39m.\u001b[39;49mexecute(Command\u001b[39m.\u001b[39;49mFIND_ELEMENTS, {\u001b[39m\"\u001b[39;49m\u001b[39musing\u001b[39;49m\u001b[39m\"\u001b[39;49m: by, \u001b[39m\"\u001b[39;49m\u001b[39mvalue\u001b[39;49m\u001b[39m\"\u001b[39;49m: value})[\u001b[39m\"\u001b[39m\u001b[39mvalue\u001b[39m\u001b[39m\"\u001b[39m] \u001b[39mor\u001b[39;00m []\n",
      "File \u001b[1;32md:\\Repository\\orderbot_project\\lib\\site-packages\\selenium\\webdriver\\remote\\webdriver.py:344\u001b[0m, in \u001b[0;36mWebDriver.execute\u001b[1;34m(self, driver_command, params)\u001b[0m\n\u001b[0;32m    342\u001b[0m response \u001b[39m=\u001b[39m \u001b[39mself\u001b[39m\u001b[39m.\u001b[39mcommand_executor\u001b[39m.\u001b[39mexecute(driver_command, params)\n\u001b[0;32m    343\u001b[0m \u001b[39mif\u001b[39;00m response:\n\u001b[1;32m--> 344\u001b[0m     \u001b[39mself\u001b[39;49m\u001b[39m.\u001b[39;49merror_handler\u001b[39m.\u001b[39;49mcheck_response(response)\n\u001b[0;32m    345\u001b[0m     response[\u001b[39m\"\u001b[39m\u001b[39mvalue\u001b[39m\u001b[39m\"\u001b[39m] \u001b[39m=\u001b[39m \u001b[39mself\u001b[39m\u001b[39m.\u001b[39m_unwrap_value(response\u001b[39m.\u001b[39mget(\u001b[39m\"\u001b[39m\u001b[39mvalue\u001b[39m\u001b[39m\"\u001b[39m, \u001b[39mNone\u001b[39;00m))\n\u001b[0;32m    346\u001b[0m     \u001b[39mreturn\u001b[39;00m response\n",
      "File \u001b[1;32md:\\Repository\\orderbot_project\\lib\\site-packages\\selenium\\webdriver\\remote\\errorhandler.py:229\u001b[0m, in \u001b[0;36mErrorHandler.check_response\u001b[1;34m(self, response)\u001b[0m\n\u001b[0;32m    227\u001b[0m         alert_text \u001b[39m=\u001b[39m value[\u001b[39m\"\u001b[39m\u001b[39malert\u001b[39m\u001b[39m\"\u001b[39m]\u001b[39m.\u001b[39mget(\u001b[39m\"\u001b[39m\u001b[39mtext\u001b[39m\u001b[39m\"\u001b[39m)\n\u001b[0;32m    228\u001b[0m     \u001b[39mraise\u001b[39;00m exception_class(message, screen, stacktrace, alert_text)  \u001b[39m# type: ignore[call-arg]  # mypy is not smart enough here\u001b[39;00m\n\u001b[1;32m--> 229\u001b[0m \u001b[39mraise\u001b[39;00m exception_class(message, screen, stacktrace)\n",
      "\u001b[1;31mWebDriverException\u001b[0m: Message: disconnected: not connected to DevTools\n  (failed to check if window was closed: disconnected: not connected to DevTools)\n  (Session info: chrome=118.0.5993.71)\nStacktrace:\n\tGetHandleVerifier [0x00007FF68E418EF2+54786]\n\t(No symbol) [0x00007FF68E385612]\n\t(No symbol) [0x00007FF68E23A64B]\n\t(No symbol) [0x00007FF68E228617]\n\t(No symbol) [0x00007FF68E228290]\n\t(No symbol) [0x00007FF68E23C541]\n\t(No symbol) [0x00007FF68E2B43FF]\n\t(No symbol) [0x00007FF68E29BC43]\n\t(No symbol) [0x00007FF68E270941]\n\t(No symbol) [0x00007FF68E271B84]\n\tGetHandleVerifier [0x00007FF68E767F52+3524194]\n\tGetHandleVerifier [0x00007FF68E7BD800+3874576]\n\tGetHandleVerifier [0x00007FF68E7B5D7F+3843215]\n\tGetHandleVerifier [0x00007FF68E4B5086+694166]\n\t(No symbol) [0x00007FF68E390A88]\n\t(No symbol) [0x00007FF68E38CA94]\n\t(No symbol) [0x00007FF68E38CBC2]\n\t(No symbol) [0x00007FF68E37CC83]\n\tBaseThreadInitThunk [0x00007FFB55267344+20]\n\tRtlUserThreadStart [0x00007FFB572426B1+33]\n"
     ]
    }
   ],
   "source": [
    "# 대화창 목록 중 각 대화창을 선택\n",
    "chat_windows = driver.find_elements(By.CSS_SELECTOR, '.x1i10hfl.x1qjc9v5.xjbqb8w')\n",
    "\n",
    "# 새로운 메시지가 온 대화창 확인\n",
    "new_message_windows = [chat for chat in chat_windows if chat.find_elements(By.CSS_SELECTOR, '.x6s0dn4.xzolkzo.x12go9s9.x1rnf11y')]\n",
    "new_message_windows"
   ]
  },
  {
   "cell_type": "code",
   "execution_count": 25,
   "metadata": {},
   "outputs": [
    {
     "name": "stdout",
     "output_type": "stream",
     "text": [
      "4\n"
     ]
    },
    {
     "data": {
      "text/plain": [
       "[]"
      ]
     },
     "execution_count": 25,
     "metadata": {},
     "output_type": "execute_result"
    }
   ],
   "source": [
    "# 대화창 목록 중 각 대화창을 선택\n",
    "chat_windows = driver.find_elements(By.CSS_SELECTOR, '.x1i10hfl.x1qjc9v5.xjbqb8w')\n",
    "print(len(chat_windows))\n",
    "\n",
    "# 새로운 메시지가 온 대화창 확인\n",
    "new_message_windows = [chat for chat in chat_windows if chat.find_elements(By.CSS_SELECTOR, '.x6s0dn4.xzolkzo.x12go9s9.x1rnf11y')]\n",
    "new_message_windows"
   ]
  },
  {
   "cell_type": "code",
   "execution_count": 27,
   "metadata": {},
   "outputs": [
    {
     "data": {
      "text/plain": [
       "[<selenium.webdriver.remote.webelement.WebElement (session=\"80b117c0d06d1f0eff853e7d6d3f89e0\", element=\"EECC20599C3B69C62C4E3CCA36EA93C0_element_44\")>,\n",
       " <selenium.webdriver.remote.webelement.WebElement (session=\"80b117c0d06d1f0eff853e7d6d3f89e0\", element=\"EECC20599C3B69C62C4E3CCA36EA93C0_element_45\")>,\n",
       " <selenium.webdriver.remote.webelement.WebElement (session=\"80b117c0d06d1f0eff853e7d6d3f89e0\", element=\"EECC20599C3B69C62C4E3CCA36EA93C0_element_46\")>,\n",
       " <selenium.webdriver.remote.webelement.WebElement (session=\"80b117c0d06d1f0eff853e7d6d3f89e0\", element=\"EECC20599C3B69C62C4E3CCA36EA93C0_element_51\")>,\n",
       " <selenium.webdriver.remote.webelement.WebElement (session=\"80b117c0d06d1f0eff853e7d6d3f89e0\", element=\"EECC20599C3B69C62C4E3CCA36EA93C0_element_52\")>,\n",
       " <selenium.webdriver.remote.webelement.WebElement (session=\"80b117c0d06d1f0eff853e7d6d3f89e0\", element=\"EECC20599C3B69C62C4E3CCA36EA93C0_element_53\")>,\n",
       " <selenium.webdriver.remote.webelement.WebElement (session=\"80b117c0d06d1f0eff853e7d6d3f89e0\", element=\"EECC20599C3B69C62C4E3CCA36EA93C0_element_54\")>,\n",
       " <selenium.webdriver.remote.webelement.WebElement (session=\"80b117c0d06d1f0eff853e7d6d3f89e0\", element=\"EECC20599C3B69C62C4E3CCA36EA93C0_element_55\")>,\n",
       " <selenium.webdriver.remote.webelement.WebElement (session=\"80b117c0d06d1f0eff853e7d6d3f89e0\", element=\"EECC20599C3B69C62C4E3CCA36EA93C0_element_56\")>,\n",
       " <selenium.webdriver.remote.webelement.WebElement (session=\"80b117c0d06d1f0eff853e7d6d3f89e0\", element=\"EECC20599C3B69C62C4E3CCA36EA93C0_element_57\")>,\n",
       " <selenium.webdriver.remote.webelement.WebElement (session=\"80b117c0d06d1f0eff853e7d6d3f89e0\", element=\"EECC20599C3B69C62C4E3CCA36EA93C0_element_58\")>,\n",
       " <selenium.webdriver.remote.webelement.WebElement (session=\"80b117c0d06d1f0eff853e7d6d3f89e0\", element=\"EECC20599C3B69C62C4E3CCA36EA93C0_element_59\")>,\n",
       " <selenium.webdriver.remote.webelement.WebElement (session=\"80b117c0d06d1f0eff853e7d6d3f89e0\", element=\"EECC20599C3B69C62C4E3CCA36EA93C0_element_60\")>]"
      ]
     },
     "execution_count": 27,
     "metadata": {},
     "output_type": "execute_result"
    }
   ],
   "source": [
    "# 개별 대화창으로 이동 후 대화창 목록 중 각 대화창을 선택하는 코드 실행 \n",
    "chat_windows = driver.find_elements(By.CSS_SELECTOR, '.x1i10hfl.x1qjc9v5.xjbqb8w')\n",
    "chat_windows "
   ]
  },
  {
   "cell_type": "markdown",
   "metadata": {},
   "source": [
    "### 날짜 별로 대화 메시지 출력"
   ]
  },
  {
   "cell_type": "code",
   "execution_count": 28,
   "metadata": {},
   "outputs": [
    {
     "ename": "InvalidSelectorException",
     "evalue": "Message: invalid selector: Unable to locate an element with the xpath expression //div[contains(@class, \"x1n2onr6\") and not(contains(@style, \"rgb(var(--ig-highlight-background)))\")]//div[contains(@class, \"x6prxxf x1fc57z9 x1yc453h x126k92a x14ctfv\")] because of the following error:\nSyntaxError: Failed to execute 'evaluate' on 'Document': The string '//div[contains(@class, \"x1n2onr6\") and not(contains(@style, \"rgb(var(--ig-highlight-background)))\")]//div[contains(@class, \"x6prxxf x1fc57z9 x1yc453h x126k92a x14ctfv\")]' is not a valid XPath expression.\n  (Session info: chrome=118.0.5993.71); For documentation on this error, please visit: https://www.selenium.dev/documentation/webdriver/troubleshooting/errors#invalid-selector-exception\nStacktrace:\n\tGetHandleVerifier [0x00007FF68E418EF2+54786]\n\t(No symbol) [0x00007FF68E385612]\n\t(No symbol) [0x00007FF68E23A64B]\n\t(No symbol) [0x00007FF68E23F116]\n\t(No symbol) [0x00007FF68E24115F]\n\t(No symbol) [0x00007FF68E241250]\n\t(No symbol) [0x00007FF68E27B424]\n\t(No symbol) [0x00007FF68E27B91C]\n\t(No symbol) [0x00007FF68E2B6DB7]\n\t(No symbol) [0x00007FF68E29BEAF]\n\t(No symbol) [0x00007FF68E2B4D02]\n\t(No symbol) [0x00007FF68E29BC43]\n\t(No symbol) [0x00007FF68E270941]\n\t(No symbol) [0x00007FF68E271B84]\n\tGetHandleVerifier [0x00007FF68E767F52+3524194]\n\tGetHandleVerifier [0x00007FF68E7BD800+3874576]\n\tGetHandleVerifier [0x00007FF68E7B5D7F+3843215]\n\tGetHandleVerifier [0x00007FF68E4B5086+694166]\n\t(No symbol) [0x00007FF68E390A88]\n\t(No symbol) [0x00007FF68E38CA94]\n\t(No symbol) [0x00007FF68E38CBC2]\n\t(No symbol) [0x00007FF68E37CC83]\n\tBaseThreadInitThunk [0x00007FFB55267344+20]\n\tRtlUserThreadStart [0x00007FFB572426B1+33]\n",
     "output_type": "error",
     "traceback": [
      "\u001b[1;31m---------------------------------------------------------------------------\u001b[0m",
      "\u001b[1;31mInvalidSelectorException\u001b[0m                  Traceback (most recent call last)",
      "\u001b[1;32md:\\Repository\\orderbot_project\\231020.ipynb Cell 19\u001b[0m line \u001b[0;36m3\n\u001b[0;32m      <a href='vscode-notebook-cell:/d%3A/Repository/orderbot_project/231020.ipynb#X30sZmlsZQ%3D%3D?line=0'>1</a>\u001b[0m \u001b[39m# 날짜/시간 정보, 상대방의 메시지, 내 메시지를 추출\u001b[39;00m\n\u001b[0;32m      <a href='vscode-notebook-cell:/d%3A/Repository/orderbot_project/231020.ipynb#X30sZmlsZQ%3D%3D?line=1'>2</a>\u001b[0m dates \u001b[39m=\u001b[39m driver\u001b[39m.\u001b[39mfind_elements(By\u001b[39m.\u001b[39mXPATH, \u001b[39m'\u001b[39m\u001b[39m//div[contains(@class, \u001b[39m\u001b[39m\"\u001b[39m\u001b[39mx1n2onr6\u001b[39m\u001b[39m\"\u001b[39m\u001b[39m)]//div[contains(@class, \u001b[39m\u001b[39m\"\u001b[39m\u001b[39mxzpqnlu x1hyvwdk xqtp20y\u001b[39m\u001b[39m\"\u001b[39m\u001b[39m)]\u001b[39m\u001b[39m'\u001b[39m)\n\u001b[1;32m----> <a href='vscode-notebook-cell:/d%3A/Repository/orderbot_project/231020.ipynb#X30sZmlsZQ%3D%3D?line=2'>3</a>\u001b[0m other_messages \u001b[39m=\u001b[39m driver\u001b[39m.\u001b[39;49mfind_elements(By\u001b[39m.\u001b[39;49mXPATH, \u001b[39m'\u001b[39;49m\u001b[39m//div[contains(@class, \u001b[39;49m\u001b[39m\"\u001b[39;49m\u001b[39mx1n2onr6\u001b[39;49m\u001b[39m\"\u001b[39;49m\u001b[39m) and not(contains(@style, \u001b[39;49m\u001b[39m\"\u001b[39;49m\u001b[39mrgb(var(--ig-highlight-background)))\u001b[39;49m\u001b[39m\"\u001b[39;49m\u001b[39m)]//div[contains(@class, \u001b[39;49m\u001b[39m\"\u001b[39;49m\u001b[39mx6prxxf x1fc57z9 x1yc453h x126k92a x14ctfv\u001b[39;49m\u001b[39m\"\u001b[39;49m\u001b[39m)]\u001b[39;49m\u001b[39m'\u001b[39;49m)\n\u001b[0;32m      <a href='vscode-notebook-cell:/d%3A/Repository/orderbot_project/231020.ipynb#X30sZmlsZQ%3D%3D?line=3'>4</a>\u001b[0m my_messages \u001b[39m=\u001b[39m driver\u001b[39m.\u001b[39mfind_elements(By\u001b[39m.\u001b[39mXPATH, \u001b[39m'\u001b[39m\u001b[39m//div[contains(@class, \u001b[39m\u001b[39m\"\u001b[39m\u001b[39mx1n2onr6\u001b[39m\u001b[39m\"\u001b[39m\u001b[39m) and contains(@style, \u001b[39m\u001b[39m\"\u001b[39m\u001b[39mrgb(var(--ig-highlight-background)))\u001b[39m\u001b[39m\"\u001b[39m\u001b[39m)]//div[contains(@class, \u001b[39m\u001b[39m\"\u001b[39m\u001b[39mx6prxxf x1fc57z9 x1yc453h x126k92a x14ctfv\u001b[39m\u001b[39m\"\u001b[39m\u001b[39m)]\u001b[39m\u001b[39m'\u001b[39m)\n\u001b[0;32m      <a href='vscode-notebook-cell:/d%3A/Repository/orderbot_project/231020.ipynb#X30sZmlsZQ%3D%3D?line=5'>6</a>\u001b[0m \u001b[39m# 정보 출력\u001b[39;00m\n",
      "File \u001b[1;32md:\\Repository\\orderbot_project\\lib\\site-packages\\selenium\\webdriver\\remote\\webdriver.py:768\u001b[0m, in \u001b[0;36mWebDriver.find_elements\u001b[1;34m(self, by, value)\u001b[0m\n\u001b[0;32m    764\u001b[0m     value \u001b[39m=\u001b[39m \u001b[39mf\u001b[39m\u001b[39m'\u001b[39m\u001b[39m[name=\u001b[39m\u001b[39m\"\u001b[39m\u001b[39m{\u001b[39;00mvalue\u001b[39m}\u001b[39;00m\u001b[39m\"\u001b[39m\u001b[39m]\u001b[39m\u001b[39m'\u001b[39m\n\u001b[0;32m    766\u001b[0m \u001b[39m# Return empty list if driver returns null\u001b[39;00m\n\u001b[0;32m    767\u001b[0m \u001b[39m# See https://github.com/SeleniumHQ/selenium/issues/4555\u001b[39;00m\n\u001b[1;32m--> 768\u001b[0m \u001b[39mreturn\u001b[39;00m \u001b[39mself\u001b[39;49m\u001b[39m.\u001b[39;49mexecute(Command\u001b[39m.\u001b[39;49mFIND_ELEMENTS, {\u001b[39m\"\u001b[39;49m\u001b[39musing\u001b[39;49m\u001b[39m\"\u001b[39;49m: by, \u001b[39m\"\u001b[39;49m\u001b[39mvalue\u001b[39;49m\u001b[39m\"\u001b[39;49m: value})[\u001b[39m\"\u001b[39m\u001b[39mvalue\u001b[39m\u001b[39m\"\u001b[39m] \u001b[39mor\u001b[39;00m []\n",
      "File \u001b[1;32md:\\Repository\\orderbot_project\\lib\\site-packages\\selenium\\webdriver\\remote\\webdriver.py:344\u001b[0m, in \u001b[0;36mWebDriver.execute\u001b[1;34m(self, driver_command, params)\u001b[0m\n\u001b[0;32m    342\u001b[0m response \u001b[39m=\u001b[39m \u001b[39mself\u001b[39m\u001b[39m.\u001b[39mcommand_executor\u001b[39m.\u001b[39mexecute(driver_command, params)\n\u001b[0;32m    343\u001b[0m \u001b[39mif\u001b[39;00m response:\n\u001b[1;32m--> 344\u001b[0m     \u001b[39mself\u001b[39;49m\u001b[39m.\u001b[39;49merror_handler\u001b[39m.\u001b[39;49mcheck_response(response)\n\u001b[0;32m    345\u001b[0m     response[\u001b[39m\"\u001b[39m\u001b[39mvalue\u001b[39m\u001b[39m\"\u001b[39m] \u001b[39m=\u001b[39m \u001b[39mself\u001b[39m\u001b[39m.\u001b[39m_unwrap_value(response\u001b[39m.\u001b[39mget(\u001b[39m\"\u001b[39m\u001b[39mvalue\u001b[39m\u001b[39m\"\u001b[39m, \u001b[39mNone\u001b[39;00m))\n\u001b[0;32m    346\u001b[0m     \u001b[39mreturn\u001b[39;00m response\n",
      "File \u001b[1;32md:\\Repository\\orderbot_project\\lib\\site-packages\\selenium\\webdriver\\remote\\errorhandler.py:229\u001b[0m, in \u001b[0;36mErrorHandler.check_response\u001b[1;34m(self, response)\u001b[0m\n\u001b[0;32m    227\u001b[0m         alert_text \u001b[39m=\u001b[39m value[\u001b[39m\"\u001b[39m\u001b[39malert\u001b[39m\u001b[39m\"\u001b[39m]\u001b[39m.\u001b[39mget(\u001b[39m\"\u001b[39m\u001b[39mtext\u001b[39m\u001b[39m\"\u001b[39m)\n\u001b[0;32m    228\u001b[0m     \u001b[39mraise\u001b[39;00m exception_class(message, screen, stacktrace, alert_text)  \u001b[39m# type: ignore[call-arg]  # mypy is not smart enough here\u001b[39;00m\n\u001b[1;32m--> 229\u001b[0m \u001b[39mraise\u001b[39;00m exception_class(message, screen, stacktrace)\n",
      "\u001b[1;31mInvalidSelectorException\u001b[0m: Message: invalid selector: Unable to locate an element with the xpath expression //div[contains(@class, \"x1n2onr6\") and not(contains(@style, \"rgb(var(--ig-highlight-background)))\")]//div[contains(@class, \"x6prxxf x1fc57z9 x1yc453h x126k92a x14ctfv\")] because of the following error:\nSyntaxError: Failed to execute 'evaluate' on 'Document': The string '//div[contains(@class, \"x1n2onr6\") and not(contains(@style, \"rgb(var(--ig-highlight-background)))\")]//div[contains(@class, \"x6prxxf x1fc57z9 x1yc453h x126k92a x14ctfv\")]' is not a valid XPath expression.\n  (Session info: chrome=118.0.5993.71); For documentation on this error, please visit: https://www.selenium.dev/documentation/webdriver/troubleshooting/errors#invalid-selector-exception\nStacktrace:\n\tGetHandleVerifier [0x00007FF68E418EF2+54786]\n\t(No symbol) [0x00007FF68E385612]\n\t(No symbol) [0x00007FF68E23A64B]\n\t(No symbol) [0x00007FF68E23F116]\n\t(No symbol) [0x00007FF68E24115F]\n\t(No symbol) [0x00007FF68E241250]\n\t(No symbol) [0x00007FF68E27B424]\n\t(No symbol) [0x00007FF68E27B91C]\n\t(No symbol) [0x00007FF68E2B6DB7]\n\t(No symbol) [0x00007FF68E29BEAF]\n\t(No symbol) [0x00007FF68E2B4D02]\n\t(No symbol) [0x00007FF68E29BC43]\n\t(No symbol) [0x00007FF68E270941]\n\t(No symbol) [0x00007FF68E271B84]\n\tGetHandleVerifier [0x00007FF68E767F52+3524194]\n\tGetHandleVerifier [0x00007FF68E7BD800+3874576]\n\tGetHandleVerifier [0x00007FF68E7B5D7F+3843215]\n\tGetHandleVerifier [0x00007FF68E4B5086+694166]\n\t(No symbol) [0x00007FF68E390A88]\n\t(No symbol) [0x00007FF68E38CA94]\n\t(No symbol) [0x00007FF68E38CBC2]\n\t(No symbol) [0x00007FF68E37CC83]\n\tBaseThreadInitThunk [0x00007FFB55267344+20]\n\tRtlUserThreadStart [0x00007FFB572426B1+33]\n"
     ]
    }
   ],
   "source": [
    "# 날짜/시간 정보, 상대방의 메시지, 내 메시지를 추출\n",
    "dates = driver.find_elements(By.XPATH, '//div[contains(@class, \"x1n2onr6\")]//div[contains(@class, \"xzpqnlu x1hyvwdk xqtp20y\")]')\n",
    "other_messages = driver.find_elements(By.XPATH, '//div[contains(@class, \"x1n2onr6\") and not(contains(@style, \"rgb(var(--ig-highlight-background)))\")]//div[contains(@class, \"x6prxxf x1fc57z9 x1yc453h x126k92a x14ctfv\")]')\n",
    "my_messages = driver.find_elements(By.XPATH, '//div[contains(@class, \"x1n2onr6\") and contains(@style, \"rgb(var(--ig-highlight-background)))\")]//div[contains(@class, \"x6prxxf x1fc57z9 x1yc453h x126k92a x14ctfv\")]')\n",
    "\n",
    "# 정보 출력\n",
    "for date, other_msg, my_msg in zip(dates, other_messages, my_messages):\n",
    "    print(f\"날짜/시간: {date.text}\")\n",
    "    print(f\"상대방 메시지: {other_msg.text}\")\n",
    "    print(f\"내 메시지: {my_msg.text}\")\n",
    "    print(\"-------\")"
   ]
  },
  {
   "cell_type": "code",
   "execution_count": 29,
   "metadata": {},
   "outputs": [
    {
     "data": {
      "text/plain": [
       "[<selenium.webdriver.remote.webelement.WebElement (session=\"80b117c0d06d1f0eff853e7d6d3f89e0\", element=\"EECC20599C3B69C62C4E3CCA36EA93C0_element_549\")>,\n",
       " <selenium.webdriver.remote.webelement.WebElement (session=\"80b117c0d06d1f0eff853e7d6d3f89e0\", element=\"EECC20599C3B69C62C4E3CCA36EA93C0_element_515\")>,\n",
       " <selenium.webdriver.remote.webelement.WebElement (session=\"80b117c0d06d1f0eff853e7d6d3f89e0\", element=\"EECC20599C3B69C62C4E3CCA36EA93C0_element_409\")>]"
      ]
     },
     "execution_count": 29,
     "metadata": {},
     "output_type": "execute_result"
    }
   ],
   "source": [
    "dates = driver.find_elements(By.XPATH, '//div[contains(@class, \"x1n2onr6\")]//div[contains(@class, \"xzpqnlu x1hyvwdk xqtp20y\")]')\n",
    "dates"
   ]
  },
  {
   "cell_type": "code",
   "execution_count": 30,
   "metadata": {},
   "outputs": [
    {
     "ename": "InvalidSelectorException",
     "evalue": "Message: invalid selector: Unable to locate an element with the xpath expression //div[contains(@class, \"x1n2onr6\") and not(contains(@style, \"rgb(var(--ig-highlight-background)))\")]//div[contains(@class, \"x6prxxf x1fc57z9 x1yc453h x126k92a x14ctfv\")] because of the following error:\nSyntaxError: Failed to execute 'evaluate' on 'Document': The string '//div[contains(@class, \"x1n2onr6\") and not(contains(@style, \"rgb(var(--ig-highlight-background)))\")]//div[contains(@class, \"x6prxxf x1fc57z9 x1yc453h x126k92a x14ctfv\")]' is not a valid XPath expression.\n  (Session info: chrome=118.0.5993.71); For documentation on this error, please visit: https://www.selenium.dev/documentation/webdriver/troubleshooting/errors#invalid-selector-exception\nStacktrace:\n\tGetHandleVerifier [0x00007FF68E418EF2+54786]\n\t(No symbol) [0x00007FF68E385612]\n\t(No symbol) [0x00007FF68E23A64B]\n\t(No symbol) [0x00007FF68E23F116]\n\t(No symbol) [0x00007FF68E24115F]\n\t(No symbol) [0x00007FF68E241250]\n\t(No symbol) [0x00007FF68E27B424]\n\t(No symbol) [0x00007FF68E27B91C]\n\t(No symbol) [0x00007FF68E2B6DB7]\n\t(No symbol) [0x00007FF68E29BEAF]\n\t(No symbol) [0x00007FF68E2B4D02]\n\t(No symbol) [0x00007FF68E29BC43]\n\t(No symbol) [0x00007FF68E270941]\n\t(No symbol) [0x00007FF68E271B84]\n\tGetHandleVerifier [0x00007FF68E767F52+3524194]\n\tGetHandleVerifier [0x00007FF68E7BD800+3874576]\n\tGetHandleVerifier [0x00007FF68E7B5D7F+3843215]\n\tGetHandleVerifier [0x00007FF68E4B5086+694166]\n\t(No symbol) [0x00007FF68E390A88]\n\t(No symbol) [0x00007FF68E38CA94]\n\t(No symbol) [0x00007FF68E38CBC2]\n\t(No symbol) [0x00007FF68E37CC83]\n\tBaseThreadInitThunk [0x00007FFB55267344+20]\n\tRtlUserThreadStart [0x00007FFB572426B1+33]\n",
     "output_type": "error",
     "traceback": [
      "\u001b[1;31m---------------------------------------------------------------------------\u001b[0m",
      "\u001b[1;31mInvalidSelectorException\u001b[0m                  Traceback (most recent call last)",
      "\u001b[1;32md:\\Repository\\orderbot_project\\231020.ipynb Cell 21\u001b[0m line \u001b[0;36m1\n\u001b[1;32m----> <a href='vscode-notebook-cell:/d%3A/Repository/orderbot_project/231020.ipynb#X32sZmlsZQ%3D%3D?line=0'>1</a>\u001b[0m other_messages \u001b[39m=\u001b[39m driver\u001b[39m.\u001b[39;49mfind_elements(By\u001b[39m.\u001b[39;49mXPATH, \u001b[39m'\u001b[39;49m\u001b[39m//div[contains(@class, \u001b[39;49m\u001b[39m\"\u001b[39;49m\u001b[39mx1n2onr6\u001b[39;49m\u001b[39m\"\u001b[39;49m\u001b[39m) and not(contains(@style, \u001b[39;49m\u001b[39m\"\u001b[39;49m\u001b[39mrgb(var(--ig-highlight-background)))\u001b[39;49m\u001b[39m\"\u001b[39;49m\u001b[39m)]//div[contains(@class, \u001b[39;49m\u001b[39m\"\u001b[39;49m\u001b[39mx6prxxf x1fc57z9 x1yc453h x126k92a x14ctfv\u001b[39;49m\u001b[39m\"\u001b[39;49m\u001b[39m)]\u001b[39;49m\u001b[39m'\u001b[39;49m)\n\u001b[0;32m      <a href='vscode-notebook-cell:/d%3A/Repository/orderbot_project/231020.ipynb#X32sZmlsZQ%3D%3D?line=1'>2</a>\u001b[0m other_messages\n",
      "File \u001b[1;32md:\\Repository\\orderbot_project\\lib\\site-packages\\selenium\\webdriver\\remote\\webdriver.py:768\u001b[0m, in \u001b[0;36mWebDriver.find_elements\u001b[1;34m(self, by, value)\u001b[0m\n\u001b[0;32m    764\u001b[0m     value \u001b[39m=\u001b[39m \u001b[39mf\u001b[39m\u001b[39m'\u001b[39m\u001b[39m[name=\u001b[39m\u001b[39m\"\u001b[39m\u001b[39m{\u001b[39;00mvalue\u001b[39m}\u001b[39;00m\u001b[39m\"\u001b[39m\u001b[39m]\u001b[39m\u001b[39m'\u001b[39m\n\u001b[0;32m    766\u001b[0m \u001b[39m# Return empty list if driver returns null\u001b[39;00m\n\u001b[0;32m    767\u001b[0m \u001b[39m# See https://github.com/SeleniumHQ/selenium/issues/4555\u001b[39;00m\n\u001b[1;32m--> 768\u001b[0m \u001b[39mreturn\u001b[39;00m \u001b[39mself\u001b[39;49m\u001b[39m.\u001b[39;49mexecute(Command\u001b[39m.\u001b[39;49mFIND_ELEMENTS, {\u001b[39m\"\u001b[39;49m\u001b[39musing\u001b[39;49m\u001b[39m\"\u001b[39;49m: by, \u001b[39m\"\u001b[39;49m\u001b[39mvalue\u001b[39;49m\u001b[39m\"\u001b[39;49m: value})[\u001b[39m\"\u001b[39m\u001b[39mvalue\u001b[39m\u001b[39m\"\u001b[39m] \u001b[39mor\u001b[39;00m []\n",
      "File \u001b[1;32md:\\Repository\\orderbot_project\\lib\\site-packages\\selenium\\webdriver\\remote\\webdriver.py:344\u001b[0m, in \u001b[0;36mWebDriver.execute\u001b[1;34m(self, driver_command, params)\u001b[0m\n\u001b[0;32m    342\u001b[0m response \u001b[39m=\u001b[39m \u001b[39mself\u001b[39m\u001b[39m.\u001b[39mcommand_executor\u001b[39m.\u001b[39mexecute(driver_command, params)\n\u001b[0;32m    343\u001b[0m \u001b[39mif\u001b[39;00m response:\n\u001b[1;32m--> 344\u001b[0m     \u001b[39mself\u001b[39;49m\u001b[39m.\u001b[39;49merror_handler\u001b[39m.\u001b[39;49mcheck_response(response)\n\u001b[0;32m    345\u001b[0m     response[\u001b[39m\"\u001b[39m\u001b[39mvalue\u001b[39m\u001b[39m\"\u001b[39m] \u001b[39m=\u001b[39m \u001b[39mself\u001b[39m\u001b[39m.\u001b[39m_unwrap_value(response\u001b[39m.\u001b[39mget(\u001b[39m\"\u001b[39m\u001b[39mvalue\u001b[39m\u001b[39m\"\u001b[39m, \u001b[39mNone\u001b[39;00m))\n\u001b[0;32m    346\u001b[0m     \u001b[39mreturn\u001b[39;00m response\n",
      "File \u001b[1;32md:\\Repository\\orderbot_project\\lib\\site-packages\\selenium\\webdriver\\remote\\errorhandler.py:229\u001b[0m, in \u001b[0;36mErrorHandler.check_response\u001b[1;34m(self, response)\u001b[0m\n\u001b[0;32m    227\u001b[0m         alert_text \u001b[39m=\u001b[39m value[\u001b[39m\"\u001b[39m\u001b[39malert\u001b[39m\u001b[39m\"\u001b[39m]\u001b[39m.\u001b[39mget(\u001b[39m\"\u001b[39m\u001b[39mtext\u001b[39m\u001b[39m\"\u001b[39m)\n\u001b[0;32m    228\u001b[0m     \u001b[39mraise\u001b[39;00m exception_class(message, screen, stacktrace, alert_text)  \u001b[39m# type: ignore[call-arg]  # mypy is not smart enough here\u001b[39;00m\n\u001b[1;32m--> 229\u001b[0m \u001b[39mraise\u001b[39;00m exception_class(message, screen, stacktrace)\n",
      "\u001b[1;31mInvalidSelectorException\u001b[0m: Message: invalid selector: Unable to locate an element with the xpath expression //div[contains(@class, \"x1n2onr6\") and not(contains(@style, \"rgb(var(--ig-highlight-background)))\")]//div[contains(@class, \"x6prxxf x1fc57z9 x1yc453h x126k92a x14ctfv\")] because of the following error:\nSyntaxError: Failed to execute 'evaluate' on 'Document': The string '//div[contains(@class, \"x1n2onr6\") and not(contains(@style, \"rgb(var(--ig-highlight-background)))\")]//div[contains(@class, \"x6prxxf x1fc57z9 x1yc453h x126k92a x14ctfv\")]' is not a valid XPath expression.\n  (Session info: chrome=118.0.5993.71); For documentation on this error, please visit: https://www.selenium.dev/documentation/webdriver/troubleshooting/errors#invalid-selector-exception\nStacktrace:\n\tGetHandleVerifier [0x00007FF68E418EF2+54786]\n\t(No symbol) [0x00007FF68E385612]\n\t(No symbol) [0x00007FF68E23A64B]\n\t(No symbol) [0x00007FF68E23F116]\n\t(No symbol) [0x00007FF68E24115F]\n\t(No symbol) [0x00007FF68E241250]\n\t(No symbol) [0x00007FF68E27B424]\n\t(No symbol) [0x00007FF68E27B91C]\n\t(No symbol) [0x00007FF68E2B6DB7]\n\t(No symbol) [0x00007FF68E29BEAF]\n\t(No symbol) [0x00007FF68E2B4D02]\n\t(No symbol) [0x00007FF68E29BC43]\n\t(No symbol) [0x00007FF68E270941]\n\t(No symbol) [0x00007FF68E271B84]\n\tGetHandleVerifier [0x00007FF68E767F52+3524194]\n\tGetHandleVerifier [0x00007FF68E7BD800+3874576]\n\tGetHandleVerifier [0x00007FF68E7B5D7F+3843215]\n\tGetHandleVerifier [0x00007FF68E4B5086+694166]\n\t(No symbol) [0x00007FF68E390A88]\n\t(No symbol) [0x00007FF68E38CA94]\n\t(No symbol) [0x00007FF68E38CBC2]\n\t(No symbol) [0x00007FF68E37CC83]\n\tBaseThreadInitThunk [0x00007FFB55267344+20]\n\tRtlUserThreadStart [0x00007FFB572426B1+33]\n"
     ]
    }
   ],
   "source": [
    "other_messages = driver.find_elements(By.XPATH, '//div[contains(@class, \"x1n2onr6\") and not(contains(@style, \"rgb(var(--ig-highlight-background)))\")]//div[contains(@class, \"x6prxxf x1fc57z9 x1yc453h x126k92a x14ctfv\")]')\n",
    "other_messages"
   ]
  },
  {
   "cell_type": "code",
   "execution_count": 31,
   "metadata": {},
   "outputs": [
    {
     "name": "stdout",
     "output_type": "stream",
     "text": [
      "날짜/시간: \n",
      "상대방 메시지: webscraping 테스트 중!!\n",
      "내 메시지: webscraping 테스트 중!!\n",
      "-------\n",
      "날짜/시간: \n",
      "상대방 메시지: 이 계정의 메시지를 스크래핑 중인 거 같은데?\n",
      "내 메시지: 이 계정의 메시지를 스크래핑 중인 거 같은데?\n",
      "-------\n",
      "날짜/시간: \n",
      "상대방 메시지: 호이\n",
      "내 메시지: 호이\n",
      "-------\n"
     ]
    }
   ],
   "source": [
    "# 날짜/시간 정보를 추출\n",
    "dates = driver.find_elements(By.XPATH, '//div[contains(@class, \"x1n2onr6\")]//div[contains(@class, \"xzpqnlu\") and contains(@class, \"x1hyvwdk\") and contains(@class, \"xqtp20y\")]')\n",
    "\n",
    "# 상대방의 메시지를 추출\n",
    "other_messages = driver.find_elements(By.XPATH, '//div[contains(@class, \"x1n2onr6\")]//div[contains(@class, \"x6prxxf\") and contains(@class, \"x1fc57z9\") and contains(@class, \"x1yc453h\") and contains(@class, \"x126k92a\") and contains(@class, \"x14ctfv\")]')\n",
    "\n",
    "# 내 메시지를 추출\n",
    "my_messages = driver.find_elements(By.XPATH, '//div[contains(@class, \"x1n2onr6\") and contains(@style, \"rgb(\")]//div[contains(@class, \"x6prxxf\") and contains(@class, \"x1fc57z9\") and contains(@class, \"x1yc453h\") and contains(@class, \"x126k92a\") and contains(@class, \"x14ctfv\")]')\n",
    "\n",
    "# 정보 출력\n",
    "for date, other_msg, my_msg in zip(dates, other_messages, my_messages):\n",
    "    print(f\"날짜/시간: {date.text}\")\n",
    "    print(f\"상대방 메시지: {other_msg.text}\")\n",
    "    print(f\"내 메시지: {my_msg.text}\")\n",
    "    print(\"-------\")"
   ]
  },
  {
   "cell_type": "markdown",
   "metadata": {},
   "source": [
    "### 가장 최근의 대화를 출력"
   ]
  },
  {
   "cell_type": "code",
   "execution_count": 32,
   "metadata": {},
   "outputs": [],
   "source": [
    "# 가장 최근 날짜/시간 정보를 가져옴\n",
    "recent_date = driver.find_element(By.CSS_SELECTOR, 'div.xzpqnlu.x1hyvwdk.xqtp20y').text\n",
    "\n",
    "# 상대방이 보낸 메시지를 가져옴\n",
    "other_messages_elements = driver.find_elements(By.CSS_SELECTOR, 'div.x1n2onr6[style*=\"rgb(var(--ig-highlight-background))\"] div.x6prxxf.x1fc57z9.x1yc453h.x126k92a.x14ctfv')\n",
    "other_messages_text = [msg.text for msg in other_messages_elements]\n",
    "\n",
    "# 내가 보낸 메시지를 가져옴\n",
    "my_messages_elements = driver.find_elements(By.CSS_SELECTOR, 'div.x1n2onr6:not([style*=\"rgb(var(--ig-highlight-background))\"]) div.x6prxxf.x1fc57z9.x1yc453h.x126k92a.xzsf02u')\n",
    "my_messages_text = [msg.text for msg in my_messages_elements]"
   ]
  },
  {
   "cell_type": "code",
   "execution_count": 33,
   "metadata": {},
   "outputs": [
    {
     "data": {
      "text/plain": [
       "''"
      ]
     },
     "execution_count": 33,
     "metadata": {},
     "output_type": "execute_result"
    }
   ],
   "source": [
    "recent_date "
   ]
  },
  {
   "cell_type": "code",
   "execution_count": 35,
   "metadata": {},
   "outputs": [
    {
     "data": {
      "text/plain": [
       "['똑똑',\n",
       " '강서희 거기 계심?',\n",
       " '확인 개빠르네',\n",
       " '아니 어제 말한 뭐 실험 중이야',\n",
       " '오늘도 한가하신?',\n",
       " '공부는? 눈빛 찡찡',\n",
       " '엄마 놀이 ㅋㅋ',\n",
       " '왜 한가해?',\n",
       " '서희는 항상 공부에 쩔어있어야 정상 아니야?',\n",
       " '과제 좀 팍팍 내주시라고 학교에다 메일 넣어야겠네',\n",
       " '최신 앱을 사용하라네?',\n",
       " '님이 보낸 메시지 못 보는 듯',\n",
       " '이응',\n",
       " '잘 보여',\n",
       " '멋있네?',\n",
       " '캬 건축학도']"
      ]
     },
     "execution_count": 35,
     "metadata": {},
     "output_type": "execute_result"
    }
   ],
   "source": [
    "other_messages_text"
   ]
  },
  {
   "cell_type": "code",
   "execution_count": 36,
   "metadata": {},
   "outputs": [
    {
     "data": {
      "text/plain": [
       "['안녕하세요~',\n",
       " '예',\n",
       " '말씀하세요~~',\n",
       " '마침 폰 보고 있었습니다~~',\n",
       " '예~',\n",
       " '수업 없어',\n",
       " '걍 작업만 하고 있지',\n",
       " '과제 제출 할게 있어요~~',\n",
       " '혹시 지금 컴퓨터?',\n",
       " '이것도 안보여?',\n",
       " 'ㅋㅋㅋ 너무 복잡해']"
      ]
     },
     "execution_count": 36,
     "metadata": {},
     "output_type": "execute_result"
    }
   ],
   "source": [
    "my_messages_text "
   ]
  },
  {
   "cell_type": "code",
   "execution_count": 37,
   "metadata": {},
   "outputs": [],
   "source": [
    "# 가장 최근 날짜/시간 정보를 가져옴\n",
    "recent_date = driver.find_element(By.CSS_SELECTOR, 'h4.x1heor9g.x1qlqyl8.x1pd3egz.x1a2a7pz div.xzpqnlu.x1hyvwdk.xqtp20y').text\n",
    "\n",
    "# 상대방이 보낸 메시지를 가져옴\n",
    "my_messages_elements = driver.find_elements(By.CSS_SELECTOR, 'div.x1n2onr6[style*=\"rgb(var(--ig-highlight-background))\"] div.x6prxxf.x1fc57z9.x1yc453h.x126k92a.x14ctfv')\n",
    "my_messages_text = [msg.text for msg in my_messages_elements]\n",
    "\n",
    "# 내가 보낸 메시지를 가져옴\n",
    "other_messages_elements = driver.find_elements(By.CSS_SELECTOR, 'div.x1n2onr6:not([style*=\"rgb(var(--ig-highlight-background))\"]) div.x6prxxf.x1fc57z9.x1yc453h.x126k92a.xzsf02u')\n",
    "other_messages_text = [msg.text for msg in other_messages_elements]"
   ]
  },
  {
   "cell_type": "code",
   "execution_count": 38,
   "metadata": {},
   "outputs": [
    {
     "data": {
      "text/plain": [
       "''"
      ]
     },
     "execution_count": 38,
     "metadata": {},
     "output_type": "execute_result"
    }
   ],
   "source": [
    "recent_date"
   ]
  },
  {
   "cell_type": "code",
   "execution_count": 39,
   "metadata": {},
   "outputs": [
    {
     "data": {
      "text/plain": [
       "['똑똑',\n",
       " '강서희 거기 계심?',\n",
       " '확인 개빠르네',\n",
       " '아니 어제 말한 뭐 실험 중이야',\n",
       " '오늘도 한가하신?',\n",
       " '공부는? 눈빛 찡찡',\n",
       " '엄마 놀이 ㅋㅋ',\n",
       " '왜 한가해?',\n",
       " '서희는 항상 공부에 쩔어있어야 정상 아니야?',\n",
       " '과제 좀 팍팍 내주시라고 학교에다 메일 넣어야겠네',\n",
       " '최신 앱을 사용하라네?',\n",
       " '님이 보낸 메시지 못 보는 듯',\n",
       " '이응',\n",
       " '잘 보여',\n",
       " '멋있네?',\n",
       " '캬 건축학도']"
      ]
     },
     "execution_count": 39,
     "metadata": {},
     "output_type": "execute_result"
    }
   ],
   "source": [
    "my_messages_text"
   ]
  },
  {
   "cell_type": "code",
   "execution_count": 40,
   "metadata": {},
   "outputs": [
    {
     "data": {
      "text/plain": [
       "['안녕하세요~',\n",
       " '예',\n",
       " '말씀하세요~~',\n",
       " '마침 폰 보고 있었습니다~~',\n",
       " '예~',\n",
       " '수업 없어',\n",
       " '걍 작업만 하고 있지',\n",
       " '과제 제출 할게 있어요~~',\n",
       " '혹시 지금 컴퓨터?',\n",
       " '이것도 안보여?',\n",
       " 'ㅋㅋㅋ 너무 복잡해']"
      ]
     },
     "execution_count": 40,
     "metadata": {},
     "output_type": "execute_result"
    }
   ],
   "source": [
    "other_messages_text"
   ]
  },
  {
   "cell_type": "code",
   "execution_count": 42,
   "metadata": {},
   "outputs": [],
   "source": [
    "# 날짜와 대화 메시지를 추출할 선택자 정의\n",
    "date_selector = 'span.xk50ysn'\n",
    "others_msg_selector = 'div.x6prxxf.x1fc57z9.x1yc453h.x126k92a.xzsf02u'\n",
    "my_msg_selector = 'div.x6prxxf.x1fc57z9.x1yc453h.x126k92a.x14ctfv'"
   ]
  },
  {
   "cell_type": "code",
   "execution_count": 48,
   "metadata": {},
   "outputs": [
    {
     "data": {
      "text/plain": [
       "'(목) 오후 12:38'"
      ]
     },
     "execution_count": 48,
     "metadata": {},
     "output_type": "execute_result"
    }
   ],
   "source": [
    "driver.find_elements(By.CSS_SELECTOR, date_selector)[-1].text"
   ]
  },
  {
   "cell_type": "code",
   "execution_count": 50,
   "metadata": {},
   "outputs": [
    {
     "data": {
      "text/plain": [
       "['똑똑',\n",
       " '강서희 거기 계심?',\n",
       " '확인 개빠르네',\n",
       " '아니 어제 말한 뭐 실험 중이야',\n",
       " '오늘도 한가하신?',\n",
       " '공부는? 눈빛 찡찡',\n",
       " '엄마 놀이 ㅋㅋ',\n",
       " '왜 한가해?',\n",
       " '서희는 항상 공부에 쩔어있어야 정상 아니야?',\n",
       " '과제 좀 팍팍 내주시라고 학교에다 메일 넣어야겠네',\n",
       " '최신 앱을 사용하라네?',\n",
       " '님이 보낸 메시지 못 보는 듯',\n",
       " '이응',\n",
       " '잘 보여',\n",
       " '멋있네?',\n",
       " '캬 건축학도']"
      ]
     },
     "execution_count": 50,
     "metadata": {},
     "output_type": "execute_result"
    }
   ],
   "source": [
    "my_messages_elements = driver.find_elements(By.CSS_SELECTOR, my_msg_selector)\n",
    "[msg.text for msg in my_messages_elements]"
   ]
  },
  {
   "cell_type": "code",
   "execution_count": 51,
   "metadata": {},
   "outputs": [
    {
     "data": {
      "text/plain": [
       "['안녕하세요~',\n",
       " '예',\n",
       " '말씀하세요~~',\n",
       " '마침 폰 보고 있었습니다~~',\n",
       " '예~',\n",
       " '수업 없어',\n",
       " '걍 작업만 하고 있지',\n",
       " '과제 제출 할게 있어요~~',\n",
       " '혹시 지금 컴퓨터?',\n",
       " '이것도 안보여?',\n",
       " 'ㅋㅋㅋ 너무 복잡해']"
      ]
     },
     "execution_count": 51,
     "metadata": {},
     "output_type": "execute_result"
    }
   ],
   "source": [
    "other_messages_elements = driver.find_elements(By.CSS_SELECTOR, others_msg_selector)\n",
    "[msg.text for msg in other_messages_elements]"
   ]
  },
  {
   "cell_type": "markdown",
   "metadata": {},
   "source": [
    "### 새로운 메시지 식별하는 함수"
   ]
  },
  {
   "cell_type": "code",
   "execution_count": null,
   "metadata": {},
   "outputs": [],
   "source": [
    "def get_new_messages(old_messages, updated_messages):\n",
    "    # 새로운 메시지를 저장할 빈 리스트 생성\n",
    "    new_messages = []\n",
    "    \n",
    "    # 업데이트된 메시지 리스트를 반복하며 이전 메시지 리스트에 없는 메시지를 찾는다.\n",
    "    for message in updated_messages:\n",
    "        if message not in old_messages:\n",
    "            new_messages.append(message)\n",
    "    \n",
    "    return new_messages"
   ]
  },
  {
   "cell_type": "code",
   "execution_count": 52,
   "metadata": {},
   "outputs": [
    {
     "name": "stdout",
     "output_type": "stream",
     "text": [
      "새로 추가된 메시지: ['새로운 메시지1', '새로운 메시지2']\n"
     ]
    }
   ],
   "source": [
    "def get_new_messages(old_messages, updated_messages):\n",
    "    old_set = set(old_messages)\n",
    "    updated_set = set(updated_messages)\n",
    "    \n",
    "    # 차집합을 이용하여 새로운 메시지만 추출\n",
    "    new_messages = updated_set - old_set\n",
    "    \n",
    "    return list(new_messages)\n",
    "\n",
    "# 기존의 대화 내용\n",
    "old_messages = ['안녕하세요~',\n",
    "                '예',\n",
    "                '말씀하세요~~',\n",
    "                '마침 폰 보고 있었습니다~~',\n",
    "                '예~',\n",
    "                '수업 없어',\n",
    "                '걍 작업만 하고 있지',\n",
    "                '과제 제출 할게 있어요~~',\n",
    "                '혹시 지금 컴퓨터?',\n",
    "                '이것도 안보여?',\n",
    "                'ㅋㅋㅋ 너무 복잡해']\n",
    "\n",
    "# 새로운 메시지가 추가된 대화 내용 (예시)\n",
    "updated_messages = old_messages + ['새로운 메시지1', '새로운 메시지2']\n",
    "\n",
    "# 새로운 메시지만 추출\n",
    "new_messages = get_new_messages(old_messages, updated_messages)\n",
    "\n",
    "print(\"새로 추가된 메시지:\", new_messages)"
   ]
  },
  {
   "cell_type": "markdown",
   "metadata": {},
   "source": [
    "### 새로운 메시지가 도착한 대화창 확인하는 코드 개선 시도"
   ]
  },
  {
   "cell_type": "markdown",
   "metadata": {},
   "source": [
    "기존 코드"
   ]
  },
  {
   "cell_type": "code",
   "execution_count": 54,
   "metadata": {},
   "outputs": [
    {
     "data": {
      "text/plain": [
       "[<selenium.webdriver.remote.webelement.WebElement (session=\"80b117c0d06d1f0eff853e7d6d3f89e0\", element=\"EECC20599C3B69C62C4E3CCA36EA93C0_element_43\")>]"
      ]
     },
     "execution_count": 54,
     "metadata": {},
     "output_type": "execute_result"
    }
   ],
   "source": [
    "# 대화창 목록 중 각 대화창을 선택\n",
    "chat_windows = driver.find_elements(By.CSS_SELECTOR, '.x1i10hfl.x1qjc9v5.xjbqb8w')\n",
    "chat_windows\n",
    "\n",
    "# 새로운 메시지가 온 대화창 확인\n",
    "new_message_windows = [chat for chat in chat_windows if chat.find_elements(By.CSS_SELECTOR, '.x6s0dn4.xzolkzo.x12go9s9.x1rnf11y')]\n",
    "new_message_windows"
   ]
  },
  {
   "cell_type": "markdown",
   "metadata": {},
   "source": [
    "새로운 코드"
   ]
  },
  {
   "cell_type": "code",
   "execution_count": 55,
   "metadata": {},
   "outputs": [
    {
     "data": {
      "text/plain": [
       "[<selenium.webdriver.remote.webelement.WebElement (session=\"80b117c0d06d1f0eff853e7d6d3f89e0\", element=\"EECC20599C3B69C62C4E3CCA36EA93C0_element_763\")>]"
      ]
     },
     "execution_count": 55,
     "metadata": {},
     "output_type": "execute_result"
    }
   ],
   "source": [
    "# 새로운 메시지가 온 대화창 바로 선택\n",
    "new_message_windows = driver.find_elements(By.CSS_SELECTOR, '.x1i10hfl.x1qjc9v5.xjbqb8w .x6s0dn4.xzolkzo.x12go9s9.x1rnf11y')\n",
    "new_message_windows"
   ]
  },
  {
   "cell_type": "code",
   "execution_count": 56,
   "metadata": {},
   "outputs": [],
   "source": [
    "# 새로운 메시지가 온 대화창 바로 선택\n",
    "new_message_windows = driver.find_elements(By.CSS_SELECTOR, '.x1i10hfl.x1qjc9v5.xjbqb8w .x6s0dn4.xzolkzo.x12go9s9.x1rnf11y')\n",
    "\n",
    "# 새로운 메시지가 있으면 해당 대화창 클릭하여 이동\n",
    "if new_message_windows:\n",
    "    new_message_windows[0].click()"
   ]
  },
  {
   "cell_type": "markdown",
   "metadata": {},
   "source": [
    "### 새로운 메시지가 도착한 시간을 고려해 응답하는 코드"
   ]
  },
  {
   "cell_type": "code",
   "execution_count": 57,
   "metadata": {},
   "outputs": [],
   "source": [
    "from datetime import datetime\n",
    "\n",
    "# 새로운 메시지가 온 대화창과 각 대화창의 시간을 가져옵니다.\n",
    "new_message_windows = driver.find_elements(By.CSS_SELECTOR, '.x1i10hfl.x1qjc9v5.xjbqb8w .x6s0dn4.xzolkzo.x12go9s9.x1rnf11y')\n",
    "\n",
    "# 시간 파싱 함수 (예시: \"12:30\" 형식)\n",
    "def parse_time(time_str):\n",
    "    return datetime.strptime(time_str, \"%H:%M\")\n",
    "\n",
    "# 각 대화창의 시간 정보를 파싱하고 저장합니다.\n",
    "times_and_windows = []\n",
    "for window in new_message_windows:\n",
    "    time_element = window.find_element(By.CSS_SELECTOR, '.your_time_selector_here')  # 시간을 나타내는 요소의 CSS 선택자를 입력해야 합니다.\n",
    "    parsed_time = parse_time(time_element.text)\n",
    "    times_and_windows.append((parsed_time, window))\n",
    "\n",
    "# 시간을 기준으로 오래된 순으로 정렬합니다.\n",
    "times_and_windows.sort(key=lambda x: x[0])\n",
    "\n",
    "# 가장 오래된 메시지를 가진 대화창을 클릭합니다.\n",
    "if times_and_windows:\n",
    "    times_and_windows[0][1].click()"
   ]
  },
  {
   "cell_type": "code",
   "execution_count": 58,
   "metadata": {},
   "outputs": [
    {
     "data": {
      "text/plain": [
       "[]"
      ]
     },
     "execution_count": 58,
     "metadata": {},
     "output_type": "execute_result"
    }
   ],
   "source": [
    "# 새로운 메시지가 없는 상태였음\n",
    "\n",
    "new_message_windows "
   ]
  },
  {
   "cell_type": "code",
   "execution_count": 60,
   "metadata": {},
   "outputs": [
    {
     "ename": "NoSuchElementException",
     "evalue": "Message: no such element: Unable to locate element: {\"method\":\"css selector\",\"selector\":\"div[data-text-as-pseudo-element]\"}\n  (Session info: chrome=118.0.5993.71); For documentation on this error, please visit: https://www.selenium.dev/documentation/webdriver/troubleshooting/errors#no-such-element-exception\nStacktrace:\n\tGetHandleVerifier [0x00007FF68E418EF2+54786]\n\t(No symbol) [0x00007FF68E385612]\n\t(No symbol) [0x00007FF68E23A64B]\n\t(No symbol) [0x00007FF68E27B79C]\n\t(No symbol) [0x00007FF68E27B91C]\n\t(No symbol) [0x00007FF68E2723AC]\n\t(No symbol) [0x00007FF68E29BEAF]\n\t(No symbol) [0x00007FF68E2722E6]\n\t(No symbol) [0x00007FF68E29C080]\n\t(No symbol) [0x00007FF68E2B4D02]\n\t(No symbol) [0x00007FF68E29BC43]\n\t(No symbol) [0x00007FF68E270941]\n\t(No symbol) [0x00007FF68E271B84]\n\tGetHandleVerifier [0x00007FF68E767F52+3524194]\n\tGetHandleVerifier [0x00007FF68E7BD800+3874576]\n\tGetHandleVerifier [0x00007FF68E7B5D7F+3843215]\n\tGetHandleVerifier [0x00007FF68E4B5086+694166]\n\t(No symbol) [0x00007FF68E390A88]\n\t(No symbol) [0x00007FF68E38CA94]\n\t(No symbol) [0x00007FF68E38CBC2]\n\t(No symbol) [0x00007FF68E37CC83]\n\tBaseThreadInitThunk [0x00007FFB55267344+20]\n\tRtlUserThreadStart [0x00007FFB572426B1+33]\n",
     "output_type": "error",
     "traceback": [
      "\u001b[1;31m---------------------------------------------------------------------------\u001b[0m",
      "\u001b[1;31mNoSuchElementException\u001b[0m                    Traceback (most recent call last)",
      "\u001b[1;32md:\\Repository\\orderbot_project\\231020.ipynb Cell 48\u001b[0m line \u001b[0;36m1\n\u001b[0;32m      <a href='vscode-notebook-cell:/d%3A/Repository/orderbot_project/231020.ipynb#Y103sZmlsZQ%3D%3D?line=8'>9</a>\u001b[0m times_and_windows \u001b[39m=\u001b[39m []\n\u001b[0;32m     <a href='vscode-notebook-cell:/d%3A/Repository/orderbot_project/231020.ipynb#Y103sZmlsZQ%3D%3D?line=9'>10</a>\u001b[0m \u001b[39mfor\u001b[39;00m window \u001b[39min\u001b[39;00m new_message_windows:\n\u001b[1;32m---> <a href='vscode-notebook-cell:/d%3A/Repository/orderbot_project/231020.ipynb#Y103sZmlsZQ%3D%3D?line=10'>11</a>\u001b[0m     time_element \u001b[39m=\u001b[39m window\u001b[39m.\u001b[39;49mfind_element(By\u001b[39m.\u001b[39;49mCSS_SELECTOR, \u001b[39m'\u001b[39;49m\u001b[39mdiv[data-text-as-pseudo-element]\u001b[39;49m\u001b[39m'\u001b[39;49m)\n\u001b[0;32m     <a href='vscode-notebook-cell:/d%3A/Repository/orderbot_project/231020.ipynb#Y103sZmlsZQ%3D%3D?line=11'>12</a>\u001b[0m     parsed_time \u001b[39m=\u001b[39m parse_time(time_element\u001b[39m.\u001b[39mget_attribute(\u001b[39m'\u001b[39m\u001b[39mdata-text-as-pseudo-element\u001b[39m\u001b[39m'\u001b[39m))\n\u001b[0;32m     <a href='vscode-notebook-cell:/d%3A/Repository/orderbot_project/231020.ipynb#Y103sZmlsZQ%3D%3D?line=12'>13</a>\u001b[0m     times_and_windows\u001b[39m.\u001b[39mappend((parsed_time, window))\n",
      "File \u001b[1;32md:\\Repository\\orderbot_project\\lib\\site-packages\\selenium\\webdriver\\remote\\webelement.py:416\u001b[0m, in \u001b[0;36mWebElement.find_element\u001b[1;34m(self, by, value)\u001b[0m\n\u001b[0;32m    413\u001b[0m     by \u001b[39m=\u001b[39m By\u001b[39m.\u001b[39mCSS_SELECTOR\n\u001b[0;32m    414\u001b[0m     value \u001b[39m=\u001b[39m \u001b[39mf\u001b[39m\u001b[39m'\u001b[39m\u001b[39m[name=\u001b[39m\u001b[39m\"\u001b[39m\u001b[39m{\u001b[39;00mvalue\u001b[39m}\u001b[39;00m\u001b[39m\"\u001b[39m\u001b[39m]\u001b[39m\u001b[39m'\u001b[39m\n\u001b[1;32m--> 416\u001b[0m \u001b[39mreturn\u001b[39;00m \u001b[39mself\u001b[39;49m\u001b[39m.\u001b[39;49m_execute(Command\u001b[39m.\u001b[39;49mFIND_CHILD_ELEMENT, {\u001b[39m\"\u001b[39;49m\u001b[39musing\u001b[39;49m\u001b[39m\"\u001b[39;49m: by, \u001b[39m\"\u001b[39;49m\u001b[39mvalue\u001b[39;49m\u001b[39m\"\u001b[39;49m: value})[\u001b[39m\"\u001b[39m\u001b[39mvalue\u001b[39m\u001b[39m\"\u001b[39m]\n",
      "File \u001b[1;32md:\\Repository\\orderbot_project\\lib\\site-packages\\selenium\\webdriver\\remote\\webelement.py:394\u001b[0m, in \u001b[0;36mWebElement._execute\u001b[1;34m(self, command, params)\u001b[0m\n\u001b[0;32m    392\u001b[0m     params \u001b[39m=\u001b[39m {}\n\u001b[0;32m    393\u001b[0m params[\u001b[39m\"\u001b[39m\u001b[39mid\u001b[39m\u001b[39m\"\u001b[39m] \u001b[39m=\u001b[39m \u001b[39mself\u001b[39m\u001b[39m.\u001b[39m_id\n\u001b[1;32m--> 394\u001b[0m \u001b[39mreturn\u001b[39;00m \u001b[39mself\u001b[39;49m\u001b[39m.\u001b[39;49m_parent\u001b[39m.\u001b[39;49mexecute(command, params)\n",
      "File \u001b[1;32md:\\Repository\\orderbot_project\\lib\\site-packages\\selenium\\webdriver\\remote\\webdriver.py:344\u001b[0m, in \u001b[0;36mWebDriver.execute\u001b[1;34m(self, driver_command, params)\u001b[0m\n\u001b[0;32m    342\u001b[0m response \u001b[39m=\u001b[39m \u001b[39mself\u001b[39m\u001b[39m.\u001b[39mcommand_executor\u001b[39m.\u001b[39mexecute(driver_command, params)\n\u001b[0;32m    343\u001b[0m \u001b[39mif\u001b[39;00m response:\n\u001b[1;32m--> 344\u001b[0m     \u001b[39mself\u001b[39;49m\u001b[39m.\u001b[39;49merror_handler\u001b[39m.\u001b[39;49mcheck_response(response)\n\u001b[0;32m    345\u001b[0m     response[\u001b[39m\"\u001b[39m\u001b[39mvalue\u001b[39m\u001b[39m\"\u001b[39m] \u001b[39m=\u001b[39m \u001b[39mself\u001b[39m\u001b[39m.\u001b[39m_unwrap_value(response\u001b[39m.\u001b[39mget(\u001b[39m\"\u001b[39m\u001b[39mvalue\u001b[39m\u001b[39m\"\u001b[39m, \u001b[39mNone\u001b[39;00m))\n\u001b[0;32m    346\u001b[0m     \u001b[39mreturn\u001b[39;00m response\n",
      "File \u001b[1;32md:\\Repository\\orderbot_project\\lib\\site-packages\\selenium\\webdriver\\remote\\errorhandler.py:229\u001b[0m, in \u001b[0;36mErrorHandler.check_response\u001b[1;34m(self, response)\u001b[0m\n\u001b[0;32m    227\u001b[0m         alert_text \u001b[39m=\u001b[39m value[\u001b[39m\"\u001b[39m\u001b[39malert\u001b[39m\u001b[39m\"\u001b[39m]\u001b[39m.\u001b[39mget(\u001b[39m\"\u001b[39m\u001b[39mtext\u001b[39m\u001b[39m\"\u001b[39m)\n\u001b[0;32m    228\u001b[0m     \u001b[39mraise\u001b[39;00m exception_class(message, screen, stacktrace, alert_text)  \u001b[39m# type: ignore[call-arg]  # mypy is not smart enough here\u001b[39;00m\n\u001b[1;32m--> 229\u001b[0m \u001b[39mraise\u001b[39;00m exception_class(message, screen, stacktrace)\n",
      "\u001b[1;31mNoSuchElementException\u001b[0m: Message: no such element: Unable to locate element: {\"method\":\"css selector\",\"selector\":\"div[data-text-as-pseudo-element]\"}\n  (Session info: chrome=118.0.5993.71); For documentation on this error, please visit: https://www.selenium.dev/documentation/webdriver/troubleshooting/errors#no-such-element-exception\nStacktrace:\n\tGetHandleVerifier [0x00007FF68E418EF2+54786]\n\t(No symbol) [0x00007FF68E385612]\n\t(No symbol) [0x00007FF68E23A64B]\n\t(No symbol) [0x00007FF68E27B79C]\n\t(No symbol) [0x00007FF68E27B91C]\n\t(No symbol) [0x00007FF68E2723AC]\n\t(No symbol) [0x00007FF68E29BEAF]\n\t(No symbol) [0x00007FF68E2722E6]\n\t(No symbol) [0x00007FF68E29C080]\n\t(No symbol) [0x00007FF68E2B4D02]\n\t(No symbol) [0x00007FF68E29BC43]\n\t(No symbol) [0x00007FF68E270941]\n\t(No symbol) [0x00007FF68E271B84]\n\tGetHandleVerifier [0x00007FF68E767F52+3524194]\n\tGetHandleVerifier [0x00007FF68E7BD800+3874576]\n\tGetHandleVerifier [0x00007FF68E7B5D7F+3843215]\n\tGetHandleVerifier [0x00007FF68E4B5086+694166]\n\t(No symbol) [0x00007FF68E390A88]\n\t(No symbol) [0x00007FF68E38CA94]\n\t(No symbol) [0x00007FF68E38CBC2]\n\t(No symbol) [0x00007FF68E37CC83]\n\tBaseThreadInitThunk [0x00007FFB55267344+20]\n\tRtlUserThreadStart [0x00007FFB572426B1+33]\n"
     ]
    }
   ],
   "source": [
    "# 새로운 메시지가 온 대화창과 각 대화창의 시간을 가져옵니다.\n",
    "new_message_windows = driver.find_elements(By.CSS_SELECTOR, '.x1i10hfl.x1qjc9v5.xjbqb8w .x6s0dn4.xzolkzo.x12go9s9.x1rnf11y')\n",
    "\n",
    "# 시간 파싱 함수 (예시: \"12:30\" 형식)\n",
    "def parse_time(time_str):\n",
    "    return datetime.strptime(time_str, \"%H:%M\")\n",
    "\n",
    "# 각 대화창의 시간 정보를 파싱하고 저장합니다.\n",
    "times_and_windows = []\n",
    "for window in new_message_windows:\n",
    "    time_element = window.find_element(By.CSS_SELECTOR, 'div[data-text-as-pseudo-element]')\n",
    "    parsed_time = parse_time(time_element.get_attribute('data-text-as-pseudo-element'))\n",
    "    times_and_windows.append((parsed_time, window))\n",
    "\n",
    "# 시간을 기준으로 오래된 순으로 정렬합니다.\n",
    "times_and_windows.sort(key=lambda x: x[0])\n",
    "\n",
    "# 가장 오래된 메시지를 가진 대화창을 클릭합니다.\n",
    "if times_and_windows:\n",
    "    times_and_windows[0][1].click()"
   ]
  },
  {
   "cell_type": "markdown",
   "metadata": {},
   "source": [
    "# 중간 정리"
   ]
  },
  {
   "cell_type": "markdown",
   "metadata": {},
   "source": [
    "### 인스타그램 접속"
   ]
  },
  {
   "cell_type": "code",
   "execution_count": null,
   "metadata": {},
   "outputs": [],
   "source": [
    "site = \"https://www.instagram.com/\"\n",
    "driver = webdriver.Chrome()\n",
    "driver.get(site)\n",
    "\n",
    "# 로그인 버튼 찾기 (XPath 사용) | ts-아래처럼 기다리는 처리하지 않아 오류 발생했음\n",
    "login_button = WebDriverWait(driver, 10).until(EC.presence_of_element_located((By.XPATH, '//button[.//div[text()=\"로그인\"]]')))\n",
    "\n",
    "# username 입력 필드 찾기\n",
    "username_field = driver.find_element(by=\"name\", value=\"username\")\n",
    "password_field = driver.find_element(by=\"name\", value=\"password\")\n",
    "\n",
    "# username 필드에 값 입력하기\n",
    "id = 'keep_selves_real'\n",
    "password = 'kts71611089!'\n",
    "\n",
    "username_field.send_keys(id)\n",
    "password_field.send_keys(password)\n",
    "\n",
    "# 로그인 버튼 클릭하기\n",
    "login_button.click()\n",
    "\n",
    "# '나중에 하기' 버튼 찾기 (XPath 사용)\n",
    "later_button = WebDriverWait(driver, 10).until(EC.presence_of_element_located((By.XPATH, '//*[@role=\"button\" and text()=\"나중에 하기\"]')))\n",
    "\n",
    "# '나중에 하기' 버튼 클릭하기\n",
    "later_button.click()\n",
    "\n",
    "# 알림 설정 나중에 버튼 클릭하기"
   ]
  },
  {
   "cell_type": "markdown",
   "metadata": {},
   "source": [
    "### 새로 도착한 메시지가 있는 대화창 확인 및 이동"
   ]
  },
  {
   "cell_type": "code",
   "execution_count": null,
   "metadata": {},
   "outputs": [],
   "source": [
    "# 새로운 메시지가 온 대화창 바로 선택\n",
    "new_message_windows = driver.find_elements(By.CSS_SELECTOR, '.x1i10hfl.x1qjc9v5.xjbqb8w .x6s0dn4.xzolkzo.x12go9s9.x1rnf11y')\n",
    "\n",
    "if new_message_windows:\n",
    "    for new_message_window in new_message_windows:\n",
    "        new_message_window.click()"
   ]
  },
  {
   "cell_type": "markdown",
   "metadata": {},
   "source": [
    "### 이동한 대화창의 가장 최근 날짜의 마지막 메시지 확인"
   ]
  },
  {
   "cell_type": "code",
   "execution_count": null,
   "metadata": {},
   "outputs": [],
   "source": [
    "# 날짜와 대화 메시지를 추출할 선택자 정의\n",
    "date_selector = 'span.xk50ysn'\n",
    "others_msg_selector = 'div.x6prxxf.x1fc57z9.x1yc453h.x126k92a.xzsf02u'\n",
    "my_msg_selector = 'div.x6prxxf.x1fc57z9.x1yc453h.x126k92a.x14ctfv'\n",
    "\n",
    "recent_date = driver.find_elements(By.CSS_SELECTOR, date_selector)[-1].text\n",
    "my_messages_elements = driver.find_elements(By.CSS_SELECTOR, my_msg_selector)\n",
    "my_messages = [msg.text for msg in my_messages_elements]\n",
    "\n",
    "others_messages_elements = driver.find_elements(By.CSS_SELECTOR, others_msg_selector)\n",
    "others_messages = [msg.text for msg in others_messages_elements]"
   ]
  },
  {
   "cell_type": "markdown",
   "metadata": {},
   "source": [
    "가장 최근, 그 직전의 대화를 맥락 정보로 모델에 제공하면 좋을 듯"
   ]
  },
  {
   "cell_type": "code",
   "execution_count": null,
   "metadata": {},
   "outputs": [],
   "source": [
    "recent_message = others_messages[-1]"
   ]
  },
  {
   "cell_type": "code",
   "execution_count": null,
   "metadata": {},
   "outputs": [],
   "source": [
    "# 다시 DM 초기 화면으로 돌아오니 기존 메시지와 새로운 메시지 비교하는 아래 코드는 필요 없을 듯?\n",
    "\n",
    "def get_new_messages(old_messages, updated_messages):\n",
    "    old_set = set(old_messages)\n",
    "    updated_set = set(updated_messages)\n",
    "    \n",
    "    # 차집합을 이용하여 새로운 메시지만 추출\n",
    "    new_messages = updated_set - old_set\n",
    "    \n",
    "    return list(new_messages)"
   ]
  },
  {
   "cell_type": "markdown",
   "metadata": {},
   "source": [
    "### 모델의 응답과 주문 내역 처리"
   ]
  },
  {
   "cell_type": "code",
   "execution_count": null,
   "metadata": {},
   "outputs": [],
   "source": []
  },
  {
   "cell_type": "markdown",
   "metadata": {},
   "source": [
    "### 대화 종료 후 DM 초기 화면 복귀"
   ]
  },
  {
   "cell_type": "code",
   "execution_count": 61,
   "metadata": {},
   "outputs": [
    {
     "ename": "NoSuchElementException",
     "evalue": "Message: no such element: Unable to locate element: {\"method\":\"css selector\",\"selector\":\"span.xwmz7sl x1ncwhqj xo1l8bm xyqdw3p x1mpkggp xg8j3zb x1t2a60a\"}\n  (Session info: chrome=118.0.5993.71); For documentation on this error, please visit: https://www.selenium.dev/documentation/webdriver/troubleshooting/errors#no-such-element-exception\nStacktrace:\n\tGetHandleVerifier [0x00007FF68E418EF2+54786]\n\t(No symbol) [0x00007FF68E385612]\n\t(No symbol) [0x00007FF68E23A64B]\n\t(No symbol) [0x00007FF68E27B79C]\n\t(No symbol) [0x00007FF68E27B91C]\n\t(No symbol) [0x00007FF68E2B6D87]\n\t(No symbol) [0x00007FF68E29BEAF]\n\t(No symbol) [0x00007FF68E2B4D02]\n\t(No symbol) [0x00007FF68E29BC43]\n\t(No symbol) [0x00007FF68E270941]\n\t(No symbol) [0x00007FF68E271B84]\n\tGetHandleVerifier [0x00007FF68E767F52+3524194]\n\tGetHandleVerifier [0x00007FF68E7BD800+3874576]\n\tGetHandleVerifier [0x00007FF68E7B5D7F+3843215]\n\tGetHandleVerifier [0x00007FF68E4B5086+694166]\n\t(No symbol) [0x00007FF68E390A88]\n\t(No symbol) [0x00007FF68E38CA94]\n\t(No symbol) [0x00007FF68E38CBC2]\n\t(No symbol) [0x00007FF68E37CC83]\n\tBaseThreadInitThunk [0x00007FFB55267344+20]\n\tRtlUserThreadStart [0x00007FFB572426B1+33]\n",
     "output_type": "error",
     "traceback": [
      "\u001b[1;31m---------------------------------------------------------------------------\u001b[0m",
      "\u001b[1;31mNoSuchElementException\u001b[0m                    Traceback (most recent call last)",
      "\u001b[1;32md:\\Repository\\orderbot_project\\231020.ipynb Cell 62\u001b[0m line \u001b[0;36m1\n\u001b[1;32m----> <a href='vscode-notebook-cell:/d%3A/Repository/orderbot_project/231020.ipynb#Y131sZmlsZQ%3D%3D?line=0'>1</a>\u001b[0m driver\u001b[39m.\u001b[39;49mfind_element(By\u001b[39m.\u001b[39;49mCSS_SELECTOR, \u001b[39m'\u001b[39;49m\u001b[39mspan.xwmz7sl x1ncwhqj xo1l8bm xyqdw3p x1mpkggp xg8j3zb x1t2a60a\u001b[39;49m\u001b[39m'\u001b[39;49m)\n",
      "File \u001b[1;32md:\\Repository\\orderbot_project\\lib\\site-packages\\selenium\\webdriver\\remote\\webdriver.py:738\u001b[0m, in \u001b[0;36mWebDriver.find_element\u001b[1;34m(self, by, value)\u001b[0m\n\u001b[0;32m    735\u001b[0m     by \u001b[39m=\u001b[39m By\u001b[39m.\u001b[39mCSS_SELECTOR\n\u001b[0;32m    736\u001b[0m     value \u001b[39m=\u001b[39m \u001b[39mf\u001b[39m\u001b[39m'\u001b[39m\u001b[39m[name=\u001b[39m\u001b[39m\"\u001b[39m\u001b[39m{\u001b[39;00mvalue\u001b[39m}\u001b[39;00m\u001b[39m\"\u001b[39m\u001b[39m]\u001b[39m\u001b[39m'\u001b[39m\n\u001b[1;32m--> 738\u001b[0m \u001b[39mreturn\u001b[39;00m \u001b[39mself\u001b[39;49m\u001b[39m.\u001b[39;49mexecute(Command\u001b[39m.\u001b[39;49mFIND_ELEMENT, {\u001b[39m\"\u001b[39;49m\u001b[39musing\u001b[39;49m\u001b[39m\"\u001b[39;49m: by, \u001b[39m\"\u001b[39;49m\u001b[39mvalue\u001b[39;49m\u001b[39m\"\u001b[39;49m: value})[\u001b[39m\"\u001b[39m\u001b[39mvalue\u001b[39m\u001b[39m\"\u001b[39m]\n",
      "File \u001b[1;32md:\\Repository\\orderbot_project\\lib\\site-packages\\selenium\\webdriver\\remote\\webdriver.py:344\u001b[0m, in \u001b[0;36mWebDriver.execute\u001b[1;34m(self, driver_command, params)\u001b[0m\n\u001b[0;32m    342\u001b[0m response \u001b[39m=\u001b[39m \u001b[39mself\u001b[39m\u001b[39m.\u001b[39mcommand_executor\u001b[39m.\u001b[39mexecute(driver_command, params)\n\u001b[0;32m    343\u001b[0m \u001b[39mif\u001b[39;00m response:\n\u001b[1;32m--> 344\u001b[0m     \u001b[39mself\u001b[39;49m\u001b[39m.\u001b[39;49merror_handler\u001b[39m.\u001b[39;49mcheck_response(response)\n\u001b[0;32m    345\u001b[0m     response[\u001b[39m\"\u001b[39m\u001b[39mvalue\u001b[39m\u001b[39m\"\u001b[39m] \u001b[39m=\u001b[39m \u001b[39mself\u001b[39m\u001b[39m.\u001b[39m_unwrap_value(response\u001b[39m.\u001b[39mget(\u001b[39m\"\u001b[39m\u001b[39mvalue\u001b[39m\u001b[39m\"\u001b[39m, \u001b[39mNone\u001b[39;00m))\n\u001b[0;32m    346\u001b[0m     \u001b[39mreturn\u001b[39;00m response\n",
      "File \u001b[1;32md:\\Repository\\orderbot_project\\lib\\site-packages\\selenium\\webdriver\\remote\\errorhandler.py:229\u001b[0m, in \u001b[0;36mErrorHandler.check_response\u001b[1;34m(self, response)\u001b[0m\n\u001b[0;32m    227\u001b[0m         alert_text \u001b[39m=\u001b[39m value[\u001b[39m\"\u001b[39m\u001b[39malert\u001b[39m\u001b[39m\"\u001b[39m]\u001b[39m.\u001b[39mget(\u001b[39m\"\u001b[39m\u001b[39mtext\u001b[39m\u001b[39m\"\u001b[39m)\n\u001b[0;32m    228\u001b[0m     \u001b[39mraise\u001b[39;00m exception_class(message, screen, stacktrace, alert_text)  \u001b[39m# type: ignore[call-arg]  # mypy is not smart enough here\u001b[39;00m\n\u001b[1;32m--> 229\u001b[0m \u001b[39mraise\u001b[39;00m exception_class(message, screen, stacktrace)\n",
      "\u001b[1;31mNoSuchElementException\u001b[0m: Message: no such element: Unable to locate element: {\"method\":\"css selector\",\"selector\":\"span.xwmz7sl x1ncwhqj xo1l8bm xyqdw3p x1mpkggp xg8j3zb x1t2a60a\"}\n  (Session info: chrome=118.0.5993.71); For documentation on this error, please visit: https://www.selenium.dev/documentation/webdriver/troubleshooting/errors#no-such-element-exception\nStacktrace:\n\tGetHandleVerifier [0x00007FF68E418EF2+54786]\n\t(No symbol) [0x00007FF68E385612]\n\t(No symbol) [0x00007FF68E23A64B]\n\t(No symbol) [0x00007FF68E27B79C]\n\t(No symbol) [0x00007FF68E27B91C]\n\t(No symbol) [0x00007FF68E2B6D87]\n\t(No symbol) [0x00007FF68E29BEAF]\n\t(No symbol) [0x00007FF68E2B4D02]\n\t(No symbol) [0x00007FF68E29BC43]\n\t(No symbol) [0x00007FF68E270941]\n\t(No symbol) [0x00007FF68E271B84]\n\tGetHandleVerifier [0x00007FF68E767F52+3524194]\n\tGetHandleVerifier [0x00007FF68E7BD800+3874576]\n\tGetHandleVerifier [0x00007FF68E7B5D7F+3843215]\n\tGetHandleVerifier [0x00007FF68E4B5086+694166]\n\t(No symbol) [0x00007FF68E390A88]\n\t(No symbol) [0x00007FF68E38CA94]\n\t(No symbol) [0x00007FF68E38CBC2]\n\t(No symbol) [0x00007FF68E37CC83]\n\tBaseThreadInitThunk [0x00007FFB55267344+20]\n\tRtlUserThreadStart [0x00007FFB572426B1+33]\n"
     ]
    }
   ],
   "source": [
    "driver.find_element(By.CSS_SELECTOR, 's.xwmz7sl x1ncwhqj xo1l8bm xyqdw3p x1mpkggp xg8j3zb x1t2a60a')"
   ]
  },
  {
   "cell_type": "code",
   "execution_count": 62,
   "metadata": {},
   "outputs": [
    {
     "ename": "ElementClickInterceptedException",
     "evalue": "Message: element click intercepted: Element <svg aria-label=\"Direct\" class=\"x1lliihq x1n2onr6 x5n08af\" fill=\"currentColor\" height=\"24\" role=\"img\" viewBox=\"0 0 24 24\" width=\"24\">...</svg> is not clickable at point (36, 352). Other element would receive the click: <div class=\"x13v4lgv xmn1u35 x10l6tqk xn0lweg x1vjfegm\">...</div>\n  (Session info: chrome=118.0.5993.71)\nStacktrace:\n\tGetHandleVerifier [0x00007FF68E418EF2+54786]\n\t(No symbol) [0x00007FF68E385612]\n\t(No symbol) [0x00007FF68E23A64B]\n\t(No symbol) [0x00007FF68E281A6B]\n\t(No symbol) [0x00007FF68E27FE39]\n\t(No symbol) [0x00007FF68E27DC08]\n\t(No symbol) [0x00007FF68E27CCC3]\n\t(No symbol) [0x00007FF68E2729CF]\n\t(No symbol) [0x00007FF68E29BE6A]\n\t(No symbol) [0x00007FF68E2722E6]\n\t(No symbol) [0x00007FF68E29C080]\n\t(No symbol) [0x00007FF68E2B4D02]\n\t(No symbol) [0x00007FF68E29BC43]\n\t(No symbol) [0x00007FF68E270941]\n\t(No symbol) [0x00007FF68E271B84]\n\tGetHandleVerifier [0x00007FF68E767F52+3524194]\n\tGetHandleVerifier [0x00007FF68E7BD800+3874576]\n\tGetHandleVerifier [0x00007FF68E7B5D7F+3843215]\n\tGetHandleVerifier [0x00007FF68E4B5086+694166]\n\t(No symbol) [0x00007FF68E390A88]\n\t(No symbol) [0x00007FF68E38CA94]\n\t(No symbol) [0x00007FF68E38CBC2]\n\t(No symbol) [0x00007FF68E37CC83]\n\tBaseThreadInitThunk [0x00007FFB55267344+20]\n\tRtlUserThreadStart [0x00007FFB572426B1+33]\n",
     "output_type": "error",
     "traceback": [
      "\u001b[1;31m---------------------------------------------------------------------------\u001b[0m",
      "\u001b[1;31mElementClickInterceptedException\u001b[0m          Traceback (most recent call last)",
      "\u001b[1;32md:\\Repository\\orderbot_project\\231020.ipynb Cell 63\u001b[0m line \u001b[0;36m2\n\u001b[0;32m      <a href='vscode-notebook-cell:/d%3A/Repository/orderbot_project/231020.ipynb#Y132sZmlsZQ%3D%3D?line=0'>1</a>\u001b[0m element \u001b[39m=\u001b[39m driver\u001b[39m.\u001b[39mfind_element(By\u001b[39m.\u001b[39mCSS_SELECTOR, \u001b[39m'\u001b[39m\u001b[39msvg[aria-label=\u001b[39m\u001b[39m\"\u001b[39m\u001b[39mDirect\u001b[39m\u001b[39m\"\u001b[39m\u001b[39m]\u001b[39m\u001b[39m'\u001b[39m)\n\u001b[1;32m----> <a href='vscode-notebook-cell:/d%3A/Repository/orderbot_project/231020.ipynb#Y132sZmlsZQ%3D%3D?line=1'>2</a>\u001b[0m element\u001b[39m.\u001b[39;49mclick()\n",
      "File \u001b[1;32md:\\Repository\\orderbot_project\\lib\\site-packages\\selenium\\webdriver\\remote\\webelement.py:93\u001b[0m, in \u001b[0;36mWebElement.click\u001b[1;34m(self)\u001b[0m\n\u001b[0;32m     91\u001b[0m \u001b[39mdef\u001b[39;00m \u001b[39mclick\u001b[39m(\u001b[39mself\u001b[39m) \u001b[39m-\u001b[39m\u001b[39m>\u001b[39m \u001b[39mNone\u001b[39;00m:\n\u001b[0;32m     92\u001b[0m \u001b[39m    \u001b[39m\u001b[39m\"\"\"Clicks the element.\"\"\"\u001b[39;00m\n\u001b[1;32m---> 93\u001b[0m     \u001b[39mself\u001b[39;49m\u001b[39m.\u001b[39;49m_execute(Command\u001b[39m.\u001b[39;49mCLICK_ELEMENT)\n",
      "File \u001b[1;32md:\\Repository\\orderbot_project\\lib\\site-packages\\selenium\\webdriver\\remote\\webelement.py:394\u001b[0m, in \u001b[0;36mWebElement._execute\u001b[1;34m(self, command, params)\u001b[0m\n\u001b[0;32m    392\u001b[0m     params \u001b[39m=\u001b[39m {}\n\u001b[0;32m    393\u001b[0m params[\u001b[39m\"\u001b[39m\u001b[39mid\u001b[39m\u001b[39m\"\u001b[39m] \u001b[39m=\u001b[39m \u001b[39mself\u001b[39m\u001b[39m.\u001b[39m_id\n\u001b[1;32m--> 394\u001b[0m \u001b[39mreturn\u001b[39;00m \u001b[39mself\u001b[39;49m\u001b[39m.\u001b[39;49m_parent\u001b[39m.\u001b[39;49mexecute(command, params)\n",
      "File \u001b[1;32md:\\Repository\\orderbot_project\\lib\\site-packages\\selenium\\webdriver\\remote\\webdriver.py:344\u001b[0m, in \u001b[0;36mWebDriver.execute\u001b[1;34m(self, driver_command, params)\u001b[0m\n\u001b[0;32m    342\u001b[0m response \u001b[39m=\u001b[39m \u001b[39mself\u001b[39m\u001b[39m.\u001b[39mcommand_executor\u001b[39m.\u001b[39mexecute(driver_command, params)\n\u001b[0;32m    343\u001b[0m \u001b[39mif\u001b[39;00m response:\n\u001b[1;32m--> 344\u001b[0m     \u001b[39mself\u001b[39;49m\u001b[39m.\u001b[39;49merror_handler\u001b[39m.\u001b[39;49mcheck_response(response)\n\u001b[0;32m    345\u001b[0m     response[\u001b[39m\"\u001b[39m\u001b[39mvalue\u001b[39m\u001b[39m\"\u001b[39m] \u001b[39m=\u001b[39m \u001b[39mself\u001b[39m\u001b[39m.\u001b[39m_unwrap_value(response\u001b[39m.\u001b[39mget(\u001b[39m\"\u001b[39m\u001b[39mvalue\u001b[39m\u001b[39m\"\u001b[39m, \u001b[39mNone\u001b[39;00m))\n\u001b[0;32m    346\u001b[0m     \u001b[39mreturn\u001b[39;00m response\n",
      "File \u001b[1;32md:\\Repository\\orderbot_project\\lib\\site-packages\\selenium\\webdriver\\remote\\errorhandler.py:229\u001b[0m, in \u001b[0;36mErrorHandler.check_response\u001b[1;34m(self, response)\u001b[0m\n\u001b[0;32m    227\u001b[0m         alert_text \u001b[39m=\u001b[39m value[\u001b[39m\"\u001b[39m\u001b[39malert\u001b[39m\u001b[39m\"\u001b[39m]\u001b[39m.\u001b[39mget(\u001b[39m\"\u001b[39m\u001b[39mtext\u001b[39m\u001b[39m\"\u001b[39m)\n\u001b[0;32m    228\u001b[0m     \u001b[39mraise\u001b[39;00m exception_class(message, screen, stacktrace, alert_text)  \u001b[39m# type: ignore[call-arg]  # mypy is not smart enough here\u001b[39;00m\n\u001b[1;32m--> 229\u001b[0m \u001b[39mraise\u001b[39;00m exception_class(message, screen, stacktrace)\n",
      "\u001b[1;31mElementClickInterceptedException\u001b[0m: Message: element click intercepted: Element <svg aria-label=\"Direct\" class=\"x1lliihq x1n2onr6 x5n08af\" fill=\"currentColor\" height=\"24\" role=\"img\" viewBox=\"0 0 24 24\" width=\"24\">...</svg> is not clickable at point (36, 352). Other element would receive the click: <div class=\"x13v4lgv xmn1u35 x10l6tqk xn0lweg x1vjfegm\">...</div>\n  (Session info: chrome=118.0.5993.71)\nStacktrace:\n\tGetHandleVerifier [0x00007FF68E418EF2+54786]\n\t(No symbol) [0x00007FF68E385612]\n\t(No symbol) [0x00007FF68E23A64B]\n\t(No symbol) [0x00007FF68E281A6B]\n\t(No symbol) [0x00007FF68E27FE39]\n\t(No symbol) [0x00007FF68E27DC08]\n\t(No symbol) [0x00007FF68E27CCC3]\n\t(No symbol) [0x00007FF68E2729CF]\n\t(No symbol) [0x00007FF68E29BE6A]\n\t(No symbol) [0x00007FF68E2722E6]\n\t(No symbol) [0x00007FF68E29C080]\n\t(No symbol) [0x00007FF68E2B4D02]\n\t(No symbol) [0x00007FF68E29BC43]\n\t(No symbol) [0x00007FF68E270941]\n\t(No symbol) [0x00007FF68E271B84]\n\tGetHandleVerifier [0x00007FF68E767F52+3524194]\n\tGetHandleVerifier [0x00007FF68E7BD800+3874576]\n\tGetHandleVerifier [0x00007FF68E7B5D7F+3843215]\n\tGetHandleVerifier [0x00007FF68E4B5086+694166]\n\t(No symbol) [0x00007FF68E390A88]\n\t(No symbol) [0x00007FF68E38CA94]\n\t(No symbol) [0x00007FF68E38CBC2]\n\t(No symbol) [0x00007FF68E37CC83]\n\tBaseThreadInitThunk [0x00007FFB55267344+20]\n\tRtlUserThreadStart [0x00007FFB572426B1+33]\n"
     ]
    }
   ],
   "source": [
    "element = driver.find_element(By.CSS_SELECTOR, 'svg[aria-label=\"Direct\"]')\n",
    "element.click()"
   ]
  },
  {
   "cell_type": "code",
   "execution_count": 63,
   "metadata": {},
   "outputs": [
    {
     "ename": "JavascriptException",
     "evalue": "Message: javascript error: arguments[0].click is not a function\n  (Session info: chrome=118.0.5993.71)\nStacktrace:\n\tGetHandleVerifier [0x00007FF68E418EF2+54786]\n\t(No symbol) [0x00007FF68E385612]\n\t(No symbol) [0x00007FF68E23A64B]\n\t(No symbol) [0x00007FF68E23F116]\n\t(No symbol) [0x00007FF68E2414AA]\n\t(No symbol) [0x00007FF68E2B5394]\n\t(No symbol) [0x00007FF68E29BE6A]\n\t(No symbol) [0x00007FF68E2B4D02]\n\t(No symbol) [0x00007FF68E29BC43]\n\t(No symbol) [0x00007FF68E270941]\n\t(No symbol) [0x00007FF68E271B84]\n\tGetHandleVerifier [0x00007FF68E767F52+3524194]\n\tGetHandleVerifier [0x00007FF68E7BD800+3874576]\n\tGetHandleVerifier [0x00007FF68E7B5D7F+3843215]\n\tGetHandleVerifier [0x00007FF68E4B5086+694166]\n\t(No symbol) [0x00007FF68E390A88]\n\t(No symbol) [0x00007FF68E38CA94]\n\t(No symbol) [0x00007FF68E38CBC2]\n\t(No symbol) [0x00007FF68E37CC83]\n\tBaseThreadInitThunk [0x00007FFB55267344+20]\n\tRtlUserThreadStart [0x00007FFB572426B1+33]\n",
     "output_type": "error",
     "traceback": [
      "\u001b[1;31m---------------------------------------------------------------------------\u001b[0m",
      "\u001b[1;31mJavascriptException\u001b[0m                       Traceback (most recent call last)",
      "\u001b[1;32md:\\Repository\\orderbot_project\\231020.ipynb Cell 64\u001b[0m line \u001b[0;36m1\n\u001b[1;32m----> <a href='vscode-notebook-cell:/d%3A/Repository/orderbot_project/231020.ipynb#Y133sZmlsZQ%3D%3D?line=0'>1</a>\u001b[0m driver\u001b[39m.\u001b[39;49mexecute_script(\u001b[39m\"\u001b[39;49m\u001b[39marguments[0].click();\u001b[39;49m\u001b[39m\"\u001b[39;49m, element)\n",
      "File \u001b[1;32md:\\Repository\\orderbot_project\\lib\\site-packages\\selenium\\webdriver\\remote\\webdriver.py:404\u001b[0m, in \u001b[0;36mWebDriver.execute_script\u001b[1;34m(self, script, *args)\u001b[0m\n\u001b[0;32m    401\u001b[0m converted_args \u001b[39m=\u001b[39m \u001b[39mlist\u001b[39m(args)\n\u001b[0;32m    402\u001b[0m command \u001b[39m=\u001b[39m Command\u001b[39m.\u001b[39mW3C_EXECUTE_SCRIPT\n\u001b[1;32m--> 404\u001b[0m \u001b[39mreturn\u001b[39;00m \u001b[39mself\u001b[39;49m\u001b[39m.\u001b[39;49mexecute(command, {\u001b[39m\"\u001b[39;49m\u001b[39mscript\u001b[39;49m\u001b[39m\"\u001b[39;49m: script, \u001b[39m\"\u001b[39;49m\u001b[39margs\u001b[39;49m\u001b[39m\"\u001b[39;49m: converted_args})[\u001b[39m\"\u001b[39m\u001b[39mvalue\u001b[39m\u001b[39m\"\u001b[39m]\n",
      "File \u001b[1;32md:\\Repository\\orderbot_project\\lib\\site-packages\\selenium\\webdriver\\remote\\webdriver.py:344\u001b[0m, in \u001b[0;36mWebDriver.execute\u001b[1;34m(self, driver_command, params)\u001b[0m\n\u001b[0;32m    342\u001b[0m response \u001b[39m=\u001b[39m \u001b[39mself\u001b[39m\u001b[39m.\u001b[39mcommand_executor\u001b[39m.\u001b[39mexecute(driver_command, params)\n\u001b[0;32m    343\u001b[0m \u001b[39mif\u001b[39;00m response:\n\u001b[1;32m--> 344\u001b[0m     \u001b[39mself\u001b[39;49m\u001b[39m.\u001b[39;49merror_handler\u001b[39m.\u001b[39;49mcheck_response(response)\n\u001b[0;32m    345\u001b[0m     response[\u001b[39m\"\u001b[39m\u001b[39mvalue\u001b[39m\u001b[39m\"\u001b[39m] \u001b[39m=\u001b[39m \u001b[39mself\u001b[39m\u001b[39m.\u001b[39m_unwrap_value(response\u001b[39m.\u001b[39mget(\u001b[39m\"\u001b[39m\u001b[39mvalue\u001b[39m\u001b[39m\"\u001b[39m, \u001b[39mNone\u001b[39;00m))\n\u001b[0;32m    346\u001b[0m     \u001b[39mreturn\u001b[39;00m response\n",
      "File \u001b[1;32md:\\Repository\\orderbot_project\\lib\\site-packages\\selenium\\webdriver\\remote\\errorhandler.py:229\u001b[0m, in \u001b[0;36mErrorHandler.check_response\u001b[1;34m(self, response)\u001b[0m\n\u001b[0;32m    227\u001b[0m         alert_text \u001b[39m=\u001b[39m value[\u001b[39m\"\u001b[39m\u001b[39malert\u001b[39m\u001b[39m\"\u001b[39m]\u001b[39m.\u001b[39mget(\u001b[39m\"\u001b[39m\u001b[39mtext\u001b[39m\u001b[39m\"\u001b[39m)\n\u001b[0;32m    228\u001b[0m     \u001b[39mraise\u001b[39;00m exception_class(message, screen, stacktrace, alert_text)  \u001b[39m# type: ignore[call-arg]  # mypy is not smart enough here\u001b[39;00m\n\u001b[1;32m--> 229\u001b[0m \u001b[39mraise\u001b[39;00m exception_class(message, screen, stacktrace)\n",
      "\u001b[1;31mJavascriptException\u001b[0m: Message: javascript error: arguments[0].click is not a function\n  (Session info: chrome=118.0.5993.71)\nStacktrace:\n\tGetHandleVerifier [0x00007FF68E418EF2+54786]\n\t(No symbol) [0x00007FF68E385612]\n\t(No symbol) [0x00007FF68E23A64B]\n\t(No symbol) [0x00007FF68E23F116]\n\t(No symbol) [0x00007FF68E2414AA]\n\t(No symbol) [0x00007FF68E2B5394]\n\t(No symbol) [0x00007FF68E29BE6A]\n\t(No symbol) [0x00007FF68E2B4D02]\n\t(No symbol) [0x00007FF68E29BC43]\n\t(No symbol) [0x00007FF68E270941]\n\t(No symbol) [0x00007FF68E271B84]\n\tGetHandleVerifier [0x00007FF68E767F52+3524194]\n\tGetHandleVerifier [0x00007FF68E7BD800+3874576]\n\tGetHandleVerifier [0x00007FF68E7B5D7F+3843215]\n\tGetHandleVerifier [0x00007FF68E4B5086+694166]\n\t(No symbol) [0x00007FF68E390A88]\n\t(No symbol) [0x00007FF68E38CA94]\n\t(No symbol) [0x00007FF68E38CBC2]\n\t(No symbol) [0x00007FF68E37CC83]\n\tBaseThreadInitThunk [0x00007FFB55267344+20]\n\tRtlUserThreadStart [0x00007FFB572426B1+33]\n"
     ]
    }
   ],
   "source": [
    "driver.execute_script(\"arguments[0].click();\", element)"
   ]
  },
  {
   "cell_type": "markdown",
   "metadata": {},
   "source": [
    "dm 초기 화면이 아니라 insta 초기 화면으로 돌아감"
   ]
  },
  {
   "cell_type": "code",
   "execution_count": 65,
   "metadata": {},
   "outputs": [],
   "source": [
    "# 해당 <div> 요소를 선택하기 위한 CSS 선택자\n",
    "element = driver.find_element(By.CSS_SELECTOR, 'div.x9f619.x3nfvp2.x1lq5wgf')\n",
    "\n",
    "# 요소 클릭\n",
    "element.click()"
   ]
  },
  {
   "cell_type": "code",
   "execution_count": 66,
   "metadata": {},
   "outputs": [
    {
     "ename": "ElementNotInteractableException",
     "evalue": "Message: element not interactable\n  (Session info: chrome=118.0.5993.71)\nStacktrace:\n\tGetHandleVerifier [0x00007FF68E418EF2+54786]\n\t(No symbol) [0x00007FF68E385612]\n\t(No symbol) [0x00007FF68E23A4FD]\n\t(No symbol) [0x00007FF68E27CB85]\n\t(No symbol) [0x00007FF68E2729CF]\n\t(No symbol) [0x00007FF68E29BE6A]\n\t(No symbol) [0x00007FF68E2722E6]\n\t(No symbol) [0x00007FF68E29C080]\n\t(No symbol) [0x00007FF68E2B4D02]\n\t(No symbol) [0x00007FF68E29BC43]\n\t(No symbol) [0x00007FF68E270941]\n\t(No symbol) [0x00007FF68E271B84]\n\tGetHandleVerifier [0x00007FF68E767F52+3524194]\n\tGetHandleVerifier [0x00007FF68E7BD800+3874576]\n\tGetHandleVerifier [0x00007FF68E7B5D7F+3843215]\n\tGetHandleVerifier [0x00007FF68E4B5086+694166]\n\t(No symbol) [0x00007FF68E390A88]\n\t(No symbol) [0x00007FF68E38CA94]\n\t(No symbol) [0x00007FF68E38CBC2]\n\t(No symbol) [0x00007FF68E37CC83]\n\tBaseThreadInitThunk [0x00007FFB55267344+20]\n\tRtlUserThreadStart [0x00007FFB572426B1+33]\n",
     "output_type": "error",
     "traceback": [
      "\u001b[1;31m---------------------------------------------------------------------------\u001b[0m",
      "\u001b[1;31mElementNotInteractableException\u001b[0m           Traceback (most recent call last)",
      "\u001b[1;32md:\\Repository\\orderbot_project\\231020.ipynb Cell 67\u001b[0m line \u001b[0;36m5\n\u001b[0;32m      <a href='vscode-notebook-cell:/d%3A/Repository/orderbot_project/231020.ipynb#Y136sZmlsZQ%3D%3D?line=1'>2</a>\u001b[0m element \u001b[39m=\u001b[39m driver\u001b[39m.\u001b[39mfind_element(By\u001b[39m.\u001b[39mCSS_SELECTOR, \u001b[39m'\u001b[39m\u001b[39mdiv.x4afe7t.x1v7wizp.x1htlvfj\u001b[39m\u001b[39m'\u001b[39m)\n\u001b[0;32m      <a href='vscode-notebook-cell:/d%3A/Repository/orderbot_project/231020.ipynb#Y136sZmlsZQ%3D%3D?line=3'>4</a>\u001b[0m \u001b[39m# 요소 클릭\u001b[39;00m\n\u001b[1;32m----> <a href='vscode-notebook-cell:/d%3A/Repository/orderbot_project/231020.ipynb#Y136sZmlsZQ%3D%3D?line=4'>5</a>\u001b[0m element\u001b[39m.\u001b[39;49mclick()\n",
      "File \u001b[1;32md:\\Repository\\orderbot_project\\lib\\site-packages\\selenium\\webdriver\\remote\\webelement.py:93\u001b[0m, in \u001b[0;36mWebElement.click\u001b[1;34m(self)\u001b[0m\n\u001b[0;32m     91\u001b[0m \u001b[39mdef\u001b[39;00m \u001b[39mclick\u001b[39m(\u001b[39mself\u001b[39m) \u001b[39m-\u001b[39m\u001b[39m>\u001b[39m \u001b[39mNone\u001b[39;00m:\n\u001b[0;32m     92\u001b[0m \u001b[39m    \u001b[39m\u001b[39m\"\"\"Clicks the element.\"\"\"\u001b[39;00m\n\u001b[1;32m---> 93\u001b[0m     \u001b[39mself\u001b[39;49m\u001b[39m.\u001b[39;49m_execute(Command\u001b[39m.\u001b[39;49mCLICK_ELEMENT)\n",
      "File \u001b[1;32md:\\Repository\\orderbot_project\\lib\\site-packages\\selenium\\webdriver\\remote\\webelement.py:394\u001b[0m, in \u001b[0;36mWebElement._execute\u001b[1;34m(self, command, params)\u001b[0m\n\u001b[0;32m    392\u001b[0m     params \u001b[39m=\u001b[39m {}\n\u001b[0;32m    393\u001b[0m params[\u001b[39m\"\u001b[39m\u001b[39mid\u001b[39m\u001b[39m\"\u001b[39m] \u001b[39m=\u001b[39m \u001b[39mself\u001b[39m\u001b[39m.\u001b[39m_id\n\u001b[1;32m--> 394\u001b[0m \u001b[39mreturn\u001b[39;00m \u001b[39mself\u001b[39;49m\u001b[39m.\u001b[39;49m_parent\u001b[39m.\u001b[39;49mexecute(command, params)\n",
      "File \u001b[1;32md:\\Repository\\orderbot_project\\lib\\site-packages\\selenium\\webdriver\\remote\\webdriver.py:344\u001b[0m, in \u001b[0;36mWebDriver.execute\u001b[1;34m(self, driver_command, params)\u001b[0m\n\u001b[0;32m    342\u001b[0m response \u001b[39m=\u001b[39m \u001b[39mself\u001b[39m\u001b[39m.\u001b[39mcommand_executor\u001b[39m.\u001b[39mexecute(driver_command, params)\n\u001b[0;32m    343\u001b[0m \u001b[39mif\u001b[39;00m response:\n\u001b[1;32m--> 344\u001b[0m     \u001b[39mself\u001b[39;49m\u001b[39m.\u001b[39;49merror_handler\u001b[39m.\u001b[39;49mcheck_response(response)\n\u001b[0;32m    345\u001b[0m     response[\u001b[39m\"\u001b[39m\u001b[39mvalue\u001b[39m\u001b[39m\"\u001b[39m] \u001b[39m=\u001b[39m \u001b[39mself\u001b[39m\u001b[39m.\u001b[39m_unwrap_value(response\u001b[39m.\u001b[39mget(\u001b[39m\"\u001b[39m\u001b[39mvalue\u001b[39m\u001b[39m\"\u001b[39m, \u001b[39mNone\u001b[39;00m))\n\u001b[0;32m    346\u001b[0m     \u001b[39mreturn\u001b[39;00m response\n",
      "File \u001b[1;32md:\\Repository\\orderbot_project\\lib\\site-packages\\selenium\\webdriver\\remote\\errorhandler.py:229\u001b[0m, in \u001b[0;36mErrorHandler.check_response\u001b[1;34m(self, response)\u001b[0m\n\u001b[0;32m    227\u001b[0m         alert_text \u001b[39m=\u001b[39m value[\u001b[39m\"\u001b[39m\u001b[39malert\u001b[39m\u001b[39m\"\u001b[39m]\u001b[39m.\u001b[39mget(\u001b[39m\"\u001b[39m\u001b[39mtext\u001b[39m\u001b[39m\"\u001b[39m)\n\u001b[0;32m    228\u001b[0m     \u001b[39mraise\u001b[39;00m exception_class(message, screen, stacktrace, alert_text)  \u001b[39m# type: ignore[call-arg]  # mypy is not smart enough here\u001b[39;00m\n\u001b[1;32m--> 229\u001b[0m \u001b[39mraise\u001b[39;00m exception_class(message, screen, stacktrace)\n",
      "\u001b[1;31mElementNotInteractableException\u001b[0m: Message: element not interactable\n  (Session info: chrome=118.0.5993.71)\nStacktrace:\n\tGetHandleVerifier [0x00007FF68E418EF2+54786]\n\t(No symbol) [0x00007FF68E385612]\n\t(No symbol) [0x00007FF68E23A4FD]\n\t(No symbol) [0x00007FF68E27CB85]\n\t(No symbol) [0x00007FF68E2729CF]\n\t(No symbol) [0x00007FF68E29BE6A]\n\t(No symbol) [0x00007FF68E2722E6]\n\t(No symbol) [0x00007FF68E29C080]\n\t(No symbol) [0x00007FF68E2B4D02]\n\t(No symbol) [0x00007FF68E29BC43]\n\t(No symbol) [0x00007FF68E270941]\n\t(No symbol) [0x00007FF68E271B84]\n\tGetHandleVerifier [0x00007FF68E767F52+3524194]\n\tGetHandleVerifier [0x00007FF68E7BD800+3874576]\n\tGetHandleVerifier [0x00007FF68E7B5D7F+3843215]\n\tGetHandleVerifier [0x00007FF68E4B5086+694166]\n\t(No symbol) [0x00007FF68E390A88]\n\t(No symbol) [0x00007FF68E38CA94]\n\t(No symbol) [0x00007FF68E38CBC2]\n\t(No symbol) [0x00007FF68E37CC83]\n\tBaseThreadInitThunk [0x00007FFB55267344+20]\n\tRtlUserThreadStart [0x00007FFB572426B1+33]\n"
     ]
    }
   ],
   "source": [
    "# 해당 <div> 요소를 선택하기 위한 CSS 선택자\n",
    "element = driver.find_element(By.CSS_SELECTOR, 'div.x4afe7t.x1v7wizp.x1htlvfj')\n",
    "\n",
    "# 요소 클릭\n",
    "element.click()"
   ]
  },
  {
   "cell_type": "markdown",
   "metadata": {},
   "source": [
    "정상 작동 코드"
   ]
  },
  {
   "cell_type": "code",
   "execution_count": 100,
   "metadata": {},
   "outputs": [],
   "source": [
    "element = driver.find_element(By.CSS_SELECTOR, 'div.x4afe7t.x1v7wizp.x1htlvfj')\n",
    "driver.execute_script(\"arguments[0].click();\", element)"
   ]
  },
  {
   "cell_type": "markdown",
   "metadata": {},
   "source": [
    "### 초기 화면으로 돌아온 후 동작 테스트"
   ]
  },
  {
   "cell_type": "code",
   "execution_count": 86,
   "metadata": {},
   "outputs": [],
   "source": [
    "# 새로운 메시지가 온 대화창 바로 선택\n",
    "new_message_windows = driver.find_elements(By.CSS_SELECTOR, '.x1i10hfl.x1qjc9v5.xjbqb8w .x6s0dn4.xzolkzo.x12go9s9.x1rnf11y')\n",
    "\n",
    "if new_message_windows:\n",
    "    for new_message_window in new_message_windows:\n",
    "        new_message_window.click()"
   ]
  },
  {
   "cell_type": "code",
   "execution_count": 87,
   "metadata": {},
   "outputs": [
    {
     "data": {
      "text/plain": [
       "'원래 고기 없어요 ㅋㅋ'"
      ]
     },
     "execution_count": 87,
     "metadata": {},
     "output_type": "execute_result"
    }
   ],
   "source": [
    "# 날짜와 대화 메시지를 추출할 선택자 정의\n",
    "date_selector = 'span.xk50ysn'\n",
    "others_msg_selector = 'div.x6prxxf.x1fc57z9.x1yc453h.x126k92a.xzsf02u'\n",
    "my_msg_selector = 'div.x6prxxf.x1fc57z9.x1yc453h.x126k92a.x14ctfv'\n",
    "\n",
    "recent_date = driver.find_elements(By.CSS_SELECTOR, date_selector)[-1].text\n",
    "my_messages_elements = driver.find_elements(By.CSS_SELECTOR, my_msg_selector)\n",
    "my_messages = [msg.text for msg in my_messages_elements]\n",
    "\n",
    "others_messages_elements = driver.find_elements(By.CSS_SELECTOR, others_msg_selector)\n",
    "others_messages = [msg.text for msg in others_messages_elements]\n",
    "\n",
    "others_messages[-1]"
   ]
  },
  {
   "cell_type": "code",
   "execution_count": 76,
   "metadata": {},
   "outputs": [
    {
     "name": "stdout",
     "output_type": "stream",
     "text": [
      "['webscraping 테스트 중!!', '이 계정의 메시지를 스크래핑 중인 거 같은데?', '호이']\n",
      "['누구심?', '누구냐고', '옛다', '옛다~', '예엣다', '여기', '옛다', '새론 메시지 투척', '두 번째 투척', '3번째 투척']\n"
     ]
    }
   ],
   "source": [
    "print(my_messages)\n",
    "print(others_messages)"
   ]
  },
  {
   "cell_type": "markdown",
   "metadata": {},
   "source": [
    "결합"
   ]
  },
  {
   "cell_type": "code",
   "execution_count": null,
   "metadata": {},
   "outputs": [],
   "source": [
    "# 날짜와 대화 메시지를 추출할 선택자 정의\n",
    "date_selector = 'span.xk50ysn'\n",
    "others_msg_selector = 'div.x6prxxf.x1fc57z9.x1yc453h.x126k92a.xzsf02u'\n",
    "my_msg_selector = 'div.x6prxxf.x1fc57z9.x1yc453h.x126k92a.x14ctfv'\n",
    "\n",
    "# 새로운 메시지가 온 대화창 바로 선택\n",
    "new_message_windows = driver.find_elements(By.CSS_SELECTOR, '.x1i10hfl.x1qjc9v5.xjbqb8w .x6s0dn4.xzolkzo.x12go9s9.x1rnf11y')\n",
    "\n",
    "if new_message_windows:\n",
    "    for new_message_window in new_message_windows:\n",
    "        new_message_window.click()\n",
    "        recent_date = driver.find_elements(By.CSS_SELECTOR, date_selector)[-1].text\n",
    "        my_messages_elements = driver.find_elements(By.CSS_SELECTOR, my_msg_selector)\n",
    "        my_messages = [msg.text for msg in my_messages_elements]\n",
    "\n",
    "        others_messages_elements = driver.find_elements(By.CSS_SELECTOR, others_msg_selector)\n",
    "        others_messages = [msg.text for msg in others_messages_elements]\n",
    "\n",
    "        print(others_messages[-1])\n",
    "        print('-'*77)"
   ]
  },
  {
   "cell_type": "code",
   "execution_count": 89,
   "metadata": {},
   "outputs": [
    {
     "ename": "IndexError",
     "evalue": "list index out of range",
     "output_type": "error",
     "traceback": [
      "\u001b[1;31m---------------------------------------------------------------------------\u001b[0m",
      "\u001b[1;31mIndexError\u001b[0m                                Traceback (most recent call last)",
      "\u001b[1;32md:\\Repository\\orderbot_project\\231020.ipynb Cell 76\u001b[0m line \u001b[0;36m1\n\u001b[0;32m     <a href='vscode-notebook-cell:/d%3A/Repository/orderbot_project/231020.ipynb#Y163sZmlsZQ%3D%3D?line=9'>10</a>\u001b[0m \u001b[39mfor\u001b[39;00m new_message_window \u001b[39min\u001b[39;00m new_message_windows:\n\u001b[0;32m     <a href='vscode-notebook-cell:/d%3A/Repository/orderbot_project/231020.ipynb#Y163sZmlsZQ%3D%3D?line=10'>11</a>\u001b[0m     new_message_window\u001b[39m.\u001b[39mclick()\n\u001b[1;32m---> <a href='vscode-notebook-cell:/d%3A/Repository/orderbot_project/231020.ipynb#Y163sZmlsZQ%3D%3D?line=11'>12</a>\u001b[0m     recent_date \u001b[39m=\u001b[39m driver\u001b[39m.\u001b[39;49mfind_elements(By\u001b[39m.\u001b[39;49mCSS_SELECTOR, date_selector)[\u001b[39m-\u001b[39;49m\u001b[39m1\u001b[39;49m]\u001b[39m.\u001b[39mtext\n\u001b[0;32m     <a href='vscode-notebook-cell:/d%3A/Repository/orderbot_project/231020.ipynb#Y163sZmlsZQ%3D%3D?line=12'>13</a>\u001b[0m     wait \u001b[39m=\u001b[39m WebDriverWait(driver, \u001b[39m10\u001b[39m)\n\u001b[0;32m     <a href='vscode-notebook-cell:/d%3A/Repository/orderbot_project/231020.ipynb#Y163sZmlsZQ%3D%3D?line=13'>14</a>\u001b[0m     element \u001b[39m=\u001b[39m wait\u001b[39m.\u001b[39muntil(EC\u001b[39m.\u001b[39mpresence_of_element_located((By\u001b[39m.\u001b[39mCSS_SELECTOR, others_msg_selector)))\n",
      "\u001b[1;31mIndexError\u001b[0m: list index out of range"
     ]
    }
   ],
   "source": [
    "# 날짜와 대화 메시지를 추출할 선택자 정의\n",
    "date_selector = 'span.xk50ysn'\n",
    "others_msg_selector = 'div.x6prxxf.x1fc57z9.x1yc453h.x126k92a.xzsf02u'\n",
    "my_msg_selector = 'div.x6prxxf.x1fc57z9.x1yc453h.x126k92a.x14ctfv'\n",
    "\n",
    "# 새로운 메시지가 온 대화창 바로 선택\n",
    "new_message_windows = driver.find_elements(By.CSS_SELECTOR, '.x1i10hfl.x1qjc9v5.xjbqb8w .x6s0dn4.xzolkzo.x12go9s9.x1rnf11y')\n",
    "\n",
    "if new_message_windows:\n",
    "    for new_message_window in new_message_windows:\n",
    "        new_message_window.click()\n",
    "        recent_date = driver.find_elements(By.CSS_SELECTOR, date_selector)[-1].text\n",
    "        wait = WebDriverWait(driver, 10)\n",
    "        element = wait.until(EC.presence_of_element_located((By.CSS_SELECTOR, others_msg_selector)))\n",
    "        \n",
    "        my_messages_elements = driver.find_elements(By.CSS_SELECTOR, my_msg_selector)\n",
    "        my_messages = [msg.text for msg in my_messages_elements]\n",
    "\n",
    "        others_messages_elements = driver.find_elements(By.CSS_SELECTOR, others_msg_selector)\n",
    "        others_messages = [msg.text for msg in others_messages_elements]\n",
    "\n",
    "        print(others_messages[-1])\n",
    "        print('-'*77)"
   ]
  },
  {
   "cell_type": "markdown",
   "metadata": {},
   "source": [
    "스크롤이 밑에 내려와 있으면 날짜 정보를 찾지 못함"
   ]
  },
  {
   "cell_type": "code",
   "execution_count": 92,
   "metadata": {},
   "outputs": [
    {
     "data": {
      "text/plain": [
       "[<selenium.webdriver.remote.webelement.WebElement (session=\"80b117c0d06d1f0eff853e7d6d3f89e0\", element=\"EECC20599C3B69C62C4E3CCA36EA93C0_element_1631\")>]"
      ]
     },
     "execution_count": 92,
     "metadata": {},
     "output_type": "execute_result"
    }
   ],
   "source": [
    "driver.find_elements(By.CSS_SELECTOR, date_selector)"
   ]
  },
  {
   "cell_type": "markdown",
   "metadata": {},
   "source": [
    "대화창에서 제대로 동작하지 않음\n",
    "- 새로 메시지가 들어오면 숫자 뜨는 거 땜에 그런가?"
   ]
  },
  {
   "cell_type": "code",
   "execution_count": 83,
   "metadata": {},
   "outputs": [
    {
     "name": "stdout",
     "output_type": "stream",
     "text": [
      "<selenium.webdriver.remote.webelement.WebElement (session=\"80b117c0d06d1f0eff853e7d6d3f89e0\", element=\"EECC20599C3B69C62C4E3CCA36EA93C0_element_371\")>\n"
     ]
    }
   ],
   "source": [
    "element = driver.find_element(By.CSS_SELECTOR, 'div.x4afe7t.x1v7wizp.x1htlvfj')\n",
    "print(element)\n",
    "driver.execute_script(\"arguments[0].click();\", element)"
   ]
  },
  {
   "cell_type": "code",
   "execution_count": 84,
   "metadata": {},
   "outputs": [
    {
     "ename": "TimeoutException",
     "evalue": "Message: \n",
     "output_type": "error",
     "traceback": [
      "\u001b[1;31m---------------------------------------------------------------------------\u001b[0m",
      "\u001b[1;31mTimeoutException\u001b[0m                          Traceback (most recent call last)",
      "\u001b[1;32md:\\Repository\\orderbot_project\\231020.ipynb Cell 76\u001b[0m line \u001b[0;36m1\n\u001b[1;32m----> <a href='vscode-notebook-cell:/d%3A/Repository/orderbot_project/231020.ipynb#Y153sZmlsZQ%3D%3D?line=0'>1</a>\u001b[0m element \u001b[39m=\u001b[39m WebDriverWait(driver, \u001b[39m10\u001b[39;49m)\u001b[39m.\u001b[39;49muntil(\n\u001b[0;32m      <a href='vscode-notebook-cell:/d%3A/Repository/orderbot_project/231020.ipynb#Y153sZmlsZQ%3D%3D?line=1'>2</a>\u001b[0m     EC\u001b[39m.\u001b[39;49melement_to_be_clickable((By\u001b[39m.\u001b[39;49mCSS_SELECTOR, \u001b[39m'\u001b[39;49m\u001b[39mdiv.x4afe7t.x1v7wizp.x1htlvfj\u001b[39;49m\u001b[39m'\u001b[39;49m))\n\u001b[0;32m      <a href='vscode-notebook-cell:/d%3A/Repository/orderbot_project/231020.ipynb#Y153sZmlsZQ%3D%3D?line=2'>3</a>\u001b[0m )\n\u001b[0;32m      <a href='vscode-notebook-cell:/d%3A/Repository/orderbot_project/231020.ipynb#Y153sZmlsZQ%3D%3D?line=3'>4</a>\u001b[0m element\u001b[39m.\u001b[39mclick()\n",
      "File \u001b[1;32md:\\Repository\\orderbot_project\\lib\\site-packages\\selenium\\webdriver\\support\\wait.py:95\u001b[0m, in \u001b[0;36mWebDriverWait.until\u001b[1;34m(self, method, message)\u001b[0m\n\u001b[0;32m     93\u001b[0m     \u001b[39mif\u001b[39;00m time\u001b[39m.\u001b[39mmonotonic() \u001b[39m>\u001b[39m end_time:\n\u001b[0;32m     94\u001b[0m         \u001b[39mbreak\u001b[39;00m\n\u001b[1;32m---> 95\u001b[0m \u001b[39mraise\u001b[39;00m TimeoutException(message, screen, stacktrace)\n",
      "\u001b[1;31mTimeoutException\u001b[0m: Message: \n"
     ]
    }
   ],
   "source": [
    "element = WebDriverWait(driver, 10).until(\n",
    "    EC.element_to_be_clickable((By.CSS_SELECTOR, 'div.x4afe7t.x1v7wizp.x1htlvfj'))\n",
    ")\n",
    "element.click()"
   ]
  },
  {
   "cell_type": "markdown",
   "metadata": {},
   "source": [
    "BeautifulSoup 사용 코드로 수정"
   ]
  },
  {
   "cell_type": "markdown",
   "metadata": {},
   "source": [
    "왜 두 대화창에서 각각 1개씩 떠야 되는데 1개 메시지가 중복되는 거지?"
   ]
  },
  {
   "cell_type": "code",
   "execution_count": 94,
   "metadata": {},
   "outputs": [
    {
     "name": "stdout",
     "output_type": "stream",
     "text": [
      "또 보태2\n",
      "-----------------------------------------------------------------------------\n",
      "또 보태2\n",
      "-----------------------------------------------------------------------------\n"
     ]
    }
   ],
   "source": [
    "from selenium.webdriver.common.by import By\n",
    "from selenium.webdriver.support.ui import WebDriverWait\n",
    "from selenium.webdriver.support import expected_conditions as EC\n",
    "from bs4 import BeautifulSoup\n",
    "\n",
    "# 날짜와 대화 메시지를 추출할 선택자 정의\n",
    "date_selector = 'span.xk50ysn'\n",
    "others_msg_selector = 'div.x6prxxf.x1fc57z9.x1yc453h.x126k92a.xzsf02u'\n",
    "my_msg_selector = 'div.x6prxxf.x1fc57z9.x1yc453h.x126k92a.x14ctfv'\n",
    "\n",
    "# 새로운 메시지가 온 대화창 바로 선택\n",
    "new_message_windows = driver.find_elements(By.CSS_SELECTOR, '.x1i10hfl.x1qjc9v5.xjbqb8w .x6s0dn4.xzolkzo.x12go9s9.x1rnf11y')\n",
    "\n",
    "if new_message_windows:\n",
    "    for new_message_window in new_message_windows:\n",
    "        new_message_window.click()\n",
    "        \n",
    "        # 대화 내용이 로드될 때까지 기다림\n",
    "        WebDriverWait(driver, 10).until(\n",
    "            EC.presence_of_element_located((By.CSS_SELECTOR, others_msg_selector))\n",
    "        )\n",
    "        \n",
    "        # 현재 페이지의 HTML을 가져옴\n",
    "        page_source = driver.page_source\n",
    "        soup = BeautifulSoup(page_source, 'html.parser')\n",
    "\n",
    "        recent_date = soup.select(date_selector)[-1].text\n",
    "        my_messages = [msg.text for msg in soup.select(my_msg_selector)]\n",
    "        others_messages = [msg.text for msg in soup.select(others_msg_selector)]\n",
    "\n",
    "        print(others_messages[-1])\n",
    "        print('-'*77)"
   ]
  },
  {
   "cell_type": "code",
   "execution_count": 97,
   "metadata": {},
   "outputs": [
    {
     "data": {
      "text/plain": [
       "['누구심?',\n",
       " '누구냐고',\n",
       " '옛다',\n",
       " '옛다~',\n",
       " '예엣다',\n",
       " '여기',\n",
       " '옛다',\n",
       " '새론 메시지 투척',\n",
       " '두 번째 투척',\n",
       " '3번째 투척',\n",
       " '내 메시지도 보태',\n",
       " '또 보태',\n",
       " '또 보태2']"
      ]
     },
     "execution_count": 97,
     "metadata": {},
     "output_type": "execute_result"
    }
   ],
   "source": [
    "others_messages"
   ]
  },
  {
   "cell_type": "markdown",
   "metadata": {},
   "source": [
    "이번엔 코드 의도 대로 동작\n"
   ]
  },
  {
   "cell_type": "code",
   "execution_count": 101,
   "metadata": {},
   "outputs": [
    {
     "name": "stdout",
     "output_type": "stream",
     "text": [
      "메뉴는 뭐예요~?\n",
      "-----------------------------------------------------------------------------\n",
      "보태4\n",
      "-----------------------------------------------------------------------------\n"
     ]
    }
   ],
   "source": [
    "# 날짜와 대화 메시지를 추출할 선택자 정의\n",
    "date_selector = 'span.xk50ysn'\n",
    "others_msg_selector = 'div.x6prxxf.x1fc57z9.x1yc453h.x126k92a.xzsf02u'\n",
    "my_msg_selector = 'div.x6prxxf.x1fc57z9.x1yc453h.x126k92a.x14ctfv'\n",
    "\n",
    "# 새로운 메시지가 온 대화창 바로 선택\n",
    "new_message_windows = driver.find_elements(By.CSS_SELECTOR, '.x1i10hfl.x1qjc9v5.xjbqb8w .x6s0dn4.xzolkzo.x12go9s9.x1rnf11y')\n",
    "\n",
    "if new_message_windows:\n",
    "    for new_message_window in new_message_windows:\n",
    "        new_message_window.click()\n",
    "        \n",
    "        # 대화 내용이 로드될 때까지 기다림\n",
    "        WebDriverWait(driver, 10).until(\n",
    "            EC.presence_of_element_located((By.CSS_SELECTOR, others_msg_selector))\n",
    "        )\n",
    "        \n",
    "        # 현재 페이지의 HTML을 가져옴\n",
    "        page_source = driver.page_source\n",
    "        soup = BeautifulSoup(page_source, 'html.parser')\n",
    "\n",
    "        recent_date = soup.select(date_selector)[-1].text\n",
    "        my_messages = [msg.text for msg in soup.select(my_msg_selector)]\n",
    "        others_messages = [msg.text for msg in soup.select(others_msg_selector)]\n",
    "\n",
    "        print(others_messages[-1])\n",
    "        print('-'*77)"
   ]
  },
  {
   "cell_type": "markdown",
   "metadata": {},
   "source": [
    "dm 초기 화면으로 이동하는 정상 작동 코드인줄 알았으나 안되는 경우도 있네 ;"
   ]
  },
  {
   "cell_type": "code",
   "execution_count": 102,
   "metadata": {},
   "outputs": [],
   "source": [
    "element = driver.find_element(By.CSS_SELECTOR, 'svg[aria-label=\"Direct\"].x1lliihq.x1n2onr6.x5n08af')\n",
    "element.click()"
   ]
  },
  {
   "cell_type": "markdown",
   "metadata": {},
   "source": [
    "### 코드 추가 필요 부분"
   ]
  },
  {
   "cell_type": "code",
   "execution_count": null,
   "metadata": {},
   "outputs": [],
   "source": [
    "# 날짜와 대화 메시지를 추출할 선택자 정의\n",
    "date_selector = 'span.xk50ysn'\n",
    "others_msg_selector = 'div.x6prxxf.x1fc57z9.x1yc453h.x126k92a.xzsf02u'\n",
    "my_msg_selector = 'div.x6prxxf.x1fc57z9.x1yc453h.x126k92a.x14ctfv'\n",
    "\n",
    "# 새로운 메시지가 온 대화창 바로 선택\n",
    "new_message_windows = driver.find_elements(By.CSS_SELECTOR, '.x1i10hfl.x1qjc9v5.xjbqb8w .x6s0dn4.xzolkzo.x12go9s9.x1rnf11y')\n",
    "\n",
    "if new_message_windows:\n",
    "    for new_message_window in new_message_windows:\n",
    "        new_message_window.click()\n",
    "        \n",
    "        # 대화 내용이 로드될 때까지 기다림\n",
    "        WebDriverWait(driver, 10).until(\n",
    "            EC.presence_of_element_located((By.CSS_SELECTOR, others_msg_selector))\n",
    "        )\n",
    "        \n",
    "        # 현재 페이지의 HTML을 가져옴\n",
    "        page_source = driver.page_source\n",
    "        soup = BeautifulSoup(page_source, 'html.parser')\n",
    "\n",
    "        recent_date = soup.select(date_selector)[-1].text\n",
    "        my_messages = [msg.text for msg in soup.select(my_msg_selector)]\n",
    "        others_messages = [msg.text for msg in soup.select(others_msg_selector)]\n",
    "\n",
    "        print(others_messages[-1])\n",
    "        # LLM.py 같은 파일의 함수 이용해 응답 시작\n",
    "        \n",
    "        print('-'*77)"
   ]
  }
 ],
 "metadata": {
  "kernelspec": {
   "display_name": "orderbot_project",
   "language": "python",
   "name": "python3"
  },
  "language_info": {
   "codemirror_mode": {
    "name": "ipython",
    "version": 3
   },
   "file_extension": ".py",
   "mimetype": "text/x-python",
   "name": "python",
   "nbconvert_exporter": "python",
   "pygments_lexer": "ipython3",
   "version": "3.8.17"
  }
 },
 "nbformat": 4,
 "nbformat_minor": 2
}
