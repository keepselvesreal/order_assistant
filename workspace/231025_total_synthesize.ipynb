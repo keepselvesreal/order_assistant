{
 "cells": [
  {
   "cell_type": "code",
   "execution_count": 4,
   "metadata": {},
   "outputs": [],
   "source": [
    "from selenium import webdriver\n",
    "from selenium.webdriver.common.by import By\n",
    "from selenium.webdriver.support.ui import WebDriverWait\n",
    "from selenium.webdriver.support import expected_conditions as EC\n",
    "from bs4 import BeautifulSoup"
   ]
  },
  {
   "cell_type": "code",
   "execution_count": 3,
   "metadata": {},
   "outputs": [
    {
     "name": "stdout",
     "output_type": "stream",
     "text": [
      "selenium version: 4.14.0\n"
     ]
    }
   ],
   "source": [
    "# selenium version 확인\n",
    "import selenium\n",
    "print(f'selenium version: {selenium.__version__}')"
   ]
  },
  {
   "cell_type": "code",
   "execution_count": 5,
   "metadata": {},
   "outputs": [],
   "source": [
    "site = \"https://www.instagram.com/\"\n",
    "driver = webdriver.Chrome()\n",
    "driver.get(site)\n",
    "\n",
    "# 로그인 버튼 찾기 (XPath 사용) | ts-아래처럼 기다리는 처리하지 않아 오류 발생했음\n",
    "login_button = WebDriverWait(driver, 10).until(EC.presence_of_element_located((By.XPATH, '//button[.//div[text()=\"로그인\"]]')))\n",
    "\n",
    "# username 입력 필드 찾기\n",
    "username_field = driver.find_element(by=\"name\", value=\"username\")\n",
    "password_field = driver.find_element(by=\"name\", value=\"password\")\n",
    "\n",
    "# username 필드에 값 입력하기\n",
    "id = 'keep_selves_real'\n",
    "password = 'kts71611089!'\n",
    "\n",
    "username_field.send_keys(id)\n",
    "password_field.send_keys(password)\n",
    "\n",
    "# 로그인 버튼 클릭하기\n",
    "login_button.click()\n",
    "\n",
    "# '나중에 하기' 버튼 찾기 (XPath 사용)\n",
    "later_button = WebDriverWait(driver, 10).until(EC.presence_of_element_located((By.XPATH, '//*[@role=\"button\" and text()=\"나중에 하기\"]')))\n",
    "\n",
    "# '나중에 하기' 버튼 클릭하기\n",
    "later_button.click()\n",
    "\n",
    "# 알림 설정 나중에 버튼 클릭하기"
   ]
  },
  {
   "cell_type": "code",
   "execution_count": 6,
   "metadata": {},
   "outputs": [
    {
     "name": "stdout",
     "output_type": "stream",
     "text": [
      "헤이\n",
      "-----------------------------------------------------------------------------\n"
     ]
    }
   ],
   "source": [
    "# 날짜와 대화 메시지를 추출할 선택자 정의\n",
    "date_selector = 'span.xk50ysn'\n",
    "others_msg_selector = 'div.x6prxxf.x1fc57z9.x1yc453h.x126k92a.xzsf02u'\n",
    "my_msg_selector = 'div.x6prxxf.x1fc57z9.x1yc453h.x126k92a.x14ctfv'\n",
    "\n",
    "# 새로운 메시지가 온 대화창 바로 선택\n",
    "new_message_windows = driver.find_elements(By.CSS_SELECTOR, '.x1i10hfl.x1qjc9v5.xjbqb8w .x6s0dn4.xzolkzo.x12go9s9.x1rnf11y')\n",
    "\n",
    "if new_message_windows:\n",
    "    for new_message_window in new_message_windows:\n",
    "        new_message_window.click()\n",
    "        \n",
    "        # 대화 내용이 로드될 때까지 기다림\n",
    "        WebDriverWait(driver, 10).until(\n",
    "            EC.presence_of_element_located((By.CSS_SELECTOR, others_msg_selector))\n",
    "        )\n",
    "        \n",
    "        # 현재 페이지의 HTML을 가져옴\n",
    "        page_source = driver.page_source\n",
    "        soup = BeautifulSoup(page_source, 'html.parser')\n",
    "\n",
    "        recent_date = soup.select(date_selector)[-1].text\n",
    "        my_messages = [msg.text for msg in soup.select(my_msg_selector)]\n",
    "        others_messages = [msg.text for msg in soup.select(others_msg_selector)]\n",
    "\n",
    "        print(others_messages[-1])\n",
    "        print('-'*77)"
   ]
  },
  {
   "cell_type": "code",
   "execution_count": 7,
   "metadata": {},
   "outputs": [
    {
     "data": {
      "text/plain": [
       "[<h4 class=\"x1heor9g x1qlqyl8 x1pd3egz x1a2a7pz\" dir=\"auto\"><div class=\"xzpqnlu x1hyvwdk xqtp20y x6ikm8r x10wlt62 xnalus7\">오늘 오후 3:24</div><div aria-hidden=\"true\" class=\"xjpr12u xr9ek0c x2b8uid\" data-scope=\"date_break\"><span class=\"x193iq5w xeuugli x13faqbe x1vvkbs x1xmvt09 x1lliihq x1s928wv xhkezso x1gmr53x x1cpjm7i x1fgarty x1943h6x x4zkp8e x676frb x1pg5gke xvq8zen xo1l8bm x12scifz\" dir=\"auto\"><span class=\"xk50ysn\">오후 3:24</span></span></div></h4>]"
      ]
     },
     "execution_count": 7,
     "metadata": {},
     "output_type": "execute_result"
    }
   ],
   "source": [
    "soup.select('div[role=\"row\"] > div > div > div > div > h4')"
   ]
  },
  {
   "cell_type": "code",
   "execution_count": 8,
   "metadata": {},
   "outputs": [],
   "source": [
    "# Initialize the dictionary to hold the conversations\n",
    "convo_by_date = {}\n",
    "\n",
    "# Extract the parent divs of dates\n",
    "date_divs = soup.select('div[role=\"row\"] > div > div > div > div > h4')\n",
    "\n",
    "for date_div in date_divs:\n",
    "    # Extract the date\n",
    "    date_str = date_div.get_text()\n",
    "    \n",
    "    # Get the parent div of the date\n",
    "    parent_div = date_div.find_parent().find_parent().find_parent()\n",
    "    \n",
    "    # Extract the messages within the parent div\n",
    "    messages = [msg_div.get_text() for msg_div in parent_div.select('div.x6prxxf.x1fc57z9.x1yc453h.x126k92a.xzsf02u')]\n",
    "    \n",
    "    # Store the messages in the dictionary\n",
    "    convo_by_date[date_str] = messages"
   ]
  }
 ],
 "metadata": {
  "kernelspec": {
   "display_name": "order_assistant",
   "language": "python",
   "name": "python3"
  },
  "language_info": {
   "codemirror_mode": {
    "name": "ipython",
    "version": 3
   },
   "file_extension": ".py",
   "mimetype": "text/x-python",
   "name": "python",
   "nbconvert_exporter": "python",
   "pygments_lexer": "ipython3",
   "version": "3.8.17"
  }
 },
 "nbformat": 4,
 "nbformat_minor": 2
}
