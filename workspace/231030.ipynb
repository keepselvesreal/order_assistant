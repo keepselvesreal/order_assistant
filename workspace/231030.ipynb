{
 "cells": [
  {
   "cell_type": "markdown",
   "metadata": {},
   "source": [
    "아래 코드로 접근하니 저절로 꺼짐. 직접 아이디 비번 입력하고 접근하니 꺼지지 않음. 웹스크래핑 감지하고 차단하는 건가?"
   ]
  },
  {
   "cell_type": "code",
   "execution_count": null,
   "metadata": {},
   "outputs": [],
   "source": [
    "from selenium import webdriver\n",
    "from selenium.webdriver.common.by import By\n",
    "from selenium.webdriver.support.ui import WebDriverWait\n",
    "from selenium.webdriver.support import expected_conditions as EC\n",
    "from bs4 import BeautifulSoup\n",
    "\n",
    "def login_to_website():\n",
    "    site = \"https://www.instagram.com/\"\n",
    "    driver = webdriver.Chrome()\n",
    "    driver.get(site)\n",
    "    \n",
    "    # 로그인 버튼 찾기 (XPath 사용) | ts-아래처럼 기다리는 처리하지 않아 오류 발생했음\n",
    "    login_button = WebDriverWait(driver, 10).until(EC.presence_of_element_located((By.XPATH, '//button[.//div[text()=\"로그인\"]]')))\n",
    "\n",
    "    # username 입력 필드 찾기\n",
    "    username_field = driver.find_element(by=\"name\", value=\"username\")\n",
    "    password_field = driver.find_element(by=\"name\", value=\"password\")\n",
    "\n",
    "    # username 필드에 값 입력하기\n",
    "    id = 'keep_selves_real'\n",
    "    password = 'kts71611089!'\n",
    "\n",
    "    username_field.send_keys(id)\n",
    "    password_field.send_keys(password)\n",
    "\n",
    "    # 로그인 버튼 클릭하기\n",
    "    login_button.click()\n",
    "\n",
    "    # '나중에 하기' 버튼 찾기 (XPath 사용)\n",
    "    later_button = WebDriverWait(driver, 10).until(EC.presence_of_element_located((By.XPATH, '//*[@role=\"button\" and text()=\"나중에 하기\"]')))\n",
    "\n",
    "    # '나중에 하기' 버튼 클릭하기\n",
    "    later_button.click()\n",
    "\n",
    "    알림 설정 나중에 버튼 클릭하기\n",
    "\n",
    "login_to_website()"
   ]
  },
  {
   "cell_type": "code",
   "execution_count": null,
   "metadata": {},
   "outputs": [
    {
     "name": "stdout",
     "output_type": "stream",
     "text": [
      "하이\n",
      "-----------------------------------------------------------------------------\n"
     ]
    }
   ],
   "source": [
    "# 새 메시지 확인 함수\n",
    "def check_new_messages(session):\n",
    "    response = session.get(\"https://example.com/messages\")\n",
    "    soup = BeautifulSoup(response.content, 'html.parser')\n",
    "    # 새로운 메시지가 있는 대화방의 HTML 요소를 파싱하여 반환합니다.\n",
    "    new_messages = []  # 새 메시지가 있는 대화방의 정보를 추출하는 로직 필요\n",
    "    return new_messages\n",
    "\n",
    "# 날짜와 대화 메시지를 추출할 선택자 정의\n",
    "date_selector = 'span.xk50ysn'\n",
    "others_msg_selector = 'div.x6prxxf.x1fc57z9.x1yc453h.x126k92a.xzsf02u'\n",
    "my_msg_selector = 'div.x6prxxf.x1fc57z9.x1yc453h.x126k92a.x14ctfv'\n",
    "\n",
    "# 새로운 메시지가 온 대화창 바로 선택\n",
    "new_message_windows = driver.find_elements(By.CSS_SELECTOR, '.x1i10hfl.x1qjc9v5.xjbqb8w .x6s0dn4.xzolkzo.x12go9s9.x1rnf11y')\n",
    "\n",
    "if new_message_windows:\n",
    "    for new_message_window in new_message_windows:\n",
    "        new_message_window.click()\n",
    "        \n",
    "        # 대화 내용이 로드될 때까지 기다림\n",
    "        WebDriverWait(driver, 10).until(\n",
    "            EC.presence_of_element_located((By.CSS_SELECTOR, others_msg_selector))\n",
    "        )\n",
    "        \n",
    "        # 현재 페이지의 HTML을 가져옴\n",
    "        page_source = driver.page_source\n",
    "        soup = BeautifulSoup(page_source, 'html.parser')\n",
    "\n",
    "        recent_date = soup.select(date_selector)[-1].text\n",
    "        my_messages = [msg.text for msg in soup.select(my_msg_selector)]\n",
    "        others_messages = [msg.text for msg in soup.select(others_msg_selector)]\n",
    "\n",
    "        print(others_messages[-1])\n",
    "        print('-'*77)"
   ]
  },
  {
   "cell_type": "code",
   "execution_count": null,
   "metadata": {},
   "outputs": [
    {
     "data": {
      "text/plain": [
       "[<selenium.webdriver.remote.webelement.WebElement (session=\"6ab68de7e8c4788563b1dd5f3d06fd34\", element=\"27ADA772DF844367BEC78C7206B7DDF6_element_643\")>]"
      ]
     },
     "metadata": {},
     "output_type": "display_data"
    }
   ],
   "source": [
    "new_message_windows = driver.find_elements(By.CSS_SELECTOR, '.x1i10hfl.x1qjc9v5.xjbqb8w .x6s0dn4.xzolkzo.x12go9s9.x1rnf11y')\n",
    "new_message_windows"
   ]
  },
  {
   "cell_type": "code",
   "execution_count": null,
   "metadata": {},
   "outputs": [],
   "source": [
    "new_message_windows[0].click()\n",
    "page_source = driver.page_source"
   ]
  },
  {
   "cell_type": "code",
   "execution_count": null,
   "metadata": {},
   "outputs": [],
   "source": [
    "# 첫 번째 대화창의 html 구조 파싱\n",
    "\n",
    "new_message_windows = driver.find_elements(By.CSS_SELECTOR, '.x1i10hfl.x1qjc9v5.xjbqb8w .x6s0dn4.xzolkzo.x12go9s9.x1rnf11y')\n",
    "new_message_windows[0].click()\n",
    "\n",
    "# 대화 내용이 로드될 때까지 기다림\n",
    "WebDriverWait(driver, 10).until(\n",
    "    EC.presence_of_element_located((By.CSS_SELECTOR, others_msg_selector))\n",
    ")\n",
    "page_source = driver.page_source\n",
    "soup = BeautifulSoup(page_source, 'html.parser')"
   ]
  },
  {
   "cell_type": "code",
   "execution_count": null,
   "metadata": {},
   "outputs": [
    {
     "data": {
      "text/plain": [
       "[<span class=\"x1lliihq x193iq5w x6ikm8r x10wlt62 xlyipyv xuxw1ft\">keep_selves_real</span>,\n",
       " <span class=\"x1lliihq x193iq5w x6ikm8r x10wlt62 xlyipyv xuxw1ft\">태수</span>,\n",
       " <span class=\"x1lliihq x193iq5w x6ikm8r x10wlt62 xlyipyv xuxw1ft\">현재 활동 중</span>,\n",
       " <span class=\"x1lliihq x193iq5w x6ikm8r x10wlt62 xlyipyv xuxw1ft\">Vee</span>,\n",
       " <span class=\"x1lliihq x193iq5w x6ikm8r x10wlt62 xlyipyv xuxw1ft\">과제 하고 있어 ㅋㅋ</span>,\n",
       " <span class=\"x1lliihq x193iq5w x6ikm8r x10wlt62 xlyipyv xuxw1ft\"><div class=\"xuxw1ft\">1주</div></span>,\n",
       " <span class=\"x1lliihq x193iq5w x6ikm8r x10wlt62 xlyipyv xuxw1ft\">*록향*</span>,\n",
       " <span class=\"x1lliihq x193iq5w x6ikm8r x10wlt62 xlyipyv xuxw1ft\">16시간 전에 활동</span>,\n",
       " <span class=\"x1lliihq x193iq5w x6ikm8r x10wlt62 xlyipyv xuxw1ft\">note_than</span>,\n",
       " <span class=\"x1lliihq x193iq5w x6ikm8r x10wlt62 xlyipyv xuxw1ft\">知り合いじゃないのにフォローしごめんなさい…\n",
       " 友達が少ないのでこれから仲良くできたら嬉しいです(๑❛ꆚ❛๑)\n",
       " instaは見る専用なので投稿は少ないと思います\n",
       " あとラインしませんか？instaのDMだと分かりにくいので…\n",
       " \n",
       " n64m7がIDでみゆです\n",
       " 友達追加出来たらスタンプでもいいので声をかけてくださいね♪\n",
       " 自己紹介もちゃんとしたいしライン待ってます♪</span>,\n",
       " <span class=\"x1lliihq x193iq5w x6ikm8r x10wlt62 xlyipyv xuxw1ft\"><div class=\"xuxw1ft\">4년</div></span>,\n",
       " <span class=\"x1lliihq x193iq5w x6ikm8r x10wlt62 xlyipyv xuxw1ft\">태수</span>]"
      ]
     },
     "metadata": {},
     "output_type": "display_data"
    }
   ],
   "source": [
    "soup.find_all('span', class_='x1lliihq x193iq5w x6ikm8r x10wlt62 xlyipyv xuxw1ft')"
   ]
  },
  {
   "cell_type": "code",
   "execution_count": null,
   "metadata": {},
   "outputs": [
    {
     "data": {
      "text/plain": [
       "'/'"
      ]
     },
     "metadata": {},
     "output_type": "display_data"
    }
   ],
   "source": [
    "a_tags[0]['href']"
   ]
  },
  {
   "cell_type": "code",
   "execution_count": null,
   "metadata": {},
   "outputs": [
    {
     "data": {
      "text/plain": [
       "['/',\n",
       " '/',\n",
       " '/explore/',\n",
       " '/reels/',\n",
       " '/direct/inbox/',\n",
       " '/keep_selves_real/',\n",
       " '/direct/requests/',\n",
       " '/keep_me_real/',\n",
       " '/keep_me_real/',\n",
       " '/keep_me_real',\n",
       " '/keep_me_real',\n",
       " '/keep_me_real',\n",
       " '/keep_me_real',\n",
       " '/keep_me_real',\n",
       " '/keep_me_real',\n",
       " '/keep_me_real',\n",
       " '/keep_me_real',\n",
       " '/keep_me_real',\n",
       " '/keep_me_real',\n",
       " '/keep_me_real',\n",
       " '/keep_me_real',\n",
       " '/keep_me_real',\n",
       " '/keep_me_real',\n",
       " '/keep_me_real',\n",
       " '/keep_me_real',\n",
       " '/keep_me_real',\n",
       " '/keep_me_real']"
      ]
     },
     "metadata": {},
     "output_type": "display_data"
    }
   ],
   "source": [
    "# 모든 a 태그 찾기\n",
    "a_tags = soup.find_all('a', href=True)\n",
    "\n",
    "# 사용자 ID 추출\n",
    "user_ids = [a['href'] for a in a_tags if a['href'].startswith('/')]\n",
    "user_ids"
   ]
  },
  {
   "cell_type": "code",
   "execution_count": null,
   "metadata": {},
   "outputs": [
    {
     "data": {
      "text/plain": [
       "[<span class=\"x1lliihq x193iq5w x6ikm8r x10wlt62 xlyipyv xuxw1ft\">keep_selves_real</span>,\n",
       " <span class=\"x1lliihq x193iq5w x6ikm8r x10wlt62 xlyipyv xuxw1ft\">태수</span>,\n",
       " <span class=\"x1lliihq x193iq5w x6ikm8r x10wlt62 xlyipyv xuxw1ft\">다시2</span>,\n",
       " <span class=\"x1lliihq x193iq5w x6ikm8r x10wlt62 xlyipyv xuxw1ft\"><div class=\"xuxw1ft\">1분</div></span>,\n",
       " <span class=\"x1lliihq x193iq5w x6ikm8r x10wlt62 xlyipyv xuxw1ft\">Vee</span>,\n",
       " <span class=\"x1lliihq x193iq5w x6ikm8r x10wlt62 xlyipyv xuxw1ft\">과제 하고 있어 ㅋㅋ</span>,\n",
       " <span class=\"x1lliihq x193iq5w x6ikm8r x10wlt62 xlyipyv xuxw1ft\"><div class=\"xuxw1ft\">1주</div></span>,\n",
       " <span class=\"x1lliihq x193iq5w x6ikm8r x10wlt62 xlyipyv xuxw1ft\">*록향*</span>,\n",
       " <span class=\"x1lliihq x193iq5w x6ikm8r x10wlt62 xlyipyv xuxw1ft\">15시간 전에 활동</span>,\n",
       " <span class=\"x1lliihq x193iq5w x6ikm8r x10wlt62 xlyipyv xuxw1ft\">note_than</span>,\n",
       " <span class=\"x1lliihq x193iq5w x6ikm8r x10wlt62 xlyipyv xuxw1ft\">知り合いじゃないのにフォローしごめんなさい…\n",
       " 友達が少ないのでこれから仲良くできたら嬉しいです(๑❛ꆚ❛๑)\n",
       " instaは見る専用なので投稿は少ないと思います\n",
       " あとラインしませんか？instaのDMだと分かりにくいので…\n",
       " \n",
       " n64m7がIDでみゆです\n",
       " 友達追加出来たらスタンプでもいいので声をかけてくださいね♪\n",
       " 自己紹介もちゃんとしたいしライン待ってます♪</span>,\n",
       " <span class=\"x1lliihq x193iq5w x6ikm8r x10wlt62 xlyipyv xuxw1ft\"><div class=\"xuxw1ft\">4년</div></span>,\n",
       " <span class=\"x1lliihq x193iq5w x6ikm8r x10wlt62 xlyipyv xuxw1ft\">태수</span>]"
      ]
     },
     "metadata": {},
     "output_type": "display_data"
    }
   ],
   "source": [
    "\n",
    "\n",
    "# span tag와 class의 값이 x1lliihq x193iq5w x6ikm8r x10wlt62 xlyipyv xuxw1ft인 데이터를 추출하는 코드\n",
    "soup.find_all('span', class_='x1lliihq x193iq5w x6ikm8r x10wlt62 xlyipyv xuxw1ft')"
   ]
  },
  {
   "cell_type": "code",
   "execution_count": null,
   "metadata": {},
   "outputs": [
    {
     "data": {
      "text/plain": [
       "[]"
      ]
     },
     "metadata": {},
     "output_type": "display_data"
    }
   ],
   "source": [
    "# 현재 페이지의 HTML을 가져옴\n",
    "page_source = driver.page_source\n",
    "soup = BeautifulSoup(page_source, 'html.parser')\n",
    "\n",
    "# 모든 대화창 찾기\n",
    "chat_windows = soup.find_all('div', class_=\"chat-window\")\n",
    "chat_windows"
   ]
  },
  {
   "cell_type": "code",
   "execution_count": null,
   "metadata": {},
   "outputs": [
    {
     "data": {
      "text/plain": [
       "[<div class=\"x1i10hfl x1qjc9v5 xjbqb8w xjqpnuy xa49m3k xqeqjp1 x2hbi6w x13fuv20 xu3j5b3 x1q0q8m5 x26u7qi x972fbf xcfux6l x1qhh985 xm0m39n x9f619 x1ypdohk xdl72j9 x2lah0s xe8uvvx x2lwn1j xeuugli x1n2onr6 x16tdsg8 x1hl2dhg xggy1nq x1ja2u2z x1t137rt x1q0g3np x87ps6o x1lku1pv x1a2a7pz x168nmei x13lgxp2 x5pf9jr xo71vjh x1lliihq xdj266r x11i5rnm xat24cr x1mh8g0r xg6hnt2 x18wri0h x1l895ks xbbxn1n xxbr6pl x1y1aw1k xwib8y2\" role=\"button\" tabindex=\"0\"><div class=\"x9f619 x1n2onr6 x1ja2u2z x1qjc9v5 x78zum5 xdt5ytf x1iyjqo2 xl56j7k xeuugli xxsgkw5\" role=\"listitem\"><div class=\"x9f619 x1n2onr6 x1ja2u2z x78zum5 x2lah0s x1qughib x6s0dn4 xozqiw3 x1q0g3np\"><div class=\"x9f619 x1n2onr6 x1ja2u2z xdt5ytf x2lah0s x193iq5w xeuugli x78zum5\"><div class=\"x78zum5 x2lah0s xn6708d\"><div class=\"x1n2onr6\" style=\"height: 56px; width: 56px;\"><span class=\"x14yjl9h xudhj91 x18nykt9 xww2gxu x1lliihq x6ikm8r x10wlt62 x1n2onr6 xzfakq x7imw91 x1j8hi7x x5aw536 x194ut8o x1vzenxt xd7ygy7 xt298gk xynf4tj xdspwft x1r9ni5o x1d52zm6 xoiy6we x15xhmf9 x1qj619r x15tem40 x1xrz1ek x1s928wv x1n449xj x2q1x1w x1j6awrg x162n7g1 x1m1drc7\" style=\"height: 56px; width: 56px;\"><img alt=\"사용자 아바타\" class=\"x5yr21d xl1xv1r xh8yej3\" height=\"56\" referrerpolicy=\"origin-when-cross-origin\" src=\"https://scontent-ssn1-1.xx.fbcdn.net/v/t1.30497-1/115870214_694925034696967_1870022665148339563_n.jpg?stp=dst-jpg_p100x100&amp;_nc_cat=1&amp;ccb=1-7&amp;_nc_sid=810bd0&amp;_nc_ohc=qr8JT3hwXbIAX-Wy17S&amp;_nc_ad=z-m&amp;_nc_cid=0&amp;_nc_ht=scontent-ssn1-1.xx&amp;oh=00_AfCjQbZpIysJt69Rqxs9k4oEC0kpHqrPITpki2aFlqJ64w&amp;oe=6566B1A2\" width=\"56\"/></span><div class=\"x1wyv8x2 x1yhmmig xeqyd3i xyb01ml xdn568n x14yjl9h xudhj91 x18nykt9 xww2gxu x13fuv20 xu3j5b3 x1q0q8m5 x26u7qi x10l6tqk xmn4e3e x10qsr78 x2x41l1 x19jh3bc x1ey2m1c xds687c x1kpxq89 xsmyaan\"><div class=\"x9f619 x1ja2u2z xzpqnlu x1hyvwdk xjm9jq1 x6ikm8r x10wlt62 x10l6tqk x1i1rx1s\">활동 중</div></div></div></div></div><div class=\"x9f619 x1n2onr6 x1ja2u2z x78zum5 x1iyjqo2 xs83m0k xeuugli x1qughib x6s0dn4 x1a02dak x1q0g3np xdl72j9\"><div class=\"x9f619 x1n2onr6 x1ja2u2z x78zum5 xdt5ytf x2lah0s x193iq5w xeuugli x1iyjqo2\"><div class=\"x9f619 xjbqb8w x78zum5 x168nmei x13lgxp2 x5pf9jr xo71vjh x1uhb9sk x1plvlek xryxfnj x1c4vz4f x2lah0s x1q0g3np xqjyukv x6s0dn4 x1oa3qoh x1nhvcw1\" style=\"width: 244px;\"><span class=\"x1lliihq x1plvlek xryxfnj x1n2onr6 x193iq5w xeuugli x1fj9vlw x13faqbe x1vvkbs x1s928wv xhkezso x1gmr53x x1cpjm7i x1fgarty x1943h6x x1i0vuye xvs91rp xo1l8bm x5n08af x1tu3fi x3x7a5m x10wh9bi x1wdrske x8viiok x18hxmgj\" dir=\"auto\" style=\"line-height: var(--base-line-clamp-line-height); --base-line-clamp-line-height: 18px;\"><span class=\"x1lliihq x193iq5w x6ikm8r x10wlt62 xlyipyv xuxw1ft\">태수</span></span><div class=\"x9f619 xjbqb8w x78zum5 x168nmei x13lgxp2 x5pf9jr xo71vjh xsgj6o6 x1uhb9sk x1plvlek xryxfnj x1c4vz4f x2lah0s xdt5ytf xqjyukv x1qjc9v5 x1oa3qoh x1nhvcw1\"></div></div><div style=\"height: 8px;\"></div><div class=\"x6s0dn4 x78zum5\"><div class=\"x9f619 xjbqb8w x78zum5 x168nmei x13lgxp2 x5pf9jr xo71vjh x1uhb9sk x1plvlek xryxfnj x1c4vz4f x2lah0s x1q0g3np xqjyukv x6s0dn4 x1oa3qoh x1nhvcw1 xmix8c7 xh8yej3\"><span class=\"x1lliihq x1plvlek xryxfnj x1n2onr6 x193iq5w xeuugli x1fj9vlw x13faqbe x1vvkbs x1s928wv xhkezso x1gmr53x x1cpjm7i x1fgarty x1943h6x x1i0vuye x1fhwpqd xo1l8bm x1roi4f4 x1s3etm8 x676frb x10wh9bi x1wdrske x8viiok x18hxmgj\" dir=\"auto\" style=\"line-height: var(--base-line-clamp-line-height); --base-line-clamp-line-height: 16px;\"><span class=\"x1lliihq x193iq5w x6ikm8r x10wlt62 xlyipyv xuxw1ft\">현재 활동 중</span></span></div></div></div></div><div class=\"x9f619 x1n2onr6 x1ja2u2z xdt5ytf x2lah0s x193iq5w xeuugli x78zum5\"><div class=\"x78zum5 x2lah0s x1ye3gou\"><div class=\"x9f619 xjbqb8w x78zum5 x168nmei x13lgxp2 x5pf9jr xo71vjh x1uhb9sk x1plvlek xryxfnj x1c4vz4f x1q0g3np xqjyukv x6s0dn4 x1oa3qoh x13a6bvl x2lah0s\"></div></div></div></div></div></div>,\n",
       " <div class=\"x1i10hfl x1qjc9v5 xjbqb8w xjqpnuy xa49m3k xqeqjp1 x2hbi6w x13fuv20 xu3j5b3 x1q0q8m5 x26u7qi x972fbf xcfux6l x1qhh985 xm0m39n x9f619 x1ypdohk xdl72j9 x2lah0s xe8uvvx x2lwn1j xeuugli x1n2onr6 x16tdsg8 x1hl2dhg xggy1nq x1ja2u2z x1t137rt x1q0g3np x87ps6o x1lku1pv x1a2a7pz x168nmei x13lgxp2 x5pf9jr xo71vjh x1lliihq xdj266r x11i5rnm xat24cr x1mh8g0r xg6hnt2 x18wri0h x1l895ks xbbxn1n xxbr6pl x1y1aw1k xwib8y2\" role=\"button\" tabindex=\"-1\"><div class=\"x9f619 x1n2onr6 x1ja2u2z x1qjc9v5 x78zum5 xdt5ytf x1iyjqo2 xl56j7k xeuugli xxsgkw5\" role=\"listitem\"><div class=\"x9f619 x1n2onr6 x1ja2u2z x78zum5 x2lah0s x1qughib x6s0dn4 xozqiw3 x1q0g3np\"><div class=\"x9f619 x1n2onr6 x1ja2u2z xdt5ytf x2lah0s x193iq5w xeuugli x78zum5\"><div class=\"x78zum5 x2lah0s xn6708d\"><div class=\"x1n2onr6\" style=\"height: 56px; width: 56px;\"><span class=\"x14yjl9h xudhj91 x18nykt9 xww2gxu x1lliihq x6ikm8r x10wlt62 x1n2onr6 xzfakq x7imw91 x1j8hi7x x5aw536 x194ut8o x1vzenxt xd7ygy7 xt298gk xynf4tj xdspwft x1r9ni5o x1d52zm6 xoiy6we x15xhmf9 x1qj619r x15tem40 x1xrz1ek x1s928wv x1n449xj x2q1x1w x1j6awrg x162n7g1 x1m1drc7\" style=\"height: 56px; width: 56px;\"><img alt=\"사용자 아바타\" class=\"x5yr21d xl1xv1r xh8yej3\" height=\"56\" referrerpolicy=\"origin-when-cross-origin\" src=\"https://scontent-ssn1-1.cdninstagram.com/v/t51.2885-19/356239661_579247577743378_303057475446035063_n.jpg?stp=dst-jpg_s100x100&amp;_nc_cat=106&amp;ccb=1-7&amp;_nc_sid=c4dd86&amp;_nc_ohc=70ZeHF541DgAX9AqGrO&amp;_nc_ad=z-m&amp;_nc_cid=0&amp;_nc_ht=scontent-ssn1-1.cdninstagram.com&amp;oh=00_AfAAHnjj4TM2ByrrrWjIV4MNpNJEhGpG_HuVBEsqNF6yyQ&amp;oe=65450800\" width=\"56\"/></span></div></div></div><div class=\"x9f619 x1n2onr6 x1ja2u2z x78zum5 x1iyjqo2 xs83m0k xeuugli x1qughib x6s0dn4 x1a02dak x1q0g3np xdl72j9\"><div class=\"x9f619 x1n2onr6 x1ja2u2z x78zum5 xdt5ytf x2lah0s x193iq5w xeuugli x1iyjqo2\"><div class=\"x9f619 xjbqb8w x78zum5 x168nmei x13lgxp2 x5pf9jr xo71vjh x1uhb9sk x1plvlek xryxfnj x1c4vz4f x2lah0s x1q0g3np xqjyukv x6s0dn4 x1oa3qoh x1nhvcw1\" style=\"width: 244px;\"><span class=\"x1lliihq x1plvlek xryxfnj x1n2onr6 x193iq5w xeuugli x1fj9vlw x13faqbe x1vvkbs x1s928wv xhkezso x1gmr53x x1cpjm7i x1fgarty x1943h6x x1i0vuye xvs91rp xo1l8bm x5n08af x1tu3fi x3x7a5m x10wh9bi x1wdrske x8viiok x18hxmgj\" dir=\"auto\" style=\"line-height: var(--base-line-clamp-line-height); --base-line-clamp-line-height: 18px;\"><span class=\"x1lliihq x193iq5w x6ikm8r x10wlt62 xlyipyv xuxw1ft\">Vee</span></span><div class=\"x9f619 xjbqb8w x78zum5 x168nmei x13lgxp2 x5pf9jr xo71vjh xsgj6o6 x1uhb9sk x1plvlek xryxfnj x1c4vz4f x2lah0s xdt5ytf xqjyukv x1qjc9v5 x1oa3qoh x1nhvcw1\"></div></div><div style=\"height: 8px;\"></div><div class=\"x6s0dn4 x78zum5\"><div class=\"x9f619 xjbqb8w x78zum5 x168nmei x13lgxp2 x5pf9jr xo71vjh x1uhb9sk x1plvlek xryxfnj x1c4vz4f x2lah0s x1q0g3np xqjyukv x6s0dn4 x1oa3qoh x1nhvcw1 xmix8c7 xh8yej3\"><span class=\"x1lliihq x1plvlek xryxfnj x1n2onr6 x193iq5w xeuugli x1fj9vlw x13faqbe x1vvkbs x1s928wv xhkezso x1gmr53x x1cpjm7i x1fgarty x1943h6x x1i0vuye x1fhwpqd xo1l8bm x1roi4f4 x1s3etm8 x676frb x10wh9bi x1wdrske x8viiok x18hxmgj\" dir=\"auto\" style=\"line-height: var(--base-line-clamp-line-height); --base-line-clamp-line-height: 16px;\"><span class=\"x1lliihq x193iq5w x6ikm8r x10wlt62 xlyipyv xuxw1ft\">과제 하고 있어 ㅋㅋ</span></span><span class=\"x1roi4f4 x2lah0s xdj266r xw3qccf xat24cr xsgj6o6\"><span><span class=\"xzpqnlu xjm9jq1 x6ikm8r x10wlt62 x10l6tqk x1i1rx1s\"> </span><span aria-hidden=\"true\"> · </span></span></span><div class=\"x2lah0s xeuugli\"><span class=\"x1lliihq x1plvlek xryxfnj x1n2onr6 x193iq5w xeuugli x1fj9vlw x13faqbe x1vvkbs x1s928wv xhkezso x1gmr53x x1cpjm7i x1fgarty x1943h6x x1i0vuye x1fhwpqd xo1l8bm x1roi4f4 x1s3etm8 x676frb x10wh9bi x1wdrske x8viiok x18hxmgj\" dir=\"auto\" style=\"line-height: var(--base-line-clamp-line-height); --base-line-clamp-line-height: 16px;\"><span class=\"x1lliihq x193iq5w x6ikm8r x10wlt62 xlyipyv xuxw1ft\"><div class=\"xuxw1ft\">1주</div></span></span></div></div></div></div></div><div class=\"x9f619 x1n2onr6 x1ja2u2z xdt5ytf x2lah0s x193iq5w xeuugli x78zum5\"><div class=\"x78zum5 x2lah0s x1ye3gou\"><div class=\"x9f619 xjbqb8w x78zum5 x168nmei x13lgxp2 x5pf9jr xo71vjh x1uhb9sk x1plvlek xryxfnj x1c4vz4f x1q0g3np xqjyukv x6s0dn4 x1oa3qoh x13a6bvl x2lah0s\"></div></div></div></div></div></div>,\n",
       " <div class=\"x1i10hfl x1qjc9v5 xjbqb8w xjqpnuy xa49m3k xqeqjp1 x2hbi6w x13fuv20 xu3j5b3 x1q0q8m5 x26u7qi x972fbf xcfux6l x1qhh985 xm0m39n x9f619 x1ypdohk xdl72j9 x2lah0s xe8uvvx x2lwn1j xeuugli x1n2onr6 x16tdsg8 x1hl2dhg xggy1nq x1ja2u2z x1t137rt x1q0g3np x87ps6o x1lku1pv x1a2a7pz x168nmei x13lgxp2 x5pf9jr xo71vjh x1lliihq xdj266r x11i5rnm xat24cr x1mh8g0r xg6hnt2 x18wri0h x1l895ks xbbxn1n xxbr6pl x1y1aw1k xwib8y2\" role=\"button\" tabindex=\"-1\"><div class=\"x9f619 x1n2onr6 x1ja2u2z x1qjc9v5 x78zum5 xdt5ytf x1iyjqo2 xl56j7k xeuugli xxsgkw5\" role=\"listitem\"><div class=\"x9f619 x1n2onr6 x1ja2u2z x78zum5 x2lah0s x1qughib x6s0dn4 xozqiw3 x1q0g3np\"><div class=\"x9f619 x1n2onr6 x1ja2u2z xdt5ytf x2lah0s x193iq5w xeuugli x78zum5\"><div class=\"x78zum5 x2lah0s xn6708d\"><div class=\"x1n2onr6\" style=\"height: 56px; width: 56px;\"><span class=\"x14yjl9h xudhj91 x18nykt9 xww2gxu x1lliihq x6ikm8r x10wlt62 x1n2onr6 xzfakq x7imw91 x1j8hi7x x5aw536 x194ut8o x1vzenxt xd7ygy7 xt298gk xynf4tj xdspwft x1r9ni5o x1d52zm6 xoiy6we x15xhmf9 x1qj619r x15tem40 x1xrz1ek x1s928wv x1n449xj x2q1x1w x1j6awrg x162n7g1 x1m1drc7\" style=\"height: 56px; width: 56px;\"><img alt=\"사용자 아바타\" class=\"x5yr21d xl1xv1r xh8yej3\" height=\"56\" referrerpolicy=\"origin-when-cross-origin\" src=\"https://scontent-ssn1-1.cdninstagram.com/v/t51.2885-19/273120973_157332216648372_4991868952205243470_n.jpg?stp=dst-jpg_s100x100&amp;_nc_cat=104&amp;ccb=1-7&amp;_nc_sid=c4dd86&amp;_nc_ohc=wvfuwG0M7UUAX-qPg8O&amp;_nc_ad=z-m&amp;_nc_cid=0&amp;_nc_ht=scontent-ssn1-1.cdninstagram.com&amp;oh=00_AfBDO3vc5BMFvm72RP6kbk0x-I3bBc9kQx6s_vQzYZyVrw&amp;oe=65442883\" width=\"56\"/></span></div></div></div><div class=\"x9f619 x1n2onr6 x1ja2u2z x78zum5 x1iyjqo2 xs83m0k xeuugli x1qughib x6s0dn4 x1a02dak x1q0g3np xdl72j9\"><div class=\"x9f619 x1n2onr6 x1ja2u2z x78zum5 xdt5ytf x2lah0s x193iq5w xeuugli x1iyjqo2\"><div class=\"x9f619 xjbqb8w x78zum5 x168nmei x13lgxp2 x5pf9jr xo71vjh x1uhb9sk x1plvlek xryxfnj x1c4vz4f x2lah0s x1q0g3np xqjyukv x6s0dn4 x1oa3qoh x1nhvcw1\" style=\"width: 244px;\"><span class=\"x1lliihq x1plvlek xryxfnj x1n2onr6 x193iq5w xeuugli x1fj9vlw x13faqbe x1vvkbs x1s928wv xhkezso x1gmr53x x1cpjm7i x1fgarty x1943h6x x1i0vuye xvs91rp xo1l8bm x5n08af x1tu3fi x3x7a5m x10wh9bi x1wdrske x8viiok x18hxmgj\" dir=\"auto\" style=\"line-height: var(--base-line-clamp-line-height); --base-line-clamp-line-height: 18px;\"><span class=\"x1lliihq x193iq5w x6ikm8r x10wlt62 xlyipyv xuxw1ft\">*록향*</span></span><div class=\"x9f619 xjbqb8w x78zum5 x168nmei x13lgxp2 x5pf9jr xo71vjh xsgj6o6 x1uhb9sk x1plvlek xryxfnj x1c4vz4f x2lah0s xdt5ytf xqjyukv x1qjc9v5 x1oa3qoh x1nhvcw1\"></div></div><div style=\"height: 8px;\"></div><div class=\"x6s0dn4 x78zum5\"><div class=\"x9f619 xjbqb8w x78zum5 x168nmei x13lgxp2 x5pf9jr xo71vjh x1uhb9sk x1plvlek xryxfnj x1c4vz4f x2lah0s x1q0g3np xqjyukv x6s0dn4 x1oa3qoh x1nhvcw1 xmix8c7 xh8yej3\"><span class=\"x1lliihq x1plvlek xryxfnj x1n2onr6 x193iq5w xeuugli x1fj9vlw x13faqbe x1vvkbs x1s928wv xhkezso x1gmr53x x1cpjm7i x1fgarty x1943h6x x1i0vuye x1fhwpqd xo1l8bm x1roi4f4 x1s3etm8 x676frb x10wh9bi x1wdrske x8viiok x18hxmgj\" dir=\"auto\" style=\"line-height: var(--base-line-clamp-line-height); --base-line-clamp-line-height: 16px;\"><span class=\"x1lliihq x193iq5w x6ikm8r x10wlt62 xlyipyv xuxw1ft\">16시간 전에 활동</span></span></div></div></div></div><div class=\"x9f619 x1n2onr6 x1ja2u2z xdt5ytf x2lah0s x193iq5w xeuugli x78zum5\"><div class=\"x78zum5 x2lah0s x1ye3gou\"><div class=\"x9f619 xjbqb8w x78zum5 x168nmei x13lgxp2 x5pf9jr xo71vjh x1uhb9sk x1plvlek xryxfnj x1c4vz4f x1q0g3np xqjyukv x6s0dn4 x1oa3qoh x13a6bvl x2lah0s\"></div></div></div></div></div></div>,\n",
       " <div class=\"x1i10hfl x1qjc9v5 xjbqb8w xjqpnuy xa49m3k xqeqjp1 x2hbi6w x13fuv20 xu3j5b3 x1q0q8m5 x26u7qi x972fbf xcfux6l x1qhh985 xm0m39n x9f619 x1ypdohk xdl72j9 x2lah0s xe8uvvx x2lwn1j xeuugli x1n2onr6 x16tdsg8 x1hl2dhg xggy1nq x1ja2u2z x1t137rt x1q0g3np x87ps6o x1lku1pv x1a2a7pz x168nmei x13lgxp2 x5pf9jr xo71vjh x1lliihq xdj266r x11i5rnm xat24cr x1mh8g0r xg6hnt2 x18wri0h x1l895ks xbbxn1n xxbr6pl x1y1aw1k xwib8y2\" role=\"button\" tabindex=\"-1\"><div class=\"x9f619 x1n2onr6 x1ja2u2z x1qjc9v5 x78zum5 xdt5ytf x1iyjqo2 xl56j7k xeuugli xxsgkw5\" role=\"listitem\"><div class=\"x9f619 x1n2onr6 x1ja2u2z x78zum5 x2lah0s x1qughib x6s0dn4 xozqiw3 x1q0g3np\"><div class=\"x9f619 x1n2onr6 x1ja2u2z xdt5ytf x2lah0s x193iq5w xeuugli x78zum5\"><div class=\"x78zum5 x2lah0s xn6708d\"><div class=\"x1n2onr6\" style=\"height: 56px; width: 56px;\"><span class=\"x14yjl9h xudhj91 x18nykt9 xww2gxu x1lliihq x6ikm8r x10wlt62 x1n2onr6 xzfakq x7imw91 x1j8hi7x x5aw536 x194ut8o x1vzenxt xd7ygy7 xt298gk xynf4tj xdspwft x1r9ni5o x1d52zm6 xoiy6we x15xhmf9 x1qj619r x15tem40 x1xrz1ek x1s928wv x1n449xj x2q1x1w x1j6awrg x162n7g1 x1m1drc7\" style=\"height: 56px; width: 56px;\"><img alt=\"사용자 아바타\" class=\"x5yr21d xl1xv1r xh8yej3\" height=\"56\" referrerpolicy=\"origin-when-cross-origin\" src=\"https://scontent-ssn1-1.cdninstagram.com/v/t51.2885-19/62624377_2144924779081492_3814984754843877376_n.jpg?stp=dst-jpg_s100x100&amp;_nc_cat=108&amp;ccb=1-7&amp;_nc_sid=c4dd86&amp;_nc_ohc=e_D7UjcP_-QAX_SwQDx&amp;_nc_ad=z-m&amp;_nc_cid=0&amp;_nc_ht=scontent-ssn1-1.cdninstagram.com&amp;oh=00_AfB1GMt6hF2KtnUqB6SWIhTEXpkG2DbLh92rMfmDEDEZQA&amp;oe=654482B4\" width=\"56\"/></span></div></div></div><div class=\"x9f619 x1n2onr6 x1ja2u2z x78zum5 x1iyjqo2 xs83m0k xeuugli x1qughib x6s0dn4 x1a02dak x1q0g3np xdl72j9\"><div class=\"x9f619 x1n2onr6 x1ja2u2z x78zum5 xdt5ytf x2lah0s x193iq5w xeuugli x1iyjqo2\"><div class=\"x9f619 xjbqb8w x78zum5 x168nmei x13lgxp2 x5pf9jr xo71vjh x1uhb9sk x1plvlek xryxfnj x1c4vz4f x2lah0s x1q0g3np xqjyukv x6s0dn4 x1oa3qoh x1nhvcw1\" style=\"width: 244px;\"><span class=\"x1lliihq x1plvlek xryxfnj x1n2onr6 x193iq5w xeuugli x1fj9vlw x13faqbe x1vvkbs x1s928wv xhkezso x1gmr53x x1cpjm7i x1fgarty x1943h6x x1i0vuye xvs91rp xo1l8bm x5n08af x1tu3fi x3x7a5m x10wh9bi x1wdrske x8viiok x18hxmgj\" dir=\"auto\" style=\"line-height: var(--base-line-clamp-line-height); --base-line-clamp-line-height: 18px;\"><span class=\"x1lliihq x193iq5w x6ikm8r x10wlt62 xlyipyv xuxw1ft\">note_than</span></span><div class=\"x9f619 xjbqb8w x78zum5 x168nmei x13lgxp2 x5pf9jr xo71vjh xsgj6o6 x1uhb9sk x1plvlek xryxfnj x1c4vz4f x2lah0s xdt5ytf xqjyukv x1qjc9v5 x1oa3qoh x1nhvcw1\"></div></div><div style=\"height: 8px;\"></div><div class=\"x6s0dn4 x78zum5\"><div class=\"x9f619 xjbqb8w x78zum5 x168nmei x13lgxp2 x5pf9jr xo71vjh x1uhb9sk x1plvlek xryxfnj x1c4vz4f x2lah0s x1q0g3np xqjyukv x6s0dn4 x1oa3qoh x1nhvcw1 xmix8c7 xh8yej3\"><span class=\"x1lliihq x1plvlek xryxfnj x1n2onr6 x193iq5w xeuugli x1fj9vlw x13faqbe x1vvkbs x1s928wv xhkezso x1gmr53x x1cpjm7i x1fgarty x1943h6x x1i0vuye x1fhwpqd xo1l8bm x1roi4f4 x1s3etm8 x676frb x10wh9bi x1wdrske x8viiok x18hxmgj\" dir=\"auto\" style=\"line-height: var(--base-line-clamp-line-height); --base-line-clamp-line-height: 16px;\"><span class=\"x1lliihq x193iq5w x6ikm8r x10wlt62 xlyipyv xuxw1ft\">知り合いじゃないのにフォローしごめんなさい…\n",
       " 友達が少ないのでこれから仲良くできたら嬉しいです(๑❛ꆚ❛๑)\n",
       " instaは見る専用なので投稿は少ないと思います\n",
       " あとラインしませんか？instaのDMだと分かりにくいので…\n",
       " \n",
       " n64m7がIDでみゆです\n",
       " 友達追加出来たらスタンプでもいいので声をかけてくださいね♪\n",
       " 自己紹介もちゃんとしたいしライン待ってます♪</span></span><span class=\"x1roi4f4 x2lah0s xdj266r xw3qccf xat24cr xsgj6o6\"><span><span class=\"xzpqnlu xjm9jq1 x6ikm8r x10wlt62 x10l6tqk x1i1rx1s\"> </span><span aria-hidden=\"true\"> · </span></span></span><div class=\"x2lah0s xeuugli\"><span class=\"x1lliihq x1plvlek xryxfnj x1n2onr6 x193iq5w xeuugli x1fj9vlw x13faqbe x1vvkbs x1s928wv xhkezso x1gmr53x x1cpjm7i x1fgarty x1943h6x x1i0vuye x1fhwpqd xo1l8bm x1roi4f4 x1s3etm8 x676frb x10wh9bi x1wdrske x8viiok x18hxmgj\" dir=\"auto\" style=\"line-height: var(--base-line-clamp-line-height); --base-line-clamp-line-height: 16px;\"><span class=\"x1lliihq x193iq5w x6ikm8r x10wlt62 xlyipyv xuxw1ft\"><div class=\"xuxw1ft\">4년</div></span></span></div></div></div></div></div><div class=\"x9f619 x1n2onr6 x1ja2u2z xdt5ytf x2lah0s x193iq5w xeuugli x78zum5\"><div class=\"x78zum5 x2lah0s x1ye3gou\"><div class=\"x9f619 xjbqb8w x78zum5 x168nmei x13lgxp2 x5pf9jr xo71vjh x1uhb9sk x1plvlek xryxfnj x1c4vz4f x1q0g3np xqjyukv x6s0dn4 x1oa3qoh x13a6bvl x2lah0s\"></div></div></div></div></div></div>]"
      ]
     },
     "metadata": {},
     "output_type": "display_data"
    }
   ],
   "source": [
    "# 현재 페이지의 HTML을 가져옴\n",
    "page_source = driver.page_source\n",
    "soup = BeautifulSoup(page_source, 'html.parser')\n",
    "\n",
    "# 대화방을 나타내는 클래스 이름\n",
    "chatroom_class = \"x1i10hfl x1qjc9v5 xjbqb8w xjqpnuy xa49m3k xqeqjp1 x2hbi6w x13fuv20 xu3j5b3 x1q0q8m5 x26u7qi x972fbf xcfux6l x1qhh985 xm0m39n x9f619 x1ypdohk xdl72j9 x2lah0s xe8uvvx x2lwn1j xeuugli x1n2onr6 x16tdsg8 x1hl2dhg xggy1nq x1ja2u2z x1t137rt x1q0g3np x87ps6o x1lku1pv x1a2a7pz x168nmei x13lgxp2 x5pf9jr xo71vjh x1lliihq xdj266r x11i5rnm xat24cr x1mh8g0r xg6hnt2 x18wri0h x1l895ks xbbxn1n xxbr6pl x1y1aw1k xwib8y2\"\n",
    "\n",
    "# 대화방 목록 찾기\n",
    "chatrooms = soup.find_all(class_=chatroom_class)\n",
    "chatrooms "
   ]
  },
  {
   "cell_type": "code",
   "execution_count": null,
   "metadata": {},
   "outputs": [
    {
     "data": {
      "text/plain": [
       "'태수'"
      ]
     },
     "metadata": {},
     "output_type": "display_data"
    }
   ],
   "source": [
    "# 첫 번째 span 태그구만!\n",
    "\n",
    "def find_participant_name_by_class(chatroom_element):\n",
    "    try:\n",
    "        # Find the span containing the participant's name using class attributes\n",
    "        name_span = chatroom_element.find(\"span\", class_=\"x1lliihq x193iq5w x6ikm8r x10wlt62 xlyipyv xuxw1ft\")\n",
    "        return name_span.get_text() if name_span else \"Name not found\"\n",
    "    except Exception as e:\n",
    "        return \"Error: \" + str(e)\n",
    "    \n",
    "find_participant_name_by_class(chatrooms[0])"
   ]
  },
  {
   "cell_type": "code",
   "execution_count": null,
   "metadata": {},
   "outputs": [
    {
     "name": "stdout",
     "output_type": "stream",
     "text": [
      "태수\n",
      "Vee\n",
      "*록향*\n",
      "note_than\n"
     ]
    }
   ],
   "source": [
    "for chatroom in chatrooms:\n",
    "    print(find_participant_name_by_class(chatroom))"
   ]
  },
  {
   "cell_type": "markdown",
   "metadata": {},
   "source": [
    "- 결과가 똑같아 보이는 걸로 봐서 new_message_windows[0].click()로 해당 대화창으로 이동해도 전체 page_source와 html 구조는 그대로인 듯\n",
    "- 대화방을 나타내는 클래스 이름이 채팅방 이동과 무관하게 존재하는 상위 태그인 듯?"
   ]
  },
  {
   "cell_type": "code",
   "execution_count": null,
   "metadata": {},
   "outputs": [
    {
     "data": {
      "text/plain": [
       "[<div class=\"x1i10hfl x1qjc9v5 xjbqb8w xjqpnuy xa49m3k xqeqjp1 x2hbi6w x13fuv20 xu3j5b3 x1q0q8m5 x26u7qi x972fbf xcfux6l x1qhh985 xm0m39n x9f619 x1ypdohk xdl72j9 x2lah0s xe8uvvx x2lwn1j xeuugli x1n2onr6 x16tdsg8 x1hl2dhg xggy1nq x1ja2u2z x1t137rt x1q0g3np x87ps6o x1lku1pv x1a2a7pz x168nmei x13lgxp2 x5pf9jr xo71vjh x1lliihq xdj266r x11i5rnm xat24cr x1mh8g0r xg6hnt2 x18wri0h x1l895ks xbbxn1n xxbr6pl x1y1aw1k xwib8y2\" role=\"button\" tabindex=\"-1\"><div class=\"x9f619 x1n2onr6 x1ja2u2z x1qjc9v5 x78zum5 xdt5ytf x1iyjqo2 xl56j7k xeuugli xxsgkw5\" role=\"listitem\"><div class=\"x9f619 x1n2onr6 x1ja2u2z x78zum5 x2lah0s x1qughib x6s0dn4 xozqiw3 x1q0g3np\"><div class=\"x9f619 x1n2onr6 x1ja2u2z xdt5ytf x2lah0s x193iq5w xeuugli x78zum5\"><div class=\"x78zum5 x2lah0s xn6708d\"><div class=\"x1n2onr6\" style=\"height: 56px; width: 56px;\"><span class=\"x14yjl9h xudhj91 x18nykt9 xww2gxu x1lliihq x6ikm8r x10wlt62 x1n2onr6 xzfakq x7imw91 x1j8hi7x x5aw536 x194ut8o x1vzenxt xd7ygy7 xt298gk xynf4tj xdspwft x1r9ni5o x1d52zm6 xoiy6we x15xhmf9 x1qj619r x15tem40 x1xrz1ek x1s928wv x1n449xj x2q1x1w x1j6awrg x162n7g1 x1m1drc7\" style=\"height: 56px; width: 56px;\"><img alt=\"사용자 아바타\" class=\"x5yr21d xl1xv1r xh8yej3\" height=\"56\" referrerpolicy=\"origin-when-cross-origin\" src=\"https://scontent-ssn1-1.cdninstagram.com/v/t51.2885-19/356239661_579247577743378_303057475446035063_n.jpg?stp=dst-jpg_s100x100&amp;_nc_cat=106&amp;ccb=1-7&amp;_nc_sid=c4dd86&amp;_nc_ohc=70ZeHF541DgAX9AqGrO&amp;_nc_ad=z-m&amp;_nc_cid=0&amp;_nc_ht=scontent-ssn1-1.cdninstagram.com&amp;oh=00_AfAAHnjj4TM2ByrrrWjIV4MNpNJEhGpG_HuVBEsqNF6yyQ&amp;oe=65450800\" width=\"56\"/></span></div></div></div><div class=\"x9f619 x1n2onr6 x1ja2u2z x78zum5 x1iyjqo2 xs83m0k xeuugli x1qughib x6s0dn4 x1a02dak x1q0g3np xdl72j9\"><div class=\"x9f619 x1n2onr6 x1ja2u2z x78zum5 xdt5ytf x2lah0s x193iq5w xeuugli x1iyjqo2\"><div class=\"x9f619 xjbqb8w x78zum5 x168nmei x13lgxp2 x5pf9jr xo71vjh x1uhb9sk x1plvlek xryxfnj x1c4vz4f x2lah0s x1q0g3np xqjyukv x6s0dn4 x1oa3qoh x1nhvcw1\" style=\"width: 244px;\"><span class=\"x1lliihq x1plvlek xryxfnj x1n2onr6 x193iq5w xeuugli x1fj9vlw x13faqbe x1vvkbs x1s928wv xhkezso x1gmr53x x1cpjm7i x1fgarty x1943h6x x1i0vuye xvs91rp xo1l8bm x5n08af x1tu3fi x3x7a5m x10wh9bi x1wdrske x8viiok x18hxmgj\" dir=\"auto\" style=\"line-height: var(--base-line-clamp-line-height); --base-line-clamp-line-height: 18px;\"><span class=\"x1lliihq x193iq5w x6ikm8r x10wlt62 xlyipyv xuxw1ft\">Vee</span></span><div class=\"x9f619 xjbqb8w x78zum5 x168nmei x13lgxp2 x5pf9jr xo71vjh xsgj6o6 x1uhb9sk x1plvlek xryxfnj x1c4vz4f x2lah0s xdt5ytf xqjyukv x1qjc9v5 x1oa3qoh x1nhvcw1\"></div></div><div style=\"height: 8px;\"></div><div class=\"x6s0dn4 x78zum5\"><div class=\"x9f619 xjbqb8w x78zum5 x168nmei x13lgxp2 x5pf9jr xo71vjh x1uhb9sk x1plvlek xryxfnj x1c4vz4f x2lah0s x1q0g3np xqjyukv x6s0dn4 x1oa3qoh x1nhvcw1 xmix8c7 xh8yej3\"><span class=\"x1lliihq x1plvlek xryxfnj x1n2onr6 x193iq5w xeuugli x1fj9vlw x13faqbe x1vvkbs x1s928wv xhkezso x1gmr53x x1cpjm7i x1fgarty x1943h6x x1i0vuye x1fhwpqd xo1l8bm x1roi4f4 x1s3etm8 x676frb x10wh9bi x1wdrske x8viiok x18hxmgj\" dir=\"auto\" style=\"line-height: var(--base-line-clamp-line-height); --base-line-clamp-line-height: 16px;\"><span class=\"x1lliihq x193iq5w x6ikm8r x10wlt62 xlyipyv xuxw1ft\">과제 하고 있어 ㅋㅋ</span></span><span class=\"x1roi4f4 x2lah0s xdj266r xw3qccf xat24cr xsgj6o6\"><span><span class=\"xzpqnlu xjm9jq1 x6ikm8r x10wlt62 x10l6tqk x1i1rx1s\"> </span><span aria-hidden=\"true\"> · </span></span></span><div class=\"x2lah0s xeuugli\"><span class=\"x1lliihq x1plvlek xryxfnj x1n2onr6 x193iq5w xeuugli x1fj9vlw x13faqbe x1vvkbs x1s928wv xhkezso x1gmr53x x1cpjm7i x1fgarty x1943h6x x1i0vuye x1fhwpqd xo1l8bm x1roi4f4 x1s3etm8 x676frb x10wh9bi x1wdrske x8viiok x18hxmgj\" dir=\"auto\" style=\"line-height: var(--base-line-clamp-line-height); --base-line-clamp-line-height: 16px;\"><span class=\"x1lliihq x193iq5w x6ikm8r x10wlt62 xlyipyv xuxw1ft\"><div class=\"xuxw1ft\">1주</div></span></span></div></div></div></div></div><div class=\"x9f619 x1n2onr6 x1ja2u2z xdt5ytf x2lah0s x193iq5w xeuugli x78zum5\"><div class=\"x78zum5 x2lah0s x1ye3gou\"><div class=\"x9f619 xjbqb8w x78zum5 x168nmei x13lgxp2 x5pf9jr xo71vjh x1uhb9sk x1plvlek xryxfnj x1c4vz4f x1q0g3np xqjyukv x6s0dn4 x1oa3qoh x13a6bvl x2lah0s\"></div></div></div></div></div></div>,\n",
       " <div class=\"x1i10hfl x1qjc9v5 xjbqb8w xjqpnuy xa49m3k xqeqjp1 x2hbi6w x13fuv20 xu3j5b3 x1q0q8m5 x26u7qi x972fbf xcfux6l x1qhh985 xm0m39n x9f619 x1ypdohk xdl72j9 x2lah0s xe8uvvx x2lwn1j xeuugli x1n2onr6 x16tdsg8 x1hl2dhg xggy1nq x1ja2u2z x1t137rt x1q0g3np x87ps6o x1lku1pv x1a2a7pz x168nmei x13lgxp2 x5pf9jr xo71vjh x1lliihq xdj266r x11i5rnm xat24cr x1mh8g0r xg6hnt2 x18wri0h x1l895ks xbbxn1n xxbr6pl x1y1aw1k xwib8y2\" role=\"button\" tabindex=\"-1\"><div class=\"x9f619 x1n2onr6 x1ja2u2z x1qjc9v5 x78zum5 xdt5ytf x1iyjqo2 xl56j7k xeuugli xxsgkw5\" role=\"listitem\"><div class=\"x9f619 x1n2onr6 x1ja2u2z x78zum5 x2lah0s x1qughib x6s0dn4 xozqiw3 x1q0g3np\"><div class=\"x9f619 x1n2onr6 x1ja2u2z xdt5ytf x2lah0s x193iq5w xeuugli x78zum5\"><div class=\"x78zum5 x2lah0s xn6708d\"><div class=\"x1n2onr6\" style=\"height: 56px; width: 56px;\"><span class=\"x14yjl9h xudhj91 x18nykt9 xww2gxu x1lliihq x6ikm8r x10wlt62 x1n2onr6 xzfakq x7imw91 x1j8hi7x x5aw536 x194ut8o x1vzenxt xd7ygy7 xt298gk xynf4tj xdspwft x1r9ni5o x1d52zm6 xoiy6we x15xhmf9 x1qj619r x15tem40 x1xrz1ek x1s928wv x1n449xj x2q1x1w x1j6awrg x162n7g1 x1m1drc7\" style=\"height: 56px; width: 56px;\"><img alt=\"사용자 아바타\" class=\"x5yr21d xl1xv1r xh8yej3\" height=\"56\" referrerpolicy=\"origin-when-cross-origin\" src=\"https://scontent-ssn1-1.cdninstagram.com/v/t51.2885-19/273120973_157332216648372_4991868952205243470_n.jpg?stp=dst-jpg_s100x100&amp;_nc_cat=104&amp;ccb=1-7&amp;_nc_sid=c4dd86&amp;_nc_ohc=wvfuwG0M7UUAX-qPg8O&amp;_nc_ad=z-m&amp;_nc_cid=0&amp;_nc_ht=scontent-ssn1-1.cdninstagram.com&amp;oh=00_AfBDO3vc5BMFvm72RP6kbk0x-I3bBc9kQx6s_vQzYZyVrw&amp;oe=65442883\" width=\"56\"/></span></div></div></div><div class=\"x9f619 x1n2onr6 x1ja2u2z x78zum5 x1iyjqo2 xs83m0k xeuugli x1qughib x6s0dn4 x1a02dak x1q0g3np xdl72j9\"><div class=\"x9f619 x1n2onr6 x1ja2u2z x78zum5 xdt5ytf x2lah0s x193iq5w xeuugli x1iyjqo2\"><div class=\"x9f619 xjbqb8w x78zum5 x168nmei x13lgxp2 x5pf9jr xo71vjh x1uhb9sk x1plvlek xryxfnj x1c4vz4f x2lah0s x1q0g3np xqjyukv x6s0dn4 x1oa3qoh x1nhvcw1\" style=\"width: 244px;\"><span class=\"x1lliihq x1plvlek xryxfnj x1n2onr6 x193iq5w xeuugli x1fj9vlw x13faqbe x1vvkbs x1s928wv xhkezso x1gmr53x x1cpjm7i x1fgarty x1943h6x x1i0vuye xvs91rp xo1l8bm x5n08af x1tu3fi x3x7a5m x10wh9bi x1wdrske x8viiok x18hxmgj\" dir=\"auto\" style=\"line-height: var(--base-line-clamp-line-height); --base-line-clamp-line-height: 18px;\"><span class=\"x1lliihq x193iq5w x6ikm8r x10wlt62 xlyipyv xuxw1ft\">*록향*</span></span><div class=\"x9f619 xjbqb8w x78zum5 x168nmei x13lgxp2 x5pf9jr xo71vjh xsgj6o6 x1uhb9sk x1plvlek xryxfnj x1c4vz4f x2lah0s xdt5ytf xqjyukv x1qjc9v5 x1oa3qoh x1nhvcw1\"></div></div><div style=\"height: 8px;\"></div><div class=\"x6s0dn4 x78zum5\"><div class=\"x9f619 xjbqb8w x78zum5 x168nmei x13lgxp2 x5pf9jr xo71vjh x1uhb9sk x1plvlek xryxfnj x1c4vz4f x2lah0s x1q0g3np xqjyukv x6s0dn4 x1oa3qoh x1nhvcw1 xmix8c7 xh8yej3\"><span class=\"x1lliihq x1plvlek xryxfnj x1n2onr6 x193iq5w xeuugli x1fj9vlw x13faqbe x1vvkbs x1s928wv xhkezso x1gmr53x x1cpjm7i x1fgarty x1943h6x x1i0vuye x1fhwpqd xo1l8bm x1roi4f4 x1s3etm8 x676frb x10wh9bi x1wdrske x8viiok x18hxmgj\" dir=\"auto\" style=\"line-height: var(--base-line-clamp-line-height); --base-line-clamp-line-height: 16px;\"><span class=\"x1lliihq x193iq5w x6ikm8r x10wlt62 xlyipyv xuxw1ft\">16시간 전에 활동</span></span></div></div></div></div><div class=\"x9f619 x1n2onr6 x1ja2u2z xdt5ytf x2lah0s x193iq5w xeuugli x78zum5\"><div class=\"x78zum5 x2lah0s x1ye3gou\"><div class=\"x9f619 xjbqb8w x78zum5 x168nmei x13lgxp2 x5pf9jr xo71vjh x1uhb9sk x1plvlek xryxfnj x1c4vz4f x1q0g3np xqjyukv x6s0dn4 x1oa3qoh x13a6bvl x2lah0s\"></div></div></div></div></div></div>,\n",
       " <div class=\"x1i10hfl x1qjc9v5 xjbqb8w xjqpnuy xa49m3k xqeqjp1 x2hbi6w x13fuv20 xu3j5b3 x1q0q8m5 x26u7qi x972fbf xcfux6l x1qhh985 xm0m39n x9f619 x1ypdohk xdl72j9 x2lah0s xe8uvvx x2lwn1j xeuugli x1n2onr6 x16tdsg8 x1hl2dhg xggy1nq x1ja2u2z x1t137rt x1q0g3np x87ps6o x1lku1pv x1a2a7pz x168nmei x13lgxp2 x5pf9jr xo71vjh x1lliihq xdj266r x11i5rnm xat24cr x1mh8g0r xg6hnt2 x18wri0h x1l895ks xbbxn1n xxbr6pl x1y1aw1k xwib8y2\" role=\"button\" tabindex=\"-1\"><div class=\"x9f619 x1n2onr6 x1ja2u2z x1qjc9v5 x78zum5 xdt5ytf x1iyjqo2 xl56j7k xeuugli xxsgkw5\" role=\"listitem\"><div class=\"x9f619 x1n2onr6 x1ja2u2z x78zum5 x2lah0s x1qughib x6s0dn4 xozqiw3 x1q0g3np\"><div class=\"x9f619 x1n2onr6 x1ja2u2z xdt5ytf x2lah0s x193iq5w xeuugli x78zum5\"><div class=\"x78zum5 x2lah0s xn6708d\"><div class=\"x1n2onr6\" style=\"height: 56px; width: 56px;\"><span class=\"x14yjl9h xudhj91 x18nykt9 xww2gxu x1lliihq x6ikm8r x10wlt62 x1n2onr6 xzfakq x7imw91 x1j8hi7x x5aw536 x194ut8o x1vzenxt xd7ygy7 xt298gk xynf4tj xdspwft x1r9ni5o x1d52zm6 xoiy6we x15xhmf9 x1qj619r x15tem40 x1xrz1ek x1s928wv x1n449xj x2q1x1w x1j6awrg x162n7g1 x1m1drc7\" style=\"height: 56px; width: 56px;\"><img alt=\"사용자 아바타\" class=\"x5yr21d xl1xv1r xh8yej3\" height=\"56\" referrerpolicy=\"origin-when-cross-origin\" src=\"https://scontent-ssn1-1.cdninstagram.com/v/t51.2885-19/62624377_2144924779081492_3814984754843877376_n.jpg?stp=dst-jpg_s100x100&amp;_nc_cat=108&amp;ccb=1-7&amp;_nc_sid=c4dd86&amp;_nc_ohc=e_D7UjcP_-QAX_SwQDx&amp;_nc_ad=z-m&amp;_nc_cid=0&amp;_nc_ht=scontent-ssn1-1.cdninstagram.com&amp;oh=00_AfB1GMt6hF2KtnUqB6SWIhTEXpkG2DbLh92rMfmDEDEZQA&amp;oe=654482B4\" width=\"56\"/></span></div></div></div><div class=\"x9f619 x1n2onr6 x1ja2u2z x78zum5 x1iyjqo2 xs83m0k xeuugli x1qughib x6s0dn4 x1a02dak x1q0g3np xdl72j9\"><div class=\"x9f619 x1n2onr6 x1ja2u2z x78zum5 xdt5ytf x2lah0s x193iq5w xeuugli x1iyjqo2\"><div class=\"x9f619 xjbqb8w x78zum5 x168nmei x13lgxp2 x5pf9jr xo71vjh x1uhb9sk x1plvlek xryxfnj x1c4vz4f x2lah0s x1q0g3np xqjyukv x6s0dn4 x1oa3qoh x1nhvcw1\" style=\"width: 244px;\"><span class=\"x1lliihq x1plvlek xryxfnj x1n2onr6 x193iq5w xeuugli x1fj9vlw x13faqbe x1vvkbs x1s928wv xhkezso x1gmr53x x1cpjm7i x1fgarty x1943h6x x1i0vuye xvs91rp xo1l8bm x5n08af x1tu3fi x3x7a5m x10wh9bi x1wdrske x8viiok x18hxmgj\" dir=\"auto\" style=\"line-height: var(--base-line-clamp-line-height); --base-line-clamp-line-height: 18px;\"><span class=\"x1lliihq x193iq5w x6ikm8r x10wlt62 xlyipyv xuxw1ft\">note_than</span></span><div class=\"x9f619 xjbqb8w x78zum5 x168nmei x13lgxp2 x5pf9jr xo71vjh xsgj6o6 x1uhb9sk x1plvlek xryxfnj x1c4vz4f x2lah0s xdt5ytf xqjyukv x1qjc9v5 x1oa3qoh x1nhvcw1\"></div></div><div style=\"height: 8px;\"></div><div class=\"x6s0dn4 x78zum5\"><div class=\"x9f619 xjbqb8w x78zum5 x168nmei x13lgxp2 x5pf9jr xo71vjh x1uhb9sk x1plvlek xryxfnj x1c4vz4f x2lah0s x1q0g3np xqjyukv x6s0dn4 x1oa3qoh x1nhvcw1 xmix8c7 xh8yej3\"><span class=\"x1lliihq x1plvlek xryxfnj x1n2onr6 x193iq5w xeuugli x1fj9vlw x13faqbe x1vvkbs x1s928wv xhkezso x1gmr53x x1cpjm7i x1fgarty x1943h6x x1i0vuye x1fhwpqd xo1l8bm x1roi4f4 x1s3etm8 x676frb x10wh9bi x1wdrske x8viiok x18hxmgj\" dir=\"auto\" style=\"line-height: var(--base-line-clamp-line-height); --base-line-clamp-line-height: 16px;\"><span class=\"x1lliihq x193iq5w x6ikm8r x10wlt62 xlyipyv xuxw1ft\">知り合いじゃないのにフォローしごめんなさい…\n",
       " 友達が少ないのでこれから仲良くできたら嬉しいです(๑❛ꆚ❛๑)\n",
       " instaは見る専用なので投稿は少ないと思います\n",
       " あとラインしませんか？instaのDMだと分かりにくいので…\n",
       " \n",
       " n64m7がIDでみゆです\n",
       " 友達追加出来たらスタンプでもいいので声をかけてくださいね♪\n",
       " 自己紹介もちゃんとしたいしライン待ってます♪</span></span><span class=\"x1roi4f4 x2lah0s xdj266r xw3qccf xat24cr xsgj6o6\"><span><span class=\"xzpqnlu xjm9jq1 x6ikm8r x10wlt62 x10l6tqk x1i1rx1s\"> </span><span aria-hidden=\"true\"> · </span></span></span><div class=\"x2lah0s xeuugli\"><span class=\"x1lliihq x1plvlek xryxfnj x1n2onr6 x193iq5w xeuugli x1fj9vlw x13faqbe x1vvkbs x1s928wv xhkezso x1gmr53x x1cpjm7i x1fgarty x1943h6x x1i0vuye x1fhwpqd xo1l8bm x1roi4f4 x1s3etm8 x676frb x10wh9bi x1wdrske x8viiok x18hxmgj\" dir=\"auto\" style=\"line-height: var(--base-line-clamp-line-height); --base-line-clamp-line-height: 16px;\"><span class=\"x1lliihq x193iq5w x6ikm8r x10wlt62 xlyipyv xuxw1ft\"><div class=\"xuxw1ft\">4년</div></span></span></div></div></div></div></div><div class=\"x9f619 x1n2onr6 x1ja2u2z xdt5ytf x2lah0s x193iq5w xeuugli x78zum5\"><div class=\"x78zum5 x2lah0s x1ye3gou\"><div class=\"x9f619 xjbqb8w x78zum5 x168nmei x13lgxp2 x5pf9jr xo71vjh x1uhb9sk x1plvlek xryxfnj x1c4vz4f x1q0g3np xqjyukv x6s0dn4 x1oa3qoh x13a6bvl x2lah0s\"></div></div></div></div></div></div>]"
      ]
     },
     "metadata": {},
     "output_type": "display_data"
    }
   ],
   "source": [
    "# 첫 번째 대화창의 html 구조 파싱\n",
    "\n",
    "new_message_windows = driver.find_elements(By.CSS_SELECTOR, '.x1i10hfl.x1qjc9v5.xjbqb8w .x6s0dn4.xzolkzo.x12go9s9.x1rnf11y')\n",
    "new_message_windows[0].click()\n",
    "\n",
    "# 대화 내용이 로드될 때까지 기다림\n",
    "WebDriverWait(driver, 10).until(\n",
    "    EC.presence_of_element_located((By.CSS_SELECTOR, others_msg_selector))\n",
    ")\n",
    "page_source = driver.page_source\n",
    "soup = BeautifulSoup(page_source, 'html.parser')\n",
    "\n",
    "# 대화방을 나타내는 클래스 이름\n",
    "chatroom_class = \"x1i10hfl x1qjc9v5 xjbqb8w xjqpnuy xa49m3k xqeqjp1 x2hbi6w x13fuv20 xu3j5b3 x1q0q8m5 x26u7qi x972fbf xcfux6l x1qhh985 xm0m39n x9f619 x1ypdohk xdl72j9 x2lah0s xe8uvvx x2lwn1j xeuugli x1n2onr6 x16tdsg8 x1hl2dhg xggy1nq x1ja2u2z x1t137rt x1q0g3np x87ps6o x1lku1pv x1a2a7pz x168nmei x13lgxp2 x5pf9jr xo71vjh x1lliihq xdj266r x11i5rnm xat24cr x1mh8g0r xg6hnt2 x18wri0h x1l895ks xbbxn1n xxbr6pl x1y1aw1k xwib8y2\"\n",
    "\n",
    "# 대화방 목록 찾기\n",
    "chatrooms = soup.find_all(class_=chatroom_class)\n",
    "chatrooms"
   ]
  },
  {
   "cell_type": "code",
   "execution_count": null,
   "metadata": {},
   "outputs": [
    {
     "name": "stdout",
     "output_type": "stream",
     "text": [
      "ㅎ2\n"
     ]
    }
   ],
   "source": [
    "recent_date = soup.select(date_selector)[-1].text\n",
    "my_messages = [msg.text for msg in soup.select(my_msg_selector)]\n",
    "others_messages = [msg.text for msg in soup.select(others_msg_selector)]\n",
    "\n",
    "print(others_messages[-1])"
   ]
  },
  {
   "cell_type": "code",
   "execution_count": null,
   "metadata": {},
   "outputs": [],
   "source": [
    "elements = driver.find_elements(By.CSS_SELECTOR, '.x1i10hfl.x1qjc9v5.xjbqb8w .x6s0dn4.xzolkzo.x12go9s9.x1rnf11y')\n",
    "\n",
    "# # 각 요소의 HTML 추출 및 파싱\n",
    "# for element in elements:\n",
    "#     html_content = element.get_attribute('outerHTML')\n",
    "#     soup = BeautifulSoup(html_content, 'html.parser')\n",
    "\n",
    "html_content = elements[0].get_attribute('outerHTML')\n",
    "soup = BeautifulSoup(html_content, 'html.parser')"
   ]
  },
  {
   "cell_type": "code",
   "execution_count": null,
   "metadata": {},
   "outputs": [
    {
     "data": {
      "text/plain": [
       "<span class=\"x6s0dn4 xzolkzo x12go9s9 x1rnf11y xprq8jg x9f619 x3nfvp2 xl56j7k x1tu34mt xdk7pt x1xc55vz x1emribx\" data-visualcompletion=\"ignore\"></span>"
      ]
     },
     "metadata": {},
     "output_type": "display_data"
    }
   ],
   "source": [
    "soup"
   ]
  },
  {
   "cell_type": "code",
   "execution_count": null,
   "metadata": {},
   "outputs": [],
   "source": [
    "soup.find('span', class_='x1lliihq x193iq5w x6ikm8r x10wlt62 xlyipyv xuxw1ft')"
   ]
  },
  {
   "cell_type": "code",
   "execution_count": null,
   "metadata": {},
   "outputs": [
    {
     "data": {
      "text/plain": [
       "[<selenium.webdriver.remote.webelement.WebElement (session=\"6ab68de7e8c4788563b1dd5f3d06fd34\", element=\"369FCFBEAE20AAF727650AF983AE298D_element_1977\")>]"
      ]
     },
     "metadata": {},
     "output_type": "display_data"
    }
   ],
   "source": [
    "# 첫 번째 대화창의 html 구조 파싱\n",
    "new_message_windows = driver.find_elements(By.CSS_SELECTOR, '.x1i10hfl.x1qjc9v5.xjbqb8w .x6s0dn4.xzolkzo.x12go9s9.x1rnf11y')\n",
    "new_message_windows "
   ]
  },
  {
   "cell_type": "code",
   "execution_count": null,
   "metadata": {},
   "outputs": [
    {
     "data": {
      "text/plain": [
       "<span class=\"x6s0dn4 xzolkzo x12go9s9 x1rnf11y xprq8jg x9f619 x3nfvp2 xl56j7k x1tu34mt xdk7pt x1xc55vz x1emribx\" data-visualcompletion=\"ignore\"></span>"
      ]
     },
     "metadata": {},
     "output_type": "display_data"
    }
   ],
   "source": [
    "html_content = new_message_windows[0].get_attribute('outerHTML')\n",
    "soup = BeautifulSoup(html_content, 'html.parser')\n",
    "soup "
   ]
  },
  {
   "cell_type": "code",
   "execution_count": null,
   "metadata": {},
   "outputs": [
    {
     "ename": "AttributeError",
     "evalue": "'WebElement' object has no attribute 'page_source'",
     "output_type": "error",
     "traceback": [
      "\u001b[1;31m---------------------------------------------------------------------------\u001b[0m\n",
      "\u001b[1;31mAttributeError\u001b[0m                            Traceback (most recent call last)\n",
      "\u001b[1;32md:\\Repository\\order_assistant\\workspace\\ChatbotThread.ipynb Cell 27\u001b[0m line \u001b[0;36m1\n",
      "\u001b[1;32m----> <a href='vscode-notebook-cell:/d%3A/Repository/order_assistant/workspace/ChatbotThread.ipynb#X53sZmlsZQ%3D%3D?line=0'>1</a>\u001b[0m page_source \u001b[39m=\u001b[39m new_message_windows[\u001b[39m0\u001b[39;49m]\u001b[39m.\u001b[39;49mpage_source\n",
      "\u001b[0;32m      <a href='vscode-notebook-cell:/d%3A/Repository/order_assistant/workspace/ChatbotThread.ipynb#X53sZmlsZQ%3D%3D?line=1'>2</a>\u001b[0m soup \u001b[39m=\u001b[39m BeautifulSoup(page_source, \u001b[39m'\u001b[39m\u001b[39mhtml.parser\u001b[39m\u001b[39m'\u001b[39m)\n",
      "\u001b[0;32m      <a href='vscode-notebook-cell:/d%3A/Repository/order_assistant/workspace/ChatbotThread.ipynb#X53sZmlsZQ%3D%3D?line=2'>3</a>\u001b[0m soup\n",
      "\n",
      "\u001b[1;31mAttributeError\u001b[0m: 'WebElement' object has no attribute 'page_source'"
     ]
    }
   ],
   "source": [
    "page_source = new_message_windows[0].page_source\n",
    "soup = BeautifulSoup(page_source, 'html.parser')\n",
    "soup"
   ]
  },
  {
   "cell_type": "code",
   "execution_count": null,
   "metadata": {},
   "outputs": [],
   "source": [
    "# 초기 페이지의 html\n",
    "\n",
    "og_page_source = driver.page_source\n",
    "og_soup = BeautifulSoup(page_source, 'html.parser')"
   ]
  },
  {
   "cell_type": "code",
   "execution_count": null,
   "metadata": {},
   "outputs": [],
   "source": [
    "new_message_windows = driver.find_elements(By.CSS_SELECTOR, '.x1i10hfl.x1qjc9v5.xjbqb8w .x6s0dn4.xzolkzo.x12go9s9.x1rnf11y')\n",
    "new_message_windows[0].click()\n",
    "\n",
    "# 대화 내용이 로드될 때까지 기다림\n",
    "WebDriverWait(driver, 10).until(\n",
    "    EC.presence_of_element_located((By.CSS_SELECTOR, others_msg_selector))\n",
    ")\n",
    "page_source = driver.page_source\n",
    "soup = BeautifulSoup(page_source, 'html.parser')"
   ]
  },
  {
   "cell_type": "code",
   "execution_count": null,
   "metadata": {},
   "outputs": [
    {
     "name": "stdout",
     "output_type": "stream",
     "text": [
      "False\n",
      "False\n"
     ]
    }
   ],
   "source": [
    "print(og_page_source == page_source)\n",
    "print(og_soup == soup)"
   ]
  },
  {
   "cell_type": "markdown",
   "metadata": {},
   "source": [
    "대화창 나타내는 클래스가 상위에 있는 게 맞는 듯"
   ]
  },
  {
   "cell_type": "code",
   "execution_count": null,
   "metadata": {},
   "outputs": [
    {
     "data": {
      "text/plain": [
       "[<div class=\"x1i10hfl x1qjc9v5 xjbqb8w xjqpnuy xa49m3k xqeqjp1 x2hbi6w x13fuv20 xu3j5b3 x1q0q8m5 x26u7qi x972fbf xcfux6l x1qhh985 xm0m39n x9f619 x1ypdohk xdl72j9 x2lah0s xe8uvvx x2lwn1j xeuugli x1n2onr6 x16tdsg8 x1hl2dhg xggy1nq x1ja2u2z x1t137rt x1q0g3np x87ps6o x1lku1pv x1a2a7pz x168nmei x13lgxp2 x5pf9jr xo71vjh x1lliihq xdj266r x11i5rnm xat24cr x1mh8g0r xg6hnt2 x18wri0h x1l895ks xbbxn1n xxbr6pl x1y1aw1k xwib8y2\" role=\"button\" tabindex=\"-1\"><div class=\"x9f619 x1n2onr6 x1ja2u2z x1qjc9v5 x78zum5 xdt5ytf x1iyjqo2 xl56j7k xeuugli xxsgkw5\" role=\"listitem\"><div class=\"x9f619 x1n2onr6 x1ja2u2z x78zum5 x2lah0s x1qughib x6s0dn4 xozqiw3 x1q0g3np\"><div class=\"x9f619 x1n2onr6 x1ja2u2z xdt5ytf x2lah0s x193iq5w xeuugli x78zum5\"><div class=\"x78zum5 x2lah0s xn6708d\"><div class=\"x1n2onr6\" style=\"height: 56px; width: 56px;\"><span class=\"x14yjl9h xudhj91 x18nykt9 xww2gxu x1lliihq x6ikm8r x10wlt62 x1n2onr6 xzfakq x7imw91 x1j8hi7x x5aw536 x194ut8o x1vzenxt xd7ygy7 xt298gk xynf4tj xdspwft x1r9ni5o x1d52zm6 xoiy6we x15xhmf9 x1qj619r x15tem40 x1xrz1ek x1s928wv x1n449xj x2q1x1w x1j6awrg x162n7g1 x1m1drc7\" style=\"height: 56px; width: 56px;\"><img alt=\"사용자 아바타\" class=\"x5yr21d xl1xv1r xh8yej3\" height=\"56\" referrerpolicy=\"origin-when-cross-origin\" src=\"https://scontent-ssn1-1.cdninstagram.com/v/t51.2885-19/356239661_579247577743378_303057475446035063_n.jpg?stp=dst-jpg_s100x100&amp;_nc_cat=106&amp;ccb=1-7&amp;_nc_sid=c4dd86&amp;_nc_ohc=70ZeHF541DgAX9AqGrO&amp;_nc_ad=z-m&amp;_nc_cid=0&amp;_nc_ht=scontent-ssn1-1.cdninstagram.com&amp;oh=00_AfAAHnjj4TM2ByrrrWjIV4MNpNJEhGpG_HuVBEsqNF6yyQ&amp;oe=65450800\" width=\"56\"/></span></div></div></div><div class=\"x9f619 x1n2onr6 x1ja2u2z x78zum5 x1iyjqo2 xs83m0k xeuugli x1qughib x6s0dn4 x1a02dak x1q0g3np xdl72j9\"><div class=\"x9f619 x1n2onr6 x1ja2u2z x78zum5 xdt5ytf x2lah0s x193iq5w xeuugli x1iyjqo2\"><div class=\"x9f619 xjbqb8w x78zum5 x168nmei x13lgxp2 x5pf9jr xo71vjh x1uhb9sk x1plvlek xryxfnj x1c4vz4f x2lah0s x1q0g3np xqjyukv x6s0dn4 x1oa3qoh x1nhvcw1\" style=\"width: 244px;\"><span class=\"x1lliihq x1plvlek xryxfnj x1n2onr6 x193iq5w xeuugli x1fj9vlw x13faqbe x1vvkbs x1s928wv xhkezso x1gmr53x x1cpjm7i x1fgarty x1943h6x x1i0vuye xvs91rp xo1l8bm x5n08af x1tu3fi x3x7a5m x10wh9bi x1wdrske x8viiok x18hxmgj\" dir=\"auto\" style=\"line-height: var(--base-line-clamp-line-height); --base-line-clamp-line-height: 18px;\"><span class=\"x1lliihq x193iq5w x6ikm8r x10wlt62 xlyipyv xuxw1ft\">Vee</span></span><div class=\"x9f619 xjbqb8w x78zum5 x168nmei x13lgxp2 x5pf9jr xo71vjh xsgj6o6 x1uhb9sk x1plvlek xryxfnj x1c4vz4f x2lah0s xdt5ytf xqjyukv x1qjc9v5 x1oa3qoh x1nhvcw1\"></div></div><div style=\"height: 8px;\"></div><div class=\"x6s0dn4 x78zum5\"><div class=\"x9f619 xjbqb8w x78zum5 x168nmei x13lgxp2 x5pf9jr xo71vjh x1uhb9sk x1plvlek xryxfnj x1c4vz4f x2lah0s x1q0g3np xqjyukv x6s0dn4 x1oa3qoh x1nhvcw1 xmix8c7 xh8yej3\"><span class=\"x1lliihq x1plvlek xryxfnj x1n2onr6 x193iq5w xeuugli x1fj9vlw x13faqbe x1vvkbs x1s928wv xhkezso x1gmr53x x1cpjm7i x1fgarty x1943h6x x1i0vuye x1fhwpqd xo1l8bm x1roi4f4 x1s3etm8 x676frb x10wh9bi x1wdrske x8viiok x18hxmgj\" dir=\"auto\" style=\"line-height: var(--base-line-clamp-line-height); --base-line-clamp-line-height: 16px;\"><span class=\"x1lliihq x193iq5w x6ikm8r x10wlt62 xlyipyv xuxw1ft\">과제 하고 있어 ㅋㅋ</span></span><span class=\"x1roi4f4 x2lah0s xdj266r xw3qccf xat24cr xsgj6o6\"><span><span class=\"xzpqnlu xjm9jq1 x6ikm8r x10wlt62 x10l6tqk x1i1rx1s\"> </span><span aria-hidden=\"true\"> · </span></span></span><div class=\"x2lah0s xeuugli\"><span class=\"x1lliihq x1plvlek xryxfnj x1n2onr6 x193iq5w xeuugli x1fj9vlw x13faqbe x1vvkbs x1s928wv xhkezso x1gmr53x x1cpjm7i x1fgarty x1943h6x x1i0vuye x1fhwpqd xo1l8bm x1roi4f4 x1s3etm8 x676frb x10wh9bi x1wdrske x8viiok x18hxmgj\" dir=\"auto\" style=\"line-height: var(--base-line-clamp-line-height); --base-line-clamp-line-height: 16px;\"><span class=\"x1lliihq x193iq5w x6ikm8r x10wlt62 xlyipyv xuxw1ft\"><div class=\"xuxw1ft\">1주</div></span></span></div></div></div></div></div><div class=\"x9f619 x1n2onr6 x1ja2u2z xdt5ytf x2lah0s x193iq5w xeuugli x78zum5\"><div class=\"x78zum5 x2lah0s x1ye3gou\"><div class=\"x9f619 xjbqb8w x78zum5 x168nmei x13lgxp2 x5pf9jr xo71vjh x1uhb9sk x1plvlek xryxfnj x1c4vz4f x1q0g3np xqjyukv x6s0dn4 x1oa3qoh x13a6bvl x2lah0s\"></div></div></div></div></div></div>,\n",
       " <div class=\"x1i10hfl x1qjc9v5 xjbqb8w xjqpnuy xa49m3k xqeqjp1 x2hbi6w x13fuv20 xu3j5b3 x1q0q8m5 x26u7qi x972fbf xcfux6l x1qhh985 xm0m39n x9f619 x1ypdohk xdl72j9 x2lah0s xe8uvvx x2lwn1j xeuugli x1n2onr6 x16tdsg8 x1hl2dhg xggy1nq x1ja2u2z x1t137rt x1q0g3np x87ps6o x1lku1pv x1a2a7pz x168nmei x13lgxp2 x5pf9jr xo71vjh x1lliihq xdj266r x11i5rnm xat24cr x1mh8g0r xg6hnt2 x18wri0h x1l895ks xbbxn1n xxbr6pl x1y1aw1k xwib8y2\" role=\"button\" tabindex=\"-1\"><div class=\"x9f619 x1n2onr6 x1ja2u2z x1qjc9v5 x78zum5 xdt5ytf x1iyjqo2 xl56j7k xeuugli xxsgkw5\" role=\"listitem\"><div class=\"x9f619 x1n2onr6 x1ja2u2z x78zum5 x2lah0s x1qughib x6s0dn4 xozqiw3 x1q0g3np\"><div class=\"x9f619 x1n2onr6 x1ja2u2z xdt5ytf x2lah0s x193iq5w xeuugli x78zum5\"><div class=\"x78zum5 x2lah0s xn6708d\"><div class=\"x1n2onr6\" style=\"height: 56px; width: 56px;\"><span class=\"x14yjl9h xudhj91 x18nykt9 xww2gxu x1lliihq x6ikm8r x10wlt62 x1n2onr6 xzfakq x7imw91 x1j8hi7x x5aw536 x194ut8o x1vzenxt xd7ygy7 xt298gk xynf4tj xdspwft x1r9ni5o x1d52zm6 xoiy6we x15xhmf9 x1qj619r x15tem40 x1xrz1ek x1s928wv x1n449xj x2q1x1w x1j6awrg x162n7g1 x1m1drc7\" style=\"height: 56px; width: 56px;\"><img alt=\"사용자 아바타\" class=\"x5yr21d xl1xv1r xh8yej3\" height=\"56\" referrerpolicy=\"origin-when-cross-origin\" src=\"https://scontent-ssn1-1.cdninstagram.com/v/t51.2885-19/273120973_157332216648372_4991868952205243470_n.jpg?stp=dst-jpg_s100x100&amp;_nc_cat=104&amp;ccb=1-7&amp;_nc_sid=c4dd86&amp;_nc_ohc=wvfuwG0M7UUAX-qPg8O&amp;_nc_ad=z-m&amp;_nc_cid=0&amp;_nc_ht=scontent-ssn1-1.cdninstagram.com&amp;oh=00_AfBDO3vc5BMFvm72RP6kbk0x-I3bBc9kQx6s_vQzYZyVrw&amp;oe=65442883\" width=\"56\"/></span></div></div></div><div class=\"x9f619 x1n2onr6 x1ja2u2z x78zum5 x1iyjqo2 xs83m0k xeuugli x1qughib x6s0dn4 x1a02dak x1q0g3np xdl72j9\"><div class=\"x9f619 x1n2onr6 x1ja2u2z x78zum5 xdt5ytf x2lah0s x193iq5w xeuugli x1iyjqo2\"><div class=\"x9f619 xjbqb8w x78zum5 x168nmei x13lgxp2 x5pf9jr xo71vjh x1uhb9sk x1plvlek xryxfnj x1c4vz4f x2lah0s x1q0g3np xqjyukv x6s0dn4 x1oa3qoh x1nhvcw1\" style=\"width: 244px;\"><span class=\"x1lliihq x1plvlek xryxfnj x1n2onr6 x193iq5w xeuugli x1fj9vlw x13faqbe x1vvkbs x1s928wv xhkezso x1gmr53x x1cpjm7i x1fgarty x1943h6x x1i0vuye xvs91rp xo1l8bm x5n08af x1tu3fi x3x7a5m x10wh9bi x1wdrske x8viiok x18hxmgj\" dir=\"auto\" style=\"line-height: var(--base-line-clamp-line-height); --base-line-clamp-line-height: 18px;\"><span class=\"x1lliihq x193iq5w x6ikm8r x10wlt62 xlyipyv xuxw1ft\">*록향*</span></span><div class=\"x9f619 xjbqb8w x78zum5 x168nmei x13lgxp2 x5pf9jr xo71vjh xsgj6o6 x1uhb9sk x1plvlek xryxfnj x1c4vz4f x2lah0s xdt5ytf xqjyukv x1qjc9v5 x1oa3qoh x1nhvcw1\"></div></div><div style=\"height: 8px;\"></div><div class=\"x6s0dn4 x78zum5\"><div class=\"x9f619 xjbqb8w x78zum5 x168nmei x13lgxp2 x5pf9jr xo71vjh x1uhb9sk x1plvlek xryxfnj x1c4vz4f x2lah0s x1q0g3np xqjyukv x6s0dn4 x1oa3qoh x1nhvcw1 xmix8c7 xh8yej3\"><span class=\"x1lliihq x1plvlek xryxfnj x1n2onr6 x193iq5w xeuugli x1fj9vlw x13faqbe x1vvkbs x1s928wv xhkezso x1gmr53x x1cpjm7i x1fgarty x1943h6x x1i0vuye x1fhwpqd xo1l8bm x1roi4f4 x1s3etm8 x676frb x10wh9bi x1wdrske x8viiok x18hxmgj\" dir=\"auto\" style=\"line-height: var(--base-line-clamp-line-height); --base-line-clamp-line-height: 16px;\"><span class=\"x1lliihq x193iq5w x6ikm8r x10wlt62 xlyipyv xuxw1ft\">17시간 전에 활동</span></span></div></div></div></div><div class=\"x9f619 x1n2onr6 x1ja2u2z xdt5ytf x2lah0s x193iq5w xeuugli x78zum5\"><div class=\"x78zum5 x2lah0s x1ye3gou\"><div class=\"x9f619 xjbqb8w x78zum5 x168nmei x13lgxp2 x5pf9jr xo71vjh x1uhb9sk x1plvlek xryxfnj x1c4vz4f x1q0g3np xqjyukv x6s0dn4 x1oa3qoh x13a6bvl x2lah0s\"></div></div></div></div></div></div>,\n",
       " <div class=\"x1i10hfl x1qjc9v5 xjbqb8w xjqpnuy xa49m3k xqeqjp1 x2hbi6w x13fuv20 xu3j5b3 x1q0q8m5 x26u7qi x972fbf xcfux6l x1qhh985 xm0m39n x9f619 x1ypdohk xdl72j9 x2lah0s xe8uvvx x2lwn1j xeuugli x1n2onr6 x16tdsg8 x1hl2dhg xggy1nq x1ja2u2z x1t137rt x1q0g3np x87ps6o x1lku1pv x1a2a7pz x168nmei x13lgxp2 x5pf9jr xo71vjh x1lliihq xdj266r x11i5rnm xat24cr x1mh8g0r xg6hnt2 x18wri0h x1l895ks xbbxn1n xxbr6pl x1y1aw1k xwib8y2\" role=\"button\" tabindex=\"-1\"><div class=\"x9f619 x1n2onr6 x1ja2u2z x1qjc9v5 x78zum5 xdt5ytf x1iyjqo2 xl56j7k xeuugli xxsgkw5\" role=\"listitem\"><div class=\"x9f619 x1n2onr6 x1ja2u2z x78zum5 x2lah0s x1qughib x6s0dn4 xozqiw3 x1q0g3np\"><div class=\"x9f619 x1n2onr6 x1ja2u2z xdt5ytf x2lah0s x193iq5w xeuugli x78zum5\"><div class=\"x78zum5 x2lah0s xn6708d\"><div class=\"x1n2onr6\" style=\"height: 56px; width: 56px;\"><span class=\"x14yjl9h xudhj91 x18nykt9 xww2gxu x1lliihq x6ikm8r x10wlt62 x1n2onr6 xzfakq x7imw91 x1j8hi7x x5aw536 x194ut8o x1vzenxt xd7ygy7 xt298gk xynf4tj xdspwft x1r9ni5o x1d52zm6 xoiy6we x15xhmf9 x1qj619r x15tem40 x1xrz1ek x1s928wv x1n449xj x2q1x1w x1j6awrg x162n7g1 x1m1drc7\" style=\"height: 56px; width: 56px;\"><img alt=\"사용자 아바타\" class=\"x5yr21d xl1xv1r xh8yej3\" height=\"56\" referrerpolicy=\"origin-when-cross-origin\" src=\"https://scontent-ssn1-1.cdninstagram.com/v/t51.2885-19/62624377_2144924779081492_3814984754843877376_n.jpg?stp=dst-jpg_s100x100&amp;_nc_cat=108&amp;ccb=1-7&amp;_nc_sid=c4dd86&amp;_nc_ohc=e_D7UjcP_-QAX_SwQDx&amp;_nc_ad=z-m&amp;_nc_cid=0&amp;_nc_ht=scontent-ssn1-1.cdninstagram.com&amp;oh=00_AfB1GMt6hF2KtnUqB6SWIhTEXpkG2DbLh92rMfmDEDEZQA&amp;oe=654482B4\" width=\"56\"/></span></div></div></div><div class=\"x9f619 x1n2onr6 x1ja2u2z x78zum5 x1iyjqo2 xs83m0k xeuugli x1qughib x6s0dn4 x1a02dak x1q0g3np xdl72j9\"><div class=\"x9f619 x1n2onr6 x1ja2u2z x78zum5 xdt5ytf x2lah0s x193iq5w xeuugli x1iyjqo2\"><div class=\"x9f619 xjbqb8w x78zum5 x168nmei x13lgxp2 x5pf9jr xo71vjh x1uhb9sk x1plvlek xryxfnj x1c4vz4f x2lah0s x1q0g3np xqjyukv x6s0dn4 x1oa3qoh x1nhvcw1\" style=\"width: 244px;\"><span class=\"x1lliihq x1plvlek xryxfnj x1n2onr6 x193iq5w xeuugli x1fj9vlw x13faqbe x1vvkbs x1s928wv xhkezso x1gmr53x x1cpjm7i x1fgarty x1943h6x x1i0vuye xvs91rp xo1l8bm x5n08af x1tu3fi x3x7a5m x10wh9bi x1wdrske x8viiok x18hxmgj\" dir=\"auto\" style=\"line-height: var(--base-line-clamp-line-height); --base-line-clamp-line-height: 18px;\"><span class=\"x1lliihq x193iq5w x6ikm8r x10wlt62 xlyipyv xuxw1ft\">note_than</span></span><div class=\"x9f619 xjbqb8w x78zum5 x168nmei x13lgxp2 x5pf9jr xo71vjh xsgj6o6 x1uhb9sk x1plvlek xryxfnj x1c4vz4f x2lah0s xdt5ytf xqjyukv x1qjc9v5 x1oa3qoh x1nhvcw1\"></div></div><div style=\"height: 8px;\"></div><div class=\"x6s0dn4 x78zum5\"><div class=\"x9f619 xjbqb8w x78zum5 x168nmei x13lgxp2 x5pf9jr xo71vjh x1uhb9sk x1plvlek xryxfnj x1c4vz4f x2lah0s x1q0g3np xqjyukv x6s0dn4 x1oa3qoh x1nhvcw1 xmix8c7 xh8yej3\"><span class=\"x1lliihq x1plvlek xryxfnj x1n2onr6 x193iq5w xeuugli x1fj9vlw x13faqbe x1vvkbs x1s928wv xhkezso x1gmr53x x1cpjm7i x1fgarty x1943h6x x1i0vuye x1fhwpqd xo1l8bm x1roi4f4 x1s3etm8 x676frb x10wh9bi x1wdrske x8viiok x18hxmgj\" dir=\"auto\" style=\"line-height: var(--base-line-clamp-line-height); --base-line-clamp-line-height: 16px;\"><span class=\"x1lliihq x193iq5w x6ikm8r x10wlt62 xlyipyv xuxw1ft\">知り合いじゃないのにフォローしごめんなさい…\n",
       " 友達が少ないのでこれから仲良くできたら嬉しいです(๑❛ꆚ❛๑)\n",
       " instaは見る専用なので投稿は少ないと思います\n",
       " あとラインしませんか？instaのDMだと分かりにくいので…\n",
       " \n",
       " n64m7がIDでみゆです\n",
       " 友達追加出来たらスタンプでもいいので声をかけてくださいね♪\n",
       " 自己紹介もちゃんとしたいしライン待ってます♪</span></span><span class=\"x1roi4f4 x2lah0s xdj266r xw3qccf xat24cr xsgj6o6\"><span><span class=\"xzpqnlu xjm9jq1 x6ikm8r x10wlt62 x10l6tqk x1i1rx1s\"> </span><span aria-hidden=\"true\"> · </span></span></span><div class=\"x2lah0s xeuugli\"><span class=\"x1lliihq x1plvlek xryxfnj x1n2onr6 x193iq5w xeuugli x1fj9vlw x13faqbe x1vvkbs x1s928wv xhkezso x1gmr53x x1cpjm7i x1fgarty x1943h6x x1i0vuye x1fhwpqd xo1l8bm x1roi4f4 x1s3etm8 x676frb x10wh9bi x1wdrske x8viiok x18hxmgj\" dir=\"auto\" style=\"line-height: var(--base-line-clamp-line-height); --base-line-clamp-line-height: 16px;\"><span class=\"x1lliihq x193iq5w x6ikm8r x10wlt62 xlyipyv xuxw1ft\"><div class=\"xuxw1ft\">4년</div></span></span></div></div></div></div></div><div class=\"x9f619 x1n2onr6 x1ja2u2z xdt5ytf x2lah0s x193iq5w xeuugli x78zum5\"><div class=\"x78zum5 x2lah0s x1ye3gou\"><div class=\"x9f619 xjbqb8w x78zum5 x168nmei x13lgxp2 x5pf9jr xo71vjh x1uhb9sk x1plvlek xryxfnj x1c4vz4f x1q0g3np xqjyukv x6s0dn4 x1oa3qoh x13a6bvl x2lah0s\"></div></div></div></div></div></div>]"
      ]
     },
     "metadata": {},
     "output_type": "display_data"
    }
   ],
   "source": [
    "# 대화방을 나타내는 클래스 이름\n",
    "chatroom_class = \"x1i10hfl x1qjc9v5 xjbqb8w xjqpnuy xa49m3k xqeqjp1 x2hbi6w x13fuv20 xu3j5b3 x1q0q8m5 x26u7qi x972fbf xcfux6l x1qhh985 xm0m39n x9f619 x1ypdohk xdl72j9 x2lah0s xe8uvvx x2lwn1j xeuugli x1n2onr6 x16tdsg8 x1hl2dhg xggy1nq x1ja2u2z x1t137rt x1q0g3np x87ps6o x1lku1pv x1a2a7pz x168nmei x13lgxp2 x5pf9jr xo71vjh x1lliihq xdj266r x11i5rnm xat24cr x1mh8g0r xg6hnt2 x18wri0h x1l895ks xbbxn1n xxbr6pl x1y1aw1k xwib8y2\"\n",
    "\n",
    "# 대화방 목록 찾기\n",
    "chatrooms = soup.find_all(class_=chatroom_class)\n",
    "chatrooms"
   ]
  },
  {
   "cell_type": "code",
   "execution_count": null,
   "metadata": {},
   "outputs": [
    {
     "data": {
      "text/plain": [
       "'keep_selves_real'"
      ]
     },
     "metadata": {},
     "output_type": "display_data"
    }
   ],
   "source": [
    "soup.find(\"span\", class_=\"x1lliihq x193iq5w x6ikm8r x10wlt62 xlyipyv xuxw1ft\").text"
   ]
  },
  {
   "cell_type": "code",
   "execution_count": null,
   "metadata": {},
   "outputs": [
    {
     "data": {
      "text/plain": [
       "[<span class=\"x1lliihq x193iq5w x6ikm8r x10wlt62 xlyipyv xuxw1ft\">keep_selves_real</span>,\n",
       " <span class=\"x1lliihq x193iq5w x6ikm8r x10wlt62 xlyipyv xuxw1ft\">태수</span>,\n",
       " <span class=\"x1lliihq x193iq5w x6ikm8r x10wlt62 xlyipyv xuxw1ft\">ㅠㅠ</span>,\n",
       " <span class=\"x1lliihq x193iq5w x6ikm8r x10wlt62 xlyipyv xuxw1ft\"><div class=\"xuxw1ft\">1분</div></span>,\n",
       " <span class=\"x1lliihq x193iq5w x6ikm8r x10wlt62 xlyipyv xuxw1ft\">Vee</span>,\n",
       " <span class=\"x1lliihq x193iq5w x6ikm8r x10wlt62 xlyipyv xuxw1ft\">과제 하고 있어 ㅋㅋ</span>,\n",
       " <span class=\"x1lliihq x193iq5w x6ikm8r x10wlt62 xlyipyv xuxw1ft\"><div class=\"xuxw1ft\">1주</div></span>,\n",
       " <span class=\"x1lliihq x193iq5w x6ikm8r x10wlt62 xlyipyv xuxw1ft\">*록향*</span>,\n",
       " <span class=\"x1lliihq x193iq5w x6ikm8r x10wlt62 xlyipyv xuxw1ft\">17시간 전에 활동</span>,\n",
       " <span class=\"x1lliihq x193iq5w x6ikm8r x10wlt62 xlyipyv xuxw1ft\">note_than</span>,\n",
       " <span class=\"x1lliihq x193iq5w x6ikm8r x10wlt62 xlyipyv xuxw1ft\">知り合いじゃないのにフォローしごめんなさい…\n",
       " 友達が少ないのでこれから仲良くできたら嬉しいです(๑❛ꆚ❛๑)\n",
       " instaは見る専用なので投稿は少ないと思います\n",
       " あとラインしませんか？instaのDMだと分かりにくいので…\n",
       " \n",
       " n64m7がIDでみゆです\n",
       " 友達追加出来たらスタンプでもいいので声をかけてくださいね♪\n",
       " 自己紹介もちゃんとしたいしライン待ってます♪</span>,\n",
       " <span class=\"x1lliihq x193iq5w x6ikm8r x10wlt62 xlyipyv xuxw1ft\"><div class=\"xuxw1ft\">4년</div></span>,\n",
       " <span class=\"x1lliihq x193iq5w x6ikm8r x10wlt62 xlyipyv xuxw1ft\">태수</span>]"
      ]
     },
     "metadata": {},
     "output_type": "display_data"
    }
   ],
   "source": [
    "soup.find_all(\"span\", class_=\"x1lliihq x193iq5w x6ikm8r x10wlt62 xlyipyv xuxw1ft\")"
   ]
  }
 ],
 "metadata": {
  "language_info": {
   "name": "python"
  }
 },
 "nbformat": 4,
 "nbformat_minor": 2
}
