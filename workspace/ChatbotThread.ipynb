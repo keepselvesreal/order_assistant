{
 "cells": [
  {
   "cell_type": "code",
   "execution_count": null,
   "metadata": {},
   "outputs": [],
   "source": [
    "import threading\n",
    "import queue\n",
    "import time\n",
    "\n",
    "class ChatbotThread(threading.Thread):\n",
    "    def __init__(self, room_id, message_queue):\n",
    "        super().__init__()\n",
    "        self.room_id = room_id\n",
    "        self.message_queue = message_queue\n",
    "        self.keep_running = True\n",
    "\n",
    "    def run(self):\n",
    "        while self.keep_running:\n",
    "            if not self.message_queue.empty():\n",
    "                message = self.message_queue.get()\n",
    "                response = self.generate_response(message)\n",
    "                self.post_response(response)\n",
    "                self.message_queue.task_done()\n",
    "\n",
    "    def generate_response(self, message):\n",
    "        # LLM을 사용하여 응답을 생성하는 로직\n",
    "        return f\"Response to {message}\"\n",
    "\n",
    "    def post_response(self, response):\n",
    "        # 여기에 응답을 웹 페이지에 게시하는 로직을 구현\n",
    "        print(f\"[Room {self.room_id}] {response}\")\n",
    "\n",
    "    def stop(self):\n",
    "        self.keep_running = False\n",
    "\n",
    "def check_for_new_messages(rooms_with_queues):\n",
    "    # 여기에서 새로운 메시지를 확인하고, 해당 대화방의 큐에 메시지를 추가하는 로직을 구현\n",
    "    # 예시: 새 메시지가 있는 대화방 ID와 메시지 내용을 반환\n",
    "    return None, None\n",
    "\n",
    "# 대화방 별 큐 생성 및 스레드 할당\n",
    "rooms_with_queues = {}\n",
    "for room_id in range(5):  # 가정: 5개의 대화방\n",
    "    rooms_with_queues[room_id] = queue.Queue()\n",
    "    thread = ChatbotThread(room_id, rooms_with_queues[room_id])\n",
    "    thread.start()\n",
    "\n",
    "# 메인 스레드에서 새 메시지 확인\n",
    "try:\n",
    "    while True:\n",
    "        room_id, new_message = check_for_new_messages(rooms_with_queues)\n",
    "        if room_id is not None and room_id in rooms_with_queues:\n",
    "            rooms_with_queues[room_id].put(new_message)\n",
    "        time.sleep(1)  # 새 메시지 확인 주기\n",
    "except KeyboardInterrupt:\n",
    "    for thread in threads:\n",
    "        thread.stop()\n",
    "    for thread in threads:\n",
    "        thread.join()"
   ]
  },
  {
   "cell_type": "code",
   "execution_count": null,
   "metadata": {},
   "outputs": [],
   "source": [
    "# no queue version\n",
    "\n",
    "import threading\n",
    "\n",
    "class ChatHandler(threading.Thread):\n",
    "    def __init__(self, new_message_element):\n",
    "        super().__init__()\n",
    "        self.new_message_element = new_message_element\n",
    "        self.keep_running = True\n",
    "\n",
    "    def run(self):\n",
    "        while self.keep_running:\n",
    "            # 새 메시지를 처리합니다.\n",
    "            new_message = self.extract_message(self.new_message_element)\n",
    "            if new_message:\n",
    "                response = self.generate_response(new_message)\n",
    "                self.post_response(response)\n",
    "\n",
    "            # 일정 시간마다 새로운 메시지를 확인합니다. (예: 5초마다)\n",
    "            time.sleep(5)\n",
    "\n",
    "    def extract_message(self, element):\n",
    "        # 여기에 웹 요소로부터 메시지를 추출하는 로직을 구현합니다.\n",
    "        # 예시: return extract_text_from_element(element)\n",
    "        return \"새 메시지 내용\"\n",
    "\n",
    "    def generate_response(self, message):\n",
    "        # 여기에 LLM을 사용하여 응답을 생성하는 로직을 구현합니다.\n",
    "        # 예시: return f\"Response to {message}\"\n",
    "        return \"생성된 응답\"\n",
    "\n",
    "    def post_response(self, response):\n",
    "        # 여기에 생성된 응답을 웹상의 메시지 창에 입력하는 로직을 구현합니다.\n",
    "        # 예시: post_message_to_web(response)\n",
    "        print(f\"응답 전송: {response}\")\n",
    "\n",
    "    def stop(self):\n",
    "        self.keep_running = False"
   ]
  },
  {
   "cell_type": "code",
   "execution_count": 21,
   "metadata": {},
   "outputs": [
    {
     "ename": "ImportError",
     "evalue": "cannot import name 'hello_world' from 'instagram_related' (d:\\Repository\\order_assistant\\workspace\\instagram_related.py)",
     "output_type": "error",
     "traceback": [
      "\u001b[1;31m---------------------------------------------------------------------------\u001b[0m",
      "\u001b[1;31mImportError\u001b[0m                               Traceback (most recent call last)",
      "\u001b[1;32md:\\Repository\\order_assistant\\workspace\\ChatbotThread.ipynb Cell 3\u001b[0m line \u001b[0;36m1\n\u001b[1;32m----> <a href='vscode-notebook-cell:/d%3A/Repository/order_assistant/workspace/ChatbotThread.ipynb#W5sZmlsZQ%3D%3D?line=0'>1</a>\u001b[0m \u001b[39mfrom\u001b[39;00m \u001b[39minstagram_related\u001b[39;00m \u001b[39mimport\u001b[39;00m hello_world\n\u001b[0;32m      <a href='vscode-notebook-cell:/d%3A/Repository/order_assistant/workspace/ChatbotThread.ipynb#W5sZmlsZQ%3D%3D?line=2'>3</a>\u001b[0m hello_world()\n",
      "\u001b[1;31mImportError\u001b[0m: cannot import name 'hello_world' from 'instagram_related' (d:\\Repository\\order_assistant\\workspace\\instagram_related.py)"
     ]
    }
   ],
   "source": [
    "from instagram_related import hello_world\n",
    "\n",
    "hello_world()\n",
    "\n"
   ]
  },
  {
   "cell_type": "code",
   "execution_count": 20,
   "metadata": {},
   "outputs": [
    {
     "data": {
      "text/plain": [
       "['__builtins__',\n",
       " '__cached__',\n",
       " '__doc__',\n",
       " '__file__',\n",
       " '__loader__',\n",
       " '__name__',\n",
       " '__package__',\n",
       " '__spec__']"
      ]
     },
     "execution_count": 20,
     "metadata": {},
     "output_type": "execute_result"
    }
   ],
   "source": [
    "import instagram_related\n",
    "\n",
    "dir(instagram_related)"
   ]
  },
  {
   "cell_type": "code",
   "execution_count": 23,
   "metadata": {},
   "outputs": [],
   "source": [
    "from selenium import webdriver\n",
    "from selenium.webdriver.common.by import By\n",
    "from selenium.webdriver.support.ui import WebDriverWait\n",
    "from selenium.webdriver.support import expected_conditions as EC\n",
    "from bs4 import BeautifulSoup\n",
    "\n",
    "def login_to_website():\n",
    "    site = \"https://www.instagram.com/\"\n",
    "    driver = webdriver.Chrome()\n",
    "    driver.get(site)\n",
    "    \n",
    "    # 로그인 버튼 찾기 (XPath 사용) | ts-아래처럼 기다리는 처리하지 않아 오류 발생했음\n",
    "    login_button = WebDriverWait(driver, 10).until(EC.presence_of_element_located((By.XPATH, '//button[.//div[text()=\"로그인\"]]')))\n",
    "\n",
    "    # username 입력 필드 찾기\n",
    "    username_field = driver.find_element(by=\"name\", value=\"username\")\n",
    "    password_field = driver.find_element(by=\"name\", value=\"password\")\n",
    "\n",
    "    # username 필드에 값 입력하기\n",
    "    id = 'keep_selves_real'\n",
    "    password = 'kts71611089!'\n",
    "\n",
    "    username_field.send_keys(id)\n",
    "    password_field.send_keys(password)\n",
    "\n",
    "    # 로그인 버튼 클릭하기\n",
    "    login_button.click()\n",
    "\n",
    "    # # '나중에 하기' 버튼 찾기 (XPath 사용)\n",
    "    # later_button = WebDriverWait(driver, 10).until(EC.presence_of_element_located((By.XPATH, '//*[@role=\"button\" and text()=\"나중에 하기\"]')))\n",
    "\n",
    "    # # '나중에 하기' 버튼 클릭하기\n",
    "    # later_button.click()\n",
    "\n",
    "    # 알림 설정 나중에 버튼 클릭하기\n",
    "\n",
    "login_to_website()"
   ]
  },
  {
   "cell_type": "markdown",
   "metadata": {},
   "source": [
    "### new_message = self.extract_message(self.new_message_element) 부분"
   ]
  },
  {
   "cell_type": "code",
   "execution_count": null,
   "metadata": {},
   "outputs": [],
   "source": []
  },
  {
   "cell_type": "markdown",
   "metadata": {},
   "source": [
    "### def generate_response(self, message): 부분"
   ]
  }
 ],
 "metadata": {
  "kernelspec": {
   "display_name": "order_assistant",
   "language": "python",
   "name": "python3"
  },
  "language_info": {
   "codemirror_mode": {
    "name": "ipython",
    "version": 3
   },
   "file_extension": ".py",
   "mimetype": "text/x-python",
   "name": "python",
   "nbconvert_exporter": "python",
   "pygments_lexer": "ipython3",
   "version": "3.8.17"
  }
 },
 "nbformat": 4,
 "nbformat_minor": 2
}
