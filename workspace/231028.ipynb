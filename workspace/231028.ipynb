{
 "cells": [
  {
   "cell_type": "markdown",
   "metadata": {},
   "source": [
    "# 접속 및 DM 창으로 이동"
   ]
  },
  {
   "cell_type": "code",
   "execution_count": 1,
   "metadata": {},
   "outputs": [],
   "source": [
    "from selenium import webdriver\n",
    "from selenium.webdriver.common.by import By\n",
    "from selenium.webdriver.support.ui import WebDriverWait\n",
    "from selenium.webdriver.support import expected_conditions as EC\n",
    "from bs4 import BeautifulSoup"
   ]
  },
  {
   "cell_type": "code",
   "execution_count": null,
   "metadata": {},
   "outputs": [],
   "source": [
    "site = \"https://www.instagram.com/\"\n",
    "driver = webdriver.Chrome()\n",
    "driver.get(site)\n",
    "\n",
    "# 로그인 버튼 찾기 (XPath 사용) | ts-아래처럼 기다리는 처리하지 않아 오류 발생했음\n",
    "login_button = WebDriverWait(driver, 10).until(EC.presence_of_element_located((By.XPATH, '//button[.//div[text()=\"로그인\"]]')))\n",
    "\n",
    "# username 입력 필드 찾기\n",
    "username_field = driver.find_element(by=\"name\", value=\"username\")\n",
    "password_field = driver.find_element(by=\"name\", value=\"password\")\n",
    "\n",
    "# username 필드에 값 입력하기\n",
    "id = 'keep_selves_real'\n",
    "password = 'kts71611089!'\n",
    "\n",
    "username_field.send_keys(id)\n",
    "password_field.send_keys(password)\n",
    "\n",
    "# 로그인 버튼 클릭하기\n",
    "login_button.click()\n",
    "\n",
    "# '나중에 하기' 버튼 찾기 (XPath 사용)\n",
    "later_button = WebDriverWait(driver, 10).until(EC.presence_of_element_located((By.XPATH, '//*[@role=\"button\" and text()=\"나중에 하기\"]')))\n",
    "\n",
    "# '나중에 하기' 버튼 클릭하기\n",
    "later_button.click()\n",
    "\n",
    "# 알림 설정 나중에 버튼 클릭하기"
   ]
  },
  {
   "cell_type": "code",
   "execution_count": null,
   "metadata": {},
   "outputs": [],
   "source": [
    "def get_new_messages():\n",
    "    # 웹페이지 로그인 및 스크래핑 로직\n",
    "    # 대화창 식별 및 새로운 메시지가 있는 대화창 정보 반환\n",
    "    pass\n"
   ]
  },
  {
   "cell_type": "markdown",
   "metadata": {},
   "source": [
    "# 새로 도착한 메시지창 파악"
   ]
  },
  {
   "cell_type": "code",
   "execution_count": 5,
   "metadata": {},
   "outputs": [
    {
     "data": {
      "text/plain": [
       "[<selenium.webdriver.remote.webelement.WebElement (session=\"67268dc991f3592bcafedb5e46c62e7d\", element=\"ECFF6C177243BC186DE86C501E2BD35F_element_45\")>]"
      ]
     },
     "execution_count": 5,
     "metadata": {},
     "output_type": "execute_result"
    }
   ],
   "source": [
    "# 새로운 메시지가 온 대화창 바로 선택\n",
    "new_message_windows = driver.find_elements(By.CSS_SELECTOR, '.x1i10hfl.x1qjc9v5.xjbqb8w .x6s0dn4.xzolkzo.x12go9s9.x1rnf11y')\n",
    "new_message_windows"
   ]
  },
  {
   "cell_type": "markdown",
   "metadata": {},
   "source": [
    "# 새로 도착한 메시지창 스크래핑"
   ]
  },
  {
   "cell_type": "code",
   "execution_count": null,
   "metadata": {},
   "outputs": [],
   "source": [
    "app = FastAPI()\n",
    "\n",
    "@app.post(\"/inquiry/\")\n",
    "def handle_inquiry(convo_id: str, messages: list):\n",
    "    # 일반 문의 처리 로직\n",
    "    pass\n",
    "\n",
    "@app.post(\"/order_change/\")\n",
    "def handle_order_change(convo_id: str, messages: list):\n",
    "    # 주문 변경 처리 로직\n",
    "    pass\n",
    "\n",
    "@app.post(\"/order_cancellation/\")\n",
    "def handle_order_cancellation(convo_id: str, messages: list):\n",
    "    # 주문 취소 처리 로직\n",
    "    pass"
   ]
  },
  {
   "cell_type": "code",
   "execution_count": null,
   "metadata": {},
   "outputs": [],
   "source": [
    "def handle_conversation(convo_id):\n",
    "    # 대화창 메시지 추출 (작업 3-A)\n",
    "    messages = extract_messages(convo_id)\n",
    "\n",
    "    # LangChain을 사용하여 메시지 분류 (작업 3-B)\n",
    "    message_type = classify_message_with_langchain(messages)\n",
    "\n",
    "    # FastAPI 메소드 호출 (작업 3-C)\n",
    "    if message_type == \"일반 문의\":\n",
    "        handle_inquiry(convo_id, messages)\n",
    "    elif message_type == \"주문 변경\":\n",
    "        handle_order_change(convo_id, messages)\n",
    "    elif message_type == \"주문 취소\":\n",
    "        handle_order_cancellation(convo_id, messages)"
   ]
  },
  {
   "cell_type": "code",
   "execution_count": null,
   "metadata": {},
   "outputs": [],
   "source": [
    "# 최초 코드\n",
    "async def manage_conversations():\n",
    "    with ThreadPoolExecutor(max_workers=10) as executor: # 동시성 관리\n",
    "        loop = asyncio.get_event_loop()\n",
    "\n",
    "        while True:\n",
    "            new_conversations = get_new_messages()\n",
    "            tasks = []\n",
    "            for convo in new_conversations:\n",
    "                task = loop.run_in_executor(executor, handle_conversation, convo)\n",
    "                tasks.append(task)\n",
    "\n",
    "            if tasks:\n",
    "                await asyncio.wait(tasks)\n",
    "\n",
    "            await asyncio.sleep(5) # 일정 시간 대기 후 반복"
   ]
  },
  {
   "cell_type": "markdown",
   "metadata": {},
   "source": [
    "- with ThreadPoolExecutor(max_workers=max_workers) as executor\n",
    "- syncio.get_event_loop().run_in_executor(executor, handle_conversation, convo)\n",
    "- -asyncio.wait(tasks)"
   ]
  },
  {
   "cell_type": "code",
   "execution_count": null,
   "metadata": {},
   "outputs": [],
   "source": [
    "# 각 pc의 cpu core 개수를 고려한 수정 코드\n",
    "\n",
    "import asyncio\n",
    "from concurrent.futures import ThreadPoolExecutor\n",
    "import os\n",
    "import logging\n",
    "\n",
    "# 로깅 설정\n",
    "logging.basicConfig(level=logging.INFO)\n",
    "logger = logging.getLogger(__name__)\n",
    "\n",
    "async def manage_conversations():\n",
    "    # CPU 코어 수에 따라 max_workers 설정\n",
    "    max_workers = os.cpu_count()\n",
    "    logger.info(f\"Setting max_workers to {max_workers}\")\n",
    "\n",
    "    with ThreadPoolExecutor(max_workers=max_workers) as executor:\n",
    "        while True:\n",
    "            try:\n",
    "                new_conversations = await get_new_messages()  # 비동기 함수로 가정\n",
    "                tasks = []\n",
    "                for convo in new_conversations:\n",
    "                    task = asyncio.get_event_loop().run_in_executor(executor, handle_conversation, convo)\n",
    "                    tasks.append(task)\n",
    "\n",
    "                if tasks:\n",
    "                    await asyncio.wait(tasks)\n",
    "\n",
    "            except Exception as e:\n",
    "                logger.error(\"An error occurred: %s\", e)  # 오류 로깅\n",
    "\n",
    "            await asyncio.sleep(5)  # 일정 시간 대기 후 반복\n",
    "\n",
    "# 나머지 부분은 이전 코드와 동일"
   ]
  },
  {
   "cell_type": "code",
   "execution_count": null,
   "metadata": {},
   "outputs": [],
   "source": [
    "for new_message_window in new_message_windows:\n",
    "    new_message_window.click()\n",
    "    \n",
    "    # 대화 내용이 로드될 때까지 기다림\n",
    "    WebDriverWait(driver, 10).until(\n",
    "        EC.presence_of_element_located((By.CSS_SELECTOR, others_msg_selector))\n",
    "    )\n",
    "    \n",
    "    # 현재 페이지의 HTML을 가져옴\n",
    "    page_source = driver.page_source\n",
    "    soup = BeautifulSoup(page_source, 'html.parser')\n",
    "\n",
    "    recent_date = soup.select(date_selector)[-1].text\n",
    "    my_messages = [msg.text for msg in soup.select(my_msg_selector)]\n",
    "    others_messages = [msg.text for msg in soup.select(others_msg_selector)]\n",
    "\n",
    "    print(others_messages[-1])\n",
    "    print('-'*77)"
   ]
  },
  {
   "cell_type": "markdown",
   "metadata": {},
   "source": [
    "# 이동한 개별 대화창 스크래핑 & 모델 답변 입력"
   ]
  },
  {
   "cell_type": "markdown",
   "metadata": {},
   "source": []
  },
  {
   "cell_type": "markdown",
   "metadata": {},
   "source": [
    "# 최근 메시지 입력받아 답변 생성과 관련 메서드 수행"
   ]
  },
  {
   "cell_type": "code",
   "execution_count": null,
   "metadata": {},
   "outputs": [],
   "source": []
  }
 ],
 "metadata": {
  "kernelspec": {
   "display_name": "order_assistant",
   "language": "python",
   "name": "python3"
  },
  "language_info": {
   "codemirror_mode": {
    "name": "ipython",
    "version": 3
   },
   "file_extension": ".py",
   "mimetype": "text/x-python",
   "name": "python",
   "nbconvert_exporter": "python",
   "pygments_lexer": "ipython3",
   "version": "3.8.17"
  }
 },
 "nbformat": 4,
 "nbformat_minor": 2
}
