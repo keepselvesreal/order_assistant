{
 "cells": [
  {
   "cell_type": "markdown",
   "metadata": {},
   "source": [
    "초기화"
   ]
  },
  {
   "cell_type": "code",
   "execution_count": 1,
   "metadata": {},
   "outputs": [
    {
     "name": "stdout",
     "output_type": "stream",
     "text": [
      "True\n"
     ]
    }
   ],
   "source": [
    "import os\n",
    "from dotenv import load_dotenv, find_dotenv\n",
    "\n",
    "print(load_dotenv(find_dotenv(), override=True))\n",
    "\n",
    "OPENAI_API_KEY = os.environ[\"OPENAI_API_KEY\"]"
   ]
  },
  {
   "cell_type": "code",
   "execution_count": 2,
   "metadata": {},
   "outputs": [],
   "source": [
    "from langchain.chat_models import ChatOpenAI\n",
    "from langchain.prompts import PromptTemplate\n",
    "from langchain.schema.output_parser import StrOutputParser\n",
    "from langchain.schema.runnable import RunnableBranch\n",
    "\n",
    "from langchain.memory import ConversationBufferMemory\n",
    "from langchain.schema.runnable import RunnablePassthrough, RunnableLambda\n",
    "\n",
    "from operator import itemgetter"
   ]
  },
  {
   "cell_type": "code",
   "execution_count": 3,
   "metadata": {},
   "outputs": [],
   "source": [
    "# 프롬프트 분류기 \n",
    "\n",
    "from typing import Literal\n",
    "from langchain.pydantic_v1 import BaseModel\n",
    "from langchain.output_parsers.openai_functions import PydanticAttrOutputFunctionsParser\n",
    "from langchain.utils.openai_functions import convert_pydantic_to_openai_function"
   ]
  },
  {
   "cell_type": "markdown",
   "metadata": {},
   "source": [
    "prompt 설정"
   ]
  },
  {
   "cell_type": "code",
   "execution_count": 4,
   "metadata": {},
   "outputs": [],
   "source": [
    "general_prompt = PromptTemplate.from_template(\"\"\"\n",
    "너는 고객 문의를 매우 많이 해본 숙력된 종업원이야.\n",
    "가게에서 판매하는 상품 정보를 바탕으로 고객 문의에 친절하고 자세하게 답변해줘.\n",
    "자연스럽게 주문으로 이어지도록 대화를 이어가되, 지나치게 주문을 유도하지는 말아줘.\n",
    "\n",
    "가게에서 판매하는 상품 목록.\n",
    "1. 상품: 떡케익5호\n",
    "   기본 판매 수량: 1개\n",
    "   기본 판매 수량의 가격: 54,000원\n",
    "2. 상품: 무지개 백설기 케익\n",
    "   기본 판매 수량: 1개\n",
    "   기본 판매 수량의 가격: 51,500원\n",
    "3. 상품: 미니 백설기\n",
    "   기본 판매 수량: 35개\n",
    "   기본 판매 수량의 가격: 31,500원\n",
    "4. 상품: 개별 모듬팩\n",
    "   기본 판매 수량: 1개\n",
    "   기본 판매 수량의 가격: 13,500원\n",
    "   \n",
    "이전 대화 내용을 고려해서 답변해야 해.\n",
    "이전 대화 내용은 다음과 같아:\n",
    "{history}\n",
    "\n",
    "고객이 문의는 다음과 같아:\n",
    "{message}\n",
    "답변:\"\"\")\n",
    "\n",
    "order_change_prompt = PromptTemplate.from_template(\"\"\"\n",
    "너는 주문 변경을 전담하는 종업원이야.\n",
    "고객이 변경한 주문 내용을 정확하게 파악하고, 너가 파악한 내용이 맞는지 고객에게 한 번 더 확인해줘.\n",
    "너가 파악한 주문 변경 내용이 잘못됐다면, 주문 변경 내용을 정확히 파악하고 그 내용이 맞는지 고객에게 확인하는 작업을 주문 변경 내용을 정확히 파악할 때까지 반복해야돼.\n",
    "고객의 주문 변경을 정확히 파악했다면, 고객에게 고객이 주문을 변경한 상품의 이름, 수량, 가격을 각각 알려주고, 마지막에는 변경된 주문의 총 가격을 알려줘.\n",
    "이전 대화 내용을 고려해서 답변해야 해.\n",
    "\n",
    "이전 대화 내용은 다음과 같아:\n",
    "{history}\n",
    "\n",
    "\n",
    "고객의 주문 변경은 다음과 같아:\n",
    "{message}\n",
    "답변:\"\"\")\n",
    "\n",
    "order_cancel_prompt = PromptTemplate.from_template(\"\"\"\n",
    "너는 주문 취소를 전담하는 종업원이야.\n",
    "고객이 취소하려는 주문을 정확하게 파악하고, 너가 파악한 내용이 맞는지 고객에게 한 번 더 확인해줘.\n",
    "너가 파악한 주문 취소 내용이 잘못됐다면, 주문 취소 내용을 정확히 파악하고 그 내용이 맞는지 고객에게 확인하는 작업을 주문 취소 내용을 정확히 파악할 때\n",
    "고객의 주문 취소 내용을 정확히 파악했다면, 고객에게 고객이 주문을 취소한 상품의 이름, 수량, 가격을 각각 알려주고, 마지막에는 취소된 주문의 총 가격을 알려줘.\n",
    "이전 대화 내용을 고려해서 답변해야 해.\n",
    "\n",
    "이전 대화 내용은 다음과 같아:\n",
    "{history}\n",
    "\n",
    "고객이 취소하려는 주문은 다음과 같아:\n",
    "{message}\n",
    "답변:\"\"\")"
   ]
  },
  {
   "cell_type": "markdown",
   "metadata": {},
   "source": [
    "프롬프트 분류기 설정"
   ]
  },
  {
   "cell_type": "code",
   "execution_count": 5,
   "metadata": {},
   "outputs": [],
   "source": [
    "class TopicClassifier(BaseModel):\n",
    "    \"사용자 문의의 주제를 분류해줘.\"\n",
    "    \n",
    "    topic: Literal[\"일반\", \"주문 변경\", \"주문 취소\"]\n",
    "    \"사용자 문의의 주제는 '일반', '주문 변경', '주문 취소' 중 하나야.\"\n",
    "\n",
    "\n",
    "classifier_function = convert_pydantic_to_openai_function(TopicClassifier)\n",
    "llm = ChatOpenAI().bind(functions=[classifier_function], function_call={\"name\": \"TopicClassifier\"}) \n",
    "parser = PydanticAttrOutputFunctionsParser(pydantic_schema=TopicClassifier, attr_name=\"topic\")\n",
    "classifier_chain = llm | parser"
   ]
  },
  {
   "cell_type": "markdown",
   "metadata": {},
   "source": [
    "prompt router 설정"
   ]
  },
  {
   "cell_type": "code",
   "execution_count": 6,
   "metadata": {},
   "outputs": [],
   "source": [
    "prompt_branch = RunnableBranch(\n",
    "  (lambda x: x[\"topic\"] == \"주문 변경\", order_change_prompt),\n",
    "  (lambda x: x[\"topic\"] == \"주문 취소\", order_cancel_prompt),\n",
    "  general_prompt\n",
    ")"
   ]
  },
  {
   "cell_type": "markdown",
   "metadata": {},
   "source": [
    "메모리 준비"
   ]
  },
  {
   "cell_type": "code",
   "execution_count": 7,
   "metadata": {},
   "outputs": [],
   "source": [
    "memory = ConversationBufferMemory(return_messages=True)"
   ]
  },
  {
   "cell_type": "markdown",
   "metadata": {},
   "source": [
    "입력 메시지를 받아 ai의 답변을 생성하는 chain 구성"
   ]
  },
  {
   "cell_type": "code",
   "execution_count": 8,
   "metadata": {},
   "outputs": [],
   "source": [
    "chain = (\n",
    "    RunnablePassthrough.assign(history=RunnableLambda(memory.load_memory_variables) | itemgetter(\"history\"))|\n",
    "    RunnablePassthrough.assign(topic=itemgetter(\"message\") | classifier_chain) \n",
    "    | prompt_branch \n",
    "    | ChatOpenAI()\n",
    "    | StrOutputParser()\n",
    ")\n"
   ]
  },
  {
   "cell_type": "markdown",
   "metadata": {},
   "source": [
    "입력 메시지와 모델 출력 메시지(ai 답변)을 저장하는 함수 생성"
   ]
  },
  {
   "cell_type": "code",
   "execution_count": 9,
   "metadata": {},
   "outputs": [],
   "source": [
    "def save_conversation(dict):\n",
    "    print('customer_message: ', dict[\"customer_message\"])\n",
    "    print('ai_response: ', dict[\"ai_response\"])\n",
    "    memory.save_context({\"inputs\": dict[\"customer_message\"]}, {\"output\": dict[\"ai_response\"]})"
   ]
  },
  {
   "cell_type": "markdown",
   "metadata": {},
   "source": [
    "최종 chain 구성"
   ]
  },
  {
   "cell_type": "code",
   "execution_count": 10,
   "metadata": {},
   "outputs": [],
   "source": [
    "final_chain = {\"customer_message\": itemgetter(\"message\"), \"ai_response\": chain} |  RunnableLambda(save_conversation)"
   ]
  },
  {
   "cell_type": "markdown",
   "metadata": {},
   "source": [
    "동작 확인"
   ]
  },
  {
   "cell_type": "code",
   "execution_count": 11,
   "metadata": {},
   "outputs": [
    {
     "name": "stdout",
     "output_type": "stream",
     "text": [
      "customer_message:  안녕하세요. 판매 중인 상품 정보 좀 알고 싶어요\n",
      "ai_response:  안녕하세요! 가게에서 판매 중인 상품 정보에 관심이 있으시군요. 저희 가게에서는 떡케익 5호, 무지개 백설기 케익, 미니 백설기, 그리고 개별 모듬팩을 판매하고 있습니다.\n",
      "\n",
      "떡케익 5호는 1개를 기본 판매 수량으로 하고 있으며, 가격은 54,000원입니다. 무지개 백설기 케익도 1개를 기본 판매 수량으로 하고 있고, 가격은 51,500원입니다. 미니 백설기는 35개를 기본 판매 수량으로 하고 있으며, 가격은 31,500원입니다. 마지막으로 개별 모듬팩은 1개를 기본 판매 수량으로 하고 있고, 가격은 13,500원입니다.\n",
      "\n",
      "어떤 상품에 대해 자세한 정보를 원하시나요? 저는 친절하게 답변해 드리겠습니다.\n"
     ]
    }
   ],
   "source": [
    "final_chain.invoke({\"message\": \"안녕하세요. 판매 중인 상품 정보 좀 알고 싶어요\"})"
   ]
  },
  {
   "cell_type": "markdown",
   "metadata": {},
   "source": [
    "다른 구조 후보\n",
    "- 문의 분류 chain\n",
    "- general_query_chain, order_change_chain, order_cancel_chain 각각 구성\n",
    "    - chain 구성: prompt | llm | RunnableLambda(save_conversation)\n",
    "- RunnableBranch\n",
    "-final_chain 구성: full_chain = {\"topic\": chain, \"message\": lambda x: x[\"message\"]} | branch"
   ]
  }
 ],
 "metadata": {
  "kernelspec": {
   "display_name": "order_assistant",
   "language": "python",
   "name": "python3"
  },
  "language_info": {
   "codemirror_mode": {
    "name": "ipython",
    "version": 3
   },
   "file_extension": ".py",
   "mimetype": "text/x-python",
   "name": "python",
   "nbconvert_exporter": "python",
   "pygments_lexer": "ipython3",
   "version": "3.8.17"
  }
 },
 "nbformat": 4,
 "nbformat_minor": 2
}
