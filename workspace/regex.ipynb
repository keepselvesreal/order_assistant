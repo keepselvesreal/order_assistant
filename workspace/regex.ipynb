{
 "cells": [
  {
   "cell_type": "markdown",
   "metadata": {},
   "source": [
    "# 2 수량자와 특별한 하위 패턴들"
   ]
  },
  {
   "cell_type": "markdown",
   "metadata": {},
   "source": [
    "## 퍼즐 01 와일드카드 스코프"
   ]
  },
  {
   "cell_type": "markdown",
   "metadata": {},
   "source": [
    "## 퍼즐 02 단어와 시퀀스"
   ]
  },
  {
   "cell_type": "code",
   "execution_count": 6,
   "metadata": {},
   "outputs": [],
   "source": [
    "import re"
   ]
  },
  {
   "cell_type": "code",
   "execution_count": 15,
   "metadata": {},
   "outputs": [],
   "source": [
    "txt = \"\"\"\n",
    "expurgatory xylometer xenotime xenomorphically exquisitely \n",
    "xylogy xiphosurans xenophile oxytocin xylogen \n",
    "xeriscapes xerochasy inexplicably exabyte inexpressibly \n",
    "extremity xiphophyllous xylographic complexly vexillology \n",
    "xanthenes xylenol xylol xylenes coextensively\n",
    "\"\"\""
   ]
  },
  {
   "cell_type": "code",
   "execution_count": 7,
   "metadata": {},
   "outputs": [
    {
     "data": {
      "text/plain": [
       "['xpurgatory',\n",
       " 'xy',\n",
       " 'xenomorphically',\n",
       " 'xquisitely',\n",
       " 'xylogy',\n",
       " 'xy',\n",
       " 'xy',\n",
       " 'xerochasy',\n",
       " 'xplicably',\n",
       " 'xaby',\n",
       " 'xpressibly',\n",
       " 'xtremity',\n",
       " 'xiphophy',\n",
       " 'xy',\n",
       " 'xly',\n",
       " 'xillology',\n",
       " 'xy',\n",
       " 'xy',\n",
       " 'xy',\n",
       " 'xtensively']"
      ]
     },
     "execution_count": 7,
     "metadata": {},
     "output_type": "execute_result"
    }
   ],
   "source": [
    "pat3 = re.compile(r'x[a-z]*y')\n",
    "re.findall(pat3, txt)"
   ]
  },
  {
   "cell_type": "code",
   "execution_count": 8,
   "metadata": {},
   "outputs": [
    {
     "data": {
      "text/plain": [
       "['xenomorphically', 'xylogy', 'xerochasy']"
      ]
     },
     "execution_count": 8,
     "metadata": {},
     "output_type": "execute_result"
    }
   ],
   "source": [
    "pat4 = re.compile(r'\\bx[a-z]*y\\b')\n",
    "re.findall(pat4, txt)"
   ]
  },
  {
   "cell_type": "code",
   "execution_count": 10,
   "metadata": {},
   "outputs": [
    {
     "data": {
      "text/plain": [
       "['xenomorphically', 'xylogy', 'xerochasy']"
      ]
     },
     "execution_count": 10,
     "metadata": {},
     "output_type": "execute_result"
    }
   ],
   "source": [
    "# 헷갈렸던 부분\n",
    "# 1. (?<=^|(?<=[^a-z]))에서 (?<=^)가 아니라 ?<=^란 점\n",
    "# 2.후방 탐색 개념-입력 패턴 뒤에서 어떤 패턴을 찾는 것\n",
    "\n",
    "pat5 = re.compile(r'(?<=^|(?<=[^a-z]))x[a-z]*y(?=$|(?=[^a-z]))')\n",
    "re.findall(pat5, txt)"
   ]
  },
  {
   "cell_type": "code",
   "execution_count": 12,
   "metadata": {},
   "outputs": [
    {
     "data": {
      "text/plain": [
       "['xenomorphically', 'xylogy', 'xerochasy']"
      ]
     },
     "execution_count": 12,
     "metadata": {},
     "output_type": "execute_result"
    }
   ],
   "source": [
    "# Find all words that start with 'x' and end with 'y'\n",
    "\n",
    "pat6 = re.compile(r'\\bx[a-z]*y\\b')\n",
    "re.findall(pat6, txt)"
   ]
  },
  {
   "cell_type": "code",
   "execution_count": 14,
   "metadata": {},
   "outputs": [
    {
     "data": {
      "text/plain": [
       "['xenomorphically', 'xylogy', 'xerochasy']"
      ]
     },
     "execution_count": 14,
     "metadata": {},
     "output_type": "execute_result"
    }
   ],
   "source": [
    "# Find all lowercase words that start with 'x' and end with 'y'\n",
    "\n",
    "pat7 = re.compile(r'\\bx[a-z]*y\\b')\n",
    "re.findall(pat7, txt)"
   ]
  },
  {
   "cell_type": "markdown",
   "metadata": {},
   "source": [
    "## 퍼즐 03 Endpoint 클래스\n",
    "- 같은 문자 클래스의 시작과 끝이 다른 단어를 매치하라"
   ]
  },
  {
   "cell_type": "code",
   "execution_count": null,
   "metadata": {},
   "outputs": [],
   "source": [
    "import re"
   ]
  },
  {
   "cell_type": "code",
   "execution_count": null,
   "metadata": {},
   "outputs": [],
   "source": [
    "txt = \"\"\"\n",
    "expurgatory xylometer xenotime xenomorphically exquisitely \n",
    "xylogy xiphosurans xenophile oxytocin xylogen \n",
    "xeriscapes xerochasy inexplicably exabyte inexpressibly \n",
    "extremity xiphophyllous xylographic complexly vexillology \n",
    "xanthenes xylenol xylol xylenes coextensively\n",
    "\"\"\""
   ]
  },
  {
   "cell_type": "code",
   "execution_count": 22,
   "metadata": {},
   "outputs": [
    {
     "data": {
      "text/plain": [
       "<re.Match object; span=(0, 6), match='ktskts'>"
      ]
     },
     "execution_count": 22,
     "metadata": {},
     "output_type": "execute_result"
    }
   ],
   "source": [
    "# test - 역참조를 [ ] 안에 사용할 수 있는가\n",
    "\n",
    "t_pat = r'\\b(kts)\\1\\b'\n",
    "re.search(t_pat, 'ktskts')"
   ]
  },
  {
   "cell_type": "code",
   "execution_count": 21,
   "metadata": {},
   "outputs": [
    {
     "data": {
      "text/plain": [
       "<re.Match object; span=(0, 4), match='ktsk'>"
      ]
     },
     "execution_count": 21,
     "metadata": {},
     "output_type": "execute_result"
    }
   ],
   "source": [
    "# test - 역참조를 [ ] 안에 사용할 수 있는가\n",
    "# k가 제외되는 이유는? \n",
    "# [^\\1]의 의미는? \n",
    "\n",
    "t_pat = r'\\b(kts)[^\\1]'\n",
    "re.search(t_pat, 'ktskts')"
   ]
  },
  {
   "cell_type": "code",
   "execution_count": 25,
   "metadata": {},
   "outputs": [
    {
     "ename": "error",
     "evalue": "bad escape \\k at position 9",
     "output_type": "error",
     "traceback": [
      "\u001b[1;31m---------------------------------------------------------------------------\u001b[0m",
      "\u001b[1;31merror\u001b[0m                                     Traceback (most recent call last)",
      "\u001b[1;32md:\\Repository\\order_assistant\\workspace\\regex.ipynb Cell 16\u001b[0m line \u001b[0;36m4\n\u001b[0;32m      <a href='vscode-notebook-cell:/d%3A/Repository/order_assistant/workspace/regex.ipynb#X41sZmlsZQ%3D%3D?line=0'>1</a>\u001b[0m \u001b[39m# test - 역참조를 [ ] 안에 사용할 수 있는가\u001b[39;00m\n\u001b[0;32m      <a href='vscode-notebook-cell:/d%3A/Repository/order_assistant/workspace/regex.ipynb#X41sZmlsZQ%3D%3D?line=2'>3</a>\u001b[0m t_pat \u001b[39m=\u001b[39m \u001b[39mr\u001b[39m\u001b[39m'\u001b[39m\u001b[39m\\\u001b[39m\u001b[39mb(kts)[^\u001b[39m\u001b[39m\\\u001b[39m\u001b[39mkt]\u001b[39m\u001b[39m'\u001b[39m\n\u001b[1;32m----> <a href='vscode-notebook-cell:/d%3A/Repository/order_assistant/workspace/regex.ipynb#X41sZmlsZQ%3D%3D?line=3'>4</a>\u001b[0m re\u001b[39m.\u001b[39;49msearch(t_pat, \u001b[39m'\u001b[39;49m\u001b[39mktskts\u001b[39;49m\u001b[39m'\u001b[39;49m)\n",
      "File \u001b[1;32m~\\Anaconda3\\lib\\re.py:201\u001b[0m, in \u001b[0;36msearch\u001b[1;34m(pattern, string, flags)\u001b[0m\n\u001b[0;32m    198\u001b[0m \u001b[39mdef\u001b[39;00m \u001b[39msearch\u001b[39m(pattern, string, flags\u001b[39m=\u001b[39m\u001b[39m0\u001b[39m):\n\u001b[0;32m    199\u001b[0m \u001b[39m    \u001b[39m\u001b[39m\"\"\"Scan through string looking for a match to the pattern, returning\u001b[39;00m\n\u001b[0;32m    200\u001b[0m \u001b[39m    a Match object, or None if no match was found.\"\"\"\u001b[39;00m\n\u001b[1;32m--> 201\u001b[0m     \u001b[39mreturn\u001b[39;00m _compile(pattern, flags)\u001b[39m.\u001b[39msearch(string)\n",
      "File \u001b[1;32m~\\Anaconda3\\lib\\re.py:304\u001b[0m, in \u001b[0;36m_compile\u001b[1;34m(pattern, flags)\u001b[0m\n\u001b[0;32m    302\u001b[0m \u001b[39mif\u001b[39;00m \u001b[39mnot\u001b[39;00m sre_compile\u001b[39m.\u001b[39misstring(pattern):\n\u001b[0;32m    303\u001b[0m     \u001b[39mraise\u001b[39;00m \u001b[39mTypeError\u001b[39;00m(\u001b[39m\"\u001b[39m\u001b[39mfirst argument must be string or compiled pattern\u001b[39m\u001b[39m\"\u001b[39m)\n\u001b[1;32m--> 304\u001b[0m p \u001b[39m=\u001b[39m sre_compile\u001b[39m.\u001b[39;49mcompile(pattern, flags)\n\u001b[0;32m    305\u001b[0m \u001b[39mif\u001b[39;00m \u001b[39mnot\u001b[39;00m (flags \u001b[39m&\u001b[39m DEBUG):\n\u001b[0;32m    306\u001b[0m     \u001b[39mif\u001b[39;00m \u001b[39mlen\u001b[39m(_cache) \u001b[39m>\u001b[39m\u001b[39m=\u001b[39m _MAXCACHE:\n\u001b[0;32m    307\u001b[0m         \u001b[39m# Drop the oldest item\u001b[39;00m\n",
      "File \u001b[1;32m~\\Anaconda3\\lib\\sre_compile.py:764\u001b[0m, in \u001b[0;36mcompile\u001b[1;34m(p, flags)\u001b[0m\n\u001b[0;32m    762\u001b[0m \u001b[39mif\u001b[39;00m isstring(p):\n\u001b[0;32m    763\u001b[0m     pattern \u001b[39m=\u001b[39m p\n\u001b[1;32m--> 764\u001b[0m     p \u001b[39m=\u001b[39m sre_parse\u001b[39m.\u001b[39;49mparse(p, flags)\n\u001b[0;32m    765\u001b[0m \u001b[39melse\u001b[39;00m:\n\u001b[0;32m    766\u001b[0m     pattern \u001b[39m=\u001b[39m \u001b[39mNone\u001b[39;00m\n",
      "File \u001b[1;32m~\\Anaconda3\\lib\\sre_parse.py:948\u001b[0m, in \u001b[0;36mparse\u001b[1;34m(str, flags, state)\u001b[0m\n\u001b[0;32m    945\u001b[0m state\u001b[39m.\u001b[39mstr \u001b[39m=\u001b[39m \u001b[39mstr\u001b[39m\n\u001b[0;32m    947\u001b[0m \u001b[39mtry\u001b[39;00m:\n\u001b[1;32m--> 948\u001b[0m     p \u001b[39m=\u001b[39m _parse_sub(source, state, flags \u001b[39m&\u001b[39;49m SRE_FLAG_VERBOSE, \u001b[39m0\u001b[39;49m)\n\u001b[0;32m    949\u001b[0m \u001b[39mexcept\u001b[39;00m Verbose:\n\u001b[0;32m    950\u001b[0m     \u001b[39m# the VERBOSE flag was switched on inside the pattern.  to be\u001b[39;00m\n\u001b[0;32m    951\u001b[0m     \u001b[39m# on the safe side, we'll parse the whole thing again...\u001b[39;00m\n\u001b[0;32m    952\u001b[0m     state \u001b[39m=\u001b[39m State()\n",
      "File \u001b[1;32m~\\Anaconda3\\lib\\sre_parse.py:443\u001b[0m, in \u001b[0;36m_parse_sub\u001b[1;34m(source, state, verbose, nested)\u001b[0m\n\u001b[0;32m    441\u001b[0m start \u001b[39m=\u001b[39m source\u001b[39m.\u001b[39mtell()\n\u001b[0;32m    442\u001b[0m \u001b[39mwhile\u001b[39;00m \u001b[39mTrue\u001b[39;00m:\n\u001b[1;32m--> 443\u001b[0m     itemsappend(_parse(source, state, verbose, nested \u001b[39m+\u001b[39;49m \u001b[39m1\u001b[39;49m,\n\u001b[0;32m    444\u001b[0m                        \u001b[39mnot\u001b[39;49;00m nested \u001b[39mand\u001b[39;49;00m \u001b[39mnot\u001b[39;49;00m items))\n\u001b[0;32m    445\u001b[0m     \u001b[39mif\u001b[39;00m \u001b[39mnot\u001b[39;00m sourcematch(\u001b[39m\"\u001b[39m\u001b[39m|\u001b[39m\u001b[39m\"\u001b[39m):\n\u001b[0;32m    446\u001b[0m         \u001b[39mbreak\u001b[39;00m\n",
      "File \u001b[1;32m~\\Anaconda3\\lib\\sre_parse.py:554\u001b[0m, in \u001b[0;36m_parse\u001b[1;34m(source, state, verbose, nested, first)\u001b[0m\n\u001b[0;32m    552\u001b[0m     \u001b[39mbreak\u001b[39;00m\n\u001b[0;32m    553\u001b[0m \u001b[39melif\u001b[39;00m this[\u001b[39m0\u001b[39m] \u001b[39m==\u001b[39m \u001b[39m\"\u001b[39m\u001b[39m\\\\\u001b[39;00m\u001b[39m\"\u001b[39m:\n\u001b[1;32m--> 554\u001b[0m     code1 \u001b[39m=\u001b[39m _class_escape(source, this)\n\u001b[0;32m    555\u001b[0m \u001b[39melse\u001b[39;00m:\n\u001b[0;32m    556\u001b[0m     \u001b[39mif\u001b[39;00m \u001b[39mset\u001b[39m \u001b[39mand\u001b[39;00m this \u001b[39min\u001b[39;00m \u001b[39m'\u001b[39m\u001b[39m-&~|\u001b[39m\u001b[39m'\u001b[39m \u001b[39mand\u001b[39;00m source\u001b[39m.\u001b[39mnext \u001b[39m==\u001b[39m this:\n",
      "File \u001b[1;32m~\\Anaconda3\\lib\\sre_parse.py:349\u001b[0m, in \u001b[0;36m_class_escape\u001b[1;34m(source, escape)\u001b[0m\n\u001b[0;32m    347\u001b[0m     \u001b[39mif\u001b[39;00m \u001b[39mlen\u001b[39m(escape) \u001b[39m==\u001b[39m \u001b[39m2\u001b[39m:\n\u001b[0;32m    348\u001b[0m         \u001b[39mif\u001b[39;00m c \u001b[39min\u001b[39;00m ASCIILETTERS:\n\u001b[1;32m--> 349\u001b[0m             \u001b[39mraise\u001b[39;00m source\u001b[39m.\u001b[39merror(\u001b[39m'\u001b[39m\u001b[39mbad escape \u001b[39m\u001b[39m%s\u001b[39;00m\u001b[39m'\u001b[39m \u001b[39m%\u001b[39m escape, \u001b[39mlen\u001b[39m(escape))\n\u001b[0;32m    350\u001b[0m         \u001b[39mreturn\u001b[39;00m LITERAL, \u001b[39mord\u001b[39m(escape[\u001b[39m1\u001b[39m])\n\u001b[0;32m    351\u001b[0m \u001b[39mexcept\u001b[39;00m \u001b[39mValueError\u001b[39;00m:\n",
      "\u001b[1;31merror\u001b[0m: bad escape \\k at position 9"
     ]
    }
   ],
   "source": [
    "# test - 역참조를 [ ] 안에 사용할 수 있는가\n",
    "\n",
    "t_pat = r'\\b(kts)[^\\kt]'\n",
    "re.search(t_pat, 'ktskts')"
   ]
  },
  {
   "cell_type": "code",
   "execution_count": 24,
   "metadata": {},
   "outputs": [],
   "source": [
    "# test - 역참조를 [ ] 안에 사용할 수 있는가. 없는 듯\n",
    "\n",
    "t_pat = r'\\b(kts)[^kts]'\n",
    "re.search(t_pat, 'ktskts')"
   ]
  },
  {
   "cell_type": "code",
   "execution_count": 17,
   "metadata": {},
   "outputs": [
    {
     "data": {
      "text/plain": [
       "['e',\n",
       " 'x',\n",
       " 'x',\n",
       " 'x',\n",
       " 'e',\n",
       " 'x',\n",
       " 'x',\n",
       " 'x',\n",
       " 'o',\n",
       " 'x',\n",
       " 'x',\n",
       " 'x',\n",
       " 'i',\n",
       " 'e',\n",
       " 'i',\n",
       " 'e',\n",
       " 'x',\n",
       " 'x',\n",
       " 'c',\n",
       " 'v',\n",
       " 'x',\n",
       " 'x',\n",
       " 'x',\n",
       " 'x',\n",
       " 'c']"
      ]
     },
     "execution_count": 17,
     "metadata": {},
     "output_type": "execute_result"
    }
   ],
   "source": [
    "# 시도1\n",
    "my_pattern = r'\\b([a-z])[a-z]*[^\\1]\\b'\n",
    "re.findall(my_pattern, txt)"
   ]
  },
  {
   "cell_type": "markdown",
   "metadata": {},
   "source": [
    "# 부록"
   ]
  },
  {
   "cell_type": "code",
   "execution_count": 2,
   "metadata": {},
   "outputs": [],
   "source": [
    "import re\n",
    "# 가운데 공백을 띄지 않아 아무 것도 매칭되지 않은 것\n",
    "\n",
    "re.search(r'(Mary)()(had)', 'Mary had a little lamb.')\n",
    "# group이 아니라 groups네"
   ]
  },
  {
   "cell_type": "code",
   "execution_count": null,
   "metadata": {},
   "outputs": [],
   "source": [
    "re.search(r'(Mary)( )(had)', 'Mary had a little lamb.').groups()\n",
    "text = \"Mary had a little lamb\"\n",
    "pattern = r'(Mary)( )(had)'\n",
    "replacement = r'\\1\\2ate'\n"
   ]
  },
  {
   "cell_type": "code",
   "execution_count": null,
   "metadata": {},
   "outputs": [],
   "source": [
    "new_text = re.sub(pattern, replacement, text)\n",
    "new_text\n",
    "re.findall(r'=first|second=', '=first first= # =second second= # =first # =second=')\n",
    "# 정규표현식이 연속되기에 각각의 매칭 여부가 모두 표시되는 듯"
   ]
  },
  {
   "cell_type": "code",
   "execution_count": null,
   "metadata": {},
   "outputs": [],
   "source": [
    "re.findall(r'(=)(first)|(second)(=)', '=first first= # =second second= # =first # =second=')\n",
    "re.findall(r'=first|second=', '=first first= # =second second= # =first= # =second=')\n",
    "# 책과 결과(=first=, =second=)가 다름\n",
    "re.findall(r'=(first|second)=', '=first first= # =second second= # =first= # =second=')"
   ]
  },
  {
   "cell_type": "markdown",
   "metadata": {},
   "source": [
    "## 03 중급: 텍스트의 패턴 매치하기"
   ]
  },
  {
   "cell_type": "code",
   "execution_count": 4,
   "metadata": {},
   "outputs": [
    {
     "data": {
      "text/plain": [
       "'37:A B4 107:C 5411:D2 1103:E XXX'"
      ]
     },
     "execution_count": 4,
     "metadata": {},
     "output_type": "execute_result"
    }
   ],
   "source": [
    "# 5411:D2 부분이 책과 결과가 다름\n",
    "# D54112에서는 '5411'만 매치되어 112:D로 변환 according to chatgpt\n",
    "text = \"A37 B4 C107 D54112 E1103 XXX\"\n",
    "pattern = r'([A-Z])([0-9]{2,4})'\n",
    "replacement = r'\\2:\\1'\n",
    "re.sub(pattern, replacement, text)"
   ]
  }
 ],
 "metadata": {
  "kernelspec": {
   "display_name": "order_assistant",
   "language": "python",
   "name": "python3"
  },
  "language_info": {
   "codemirror_mode": {
    "name": "ipython",
    "version": 3
   },
   "file_extension": ".py",
   "mimetype": "text/x-python",
   "name": "python",
   "nbconvert_exporter": "python",
   "pygments_lexer": "ipython3",
   "version": "3.8.17"
  }
 },
 "nbformat": 4,
 "nbformat_minor": 2
}
