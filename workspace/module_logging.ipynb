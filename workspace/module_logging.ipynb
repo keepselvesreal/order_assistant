{
 "cells": [
  {
   "cell_type": "code",
   "execution_count": 1,
   "metadata": {},
   "outputs": [],
   "source": [
    "import logging"
   ]
  },
  {
   "cell_type": "markdown",
   "metadata": {},
   "source": [
    "기본 설정은 로그 레벨이 WARNING 이상인 메시지만 출력"
   ]
  },
  {
   "cell_type": "code",
   "execution_count": 2,
   "metadata": {},
   "outputs": [
    {
     "name": "stderr",
     "output_type": "stream",
     "text": [
      "WARNING:root:경고 메시지\n",
      "ERROR:root:오류 메시지\n",
      "CRITICAL:root:심각한 오류 메시지\n"
     ]
    }
   ],
   "source": [
    "logging.debug('디버깅 메시지')\n",
    "logging.info('정보 메시지')\n",
    "logging.warning('경고 메시지')\n",
    "logging.error('오류 메시지')\n",
    "logging.critical('심각한 오류 메시지')"
   ]
  },
  {
   "cell_type": "markdown",
   "metadata": {},
   "source": [
    "-  asctime의미: datetime 모듈에서 제공하는 asctime() 함수를 사용하여 현재 시간을 문자열로 변환\n",
    "- -8s 의미: 출력되는 로그 레벨의 너비(여기선 문자열의 길이)"
   ]
  },
  {
   "cell_type": "code",
   "execution_count": 4,
   "metadata": {},
   "outputs": [],
   "source": [
    "logging.basicConfig(\n",
    "    format='%(asctime)s %(levelname)-8s %(message)s',\n",
    "    level=logging.DEBUG,\n",
    "    filename='log.txt', # 파일 저장 안되는 거 같은데?\n",
    "    filemode='w',\n",
    ")"
   ]
  },
  {
   "cell_type": "code",
   "execution_count": 5,
   "metadata": {},
   "outputs": [
    {
     "data": {
      "text/plain": [
       "<logging.Formatter at 0x222d11affa0>"
      ]
     },
     "execution_count": 5,
     "metadata": {},
     "output_type": "execute_result"
    }
   ],
   "source": [
    "formatter = logging.Formatter('%(asctime)s %(levelname)-8s %(message)s')\n",
    "formatter"
   ]
  },
  {
   "cell_type": "code",
   "execution_count": 6,
   "metadata": {},
   "outputs": [
    {
     "data": {
      "text/plain": [
       "<StreamHandler stderr (NOTSET)>"
      ]
     },
     "execution_count": 6,
     "metadata": {},
     "output_type": "execute_result"
    }
   ],
   "source": [
    "logging.StreamHandler()"
   ]
  },
  {
   "cell_type": "code",
   "execution_count": 7,
   "metadata": {},
   "outputs": [],
   "source": [
    "stream_handler = logging.StreamHandler()\n",
    "stream_handler.setFormatter(formatter)"
   ]
  },
  {
   "cell_type": "code",
   "execution_count": 9,
   "metadata": {},
   "outputs": [
    {
     "data": {
      "text/plain": [
       "<RootLogger root (WARNING)>"
      ]
     },
     "execution_count": 9,
     "metadata": {},
     "output_type": "execute_result"
    }
   ],
   "source": [
    "logging.getLogger()"
   ]
  },
  {
   "cell_type": "code",
   "execution_count": 10,
   "metadata": {},
   "outputs": [],
   "source": [
    "logger = logging.getLogger()\n",
    "logger.addHandler(stream_handler)"
   ]
  },
  {
   "cell_type": "code",
   "execution_count": 11,
   "metadata": {},
   "outputs": [
    {
     "name": "stderr",
     "output_type": "stream",
     "text": [
      "ERROR:root:오류 메시지\n",
      "2023-10-29 00:32:19,208 ERROR    오류 메시지\n"
     ]
    }
   ],
   "source": [
    "logging.error('오류 메시지')"
   ]
  },
  {
   "cell_type": "markdown",
   "metadata": {},
   "source": [
    "오류 메시지가 아니라 오류의 범주가 8글자 이하인 듯"
   ]
  },
  {
   "cell_type": "code",
   "execution_count": 12,
   "metadata": {},
   "outputs": [
    {
     "name": "stderr",
     "output_type": "stream",
     "text": [
      "ERROR:root:여덟글자 이상 오류 메시지\n",
      "2023-10-29 00:34:09,119 ERROR    여덟글자 이상 오류 메시지\n"
     ]
    }
   ],
   "source": [
    "logging.error('여덟글자 이상 오류 메시지')"
   ]
  },
  {
   "cell_type": "code",
   "execution_count": null,
   "metadata": {},
   "outputs": [],
   "source": []
  }
 ],
 "metadata": {
  "kernelspec": {
   "display_name": "order_assistant",
   "language": "python",
   "name": "python3"
  },
  "language_info": {
   "codemirror_mode": {
    "name": "ipython",
    "version": 3
   },
   "file_extension": ".py",
   "mimetype": "text/x-python",
   "name": "python",
   "nbconvert_exporter": "python",
   "pygments_lexer": "ipython3",
   "version": "3.8.17"
  }
 },
 "nbformat": 4,
 "nbformat_minor": 2
}
