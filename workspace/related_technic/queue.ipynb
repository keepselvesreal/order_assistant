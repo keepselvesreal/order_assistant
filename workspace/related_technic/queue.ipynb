{
 "cells": [
  {
   "cell_type": "code",
   "execution_count": 6,
   "metadata": {},
   "outputs": [
    {
     "name": "stdout",
     "output_type": "stream",
     "text": [
      "프린팅: 문서 1\n",
      "남은 작업 수:  2\n",
      "-----------------------------------------------------------------------------\n",
      "프린팅: 문서 2\n",
      "남은 작업 수:  1\n",
      "-----------------------------------------------------------------------------\n",
      "프린팅: 문서 3\n",
      "남은 작업 수:  0\n",
      "-----------------------------------------------------------------------------\n",
      "모든 프린트 작업 완료\n"
     ]
    }
   ],
   "source": [
    "import queue\n",
    "\n",
    "# 프린터 큐 생성\n",
    "printer_queue = queue.Queue()\n",
    "\n",
    "# 작업 추가\n",
    "printer_queue.put(\"문서 1\")\n",
    "printer_queue.put(\"문서 2\")\n",
    "printer_queue.put(\"문서 3\")\n",
    "\n",
    "# 작업 처리\n",
    "while not printer_queue.empty():\n",
    "    current_job = printer_queue.get()\n",
    "    print(f\"프린팅: {current_job}\")\n",
    "    # 프린트 작업 처리 코드...\n",
    "    printer_queue.task_done()\n",
    "    print(\"남은 작업 수: \", printer_queue.qsize())\n",
    "    print('-'*77)\n",
    "\n",
    "print(\"모든 프린트 작업 완료\")"
   ]
  },
  {
   "cell_type": "code",
   "execution_count": 9,
   "metadata": {},
   "outputs": [
    {
     "data": {
      "text/plain": [
       "'문서 1'"
      ]
     },
     "execution_count": 9,
     "metadata": {},
     "output_type": "execute_result"
    }
   ],
   "source": [
    "test_queue = queue.Queue()\n",
    "test_queue.put(\"문서 1\")\n",
    "test_queue.get()"
   ]
  },
  {
   "cell_type": "code",
   "execution_count": 10,
   "metadata": {},
   "outputs": [
    {
     "ename": "TypeError",
     "evalue": "'Queue' object is not subscriptable",
     "output_type": "error",
     "traceback": [
      "\u001b[1;31m---------------------------------------------------------------------------\u001b[0m",
      "\u001b[1;31mTypeError\u001b[0m                                 Traceback (most recent call last)",
      "\u001b[1;32md:\\Repository\\order_assistant\\workspace\\related_technic\\queue.ipynb Cell 3\u001b[0m line \u001b[0;36m3\n\u001b[0;32m      <a href='vscode-notebook-cell:/d%3A/Repository/order_assistant/workspace/related_technic/queue.ipynb#W3sZmlsZQ%3D%3D?line=0'>1</a>\u001b[0m test_queue \u001b[39m=\u001b[39m queue\u001b[39m.\u001b[39mQueue()\n\u001b[0;32m      <a href='vscode-notebook-cell:/d%3A/Repository/order_assistant/workspace/related_technic/queue.ipynb#W3sZmlsZQ%3D%3D?line=1'>2</a>\u001b[0m test_queue\u001b[39m.\u001b[39mput(\u001b[39m\"\u001b[39m\u001b[39m문서 1\u001b[39m\u001b[39m\"\u001b[39m)\n\u001b[1;32m----> <a href='vscode-notebook-cell:/d%3A/Repository/order_assistant/workspace/related_technic/queue.ipynb#W3sZmlsZQ%3D%3D?line=2'>3</a>\u001b[0m test_queue[\u001b[39m-\u001b[39;49m\u001b[39m1\u001b[39;49m]\n",
      "\u001b[1;31mTypeError\u001b[0m: 'Queue' object is not subscriptable"
     ]
    }
   ],
   "source": [
    "test_queue = queue.Queue()\n",
    "test_queue.put(\"문서 1\")\n",
    "test_queue[-1]"
   ]
  }
 ],
 "metadata": {
  "kernelspec": {
   "display_name": "order_assistant",
   "language": "python",
   "name": "python3"
  },
  "language_info": {
   "codemirror_mode": {
    "name": "ipython",
    "version": 3
   },
   "file_extension": ".py",
   "mimetype": "text/x-python",
   "name": "python",
   "nbconvert_exporter": "python",
   "pygments_lexer": "ipython3",
   "version": "3.8.17"
  }
 },
 "nbformat": 4,
 "nbformat_minor": 2
}
