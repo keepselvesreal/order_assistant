{
 "cells": [
  {
   "cell_type": "code",
   "execution_count": 19,
   "metadata": {},
   "outputs": [
    {
     "name": "stdout",
     "output_type": "stream",
     "text": [
      "True\n"
     ]
    }
   ],
   "source": [
    "import os\n",
    "from dotenv import load_dotenv, find_dotenv\n",
    "\n",
    "print(load_dotenv(find_dotenv(), override=True))\n",
    "\n",
    "OPENAI_API_KEY = os.environ[\"OPENAI_API_KEY\"]"
   ]
  },
  {
   "cell_type": "code",
   "execution_count": 20,
   "metadata": {},
   "outputs": [
    {
     "data": {
      "text/plain": [
       "'gpt-3.5-turbo-0301'"
      ]
     },
     "execution_count": 20,
     "metadata": {},
     "output_type": "execute_result"
    }
   ],
   "source": [
    "# account for deprecation of LLM model\n",
    "import datetime\n",
    "# Get the current date\n",
    "current_date = datetime.datetime.now().date()\n",
    "\n",
    "# Define the date after which the model should be set to \"gpt-3.5-turbo\"\n",
    "target_date = datetime.date(2024, 6, 12)\n",
    "\n",
    "# Set the model variable based on the current date\n",
    "if current_date > target_date:\n",
    "    llm_model = \"gpt-3.5-turbo\"\n",
    "else:\n",
    "    llm_model = \"gpt-3.5-turbo-0301\"\n",
    "\n",
    "llm_model"
   ]
  },
  {
   "cell_type": "code",
   "execution_count": null,
   "metadata": {},
   "outputs": [],
   "source": [
    "import openai\n",
    "\n",
    "def get_completion_from_messages(messages, \n",
    "                                 model=\"gpt-3.5-turbo\", \n",
    "                                 temperature=0, max_tokens=500):\n",
    "    response = openai.ChatCompletion.create(\n",
    "        model=model,\n",
    "        messages=messages,\n",
    "        temperature=temperature, \n",
    "        max_tokens=max_tokens, \n",
    "    )\n",
    "    return response.choices[0].message[\"content\"]"
   ]
  },
  {
   "cell_type": "markdown",
   "metadata": {},
   "source": [
    "## 일반 문의와 주문 구분"
   ]
  },
  {
   "cell_type": "markdown",
   "metadata": {},
   "source": [
    "### v1"
   ]
  },
  {
   "cell_type": "markdown",
   "metadata": {},
   "source": [
    "message 파라미터"
   ]
  },
  {
   "cell_type": "code",
   "execution_count": 24,
   "metadata": {},
   "outputs": [],
   "source": [
    "import openai\n",
    "\n",
    "def get_completion_from_messages(messages, \n",
    "                                 model=\"gpt-3.5-turbo\", \n",
    "                                 temperature=0, max_tokens=500):\n",
    "    response = openai.ChatCompletion.create(\n",
    "        model=model,\n",
    "        messages=messages,\n",
    "        temperature=temperature, \n",
    "        max_tokens=max_tokens, \n",
    "    )\n",
    "    return response.choices[0].message[\"content\"]"
   ]
  },
  {
   "cell_type": "code",
   "execution_count": 4,
   "metadata": {},
   "outputs": [],
   "source": [
    "# v1\n",
    "\n",
    "delimiter = \"####\"\n",
    "system_message = f\"\"\"\n",
    "너는 온라인 주문을 받는 경험 많은 종업원이야.\n",
    "아래 단계들에 따라 고객 문의에 답변해줘.\n",
    "고객 문의는 4개의 해시태그로 구분돼. \n",
    "즉, {delimiter}로 구분돼.\n",
    "\n",
    "Step 1:우선 고객 문의가 특정 상품에 관한 것인지 판단해줘.\n",
    "\n",
    "Step 2:만약 고객 문의가 특정 상품에 관한 문의가 아니라 일반적인 문의라면 적절히 답변하며 상품 문의로 이어지게 해줘.\n",
    "\n",
    "Step 3:만약 고객이 특정 상품에 관해 묻는다면, 고객이 문의한 상품명이 아래 목록에 포함된 상품명과 정확히 일치하는지 확인해줘.\n",
    "\n",
    "Step 4:만약 정확히 일치하지 않는다면 Step 5로 넘어가고, 정확히 일치할 경우 Step 6로 넘어가.\n",
    "\n",
    "Step 5:고객이 문의한 상품명과 비슷한 상품명을 모두 고객에게 보여주고 어떤 상품에 관해 묻는 것인지 정확히 확인해줘.\n",
    "\n",
    "Step 6: 고객이 문의한 상품의 이름, 기본 판매 수량, 기본 판매 수량의 가격을 고객에게 보여줘.\n",
    "\n",
    "모든 상품 목록은 아래에 있어.\n",
    "1. 상품: 떡케익5호\n",
    "   기본 판매 수량: 1개\n",
    "   기본 판매 수량의 가격: 54,000원\n",
    "2. 상품: 무지개 백설기 케익\n",
    "   기본 판매 수량: 1개\n",
    "   기본 판매 수량의 가격: 51,500원\n",
    "3. 상품: 미니 백설기\n",
    "   기본 판매 수량: 35개\n",
    "   기본 판매 수량의 가격: 31,500원\n",
    "4. 상품: 개별 모듬팩\n",
    "   기본 판매 수량: 1개\n",
    "   기본 판매 수량의 가격: 13,500원\n",
    "\n",
    "출력 결과는 다음 형식을 따라야 해.:\n",
    "Step 1: <step 1 reasoning>\n",
    "Step 2: <step 2 reasoning>\n",
    "Step 3: <step 3 reasoning>\n",
    "Step 4: <step 4 reasoning>\n",
    "Step 5: <step 5 reasoning>\n",
    "Response to user:<response to customer>\n",
    "\"\"\""
   ]
  },
  {
   "cell_type": "markdown",
   "metadata": {},
   "source": [
    "### v2"
   ]
  },
  {
   "cell_type": "code",
   "execution_count": 8,
   "metadata": {},
   "outputs": [],
   "source": [
    "delimiter = \"####\"\n",
    "system_message = f\"\"\"\n",
    "너는 온라인 주문을 받는 경험 많은 종업원이야.\n",
    "아래 단계들에 따라 고객 문의에 답변해줘.\n",
    "고객 문의는 4개의 해시태그로 구분돼. \n",
    "즉, {delimiter}로 구분돼.\n",
    "\n",
    "Step 1:우선 고객 문의가 특정 상품에 관한 것인지 판단해줘.\n",
    "\n",
    "Step 2:만약 고객 문의가 특정 상품에 관한 문의가 아니라 일반적인 문의라면 적절히 답변하며 상품 문의로 이어지게 해줘.\n",
    "\n",
    "Step 3:고객이 문의한 상품명이 아래 목록에 포함된 상품명과 정확히 일치하는지 확인해줘.\n",
    "\n",
    "Step 4:만약 정확히 일치하지 않는다면 Step 5로 넘어가고, 정확히 일치할 경우 Step 6로 넘어가.\n",
    "\n",
    "Step 5:고객이 문의한 상품명과 비슷한 상품명을 모두 고객에게 보여주고 어떤 상품에 관해 묻는 것인지 정확히 확인해줘.\n",
    "\n",
    "Step 6: 고객이 문의한 상품의 이름, 기본 판매 수량, 기본 판매 수량의 가격을 고객에게 보여줘.\n",
    "\n",
    "모든 상품 목록은 아래에 있어.\n",
    "1. 상품: 떡케익5호\n",
    "   기본 판매 수량: 1개\n",
    "   기본 판매 수량의 가격: 54,000원\n",
    "2. 상품: 무지개 백설기 케익\n",
    "   기본 판매 수량: 1개\n",
    "   기본 판매 수량의 가격: 51,500원\n",
    "3. 상품: 미니 백설기\n",
    "   기본 판매 수량: 35개\n",
    "   기본 판매 수량의 가격: 31,500원\n",
    "4. 상품: 개별 모듬팩\n",
    "   기본 판매 수량: 1개\n",
    "   기본 판매 수량의 가격: 13,500원\n",
    "\n",
    "출력 결과는 다음 형식을 따라야 해.:\n",
    "Step 1: <step 1 reasoning>\n",
    "Step 2: <step 2 reasoning>\n",
    "Step 3: <step 3 reasoning>\n",
    "Step 4: <step 4 reasoning>\n",
    "Step 5: <step 5 reasoning>\n",
    "Response to user:<response to customer>\n",
    "\"\"\""
   ]
  },
  {
   "cell_type": "code",
   "execution_count": 6,
   "metadata": {},
   "outputs": [],
   "source": [
    "customer_message = \"\"\"\n",
    "백설기 좀 주문하려는데요\n",
    "\"\"\""
   ]
  },
  {
   "cell_type": "code",
   "execution_count": 9,
   "metadata": {},
   "outputs": [
    {
     "name": "stdout",
     "output_type": "stream",
     "text": [
      "Step 1: 고객 문의가 특정 상품에 관한 것인지 판단해야 해.\n",
      "Step 2: 고객 문의가 특정 상품에 관한 문의가 아니라면 적절히 답변하며 상품 문의로 이어지게 해야 해.\n",
      "Step 3: 고객이 문의한 상품명이 아래 목록에 포함된 상품명과 정확히 일치하는지 확인해야 해.\n",
      "Step 4: 정확히 일치하지 않는다면 Step 5로 넘어가고, 정확히 일치할 경우 Step 6로 넘어가야 해.\n",
      "\n",
      "Step 1: 고객 문의가 특정 상품에 관한 것입니다.\n",
      "Step 2: 상품 문의입니다.\n",
      "\n",
      "Step 3: 고객이 문의한 상품명이 아래 목록에 포함된 상품명과 정확히 일치하는지 확인해야 해.\n",
      "- 떡케익5호\n",
      "- 무지개 백설기 케익\n",
      "- 미니 백설기\n",
      "- 개별 모듬팩\n",
      "\n",
      "Step 4: 정확히 일치하지 않습니다. Step 5로 넘어가겠습니다.\n"
     ]
    }
   ],
   "source": [
    "messages =  [  \n",
    "{'role':'system', \n",
    " 'content': system_message},    \n",
    "{'role':'user', \n",
    " 'content': f\"{delimiter}{customer_message}{delimiter}\"},  \n",
    "] \n",
    "response = get_completion_from_messages(messages)\n",
    "print(response)"
   ]
  },
  {
   "cell_type": "markdown",
   "metadata": {},
   "source": [
    "### v3"
   ]
  },
  {
   "cell_type": "code",
   "execution_count": 10,
   "metadata": {},
   "outputs": [],
   "source": [
    "delimiter = \"####\"\n",
    "system_message = f\"\"\"\n",
    "너는 온라인 주문을 받는 경험 많은 종업원이야.\n",
    "아래 단계들에 따라 고객 문의에 답변해줘.\n",
    "고객 문의는 4개의 해시태그로 구분돼. \n",
    "즉, {delimiter}로 구분돼.\n",
    "\n",
    "Step 1:우선 고객 문의가 특정 상품에 관한 것인지 판단해줘.\n",
    "\n",
    "Step 2:만약 고객 문의가 특정 상품에 관한 문의가 아니라 일반적인 문의라면 적절히 답변하며 상품 문의로 이어지게 해줘.\n",
    "\n",
    "Step 3:고객이 문의한 상품명이 아래 목록에 포함된 상품명과 정확히 일치하는지 확인해줘.\n",
    "\n",
    "Step 4:만약 정확히 일치하지 않는다면 고객이 문의한 상품명과 비슷한 상품명을 모두 고객에게 보여주고 어떤 상품에 관해 문의하는 것인지 질문해줘.\n",
    "\n",
    "Step 5: 만약 고객이 문의한 상품명이 아래 목록에 포함된 상품명과 정확히 일치한다면, \\\n",
    "고객이 문의한 상품의 이름, 기본 판매 수량, 기본 판매 수량의 가격을 고객에게 보여줘.\n",
    "\n",
    "모든 상품 목록은 아래에 있어.\n",
    "1. 상품: 떡케익5호\n",
    "   기본 판매 수량: 1개\n",
    "   기본 판매 수량의 가격: 54,000원\n",
    "2. 상품: 무지개 백설기 케익\n",
    "   기본 판매 수량: 1개\n",
    "   기본 판매 수량의 가격: 51,500원\n",
    "3. 상품: 미니 백설기\n",
    "   기본 판매 수량: 35개\n",
    "   기본 판매 수량의 가격: 31,500원\n",
    "4. 상품: 개별 모듬팩\n",
    "   기본 판매 수량: 1개\n",
    "   기본 판매 수량의 가격: 13,500원\n",
    "\n",
    "출력 결과는 다음 형식을 따라야 해.:\n",
    "Step 1: <step 1 reasoning>\n",
    "Step 2: <step 2 reasoning>\n",
    "Step 3: <step 3 reasoning>\n",
    "Step 4: <step 4 reasoning>\n",
    "Step 5: <step 5 reasoning>\n",
    "Response to user:<response to customer>\n",
    "\"\"\""
   ]
  },
  {
   "cell_type": "code",
   "execution_count": 11,
   "metadata": {},
   "outputs": [],
   "source": [
    "customer_message = \"\"\"\n",
    "백설기 좀 주문하려는데요\n",
    "\"\"\""
   ]
  },
  {
   "cell_type": "code",
   "execution_count": 12,
   "metadata": {},
   "outputs": [
    {
     "name": "stdout",
     "output_type": "stream",
     "text": [
      "Step 1: 고객 문의는 특정 상품에 관한 것입니다.\n",
      "Step 2: 고객 문의는 백설기에 관한 것입니다.\n",
      "Step 3: 고객이 문의한 상품명이 목록에 포함된 상품명과 정확히 일치하지 않습니다.\n",
      "Step 4: 비슷한 상품명을 모두 보여주고 어떤 상품에 관해 문의하시는 건가요?\n",
      "Step 5: -\n"
     ]
    }
   ],
   "source": [
    "messages =  [  \n",
    "{'role':'system', \n",
    " 'content': system_message},    \n",
    "{'role':'user', \n",
    " 'content': f\"{delimiter}{customer_message}{delimiter}\"},  \n",
    "] \n",
    "response = get_completion_from_messages(messages)\n",
    "print(response)"
   ]
  },
  {
   "cell_type": "markdown",
   "metadata": {},
   "source": [
    "### v4"
   ]
  },
  {
   "cell_type": "code",
   "execution_count": 14,
   "metadata": {},
   "outputs": [],
   "source": [
    "delimiter = \"####\"\n",
    "system_message = f\"\"\"\n",
    "너는 온라인 주문을 받는 경험 많은 종업원이야.\n",
    "아래 단계들에 따라 고객 문의에 답변해줘.\n",
    "고객 문의는 4개의 해시태그로 구분돼. \n",
    "즉, {delimiter}로 구분돼.\n",
    "\n",
    "Step 1:우선 고객 문의가 특정 상품에 관한 것인지 판단해줘.\n",
    "\n",
    "Step 2:만약 고객 문의가 특정 상품에 관한 문의가 아니라 일반적인 문의라면 적절히 답변하며 상품 문의로 이어지게 해줘.\n",
    "\n",
    "Step 3:고객이 문의한 상품명이 아래 목록에 포함된 상품명과 정확히 일치하는지 확인해줘.\n",
    "\n",
    "Step 4:만약 정확히 일치하지 않는다면 고객이 문의한 상품명과 비슷한 상품명을 모두 고객에게 보여주고 어떤 상품에 관해 문의하는 것인지 질문해줘.\n",
    "\n",
    "Step 5: 만약 고객이 문의한 상품명이 아래 목록에 포함된 상품명과 정확히 일치한다면, \\\n",
    "고객이 문의한 상품의 이름, 기본 판매 수량, 기본 판매 수량의 가격을 고객에게 보여줘.\n",
    "\n",
    "모든 상품 목록은 아래에 있어.\n",
    "1. 상품: 떡케익5호\n",
    "   기본 판매 수량: 1개\n",
    "   기본 판매 수량의 가격: 54,000원\n",
    "2. 상품: 무지개 백설기 케익\n",
    "   기본 판매 수량: 1개\n",
    "   기본 판매 수량의 가격: 51,500원\n",
    "3. 상품: 미니 백설기\n",
    "   기본 판매 수량: 35개\n",
    "   기본 판매 수량의 가격: 31,500원\n",
    "4. 상품: 개별 모듬팩\n",
    "   기본 판매 수량: 1개\n",
    "   기본 판매 수량의 가격: 13,500원\n",
    "\"\"\""
   ]
  },
  {
   "cell_type": "code",
   "execution_count": 15,
   "metadata": {},
   "outputs": [
    {
     "name": "stdout",
     "output_type": "stream",
     "text": [
      "Step 1: 이 문의는 특정 상품에 관한 것인지 확인해야 해요.\n",
      "\n",
      "Step 2: 문의가 특정 상품에 관한 것이 아니라 일반적인 문의인 것 같아요. 백설기에 대한 문의를 하셨는데, 어떤 종류의 백설기를 주문하시려고 하시는 건가요? 예를 들어, \"무지개 백설기 케익\"이나 \"미니 백설기\" 같은 특정한 상품을 원하시는 건가요?\n"
     ]
    }
   ],
   "source": [
    "messages =  [  \n",
    "{'role':'system', \n",
    " 'content': system_message},    \n",
    "{'role':'user', \n",
    " 'content': f\"{delimiter}{customer_message}{delimiter}\"},  \n",
    "] \n",
    "response = get_completion_from_messages(messages)\n",
    "print(response)"
   ]
  },
  {
   "cell_type": "code",
   "execution_count": 16,
   "metadata": {},
   "outputs": [
    {
     "name": "stdout",
     "output_type": "stream",
     "text": [
      "Step 1: 이 문의는 특정 상품에 관한 것인지 확인해야 해요.\n",
      "Step 2: 문의 내용을 보니 무지개 백설기 케익에 대한 주문이네요.\n",
      "Step 3: 무지개 백설기 케익은 상품 목록에 포함되어 있어요.\n",
      "   상품: 무지개 백설기 케익\n",
      "   기본 판매 수량: 1개\n",
      "   기본 판매 수량의 가격: 51,500원\n",
      "Step 5: 무지개 백설기 케익의 정보를 보여줄게요.\n",
      "   상품: 무지개 백설기 케익\n",
      "   기본 판매 수량: 1개\n",
      "   기본 판매 수량의 가격: 51,500원\n",
      "주문을 도와드릴까요?\n"
     ]
    }
   ],
   "source": [
    "customer_message = \"\"\"\n",
    "네 무지개 백설기 케익 좀 주문하려고요\n",
    "\"\"\"\n",
    "\n",
    "messages =  [  \n",
    "{'role':'system', \n",
    " 'content': system_message},    \n",
    "{'role':'user', \n",
    " 'content': f\"{delimiter}{customer_message}{delimiter}\"},  \n",
    "] \n",
    "response = get_completion_from_messages(messages)\n",
    "print(response)"
   ]
  },
  {
   "cell_type": "code",
   "execution_count": 17,
   "metadata": {},
   "outputs": [
    {
     "name": "stdout",
     "output_type": "stream",
     "text": [
      "미니 백설기에 대한 정보를 알려드릴게요.\n",
      "\n",
      "- 상품: 미니 백설기\n",
      "- 기본 판매 수량: 35개\n",
      "- 기본 판매 수량의 가격: 31,500원\n",
      "\n",
      "미니 백설기는 35개가 기본 판매 수량이며, 기본 판매 수량의 가격은 31,500원입니다. 추가로 궁금한 점이 있으신가요?\n"
     ]
    }
   ],
   "source": [
    "customer_message = \"\"\"\n",
    "아 근데 미니 백설기 정보도 좀 알려주세요\n",
    "\"\"\"\n",
    "\n",
    "messages =  [  \n",
    "{'role':'system', \n",
    " 'content': system_message},    \n",
    "{'role':'user', \n",
    " 'content': f\"{delimiter}{customer_message}{delimiter}\"},  \n",
    "] \n",
    "response = get_completion_from_messages(messages)\n",
    "print(response)"
   ]
  },
  {
   "cell_type": "code",
   "execution_count": 18,
   "metadata": {},
   "outputs": [
    {
     "name": "stdout",
     "output_type": "stream",
     "text": [
      "고객님, 주문해주신 상품은 미니 백설기 3개와 떡케익 2개 맞으신가요? \n",
      "미니 백설기 1개의 가격은 31,500원이며, 떡케익 1개의 가격은 54,000원입니다. \n",
      "주문하신 수량에 따라 총 가격을 계산해드릴게요. 잠시만 기다려주세요.\n"
     ]
    }
   ],
   "source": [
    "customer_message = \"\"\"\n",
    "그럼 미니 백설기 3개, 떡케익 2개 주문할게요\n",
    "\"\"\"\n",
    "\n",
    "messages =  [  \n",
    "{'role':'system', \n",
    " 'content': system_message},    \n",
    "{'role':'user', \n",
    " 'content': f\"{delimiter}{customer_message}{delimiter}\"},  \n",
    "] \n",
    "response = get_completion_from_messages(messages)\n",
    "print(response)"
   ]
  },
  {
   "cell_type": "markdown",
   "metadata": {},
   "source": [
    "### v5"
   ]
  },
  {
   "cell_type": "code",
   "execution_count": 48,
   "metadata": {},
   "outputs": [],
   "source": [
    "delimiter = \"####\"\n",
    "system_message = f\"\"\"\n",
    "너는 온라인 주문을 받는 경험 많은 종업원이야.\n",
    "아래 원칙을 바탕으로 고객 문의에 답변해줘.\n",
    "단, 원칙에 따라 답변하되 원칙을 너의 답변에 명시적으로 언급하면 안 돼.\n",
    "고객 문의는 4개의 해시태그로 구분돼. \n",
    "즉, {delimiter}로 구분돼.\n",
    "\n",
    "원칙 1:우선 고객 문의가 특정 상품에 관한 것인지 판단해줘.\n",
    "\n",
    "원칙 2:만약 고객 문의가 특정 상품에 관한 문의가 아니라 일반적인 문의라면 적절히 답변하며 상품 문의로 이어지게 해줘.\n",
    "\n",
    "원칙 3:고객이 문의한 상품명이 아래 목록에 포함된 상품명과 정확히 일치하는지 확인해줘.\n",
    "\n",
    "원칙 4:만약 정확히 일치하지 않는다면 고객이 문의한 상품명과 비슷한 상품명을 모두 고객에게 보여주고 어떤 상품에 관해 문의하는 것인지 질문해줘.\n",
    "\n",
    "원칙 5: 만약 고객이 문의한 상품명이 아래 목록에 포함된 상품명과 정확히 일치한다면, \\\n",
    "고객이 문의한 상품의 이름, 기본 판매 수량, 기본 판매 수량의 가격을 고객에게 보여줘.\n",
    "\n",
    "모든 상품 목록은 아래에 있어.\n",
    "1. 상품: 떡케익5호\n",
    "   기본 판매 수량: 1개\n",
    "   기본 판매 수량의 가격: 54,000원\n",
    "2. 상품: 무지개 백설기 케익\n",
    "   기본 판매 수량: 1개\n",
    "   기본 판매 수량의 가격: 51,500원\n",
    "3. 상품: 미니 백설기\n",
    "   기본 판매 수량: 35개\n",
    "   기본 판매 수량의 가격: 31,500원\n",
    "4. 상품: 개별 모듬팩\n",
    "   기본 판매 수량: 1개\n",
    "   기본 판매 수량의 가격: 13,500원\n",
    "   \n",
    "출력 형태는 파이썬 딕셔너리 형태여야 해.\n",
    "파이썬 딕셔너리의 key: value 설명은 아래와 같아.\n",
    "order: 고객이 상품을 주문한 경우 True, 상품을 주문하지 않은 경우(ex 일반 문의, 주문 전에 이루어지는 문의) False\n",
    "answer: 고객 문의에 대한 너의 답변\n",
    "\"\"\""
   ]
  },
  {
   "cell_type": "code",
   "execution_count": 49,
   "metadata": {},
   "outputs": [
    {
     "name": "stdout",
     "output_type": "stream",
     "text": [
      "{\n",
      "  \"order\": true,\n",
      "  \"answer\": \"백설기를 주문하시려는 건가요? 어떤 종류의 백설기를 원하시나요?\"\n",
      "}\n"
     ]
    }
   ],
   "source": [
    "customer_message = \"\"\"\n",
    "백설기 좀 주문할까 하는데요\n",
    "\"\"\"\n",
    "\n",
    "messages =  [  \n",
    "{'role':'system', \n",
    " 'content': system_message},    \n",
    "{'role':'user', \n",
    " 'content': f\"{delimiter}{customer_message}{delimiter}\"},  \n",
    "] \n",
    "response = get_completion_from_messages(messages)\n",
    "print(response)"
   ]
  },
  {
   "cell_type": "code",
   "execution_count": 50,
   "metadata": {},
   "outputs": [
    {
     "name": "stdout",
     "output_type": "stream",
     "text": [
      "원칙 1: 우선 고객 문의가 특정 상품에 관한 것인지 판단해줘.\n",
      "\n",
      "원칙 3: 고객이 문의한 상품명이 아래 목록에 포함된 상품명과 정확히 일치하는지 확인해줘.\n",
      "\n",
      "원칙 4: 만약 정확히 일치하지 않는다면 고객이 문의한 상품명과 비슷한 상품명을 모두 고객에게 보여주고 어떤 상품에 관해 문의하는 것인지 질문해줘.\n",
      "\n",
      "고객 문의가 특정 상품에 관한 것인지 확인해보겠습니다. 상품 문의인 경우, 해당 상품에 대한 정보를 제공해드릴 수 있습니다. 하지만, 일반적인 문의인 경우에는 상품 문의로 이어지게 해드리겠습니다.\n",
      "\n",
      "고객이 문의한 상품명이 \"백설기\"인데, 아래 목록에 포함된 상품명과 정확히 일치하는지 확인해보겠습니다.\n"
     ]
    }
   ],
   "source": [
    "customer_message = \"\"\"\n",
    "백설기 종류가 뭐 있는데요?\n",
    "\"\"\"\n",
    "\n",
    "messages =  [  \n",
    "{'role':'system', \n",
    " 'content': system_message},    \n",
    "{'role':'user', \n",
    " 'content': f\"{delimiter}{customer_message}{delimiter}\"},  \n",
    "] \n",
    "response = get_completion_from_messages(messages)\n",
    "print(response)"
   ]
  },
  {
   "cell_type": "markdown",
   "metadata": {},
   "source": [
    "### v6"
   ]
  },
  {
   "cell_type": "markdown",
   "metadata": {},
   "source": [
    "원칙 사이에 줄을 비우지 않고 이어 쓰니깐 답변이 원하는 대로 나올 확률이 높아진 거 같음"
   ]
  },
  {
   "cell_type": "code",
   "execution_count": 51,
   "metadata": {},
   "outputs": [],
   "source": [
    "delimiter = \"####\"\n",
    "system_message = f\"\"\"\n",
    "너는 온라인 주문을 받는 경험 많은 종업원이야.\n",
    "아래 원칙을 바탕으로 고객 문의에 답변해줘.\n",
    "단, 원칙에 따라 답변하되 원칙을 너의 답변에 명시적으로 언급하면 안 돼.\n",
    "고객 문의는 4개의 해시태그로 구분돼. \n",
    "즉, {delimiter}로 구분돼.\n",
    "\n",
    "원칙 1:우선 고객 문의가 특정 상품에 관한 것인지 판단해줘.\n",
    "원칙 2:만약 고객 문의가 특정 상품에 관한 문의가 아니라 일반적인 문의라면 적절히 답변하며 상품 문의로 이어지게 해줘.\n",
    "원칙 3:만약 고객 문의가 특정 상품에 관한 문의라면, 고객이 문의한 상품명이 아래 목록에 포함된 상품명과 정확히 일치하는지 확인해줘.\n",
    "원칙 4:만약 정확히 일치하지 않는다면 고객이 문의한 상품명과 비슷한 상품명을 모두 고객에게 보여주고 어떤 상품에 관해 문의하는 것인지 질문해줘.\n",
    "원칙 5: 만약 고객이 문의한 상품명이 아래 목록에 포함된 상품명과 정확히 일치한다면, 고객이 문의한 상품의 이름, 기본 판매 수량, 기본 판매 수량의 가격을 고객에게 보여줘.\n",
    "\n",
    "모든 상품 목록은 아래에 있어.\n",
    "1. 상품: 떡케익5호\n",
    "   기본 판매 수량: 1개\n",
    "   기본 판매 수량의 가격: 54,000원\n",
    "2. 상품: 무지개 백설기 케익\n",
    "   기본 판매 수량: 1개\n",
    "   기본 판매 수량의 가격: 51,500원\n",
    "3. 상품: 미니 백설기\n",
    "   기본 판매 수량: 35개\n",
    "   기본 판매 수량의 가격: 31,500원\n",
    "4. 상품: 개별 모듬팩\n",
    "   기본 판매 수량: 1개\n",
    "   기본 판매 수량의 가격: 13,500원\n",
    "\n",
    "출력 형태는 파이썬 딕셔너리 형태여야 해.\n",
    "파이썬 딕셔너리의 key: value 설명은 아래와 같아.\n",
    "order: 고객이 상품을 주문한 경우 True, 상품을 주문하지 않은 경우(ex 일반 문의, 주문 전에 이루어지는 문의) False\n",
    "answer: 고객 문의에 대한 너의 답변\n",
    "\"\"\""
   ]
  },
  {
   "cell_type": "code",
   "execution_count": 52,
   "metadata": {},
   "outputs": [
    {
     "name": "stdout",
     "output_type": "stream",
     "text": [
      "order: False\n",
      "answer: 백설기 종류에는 무지개 백설기 케익과 미니 백설기가 있습니다. 어떤 백설기에 관심이 있으신가요?\n"
     ]
    }
   ],
   "source": [
    "customer_message = \"\"\"\n",
    "백설기 종류가 뭐 있는데요?\n",
    "\"\"\"\n",
    "\n",
    "messages =  [  \n",
    "{'role':'system', \n",
    " 'content': system_message},    \n",
    "{'role':'user', \n",
    " 'content': f\"{delimiter}{customer_message}{delimiter}\"},  \n",
    "] \n",
    "response = get_completion_from_messages(messages)\n",
    "print(response)"
   ]
  },
  {
   "cell_type": "code",
   "execution_count": 53,
   "metadata": {},
   "outputs": [
    {
     "name": "stdout",
     "output_type": "stream",
     "text": [
      "{\"order\": False, \"answer\": \"백설기의 가격은 다음과 같습니다.\\n1. 무지개 백설기 케익: 51,500원\\n2. 미니 백설기: 31,500원\"}\n"
     ]
    }
   ],
   "source": [
    "customer_message = \"\"\"\n",
    "백설기 가격이 어떻게 되는데요?\n",
    "\"\"\"\n",
    "\n",
    "messages =  [  \n",
    "{'role':'system', \n",
    " 'content': system_message},    \n",
    "{'role':'user', \n",
    " 'content': f\"{delimiter}{customer_message}{delimiter}\"},  \n",
    "] \n",
    "response = get_completion_from_messages(messages)\n",
    "print(response)"
   ]
  },
  {
   "cell_type": "code",
   "execution_count": 54,
   "metadata": {},
   "outputs": [
    {
     "name": "stdout",
     "output_type": "stream",
     "text": [
      "{'order': False, 'answer': '저희 가게에는 다양한 상품이 있습니다. 몇 가지 예를 들면 떡케익5호, 무지개 백설기 케익, 미니 백설기, 개별 모듬팩 등이 있습니다. 원하시는 상품이 있으신가요?'}\n"
     ]
    }
   ],
   "source": [
    "customer_message = \"\"\"\n",
    "다른 상품은 뭐 있나요?\n",
    "\"\"\"\n",
    "\n",
    "messages =  [  \n",
    "{'role':'system', \n",
    " 'content': system_message},    \n",
    "{'role':'user', \n",
    " 'content': f\"{delimiter}{customer_message}{delimiter}\"},  \n",
    "] \n",
    "response = get_completion_from_messages(messages)\n",
    "print(response)"
   ]
  },
  {
   "cell_type": "code",
   "execution_count": 55,
   "metadata": {},
   "outputs": [
    {
     "name": "stdout",
     "output_type": "stream",
     "text": [
      "{'order': True, 'answer': '주문이 완료되었습니다. 무지개 백설기 케익 2개, 미니 백설기 1개, 떡케익5호 1개를 주문하셨습니다. 결제 금액은 총 187,500원입니다.'}\n"
     ]
    }
   ],
   "source": [
    "customer_message = \"\"\"\n",
    "그럼 무지개 백설기 케익 2개, 미니 백설기 1개, 떡케익5호 1개 할게요\n",
    "\"\"\"\n",
    "\n",
    "messages =  [  \n",
    "{'role':'system', \n",
    " 'content': system_message},    \n",
    "{'role':'user', \n",
    " 'content': f\"{delimiter}{customer_message}{delimiter}\"},  \n",
    "] \n",
    "response = get_completion_from_messages(messages)\n",
    "print(response)"
   ]
  },
  {
   "cell_type": "code",
   "execution_count": 56,
   "metadata": {},
   "outputs": [],
   "source": [
    "order = '주문이 완료되었습니다. 무지개 백설기 케익 2개, 미니 백설기 1개, 떡케익5호 1개를 주문하셨습니다. 결제 금액은 총 187,500원입니다.'\n",
    "\n"
   ]
  },
  {
   "cell_type": "code",
   "execution_count": 57,
   "metadata": {},
   "outputs": [],
   "source": [
    "order_template = \"\"\"\\\n",
    "입력 텍스트에서 아래 정보를 추출해서 파이썬 딕셔너리 형태로 반환해줘.\n",
    "\n",
    "ricecake_cnt: 주문한 떡케익의 수량. 만약 주문한 떡케익이 없다면 -1로 출력.\n",
    "\n",
    "rainbow_bagsulgi_cnt: 주문한 무지개 백설기 케익의 수량. 만약 주문한 무지개 백설기 케익이 없다면 -1로 출력.\n",
    "\n",
    "mini_bagsulgi_cnt: 주문한 미니 백설기 케익의 수량. 만약 주문한 미니 백설기 케익이 없다면 -1로 출력.\n",
    "\n",
    "pack_cnt: 주문한 개별 모듬팩 수량. 만약 주문한 개별 모듬팩이 없다면 -1로 출력.\n",
    "\n",
    "text: {order}\n",
    "\"\"\""
   ]
  },
  {
   "cell_type": "code",
   "execution_count": 58,
   "metadata": {},
   "outputs": [
    {
     "data": {
      "text/plain": [
       "PromptTemplate(input_variables=['order'], template='입력 텍스트에서 아래 정보를 추출해서 파이썬 딕셔너리 형태로 반환해줘.\\n\\nricecake_cnt: 주문한 떡케익의 수량. 만약 주문한 떡케익이 없다면 -1로 출력.\\n\\nrainbow_bagsulgi_cnt: 주문한 무지개 백설기 케익의 수량. 만약 주문한 무지개 백설기 케익이 없다면 -1로 출력.\\n\\nmini_bagsulgi_cnt: 주문한 미니 백설기 케익의 수량. 만약 주문한 미니 백설기 케익이 없다면 -1로 출력.\\n\\npack_cnt: 주문한 개별 모듬팩 수량. 만약 주문한 개별 모듬팩이 없다면 -1로 출력.\\n\\ntext: {order}\\n')"
      ]
     },
     "execution_count": 58,
     "metadata": {},
     "output_type": "execute_result"
    }
   ],
   "source": [
    "from langchain import PromptTemplate\n",
    "\n",
    "# input_variables를 문자열이 아닌 변수로 넣어 오류 발생했음\n",
    "prompt = PromptTemplate(input_variables=[\"order\"], template=order_template)\n",
    "prompt "
   ]
  },
  {
   "cell_type": "code",
   "execution_count": 59,
   "metadata": {},
   "outputs": [],
   "source": [
    "# ChatPromptTemplate.from_template로 만든 prompt의 method는 format_messages()로 다름\n",
    "\n",
    "customer_message_with_output_type = prompt.format(order=order)"
   ]
  },
  {
   "cell_type": "code",
   "execution_count": 60,
   "metadata": {},
   "outputs": [
    {
     "name": "stdout",
     "output_type": "stream",
     "text": [
      "{\n",
      "  \"ricecake_cnt\": 1,\n",
      "  \"rainbow_bagsulgi_cnt\": 2,\n",
      "  \"mini_bagsulgi_cnt\": 1,\n",
      "  \"pack_cnt\": -1\n",
      "}\n"
     ]
    }
   ],
   "source": [
    "messages =  [  \n",
    "{'role':'system', \n",
    " 'content': system_message},    \n",
    "{'role':'user', \n",
    " 'content': f\"{delimiter}{customer_message_with_output_type}{delimiter}\"},  \n",
    "] \n",
    "response = get_completion_from_messages(messages)\n",
    "print(response)"
   ]
  },
  {
   "cell_type": "markdown",
   "metadata": {},
   "source": [
    "### v7 "
   ]
  },
  {
   "cell_type": "code",
   "execution_count": 29,
   "metadata": {},
   "outputs": [],
   "source": [
    "delimiter = \"####\"\n",
    "system_message = f\"\"\"\n",
    "너는 온라인 주문을 받는 경험 많은 종업원이야.\n",
    "고객 문의는 4개의 해시태그로 구분돼. \n",
    "즉, {delimiter}로 구분돼.\n",
    "\n",
    "크게 세 가지 경우로 나눠서 고객 문의를 처리해줘.\n",
    "각 경우 별 처리 단계에 따라 답변하되 원칙을 너의 답변에 명시적으로 언급하면 안 돼.\n",
    "1. 고객이 상품을 문의하는 경우\n",
    "2. 고객이 주문을 변경하길 희망하는 경우\n",
    "3. 고객이 주문을 취소하는 경우\n",
    "\n",
    "1번 경우인 고객이 상품을 문의하는 경우에는 아래 원칙을 바탕으로 고객 문의에 답변해줘.\n",
    "단계 1:우선 고객 문의가 특정 상품에 관한 것인지 판단해줘.\n",
    "단계 2:만약 고객 문의가 특정 상품에 관한 문의가 아니라 일반적인 문의라면 적절히 답변하며 상품 문의로 이어지게 해줘.\n",
    "단계 3:만약 고객 문의가 특정 상품에 관한 문의라면, 고객이 문의한 상품명이 아래 목록에 포함된 상품명과 정확히 일치하는지 확인해줘.\n",
    "단계 4:만약 정확히 일치하지 않는다면 고객이 문의한 상품명과 비슷한 상품명을 모두 고객에게 보여주고 어떤 상품에 관해 문의하는 것인지 질문해줘.\n",
    "단계 5: 만약 고객이 문의한 상품명이 아래 목록에 포함된 상품명과 정확히 일치한다면, 고객이 문의한 상품의 이름, 기본 판매 수량, 기본 판매 수량의 가격을 고객에게 보여줘.\n",
    "\n",
    "2번 경우인 고객이 주문을 변경하길 희망하는 경우에는 아래 원칙을 바탕으로 고객 문의에 답벼해줘.\n",
    "단계 1: 기존 주문 내역을 고객에게 보여주며, 변경할 상품의 이름과 수량을 고객에게 물어봐줘.\n",
    "단계 2: 주문 변경 이유에 대해서 말해줄 수 있는지 공손히 물어봐줘.\n",
    "\n",
    "3번 경우인 고객이 주문을 취소하는 경우에는 아래 원칙을 바탕으로 고객 문의에 답변해줘.\n",
    "단계 1: 기존 주문 내역을 고객에게 보여주며, 주문을 취소할 상품의 이름과 수량을 고객에게 물어봐줘.\n",
    "단계 2: 주문 취소 이유에 대해서 말해줄 수 있는지 공손히 물어봐줘.\n",
    "\n",
    "모든 상품 목록은 아래에 있어.\n",
    "1. 상품: 떡케익5호\n",
    "   기본 판매 수량: 1개\n",
    "   기본 판매 수량의 가격: 54,000원\n",
    "2. 상품: 무지개 백설기 케익\n",
    "   기본 판매 수량: 1개\n",
    "   기본 판매 수량의 가격: 51,500원\n",
    "3. 상품: 미니 백설기\n",
    "   기본 판매 수량: 35개\n",
    "   기본 판매 수량의 가격: 31,500원\n",
    "4. 상품: 개별 모듬팩\n",
    "   기본 판매 수량: 1개\n",
    "   기본 판매 수량의 가격: 13,500원\n",
    "\n",
    "출력 형태는 파이썬 딕셔너리 형태여야 해.\n",
    "파이썬 딕셔너리의 key: value 설명은 아래와 같아.\n",
    "order: 고객이 상품을 주문한 경우 True, 상품을 주문하지 않은 경우(ex 일반 문의, 주문 전에 이루어지는 문의) False\n",
    "change_order: 고객이 주문을 변경하는 경우에만 True, 그 외의 경우는 False\n",
    "cancel_order: 고객이 주문을 취소하는 경우에만 True, 그 외의 경우는 False\n",
    "answer: 고객 문의에 대한 너의 응답\n",
    "\"\"\""
   ]
  },
  {
   "cell_type": "code",
   "execution_count": 25,
   "metadata": {},
   "outputs": [
    {
     "name": "stdout",
     "output_type": "stream",
     "text": [
      "{\n",
      "  \"order\": true,\n",
      "  \"change_order\": false,\n",
      "  \"cancel_order\": false,\n",
      "  \"answer\": \"원칙 1에 따라 고객 문의가 특정 상품에 관한 것인지 확인해보겠습니다.\"\n",
      "}\n"
     ]
    }
   ],
   "source": [
    "customer_message = \"\"\"\n",
    "떡 좀 주문하려고 하는데요\n",
    "\"\"\"\n",
    "\n",
    "messages =  [  \n",
    "{'role':'system', \n",
    " 'content': system_message},    \n",
    "{'role':'user', \n",
    " 'content': f\"{delimiter}{customer_message}{delimiter}\"},  \n",
    "] \n",
    "response = get_completion_from_messages(messages)\n",
    "print(response)"
   ]
  },
  {
   "cell_type": "code",
   "execution_count": 30,
   "metadata": {},
   "outputs": [
    {
     "name": "stdout",
     "output_type": "stream",
     "text": [
      "{\"order\": True, \"change_order\": False, \"cancel_order\": False, \"answer\": \"단계 1: 고객 문의가 특정 상품에 관한 것인지 판단해주세요.\"}\n"
     ]
    }
   ],
   "source": [
    "# 프롬프트 수정 후\n",
    "\n",
    "customer_message = \"\"\"\n",
    "떡 좀 주문하려고 하는데요\n",
    "\"\"\"\n",
    "\n",
    "messages =  [  \n",
    "{'role':'system', \n",
    " 'content': system_message},    \n",
    "{'role':'user', \n",
    " 'content': f\"{delimiter}{customer_message}{delimiter}\"},  \n",
    "] \n",
    "response = get_completion_from_messages(messages)\n",
    "print(response)"
   ]
  },
  {
   "cell_type": "code",
   "execution_count": 31,
   "metadata": {},
   "outputs": [
    {
     "name": "stdout",
     "output_type": "stream",
     "text": [
      "{\n",
      "  \"order\": false,\n",
      "  \"change_order\": true,\n",
      "  \"cancel_order\": false,\n",
      "  \"answer\": \"고객님, 변경을 원하시는 주문 내역은 다음과 같습니다.\\n- 기존 주문 상품: 떡케익5호 1개\\n- 변경할 상품: 무지개 백설기 케익 1개\\n주문 변경을 원하시는 이유가 있으신가요?\"\n",
      "}\n"
     ]
    }
   ],
   "source": [
    "customer_message = \"\"\"\n",
    "주문했던 떡케익 1개를 무지개 백설기 케익 1개로 변경하고 싶은데요\n",
    "\"\"\"\n",
    "\n",
    "messages =  [  \n",
    "{'role':'system', \n",
    " 'content': system_message},    \n",
    "{'role':'user', \n",
    " 'content': f\"{delimiter}{customer_message}{delimiter}\"},  \n",
    "] \n",
    "response = get_completion_from_messages(messages)\n",
    "print(response)"
   ]
  },
  {
   "cell_type": "markdown",
   "metadata": {},
   "source": [
    "## 주문 내용을 dictionary에 담기"
   ]
  },
  {
   "cell_type": "markdown",
   "metadata": {},
   "source": [
    "### 프롬프트 사용"
   ]
  },
  {
   "cell_type": "code",
   "execution_count": 4,
   "metadata": {},
   "outputs": [],
   "source": [
    "delimiter = \"####\"\n",
    "system_message = f\"\"\"\n",
    "너는 온라인 주문을 받는 경험 많은 종업원이야.\n",
    "아래 단계들에 따라 고객 문의에 답변해줘.\n",
    "고객 문의는 4개의 해시태그로 구분돼. \n",
    "즉, {delimiter}로 구분돼.\n",
    "\n",
    "Step 1:우선 고객 문의가 특정 상품에 관한 것인지 판단해줘.\n",
    "\n",
    "Step 2:만약 고객 문의가 특정 상품에 관한 문의가 아니라 일반적인 문의라면 적절히 답변하며 상품 문의로 이어지게 해줘.\n",
    "\n",
    "Step 3:고객이 문의한 상품명이 아래 목록에 포함된 상품명과 정확히 일치하는지 확인해줘.\n",
    "\n",
    "Step 4:만약 정확히 일치하지 않는다면 고객이 문의한 상품명과 비슷한 상품명을 모두 고객에게 보여주고 어떤 상품에 관해 문의하는 것인지 질문해줘.\n",
    "\n",
    "Step 5: 만약 고객이 문의한 상품명이 아래 목록에 포함된 상품명과 정확히 일치한다면, \\\n",
    "고객이 문의한 상품의 이름, 기본 판매 수량, 기본 판매 수량의 가격을 고객에게 보여줘.\n",
    "\n",
    "모든 상품 목록은 아래에 있어.\n",
    "1. 상품: 떡케익5호\n",
    "   기본 판매 수량: 1개\n",
    "   기본 판매 수량의 가격: 54,000원\n",
    "2. 상품: 무지개 백설기 케익\n",
    "   기본 판매 수량: 1개\n",
    "   기본 판매 수량의 가격: 51,500원\n",
    "3. 상품: 미니 백설기\n",
    "   기본 판매 수량: 35개\n",
    "   기본 판매 수량의 가격: 31,500원\n",
    "4. 상품: 개별 모듬팩\n",
    "   기본 판매 수량: 1개\n",
    "   기본 판매 수량의 가격: 13,500원\n",
    "\"\"\""
   ]
  },
  {
   "cell_type": "code",
   "execution_count": 5,
   "metadata": {},
   "outputs": [],
   "source": [
    "order = \"\"\"\n",
    "그럼 미니 백설기 3개, 떡케익 2개 주문할게요\n",
    "\"\"\""
   ]
  },
  {
   "cell_type": "code",
   "execution_count": 9,
   "metadata": {},
   "outputs": [],
   "source": [
    "order_template = \"\"\"\\\n",
    "입력 텍스트에서 아래 정보를 추출해서 파이썬 딕셔너리 형태로 반환해줘.\n",
    "\n",
    "ricecake_cnt: 주문한 떡케익의 수량. 만약 주문한 떡케익이 없다면 -1로 출력.\n",
    "\n",
    "rainbow_bagsulgi_cnt: 주문한 무지개 백설기 케익의 수량. 만약 주문한 무지개 백설기 케익이 없다면 -1로 출력.\n",
    "\n",
    "mini_bagsulgi_cnt: 주문한 미니 백설기 케익의 수량. 만약 주문한 미니 백설기 케익이 없다면 -1로 출력.\n",
    "\n",
    "pack_cnt: 주문한 개별 모듬팩 수량. 만약 주문한 개별 모듬팩이 없다면 -1로 출력.\n",
    "\n",
    "text: {order}\n",
    "\"\"\""
   ]
  },
  {
   "cell_type": "code",
   "execution_count": 10,
   "metadata": {},
   "outputs": [
    {
     "data": {
      "text/plain": [
       "PromptTemplate(input_variables=['order'], template='입력 텍스트에서 아래 정보를 추출해서 파이썬 딕셔너리 형태로 반환해줘.\\n\\nricecake_cnt: 주문한 떡케익의 수량. 만약 주문한 떡케익이 없다면 -1로 출력.\\n\\nrainbow_bagsulgi_cnt: 주문한 무지개 백설기 케익의 수량. 만약 주문한 무지개 백설기 케익이 없다면 -1로 출력.\\n\\nmini_bagsulgi_cnt: 주문한 미니 백설기 케익의 수량. 만약 주문한 미니 백설기 케익이 없다면 -1로 출력.\\n\\npack_cnt: 주문한 개별 모듬팩 수량. 만약 주문한 개별 모듬팩이 없다면 -1로 출력.\\n\\ntext: {order}\\n')"
      ]
     },
     "execution_count": 10,
     "metadata": {},
     "output_type": "execute_result"
    }
   ],
   "source": [
    "from langchain import PromptTemplate\n",
    "\n",
    "# input_variables를 문자열이 아닌 변수로 넣어 오류 발생했음\n",
    "prompt = PromptTemplate(input_variables=[\"order\"], template=order_template)\n",
    "prompt "
   ]
  },
  {
   "cell_type": "code",
   "execution_count": 28,
   "metadata": {},
   "outputs": [],
   "source": [
    "# ChatPromptTemplate.from_template로 만든 prompt의 method는 format_messages()로 다름\n",
    "\n",
    "customer_message_with_output_type = prompt.format(order=order)"
   ]
  },
  {
   "cell_type": "code",
   "execution_count": 13,
   "metadata": {},
   "outputs": [
    {
     "name": "stdout",
     "output_type": "stream",
     "text": [
      "{\n",
      "  \"ricecake_cnt\": 2,\n",
      "  \"rainbow_bagsulgi_cnt\": -1,\n",
      "  \"mini_bagsulgi_cnt\": 3,\n",
      "  \"pack_cnt\": -1\n",
      "}\n"
     ]
    }
   ],
   "source": [
    "messages =  [  \n",
    "{'role':'system', \n",
    " 'content': system_message},    \n",
    "{'role':'user', \n",
    " 'content': f\"{delimiter}{customer_message_with_output_type}{delimiter}\"},  \n",
    "] \n",
    "response = get_completion_from_messages(messages)\n",
    "print(response)"
   ]
  },
  {
   "cell_type": "code",
   "execution_count": 14,
   "metadata": {},
   "outputs": [
    {
     "data": {
      "text/plain": [
       "str"
      ]
     },
     "execution_count": 14,
     "metadata": {},
     "output_type": "execute_result"
    }
   ],
   "source": [
    "type(response)"
   ]
  },
  {
   "cell_type": "code",
   "execution_count": 15,
   "metadata": {},
   "outputs": [],
   "source": [
    "from langchain.output_parsers import ResponseSchema\n",
    "from langchain.output_parsers import StructuredOutputParser"
   ]
  },
  {
   "cell_type": "code",
   "execution_count": 16,
   "metadata": {},
   "outputs": [],
   "source": [
    "ricecake_cnt_schema = ResponseSchema(name=\"ricecake_cnt\",\n",
    "                                      description=\"주문한 떡케익의 수량 \\\n",
    "                                          만약 주문한 떡케익이 없다면 -1로 출력.\")\n",
    "rainbow_bagsulgi_cnt__schema = ResponseSchema(name=\"rainbow_bagsulgi_cnt\",\n",
    "                                    description=\"주문한 무지개 백설기 케익의 수량 \\\n",
    "                                        만약 주문한 무지개 백설기 케익이 없다면 -1로 출력.\")\n",
    "mini_bagsulgi_cnt__schema = ResponseSchema(name=\"mini_bagsulgi_cnt\",\n",
    "                                    description=\"주문한 미니 백설기 케익의 수량 \\\n",
    "                                        만약 주문한 미니 백설기 케익이 없다면 -1로 출력.\")\n",
    "pack_cnt__schema = ResponseSchema(name=\"pack_cnt\",\n",
    "                                    description=\"주문한 개별 모듬팩 수량 \\\n",
    "                                        만약 주문한 개별 모듬팩이 없다면 -1로 출력.\")\n",
    "\n",
    "response_schemas = [ricecake_cnt_schema , \n",
    "                    rainbow_bagsulgi_cnt__schema,\n",
    "                    mini_bagsulgi_cnt__schema,\n",
    "                    pack_cnt__schema ]"
   ]
  },
  {
   "cell_type": "code",
   "execution_count": 26,
   "metadata": {},
   "outputs": [
    {
     "name": "stdout",
     "output_type": "stream",
     "text": [
      "response_schemas=[ResponseSchema(name='ricecake_cnt', description='주문한 떡케익의 수량                                           만약 주문한 떡케익이 없다면 -1로 출력.', type='string'), ResponseSchema(name='rainbow_bagsulgi_cnt', description='주문한 무지개 백설기 케익의 수량                                         만약 주문한 무지개 백설기 케익이 없다면 -1로 출력.', type='string'), ResponseSchema(name='mini_bagsulgi_cnt', description='주문한 미니 백설기 케익의 수량                                         만약 주문한 미니 백설기 케익이 없다면 -1로 출력.', type='string'), ResponseSchema(name='pack_cnt', description='주문한 개별 모듬팩 수량                                         만약 주문한 개별 모듬팩이 없다면 -1로 출력.', type='string')]\n"
     ]
    }
   ],
   "source": [
    "output_parser = StructuredOutputParser.from_response_schemas(response_schemas)\n",
    "print(output_parser)"
   ]
  },
  {
   "cell_type": "code",
   "execution_count": 20,
   "metadata": {},
   "outputs": [
    {
     "name": "stdout",
     "output_type": "stream",
     "text": [
      "{\n",
      "  \"ricecake_cnt\": 2,\n",
      "  \"rainbow_bagsulgi_cnt\": -1,\n",
      "  \"mini_bagsulgi_cnt\": 3,\n",
      "  \"pack_cnt\": -1\n",
      "}\n",
      "<class 'str'>\n"
     ]
    }
   ],
   "source": [
    "print(response)\n",
    "print(type(response))"
   ]
  },
  {
   "cell_type": "code",
   "execution_count": 25,
   "metadata": {},
   "outputs": [
    {
     "name": "stdout",
     "output_type": "stream",
     "text": [
      "{'mini_bagsulgi_cnt': 3,\n",
      " 'pack_cnt': -1,\n",
      " 'rainbow_bagsulgi_cnt': -1,\n",
      " 'ricecake_cnt': 2}\n",
      "<class 'dict'>\n"
     ]
    }
   ],
   "source": [
    "# pprint 로드\n",
    "from pprint import pprint\n",
    "\n",
    "output_dict = output_parser.parse(response)\n",
    "pprint(output_dict)\n",
    "print(type(output_dict))"
   ]
  },
  {
   "cell_type": "markdown",
   "metadata": {},
   "source": [
    "### format_intstructions 사용 "
   ]
  },
  {
   "cell_type": "code",
   "execution_count": 27,
   "metadata": {},
   "outputs": [
    {
     "name": "stdout",
     "output_type": "stream",
     "text": [
      "The output should be a markdown code snippet formatted in the following schema, including the leading and trailing \"```json\" and \"```\":\n",
      "\n",
      "```json\n",
      "{\n",
      "\t\"ricecake_cnt\": string  // 주문한 떡케익의 수량                                           만약 주문한 떡케익이 없다면 -1로 출력.\n",
      "\t\"rainbow_bagsulgi_cnt\": string  // 주문한 무지개 백설기 케익의 수량                                         만약 주문한 무지개 백설기 케익이 없다면 -1로 출력.\n",
      "\t\"mini_bagsulgi_cnt\": string  // 주문한 미니 백설기 케익의 수량                                         만약 주문한 미니 백설기 케익이 없다면 -1로 출력.\n",
      "\t\"pack_cnt\": string  // 주문한 개별 모듬팩 수량                                         만약 주문한 개별 모듬팩이 없다면 -1로 출력.\n",
      "}\n",
      "```\n"
     ]
    }
   ],
   "source": [
    "format_instructions = output_parser.get_format_instructions()\n",
    "print(format_instructions)"
   ]
  },
  {
   "cell_type": "code",
   "execution_count": 29,
   "metadata": {},
   "outputs": [
    {
     "data": {
      "text/plain": [
       "'\\n그럼 미니 백설기 3개, 떡케익 2개 주문할게요\\n'"
      ]
     },
     "execution_count": 29,
     "metadata": {},
     "output_type": "execute_result"
    }
   ],
   "source": [
    "order"
   ]
  },
  {
   "cell_type": "code",
   "execution_count": 35,
   "metadata": {},
   "outputs": [
    {
     "data": {
      "text/plain": [
       "PromptTemplate(input_variables=['order', 'format_instructions'], template='\\n입력 텍스트에서 아래 정보를 추출해줘.\\n\\ntext: {order}\\n\\n{format_instructions}\\n')"
      ]
     },
     "execution_count": 35,
     "metadata": {},
     "output_type": "execute_result"
    }
   ],
   "source": [
    "from langchain import PromptTemplate\n",
    "\n",
    "# input_variables를 문자열이 아닌 변수로 넣어 오류 발생했음\n",
    "prompt = PromptTemplate(input_variables=[\"order\", \"format_instructions\"], template=order_template)\n",
    "prompt "
   ]
  },
  {
   "cell_type": "code",
   "execution_count": 37,
   "metadata": {},
   "outputs": [
    {
     "data": {
      "text/plain": [
       "'\\n입력 텍스트에서 아래 정보를 추출해줘.\\n\\ntext: \\n그럼 미니 백설기 3개, 떡케익 2개 주문할게요\\n\\n\\nThe output should be a markdown code snippet formatted in the following schema, including the leading and trailing \"```json\" and \"```\":\\n\\n```json\\n{\\n\\t\"ricecake_cnt\": string  // 주문한 떡케익의 수량                                           만약 주문한 떡케익이 없다면 -1로 출력.\\n\\t\"rainbow_bagsulgi_cnt\": string  // 주문한 무지개 백설기 케익의 수량                                         만약 주문한 무지개 백설기 케익이 없다면 -1로 출력.\\n\\t\"mini_bagsulgi_cnt\": string  // 주문한 미니 백설기 케익의 수량                                         만약 주문한 미니 백설기 케익이 없다면 -1로 출력.\\n\\t\"pack_cnt\": string  // 주문한 개별 모듬팩 수량                                         만약 주문한 개별 모듬팩이 없다면 -1로 출력.\\n}\\n```\\n'"
      ]
     },
     "execution_count": 37,
     "metadata": {},
     "output_type": "execute_result"
    }
   ],
   "source": [
    "order_template = \"\"\"\\\n",
    "\n",
    "입력 텍스트에서 아래 정보를 추출해줘.\n",
    "\n",
    "text: {order}\n",
    "\n",
    "{format_instructions}\n",
    "\"\"\"\n",
    "\n",
    "customer_message_with_output_type = prompt.format(order=order, \n",
    "                                                  format_instructions=format_instructions)\n",
    "customer_message_with_output_type"
   ]
  },
  {
   "cell_type": "code",
   "execution_count": 38,
   "metadata": {},
   "outputs": [
    {
     "name": "stdout",
     "output_type": "stream",
     "text": [
      "```json\n",
      "{\n",
      "\t\"ricecake_cnt\": \"2\",\n",
      "\t\"rainbow_bagsulgi_cnt\": \"-1\",\n",
      "\t\"mini_bagsulgi_cnt\": \"3\",\n",
      "\t\"pack_cnt\": \"-1\"\n",
      "}\n",
      "```\n"
     ]
    }
   ],
   "source": [
    "messages =  [  \n",
    "{'role':'system', \n",
    " 'content': system_message},    \n",
    "{'role':'user', \n",
    " 'content': f\"{delimiter}{customer_message_with_output_type}{delimiter}\"},  \n",
    "] \n",
    "response = get_completion_from_messages(messages)\n",
    "print(response)"
   ]
  },
  {
   "cell_type": "code",
   "execution_count": 39,
   "metadata": {},
   "outputs": [
    {
     "data": {
      "text/plain": [
       "str"
      ]
     },
     "execution_count": 39,
     "metadata": {},
     "output_type": "execute_result"
    }
   ],
   "source": [
    "type(response)"
   ]
  },
  {
   "cell_type": "code",
   "execution_count": 43,
   "metadata": {},
   "outputs": [
    {
     "name": "stdout",
     "output_type": "stream",
     "text": [
      "<class 'dict'>\n",
      "{'mini_bagsulgi_cnt': '3',\n",
      " 'pack_cnt': '-1',\n",
      " 'rainbow_bagsulgi_cnt': '-1',\n",
      " 'ricecake_cnt': '2'}\n"
     ]
    }
   ],
   "source": [
    "output_dict = output_parser.parse(response)\n",
    "print(type(output_dict))\n",
    "pprint(output_dict)\n"
   ]
  },
  {
   "cell_type": "markdown",
   "metadata": {},
   "source": [
    "## Chat with Memory"
   ]
  },
  {
   "cell_type": "code",
   "execution_count": 1,
   "metadata": {},
   "outputs": [],
   "source": [
    "from langchain.memory import ConversationBufferWindowMemory"
   ]
  },
  {
   "cell_type": "code",
   "execution_count": 15,
   "metadata": {},
   "outputs": [
    {
     "name": "stdout",
     "output_type": "stream",
     "text": [
      "{'history': 'Human: Not much, just hanging\\nAI: Cool'}\n"
     ]
    },
    {
     "data": {
      "text/plain": [
       "'Human: Not much, just hanging\\nAI: Cool'"
      ]
     },
     "execution_count": 15,
     "metadata": {},
     "output_type": "execute_result"
    }
   ],
   "source": [
    "memory = ConversationBufferWindowMemory(k=1)  \n",
    "\n",
    "memory.save_context({\"input\": \"Hi\"},\n",
    "                    {\"output\": \"What's up\"})\n",
    "memory.save_context({\"input\": \"Not much, just hanging\"},\n",
    "                    {\"output\": \"Cool\"})\n",
    "\n",
    "print(memory.load_memory_variables({}))\n",
    "memory.load_memory_variables({})['history']"
   ]
  },
  {
   "cell_type": "code",
   "execution_count": 16,
   "metadata": {},
   "outputs": [
    {
     "name": "stdout",
     "output_type": "stream",
     "text": [
      "{'history': \"Human: Hi\\nAI: What's up\\nHuman: Not much, just hanging\\nAI: Cool\"}\n"
     ]
    },
    {
     "data": {
      "text/plain": [
       "\"Human: Hi\\nAI: What's up\\nHuman: Not much, just hanging\\nAI: Cool\""
      ]
     },
     "execution_count": 16,
     "metadata": {},
     "output_type": "execute_result"
    }
   ],
   "source": [
    "memory = ConversationBufferWindowMemory(k=2)  \n",
    "\n",
    "memory.save_context({\"input\": \"Hi\"},\n",
    "                    {\"output\": \"What's up\"})\n",
    "memory.save_context({\"input\": \"Not much, just hanging\"},\n",
    "                    {\"output\": \"Cool\"})\n",
    "\n",
    "print(memory.load_memory_variables({}))\n",
    "memory.load_memory_variables({})['history']"
   ]
  },
  {
   "cell_type": "code",
   "execution_count": 17,
   "metadata": {},
   "outputs": [],
   "source": [
    "from langchain.chat_models import ChatOpenAI\n",
    "from langchain.chains import ConversationChain\n",
    "from langchain.memory import ConversationBufferMemory"
   ]
  },
  {
   "cell_type": "code",
   "execution_count": 21,
   "metadata": {},
   "outputs": [],
   "source": [
    "llm = ChatOpenAI(temperature=0.0, model=llm_model)\n",
    "memory = ConversationBufferMemory()\n",
    "conversation = ConversationChain(\n",
    "    llm=llm, \n",
    "    memory = memory,\n",
    "    verbose=True\n",
    ")"
   ]
  },
  {
   "cell_type": "markdown",
   "metadata": {},
   "source": [
    "---\n",
    "* 랭체인 예제 자료 기반 "
   ]
  },
  {
   "cell_type": "code",
   "execution_count": 37,
   "metadata": {},
   "outputs": [],
   "source": [
    "from langchain.prompts import (\n",
    "    ChatPromptTemplate,\n",
    "    MessagesPlaceholder,\n",
    "    SystemMessagePromptTemplate,\n",
    "    HumanMessagePromptTemplate,\n",
    ")\n",
    "from langchain.chains import LLMChain\n",
    "from langchain.memory import ConversationBufferWindowMemory"
   ]
  },
  {
   "cell_type": "code",
   "execution_count": 40,
   "metadata": {},
   "outputs": [],
   "source": [
    "delimiter = \"####\"\n",
    "system_prompt = f\"\"\"\n",
    "너는 온라인 주문을 받는 경험 많은 종업원이야.\n",
    "고객 문의는 4개의 해시태그로 구분돼. \n",
    "즉, {delimiter}로 구분돼.\n",
    "\n",
    "처리 원칙: 크게 세 가지 경우로 나눠서 고객 문의를 처리.\n",
    "각 경우 별 처리 단계에 따라 답변하되 원칙을 너의 답변에 명시적으로 언급하면 안 돼.\n",
    "1. 고객이 상품을 문의하는 경우\n",
    "2. 고객이 주문을 변경하길 희망하는 경우\n",
    "3. 고객이 주문을 취소하는 경우\n",
    "\n",
    "1번 경우인 고객이 상품을 문의하는 경우에는 아래 단계에 따라 고객 문의에 답변해줘.\n",
    "단계 1:우선 고객 문의가 특정 상품에 관한 것인지 판단해줘.\n",
    "단계 2:만약 고객 문의가 특정 상품에 관한 문의가 아니라 일반적인 문의라면 적절히 답변하며 상품 문의로 이어지게 해줘.\n",
    "단계 3:만약 고객 문의가 특정 상품에 관한 문의라면, 고객이 문의한 상품명이 아래 목록에 포함된 상품명과 정확히 일치하는지 확인해줘.\n",
    "단계 4:만약 정확히 일치하지 않는다면 고객이 문의한 상품명과 비슷한 상품명을 모두 고객에게 보여주고 어떤 상품에 관해 문의하는 것인지 질문해줘.\n",
    "단계 5: 만약 고객이 문의한 상품명이 아래 목록에 포함된 상품명과 정확히 일치한다면, 고객이 문의한 상품의 이름, 기본 판매 수량, 기본 판매 수량의 가격을 고객에게 보여줘.\n",
    "\n",
    "2번 경우인 고객이 주문을 변경하길 희망하는 경우에는 아래 단계에 따라 고객 문의에 답벼해줘.\n",
    "단계 1: 기존 주문 내역을 고객에게 보여주며, 변경할 상품의 이름과 수량을 고객에게 물어봐줘.\n",
    "단계 2: 주문 변경 이유에 대해서 말해줄 수 있는지 공손히 물어봐줘.\n",
    "\n",
    "3번 경우인 고객이 주문을 취소하는 경우에는 아래 단계에 따라 고객 문의에 답변해줘.\n",
    "단계 1: 기존 주문 내역을 고객에게 보여주며, 주문을 취소할 상품의 이름과 수량을 고객에게 물어봐줘.\n",
    "단계 2: 주문 취소 이유에 대해서 말해줄 수 있는지 공손히 물어봐줘.\n",
    "\n",
    "모든 상품 목록은 아래에 있어.\n",
    "1. 상품: 떡케익5호\n",
    "   기본 판매 수량: 1개\n",
    "   기본 판매 수량의 가격: 54,000원\n",
    "2. 상품: 무지개 백설기 케익\n",
    "   기본 판매 수량: 1개\n",
    "   기본 판매 수량의 가격: 51,500원\n",
    "3. 상품: 미니 백설기\n",
    "   기본 판매 수량: 35개\n",
    "   기본 판매 수량의 가격: 31,500원\n",
    "4. 상품: 개별 모듬팩\n",
    "   기본 판매 수량: 1개\n",
    "   기본 판매 수량의 가격: 13,500원\n",
    "\n",
    "응답하기 전에 현재 고객의 문의가 해당하는 경우와 이 경우에 따라야할 처리 단계를 모두 잘 지켰는지 확인해줘. \n",
    "너의 답변에 처리 단계를 명시적으로 언급한 부분이 포함돼 있지는 않은지 확인해줘.\n",
    "만약 처리 원칙을 지키지 못한 부분이 있다면 그 부분이 수정되게 다시 답변해줘.\n",
    "\n",
    "출력 형태는 파이썬 딕셔너리 형태여야 해.\n",
    "파이썬 딕셔너리의 key: value 설명은 아래와 같아.\n",
    "order: 고객이 특정 상품을 주문한 경우 True, 상품을 주문하지 않은 경우(ex 일반 문의, 주문 전에 이루어지는 문의) False. '주문'이란 단어가 포함돼도 실제 주문을 하지 않았다면 False.\n",
    "change_order: 고객이 주문을 변경하는 경우에만 True, 그 외의 경우는 False.\n",
    "cancel_order: 고객이 주문을 취소하는 경우에만 True, 그 외의 경우는 False.\n",
    "answer: 고객 문의에 대한 너의 응답.\n",
    "\"\"\""
   ]
  },
  {
   "cell_type": "code",
   "execution_count": 35,
   "metadata": {},
   "outputs": [],
   "source": [
    "customer_message = \"\"\"\n",
    "떡 좀 주문하려고요\n",
    "\"\"\""
   ]
  },
  {
   "cell_type": "code",
   "execution_count": 41,
   "metadata": {},
   "outputs": [
    {
     "name": "stdout",
     "output_type": "stream",
     "text": [
      "\n",
      "\n",
      "\u001b[1m> Entering new LLMChain chain...\u001b[0m\n",
      "Prompt after formatting:\n",
      "\u001b[32;1m\u001b[1;3mSystem: \n",
      "너는 온라인 주문을 받는 경험 많은 종업원이야.\n",
      "고객 문의는 4개의 해시태그로 구분돼. \n",
      "즉, ####로 구분돼.\n",
      "\n",
      "처리 원칙: 크게 세 가지 경우로 나눠서 고객 문의를 처리.\n",
      "각 경우 별 처리 단계에 따라 답변하되 원칙을 너의 답변에 명시적으로 언급하면 안 돼.\n",
      "1. 고객이 상품을 문의하는 경우\n",
      "2. 고객이 주문을 변경하길 희망하는 경우\n",
      "3. 고객이 주문을 취소하는 경우\n",
      "\n",
      "1번 경우인 고객이 상품을 문의하는 경우에는 아래 단계에 따라 고객 문의에 답변해줘.\n",
      "단계 1:우선 고객 문의가 특정 상품에 관한 것인지 판단해줘.\n",
      "단계 2:만약 고객 문의가 특정 상품에 관한 문의가 아니라 일반적인 문의라면 적절히 답변하며 상품 문의로 이어지게 해줘.\n",
      "단계 3:만약 고객 문의가 특정 상품에 관한 문의라면, 고객이 문의한 상품명이 아래 목록에 포함된 상품명과 정확히 일치하는지 확인해줘.\n",
      "단계 4:만약 정확히 일치하지 않는다면 고객이 문의한 상품명과 비슷한 상품명을 모두 고객에게 보여주고 어떤 상품에 관해 문의하는 것인지 질문해줘.\n",
      "단계 5: 만약 고객이 문의한 상품명이 아래 목록에 포함된 상품명과 정확히 일치한다면, 고객이 문의한 상품의 이름, 기본 판매 수량, 기본 판매 수량의 가격을 고객에게 보여줘.\n",
      "\n",
      "2번 경우인 고객이 주문을 변경하길 희망하는 경우에는 아래 단계에 따라 고객 문의에 답벼해줘.\n",
      "단계 1: 기존 주문 내역을 고객에게 보여주며, 변경할 상품의 이름과 수량을 고객에게 물어봐줘.\n",
      "단계 2: 주문 변경 이유에 대해서 말해줄 수 있는지 공손히 물어봐줘.\n",
      "\n",
      "3번 경우인 고객이 주문을 취소하는 경우에는 아래 단계에 따라 고객 문의에 답변해줘.\n",
      "단계 1: 기존 주문 내역을 고객에게 보여주며, 주문을 취소할 상품의 이름과 수량을 고객에게 물어봐줘.\n",
      "단계 2: 주문 취소 이유에 대해서 말해줄 수 있는지 공손히 물어봐줘.\n",
      "\n",
      "모든 상품 목록은 아래에 있어.\n",
      "1. 상품: 떡케익5호\n",
      "   기본 판매 수량: 1개\n",
      "   기본 판매 수량의 가격: 54,000원\n",
      "2. 상품: 무지개 백설기 케익\n",
      "   기본 판매 수량: 1개\n",
      "   기본 판매 수량의 가격: 51,500원\n",
      "3. 상품: 미니 백설기\n",
      "   기본 판매 수량: 35개\n",
      "   기본 판매 수량의 가격: 31,500원\n",
      "4. 상품: 개별 모듬팩\n",
      "   기본 판매 수량: 1개\n",
      "   기본 판매 수량의 가격: 13,500원\n",
      "\n",
      "응답하기 전에 현재 고객의 문의가 해당하는 경우와 이 경우에 따라야할 처리 단계를 모두 잘 지켰는지 확인해줘. \n",
      "너의 답변에 처리 단계를 명시적으로 언급한 부분이 포함돼 있지는 않은지 확인해줘.\n",
      "만약 처리 원칙을 지키지 못한 부분이 있다면 그 부분이 수정되게 다시 답변해줘.\n",
      "\n",
      "출력 형태는 파이썬 딕셔너리 형태여야 해.\n",
      "파이썬 딕셔너리의 key: value 설명은 아래와 같아.\n",
      "order: 고객이 특정 상품을 주문한 경우 True, 상품을 주문하지 않은 경우(ex 일반 문의, 주문 전에 이루어지는 문의) False. '주문'이란 단어가 포함돼도 실제 주문을 하지 않았다면 False.\n",
      "change_order: 고객이 주문을 변경하는 경우에만 True, 그 외의 경우는 False.\n",
      "cancel_order: 고객이 주문을 취소하는 경우에만 True, 그 외의 경우는 False.\n",
      "answer: 고객 문의에 대한 너의 응답.\n",
      "\n",
      "Human: \n",
      "떡 좀 주문하려고요\n",
      "\u001b[0m\n",
      "\n",
      "\u001b[1m> Finished chain.\u001b[0m\n"
     ]
    },
    {
     "data": {
      "text/plain": [
       "{'customer_message': '\\n떡 좀 주문하려고요\\n',\n",
       " 'chat_history': [HumanMessage(content='\\n떡 좀 주문하려고요\\n'),\n",
       "  AIMessage(content='{\"order\": True, \"change_order\": False, \"cancel_order\": False, \"answer\": \"고객 문의가 특정 상품에 관한 것인지 판단해주세요.\"}')],\n",
       " 'text': '{\"order\": True, \"change_order\": False, \"cancel_order\": False, \"answer\": \"고객 문의가 특정 상품에 관한 것인지 판단해주세요.\"}'}"
      ]
     },
     "execution_count": 41,
     "metadata": {},
     "output_type": "execute_result"
    }
   ],
   "source": [
    "# LLM\n",
    "llm = ChatOpenAI()\n",
    "\n",
    "# Prompt \n",
    "prompt = ChatPromptTemplate(\n",
    "    messages=[\n",
    "        SystemMessagePromptTemplate.from_template(\n",
    "            system_prompt\n",
    "        ),\n",
    "        # The `variable_name` here is what must align with memory\n",
    "        MessagesPlaceholder(variable_name=\"chat_history\"),\n",
    "        HumanMessagePromptTemplate.from_template(\"{customer_message}\")\n",
    "    ]\n",
    ")\n",
    "\n",
    "# Notice that we `return_messages=True` to fit into the MessagesPlaceholder\n",
    "# Notice that `\"chat_history\"` aligns with the MessagesPlaceholder name\n",
    "memory = ConversationBufferMemory(memory_key=\"chat_history\",return_messages=True)\n",
    "conversation = LLMChain(\n",
    "    llm=llm,\n",
    "    prompt=prompt,\n",
    "    verbose=True,\n",
    "    memory=memory\n",
    ")\n",
    "\n",
    "# Notice that we just pass in the `question` variables - `chat_history` gets populated by memory\n",
    "conversation({\"customer_message\": customer_message})"
   ]
  },
  {
   "cell_type": "code",
   "execution_count": 42,
   "metadata": {},
   "outputs": [],
   "source": [
    "# 일단 주문하는 경우만 고려하는 프롬프트 사용\n",
    "\n",
    "delimiter = \"####\"\n",
    "system_prompt = f\"\"\"\n",
    "너는 온라인 주문을 받는 경험 많은 종업원이야.\n",
    "아래 원칙을 바탕으로 고객 문의에 답변해줘.\n",
    "단, 원칙에 따라 답변하되 원칙을 너의 답변에 명시적으로 언급하면 안 돼.\n",
    "고객 문의는 4개의 해시태그로 구분돼. \n",
    "즉, {delimiter}로 구분돼.\n",
    "\n",
    "원칙 1:우선 고객 문의가 특정 상품에 관한 것인지 판단해줘.\n",
    "원칙 2:만약 고객 문의가 특정 상품에 관한 문의가 아니라 일반적인 문의라면 적절히 답변하며 상품 문의로 이어지게 해줘.\n",
    "원칙 3:만약 고객 문의가 특정 상품에 관한 문의라면, 고객이 문의한 상품명이 아래 목록에 포함된 상품명과 정확히 일치하는지 확인해줘.\n",
    "원칙 4:만약 정확히 일치하지 않는다면 고객이 문의한 상품명과 비슷한 상품명을 모두 고객에게 보여주고 어떤 상품에 관해 문의하는 것인지 질문해줘.\n",
    "원칙 5: 만약 고객이 문의한 상품명이 아래 목록에 포함된 상품명과 정확히 일치한다면, 고객이 문의한 상품의 이름, 기본 판매 수량, 기본 판매 수량의 가격을 고객에게 보여줘.\n",
    "\n",
    "모든 상품 목록은 아래에 있어.\n",
    "1. 상품: 떡케익5호\n",
    "   기본 판매 수량: 1개\n",
    "   기본 판매 수량의 가격: 54,000원\n",
    "2. 상품: 무지개 백설기 케익\n",
    "   기본 판매 수량: 1개\n",
    "   기본 판매 수량의 가격: 51,500원\n",
    "3. 상품: 미니 백설기\n",
    "   기본 판매 수량: 35개\n",
    "   기본 판매 수량의 가격: 31,500원\n",
    "4. 상품: 개별 모듬팩\n",
    "   기본 판매 수량: 1개\n",
    "   기본 판매 수량의 가격: 13,500원\n",
    "\n",
    "출력 형태는 파이썬 딕셔너리 형태여야 해.\n",
    "파이썬 딕셔너리의 key: value 설명은 아래와 같아.\n",
    "order: 고객이 상품을 주문한 경우 True, 상품을 주문하지 않은 경우(ex 일반 문의, 주문 전에 이루어지는 문의) False\n",
    "answer: 고객 문의에 대한 너의 답변\n",
    "\"\"\""
   ]
  },
  {
   "cell_type": "code",
   "execution_count": 43,
   "metadata": {},
   "outputs": [],
   "source": [
    "customer_message = \"\"\"\n",
    "떡 좀 주문하려고요\n",
    "\"\"\""
   ]
  },
  {
   "cell_type": "code",
   "execution_count": 44,
   "metadata": {},
   "outputs": [
    {
     "name": "stdout",
     "output_type": "stream",
     "text": [
      "\n",
      "\n",
      "\u001b[1m> Entering new LLMChain chain...\u001b[0m\n",
      "Prompt after formatting:\n",
      "\u001b[32;1m\u001b[1;3mSystem: \n",
      "너는 온라인 주문을 받는 경험 많은 종업원이야.\n",
      "아래 원칙을 바탕으로 고객 문의에 답변해줘.\n",
      "단, 원칙에 따라 답변하되 원칙을 너의 답변에 명시적으로 언급하면 안 돼.\n",
      "고객 문의는 4개의 해시태그로 구분돼. \n",
      "즉, ####로 구분돼.\n",
      "\n",
      "원칙 1:우선 고객 문의가 특정 상품에 관한 것인지 판단해줘.\n",
      "원칙 2:만약 고객 문의가 특정 상품에 관한 문의가 아니라 일반적인 문의라면 적절히 답변하며 상품 문의로 이어지게 해줘.\n",
      "원칙 3:만약 고객 문의가 특정 상품에 관한 문의라면, 고객이 문의한 상품명이 아래 목록에 포함된 상품명과 정확히 일치하는지 확인해줘.\n",
      "원칙 4:만약 정확히 일치하지 않는다면 고객이 문의한 상품명과 비슷한 상품명을 모두 고객에게 보여주고 어떤 상품에 관해 문의하는 것인지 질문해줘.\n",
      "원칙 5: 만약 고객이 문의한 상품명이 아래 목록에 포함된 상품명과 정확히 일치한다면, 고객이 문의한 상품의 이름, 기본 판매 수량, 기본 판매 수량의 가격을 고객에게 보여줘.\n",
      "\n",
      "모든 상품 목록은 아래에 있어.\n",
      "1. 상품: 떡케익5호\n",
      "   기본 판매 수량: 1개\n",
      "   기본 판매 수량의 가격: 54,000원\n",
      "2. 상품: 무지개 백설기 케익\n",
      "   기본 판매 수량: 1개\n",
      "   기본 판매 수량의 가격: 51,500원\n",
      "3. 상품: 미니 백설기\n",
      "   기본 판매 수량: 35개\n",
      "   기본 판매 수량의 가격: 31,500원\n",
      "4. 상품: 개별 모듬팩\n",
      "   기본 판매 수량: 1개\n",
      "   기본 판매 수량의 가격: 13,500원\n",
      "\n",
      "출력 형태는 파이썬 딕셔너리 형태여야 해.\n",
      "파이썬 딕셔너리의 key: value 설명은 아래와 같아.\n",
      "order: 고객이 상품을 주문한 경우 True, 상품을 주문하지 않은 경우(ex 일반 문의, 주문 전에 이루어지는 문의) False\n",
      "answer: 고객 문의에 대한 너의 답변\n",
      "\n",
      "Human: \n",
      "떡 좀 주문하려고요\n",
      "\u001b[0m\n",
      "\n",
      "\u001b[1m> Finished chain.\u001b[0m\n"
     ]
    },
    {
     "data": {
      "text/plain": [
       "{'customer_message': '\\n떡 좀 주문하려고요\\n',\n",
       " 'chat_history': [HumanMessage(content='\\n떡 좀 주문하려고요\\n'),\n",
       "  AIMessage(content='####\\n원칙 1:우선 고객 문의가 특정 상품에 관한 것인지 판단해줘.\\n원칙 3:만약 고객 문의가 특정 상품에 관한 문의라면, 고객이 문의한 상품명이 아래 목록에 포함된 상품명과 정확히 일치하는지 확인해줘.\\n원칙 5: 만약 고객이 문의한 상품명이 아래 목록에 포함된 상품명과 정확히 일치한다면, 고객이 문의한 상품의 이름, 기본 판매 수량, 기본 판매 수량의 가격을 고객에게 보여줘.\\n\\n고객 문의에 대한 답변:\\n고객님께서는 떡을 주문하고자 하시는 것으로 보입니다.\\n떡을 주문하시려면 아래 상품 중에서 선택해주세요.\\n1. 상품: 떡케익5호\\n   기본 판매 수량: 1개\\n   기본 판매 수량의 가격: 54,000원\\n2. 상품: 무지개 백설기 케익\\n   기본 판매 수량: 1개\\n   기본 판매 수량의 가격: 51,500원\\n3. 상품: 미니 백설기\\n   기본 판매 수량: 35개\\n   기본 판매 수량의 가격: 31,500원\\n4. 상품: 개별 모듬팩\\n   기본 판매 수량: 1개\\n   기본 판매 수량의 가격: 13,500원\\n\\n주문하고자 하는 떡의 상품명을 말씀해주세요.')],\n",
       " 'text': '####\\n원칙 1:우선 고객 문의가 특정 상품에 관한 것인지 판단해줘.\\n원칙 3:만약 고객 문의가 특정 상품에 관한 문의라면, 고객이 문의한 상품명이 아래 목록에 포함된 상품명과 정확히 일치하는지 확인해줘.\\n원칙 5: 만약 고객이 문의한 상품명이 아래 목록에 포함된 상품명과 정확히 일치한다면, 고객이 문의한 상품의 이름, 기본 판매 수량, 기본 판매 수량의 가격을 고객에게 보여줘.\\n\\n고객 문의에 대한 답변:\\n고객님께서는 떡을 주문하고자 하시는 것으로 보입니다.\\n떡을 주문하시려면 아래 상품 중에서 선택해주세요.\\n1. 상품: 떡케익5호\\n   기본 판매 수량: 1개\\n   기본 판매 수량의 가격: 54,000원\\n2. 상품: 무지개 백설기 케익\\n   기본 판매 수량: 1개\\n   기본 판매 수량의 가격: 51,500원\\n3. 상품: 미니 백설기\\n   기본 판매 수량: 35개\\n   기본 판매 수량의 가격: 31,500원\\n4. 상품: 개별 모듬팩\\n   기본 판매 수량: 1개\\n   기본 판매 수량의 가격: 13,500원\\n\\n주문하고자 하는 떡의 상품명을 말씀해주세요.'}"
      ]
     },
     "execution_count": 44,
     "metadata": {},
     "output_type": "execute_result"
    }
   ],
   "source": [
    "# LLM\n",
    "llm = ChatOpenAI()\n",
    "\n",
    "# Prompt \n",
    "prompt = ChatPromptTemplate(\n",
    "    messages=[\n",
    "        SystemMessagePromptTemplate.from_template(\n",
    "            system_prompt\n",
    "        ),\n",
    "        # The `variable_name` here is what must align with memory\n",
    "        MessagesPlaceholder(variable_name=\"chat_history\"),\n",
    "        HumanMessagePromptTemplate.from_template(\"{customer_message}\")\n",
    "    ]\n",
    ")\n",
    "\n",
    "# Notice that we `return_messages=True` to fit into the MessagesPlaceholder\n",
    "# Notice that `\"chat_history\"` aligns with the MessagesPlaceholder name\n",
    "memory = ConversationBufferMemory(memory_key=\"chat_history\",return_messages=True)\n",
    "conversation = LLMChain(\n",
    "    llm=llm,\n",
    "    prompt=prompt,\n",
    "    verbose=True,\n",
    "    memory=memory\n",
    ")\n",
    "\n",
    "# Notice that we just pass in the `question` variables - `chat_history` gets populated by memory\n",
    "conversation({\"customer_message\": customer_message})"
   ]
  },
  {
   "cell_type": "code",
   "execution_count": 45,
   "metadata": {},
   "outputs": [
    {
     "name": "stdout",
     "output_type": "stream",
     "text": [
      "\n",
      "\n",
      "\u001b[1m> Entering new LLMChain chain...\u001b[0m\n",
      "Prompt after formatting:\n",
      "\u001b[32;1m\u001b[1;3mSystem: \n",
      "너는 온라인 주문을 받는 경험 많은 종업원이야.\n",
      "아래 원칙을 바탕으로 고객 문의에 답변해줘.\n",
      "단, 원칙에 따라 답변하되 원칙을 너의 답변에 명시적으로 언급하면 안 돼.\n",
      "고객 문의는 4개의 해시태그로 구분돼. \n",
      "즉, ####로 구분돼.\n",
      "\n",
      "원칙 1:우선 고객 문의가 특정 상품에 관한 것인지 판단해줘.\n",
      "원칙 2:만약 고객 문의가 특정 상품에 관한 문의가 아니라 일반적인 문의라면 적절히 답변하며 상품 문의로 이어지게 해줘.\n",
      "원칙 3:만약 고객 문의가 특정 상품에 관한 문의라면, 고객이 문의한 상품명이 아래 목록에 포함된 상품명과 정확히 일치하는지 확인해줘.\n",
      "원칙 4:만약 정확히 일치하지 않는다면 고객이 문의한 상품명과 비슷한 상품명을 모두 고객에게 보여주고 어떤 상품에 관해 문의하는 것인지 질문해줘.\n",
      "원칙 5: 만약 고객이 문의한 상품명이 아래 목록에 포함된 상품명과 정확히 일치한다면, 고객이 문의한 상품의 이름, 기본 판매 수량, 기본 판매 수량의 가격을 고객에게 보여줘.\n",
      "\n",
      "모든 상품 목록은 아래에 있어.\n",
      "1. 상품: 떡케익5호\n",
      "   기본 판매 수량: 1개\n",
      "   기본 판매 수량의 가격: 54,000원\n",
      "2. 상품: 무지개 백설기 케익\n",
      "   기본 판매 수량: 1개\n",
      "   기본 판매 수량의 가격: 51,500원\n",
      "3. 상품: 미니 백설기\n",
      "   기본 판매 수량: 35개\n",
      "   기본 판매 수량의 가격: 31,500원\n",
      "4. 상품: 개별 모듬팩\n",
      "   기본 판매 수량: 1개\n",
      "   기본 판매 수량의 가격: 13,500원\n",
      "\n",
      "출력 형태는 파이썬 딕셔너리 형태여야 해.\n",
      "파이썬 딕셔너리의 key: value 설명은 아래와 같아.\n",
      "order: 고객이 상품을 주문한 경우 True, 상품을 주문하지 않은 경우(ex 일반 문의, 주문 전에 이루어지는 문의) False\n",
      "answer: 고객 문의에 대한 너의 답변\n",
      "\n",
      "Human: \n",
      "떡 좀 주문하려고요\n",
      "\n",
      "AI: ####\n",
      "원칙 1:우선 고객 문의가 특정 상품에 관한 것인지 판단해줘.\n",
      "원칙 3:만약 고객 문의가 특정 상품에 관한 문의라면, 고객이 문의한 상품명이 아래 목록에 포함된 상품명과 정확히 일치하는지 확인해줘.\n",
      "원칙 5: 만약 고객이 문의한 상품명이 아래 목록에 포함된 상품명과 정확히 일치한다면, 고객이 문의한 상품의 이름, 기본 판매 수량, 기본 판매 수량의 가격을 고객에게 보여줘.\n",
      "\n",
      "고객 문의에 대한 답변:\n",
      "고객님께서는 떡을 주문하고자 하시는 것으로 보입니다.\n",
      "떡을 주문하시려면 아래 상품 중에서 선택해주세요.\n",
      "1. 상품: 떡케익5호\n",
      "   기본 판매 수량: 1개\n",
      "   기본 판매 수량의 가격: 54,000원\n",
      "2. 상품: 무지개 백설기 케익\n",
      "   기본 판매 수량: 1개\n",
      "   기본 판매 수량의 가격: 51,500원\n",
      "3. 상품: 미니 백설기\n",
      "   기본 판매 수량: 35개\n",
      "   기본 판매 수량의 가격: 31,500원\n",
      "4. 상품: 개별 모듬팩\n",
      "   기본 판매 수량: 1개\n",
      "   기본 판매 수량의 가격: 13,500원\n",
      "\n",
      "주문하고자 하는 떡의 상품명을 말씀해주세요.\n",
      "Human: \n",
      "떡케익5호 2개랑, 미니 백설기 3개 주문하면 총 얼마죠?\n",
      "\u001b[0m\n",
      "\n",
      "\u001b[1m> Finished chain.\u001b[0m\n"
     ]
    },
    {
     "data": {
      "text/plain": [
       "{'customer_message': '\\n떡케익5호 2개랑, 미니 백설기 3개 주문하면 총 얼마죠?\\n',\n",
       " 'chat_history': [HumanMessage(content='\\n떡 좀 주문하려고요\\n'),\n",
       "  AIMessage(content='####\\n원칙 1:우선 고객 문의가 특정 상품에 관한 것인지 판단해줘.\\n원칙 3:만약 고객 문의가 특정 상품에 관한 문의라면, 고객이 문의한 상품명이 아래 목록에 포함된 상품명과 정확히 일치하는지 확인해줘.\\n원칙 5: 만약 고객이 문의한 상품명이 아래 목록에 포함된 상품명과 정확히 일치한다면, 고객이 문의한 상품의 이름, 기본 판매 수량, 기본 판매 수량의 가격을 고객에게 보여줘.\\n\\n고객 문의에 대한 답변:\\n고객님께서는 떡을 주문하고자 하시는 것으로 보입니다.\\n떡을 주문하시려면 아래 상품 중에서 선택해주세요.\\n1. 상품: 떡케익5호\\n   기본 판매 수량: 1개\\n   기본 판매 수량의 가격: 54,000원\\n2. 상품: 무지개 백설기 케익\\n   기본 판매 수량: 1개\\n   기본 판매 수량의 가격: 51,500원\\n3. 상품: 미니 백설기\\n   기본 판매 수량: 35개\\n   기본 판매 수량의 가격: 31,500원\\n4. 상품: 개별 모듬팩\\n   기본 판매 수량: 1개\\n   기본 판매 수량의 가격: 13,500원\\n\\n주문하고자 하는 떡의 상품명을 말씀해주세요.'),\n",
       "  HumanMessage(content='\\n떡케익5호 2개랑, 미니 백설기 3개 주문하면 총 얼마죠?\\n'),\n",
       "  AIMessage(content='####\\n원칙 1:우선 고객 문의가 특정 상품에 관한 것인지 판단해줘.\\n원칙 3:만약 고객 문의가 특정 상품에 관한 문의라면, 고객이 문의한 상품명이 아래 목록에 포함된 상품명과 정확히 일치하는지 확인해줘.\\n원칙 5: 만약 고객이 문의한 상품명이 아래 목록에 포함된 상품명과 정확히 일치한다면, 고객이 문의한 상품의 이름, 기본 판매 수량, 기본 판매 수량의 가격을 고객에게 보여줘.\\n\\n고객 문의에 대한 답변:\\n고객님께서는 떡케익5호 2개와 미니 백설기 3개를 주문하고자 하시는 것으로 이해했습니다.\\n떡케익5호 1개의 가격은 54,000원이며, 미니 백설기 1개의 가격은 31,500원입니다.\\n\\n따라서, 떡케익5호 2개와 미니 백설기 3개를 주문하시면 총 가격은 (54,000원 * 2) + (31,500원 * 3) = 224,000원입니다.\\n\\n주문하시겠습니까?')],\n",
       " 'text': '####\\n원칙 1:우선 고객 문의가 특정 상품에 관한 것인지 판단해줘.\\n원칙 3:만약 고객 문의가 특정 상품에 관한 문의라면, 고객이 문의한 상품명이 아래 목록에 포함된 상품명과 정확히 일치하는지 확인해줘.\\n원칙 5: 만약 고객이 문의한 상품명이 아래 목록에 포함된 상품명과 정확히 일치한다면, 고객이 문의한 상품의 이름, 기본 판매 수량, 기본 판매 수량의 가격을 고객에게 보여줘.\\n\\n고객 문의에 대한 답변:\\n고객님께서는 떡케익5호 2개와 미니 백설기 3개를 주문하고자 하시는 것으로 이해했습니다.\\n떡케익5호 1개의 가격은 54,000원이며, 미니 백설기 1개의 가격은 31,500원입니다.\\n\\n따라서, 떡케익5호 2개와 미니 백설기 3개를 주문하시면 총 가격은 (54,000원 * 2) + (31,500원 * 3) = 224,000원입니다.\\n\\n주문하시겠습니까?'}"
      ]
     },
     "execution_count": 45,
     "metadata": {},
     "output_type": "execute_result"
    }
   ],
   "source": [
    "customer_message = \"\"\"\n",
    "떡케익5호 2개랑, 미니 백설기 3개 주문하면 총 얼마죠?\n",
    "\"\"\"\n",
    "\n",
    "conversation({\"customer_message\": customer_message})"
   ]
  }
 ],
 "metadata": {
  "kernelspec": {
   "display_name": "order_assistant",
   "language": "python",
   "name": "python3"
  },
  "language_info": {
   "codemirror_mode": {
    "name": "ipython",
    "version": 3
   },
   "file_extension": ".py",
   "mimetype": "text/x-python",
   "name": "python",
   "nbconvert_exporter": "python",
   "pygments_lexer": "ipython3",
   "version": "3.8.17"
  }
 },
 "nbformat": 4,
 "nbformat_minor": 2
}
